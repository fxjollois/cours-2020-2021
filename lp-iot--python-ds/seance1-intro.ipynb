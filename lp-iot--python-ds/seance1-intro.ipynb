{
 "cells": [
  {
   "cell_type": "markdown",
   "metadata": {
    "run_control": {
     "frozen": false,
     "read_only": false
    }
   },
   "source": [
    "# Introduction à `Python`\n",
    "\n",
    "[`Python`](https://www.python.org/) est un langage de programmation en pleine croissance dans le domaine de la **Data Science** et du **Big Data**. Il a une syntaxe particulière pour certains aspects, avec des points communs tout de même avec de nombreux autres. Nous allons ici aborder les éléments suivants sur ce langage :\n",
    "\n",
    "- les premiers éléments de syntaxe ;\n",
    "- l'importation et la manipulation de données ;\n",
    "- la visualisation de données.\n",
    "\n",
    "\n",
    "\n",
    "## Eléments de base\n",
    "\n",
    "### Utilisation en mode console\n",
    "\n",
    "`python` est un langage scripté, dont l'exécution se fait dans une console. Dans celle-ci, il est donc possible d'exécuter les commandes les unes après les autres. Il est aussi possible (et recommander) d'écrire son script dans un fichier texte (souvent avec l'extension `.py`) et de l'exécuter via `execfile()`.\n",
    "\n",
    "Pour accéder à l'aide d'une fonction, il existe la fonction `help()`, prenant éventuellement en paramètre une fonction directement, ou une chaîne de caractère. Si la fonction n'a pas de paramètre, elle démarre l'aide interactive.\n",
    "\n",
    "### *Notebook*\n",
    "\n",
    "Le module `jupyter` permet de travailler avec des *notebooks*, qui sont des documents contenant à la fois le code, les résultat et du texte. Ce document est ainsi un *notebook*. \n",
    "\n",
    "### Types de données\n",
    "\n",
    "Comme tous les autres langages, `python` a plusieurs types de base possibles pour les données. En voici quelques uns. Vous pouvez exécuter les commandes dans une console pour voir le résultat.\n",
    "\n",
    "| type | valeur | type() | commentaires |\n",
    "|:-|:-:|:-|:-|\n",
    "|entier | 1 |int | |\n",
    "|réel | 1.234 | float | |\n",
    "|chaîne de caractères | \"un mot\" | str | on peut utiliser indifférement `\"\"` ou `''` |\n",
    "|liste | [1, 2] | list | chaque élément peut être différent des autres |\n",
    "|tuple | (1, 2) | tuple | similaire à une liste mais **constante** |\n",
    "|dictionnaire | {\"a\": 1, \"b\": \"deux\"} | dict | ensemble de valeurs quelconques **nommées** |\n",
    "\n",
    "Les `tuples`, `lists` et les `dicts` peuvent s'imbriquer les uns dans les autres.\n",
    "\n",
    "```\n",
    "(1, (2, 3), [4, 5], {\"a\": 1, \"b\": \"deux\"})\n",
    "[1, [2, 3], (4, 5), {\"a\": 1, \"b\": \"deux\"}]\n",
    "{\"a\": 1, \"b\": \"deux\", \"c\": (5, 6), \"d\": [7, 8]}\n",
    "```\n",
    "\n",
    "Il existe des fonctions permettant de passer d'un type à l'autre (quand cela est possible), telles que `int()`, `float()`, `str()`, `tuple()` et `list()`.\n",
    "\n",
    "Il existe aussi des valeurs prédéfinies, telles que `True` (vrai), `False` (faux) et `None` (donnée absente).\n",
    "\n",
    "### Création et suppression de variables\n",
    "\n",
    "Il n'y a pas de mot-clé pour la définition d'une variable. Celle-ci est définie/créée lors de sa première affectation. Si elle n'existe pas mais qu'on essaie de l'utiliser, alors un message d'erreur apparaît. Il est aussi possible de la supprimer via la fonction `del()`.\n",
    "\n",
    "### Type dynamique\n",
    "\n",
    "Bien que `python` soit rigoureux dans l'évaluation des expressions (il ne fait pas de `cast` automatique - i.e. changement de type des données), le type d'une variable est dit **dynamique**. Le type d'une variable dépend uniquement de la valeur de son affectation. "
   ]
  },
  {
   "cell_type": "markdown",
   "metadata": {
    "run_control": {
     "frozen": false,
     "read_only": false
    }
   },
   "source": [
    "### Affichage\n",
    "\n",
    "Comme vu précédemment, il existe la fonction `print()` permettant d'afficher du texte et/ou le contenu des variables dans la console. Celle-ci peut prendre les paramètres `sep`, qui permet d'indiquer le ou les caractères séparant les champs (un espace `\" \"` par défaut), et `end`, qui permet d'indiquer le caractère de fin de ligne (retour à la ligne `\"\\n\"` par défaut)."
   ]
  },
  {
   "cell_type": "markdown",
   "metadata": {
    "run_control": {
     "frozen": false,
     "read_only": false
    }
   },
   "source": [
    "### Opérateurs\n",
    "\n",
    "Il existe bien évidemment tous les opérateurs classiques, tels que présentés ci-dessous.\n",
    "\n",
    "| Type | Opérateurs |\n",
    "|:-|:-|\n",
    "| Arithmétiques | `+ - * / // % **` |\n",
    "| Comparaisons | `> >= < <= == !=` |\n",
    "| Booléens | `\\| & not()` |\n"
   ]
  },
  {
   "cell_type": "markdown",
   "metadata": {
    "run_control": {
     "frozen": false,
     "read_only": false
    }
   },
   "source": [
    "## Eléments de langage\n",
    "\n",
    "### Traitement conditionnel\n",
    "\n",
    "Comme dans tout langage, le traitement conditionnel se fait à partir d'un `if`. Une particularité de `python` est d'utiliser l'indentation (*i.e.* le décalage à droite à l'aide d'au moins une tabulation) pour définir les opérations à réaliser dans un bloc. Les clauses `elif` et `else` sont bien évidemment optionnelles.\n",
    "\n",
    "```\n",
    "if condition:\n",
    "    ...\n",
    "elif condition:\n",
    "    ...\n",
    "else:\n",
    "    ...\n",
    "```  \n",
    "\n",
    "### Traitement itératif\n",
    "\n",
    "On utilise en premier la boucle `for` dans laquelle on peut utiliser la fonction `range()` pour avoir les valeurs entre `0` (par défaut) et la valeur passée en paramètre - 1. Pour information, `i` est persistant à la boucle et garde la dernière valeur. \n",
    "\n",
    "```\n",
    "for i in range(5):\n",
    "    print(i)\n",
    "```\n",
    "\n",
    "La fonction `range()` peut prendre deux ou trois paramètres, et dans ce cas, génère la boucle entre les deux par pas de 1 (ou autre selon le troisième paramètres - celui-ci doit être cohérent par rapport aux deux premières valeurs).\n",
    "\n",
    "Il est aussi possible d'utiliser :\n",
    "\n",
    "- une chaîne de caractère (une itération par caractère) ;\n",
    "- une `list` ou un `tuple` pour définir les valeurs à prendre ;\n",
    "- un `dict`, l'itérateur prenant les valeurs des champs de celui-ci ;\n",
    "- la fonction `enumerate()` sur une liste, permettant de récupérer 2 valeurs (dont 2 variables à mettre à gauche), qui seront l'indice de la position et la valeur ;\n",
    "- la fonction `zip()` permettant de combiner 2 listes (élément par élément), et retournant elle aussi 2 valeurs.\n",
    "\n",
    "Enfin, on dispose aussi de la boucle `while` qui teste en début de boucle si une condition est toujours vérifiée. \n",
    "\n",
    "```\n",
    "while condition:\n",
    "    ..."
   ]
  },
  {
   "cell_type": "markdown",
   "metadata": {
    "run_control": {
     "frozen": false,
     "read_only": false
    }
   },
   "source": [
    "## Création et manipulations d'objets \n",
    "\n",
    "Comme indiqué, il existe différents types d'objets en `python`. Sont présentés ici des exemples de créations et de manipulations de chaînes (`str`), de `tuples`, de `list` et de dictionnaires (`dict`).\n",
    "\n",
    "### Chaînes\n",
    "\n",
    "Une chaîne de caractère se définit à l'aide des quotes simples (`''`) ou doubles (`\"\"`). Par défaut, `python` présentera les chaînes avec des simples quotes. Mais en présence d'une apostrophe dans la chaîne, il faut la déclarer avec des doubles quotes. Il est possible de connaître la longueur de la chaîne avec la fonction `len()`.\n",
    "\n",
    "Sur ces chaînes, on peut réaliser un certain nombre d'opérations classiques, telles que le changement de casse (`upper()` ou `lower()`), la mise en majuscule des premières lettres de chaque mot (`capitalize()`), la recherche d'une sous-chaîne (`find()` - première occurence), le remplacement d'une sous-chaîne (`replace()`), le dénombrement de sous-chaînes (`count()`) ou le découpage en sous-chaînes selon un caractère (`split()`). "
   ]
  },
  {
   "cell_type": "markdown",
   "metadata": {
    "run_control": {
     "frozen": false,
     "read_only": false
    }
   },
   "source": [
    "### Tuples\n",
    "\n",
    "Un `tuple` en `python` est un ensemble déclaré via des `()`, composé de valeurs pas forcément de même type et éventuellement complexe, qu'il n'est pas possible de modifier. C'est une constante, une fois déclarée.\n",
    "\n",
    "### Listes\n",
    "\n",
    "Une `list` est aussi un ensemble déclarée via des `[]`, composé d'éléments pas forcément tous du même type et possiblement complexe. A la différence d'un tuple, une liste est modifiable.\n",
    "\n",
    "Nous disposons sur ces listes de plusieurs fonctions tels que `reverse()` (pour inverser la liste), `sort()` (tri, avec l'option `reverse` pour le choix du tri), `pop()` (pour récupérer et supprimer le dernier élément), `append()` (pour ajouter un élément à la fin), `insert()` (pour insérer un élément dans la liste, à la position indiquée - paramètres = position suivie de la valeur), `remove()` (pour supprimer les valeurs passées en paramètre). Toutes ces fonctions modifient directement la liste sur laquelle on les applique.\n",
    "\n",
    "Un autre moyen d'insérer une valeur, voire plusieurs, à une liste est d'utiliser l'opérateur `+`, tel qu'indiqué ci-dessous. Celui-ci permet une concaténation des deux listes en une seule. L'opérateur `*` permet lui de répéter une liste autant de fois que désiré.\n",
    "\n",
    "Par contre, il faut faire très attention au **passage de référence** lorsqu'on copie une liste. En effet, dans le code suivant, on copie `a` dans `b`. Et en modifiant `a`, on remarque que `b` est aussi modifié. Et l'inverse est aussi vrai. Pour remédier à ce problème, on doit dupliquer la liste avec la fonction `copy()` de la liste initiale."
   ]
  },
  {
   "cell_type": "markdown",
   "metadata": {
    "run_control": {
     "frozen": false,
     "read_only": false
    }
   },
   "source": [
    "### Dictionnaires\n",
    "\n",
    "Les **dictionnaires** (`dict` en `python`) sont des listes nommées (définies via des `{}`), c'est-à-dire que chaque élément a un nom (appelé aussi clé). Ces éléments ne sont pas forcément tous du même type, et peuvent aussi être complexe. Ils sont similaires (pour ne pas dire identique) à des littéraux **JSON**.\n",
    "\n",
    "Pour accéder aux élements d'un dictionnaire, on utlise le nom du champs dont on veut la valeur entre `[]`. Il existe aussi des fonctions utiles sur ces objets, telles que `get()` (pour récupérer la valeur d'une clé), `keys()` (pour avoir la liste des clés de l'objet), `values()` (pour avoir les valeurs des clés, dans le même ordre que listé dans `keys()`), `popitem()` (pour récupérer un dictionnaire avec le dernier item, et le supprimer du dictionnaire initiale) et `pop()` (pour récupérer la valeur de l'item passé en paramètre, et le supprimer de l'élément de départ).\n",
    "\n",
    "On peut ajouter facilement un item à un dictionnaire, en lui affectant simplement une valeur.\n",
    "\n",
    "De même que pour les listes, il faut faire attention lors de l'affectation d'un dictionnaire à un autre. La fonction `copy()` permet donc d'obtenir une copie indépendante de l'objet initial."
   ]
  },
  {
   "cell_type": "markdown",
   "metadata": {
    "run_control": {
     "frozen": false,
     "read_only": false
    }
   },
   "source": [
    "### Indexation\n",
    "\n",
    "Pour indexer une liste, un tuple, voire une chaîne de caractères, nous passons entre `[]` les valeurs de la position, avec plusieurs possibilités :\n",
    "\n",
    "- `a[p]` : élément de `a` à la position `p` (pour rappel, 1ère position = 0)\n",
    "- `a[:p]` : tous les élements de 0 à `p-1`\n",
    "- `a[p:]` : tous les élements de `p` jusqu'à la fin\n",
    "- `a[p:q]` :  tous les éléments de `p` à `q-1`\n",
    "- `a[:]` ou `a[::]` : tous les élements\n",
    "- `a[::-1]` : tous les éléments dans l'ordre inverse\n",
    "- `a[p:q:r]` : les élements de `p` à `q` par pas `r` (celui-ci peut être négatif : dans ce cas `q`\n",
    " < `p`)\n",
    "\n",
    "### Manipulation de type *comprehension*\n",
    "\n",
    "On peut utiliser un mécanisme spécifique, appelé *list comprehension* (fonctionnant aussi sur les chaînes et les tuples), permettant de récupérer les valeurs (ou un calcul sur chaque valeur) pour tous les éléments de la liste (ou certains si on applique un `if`)."
   ]
  },
  {
   "cell_type": "code",
   "execution_count": 1,
   "metadata": {
    "run_control": {
     "frozen": false,
     "read_only": false
    }
   },
   "outputs": [
    {
     "name": "stdout",
     "output_type": "stream",
     "text": [
      "b =  [9, 1, 81, 49]\n",
      "c =  [81, 49]\n"
     ]
    }
   ],
   "source": [
    "a = [3, 1, 9, 7]\n",
    "b = [x**2 for x in a]\n",
    "print('b = ', b)\n",
    "\n",
    "c = [x**2 for x in a if x >= 4]\n",
    "print('c = ', c)"
   ]
  },
  {
   "cell_type": "markdown",
   "metadata": {
    "run_control": {
     "frozen": false,
     "read_only": false
    }
   },
   "source": [
    "Le mécanisme de *list comprehension* est aussi utilisable pour créer un dictionnaire. Il faut dans ce cas indiquer deux valeus : la clé et sa valeur. Dans notre cas, la fonction `dict()` appliqué sur le résultat de la fonction `zip()` des deux listes nous permet d'avoir le même résultat."
   ]
  },
  {
   "cell_type": "code",
   "execution_count": 2,
   "metadata": {
    "run_control": {
     "frozen": false,
     "read_only": false
    }
   },
   "outputs": [
    {
     "name": "stdout",
     "output_type": "stream",
     "text": [
      "d1 =  {'pommes': 5, 'bananes': 2, 'poires': 10, 'oranges': 4}\n",
      "d2 =  {'pommes': 5, 'bananes': 2, 'poires': 10, 'oranges': 4}\n"
     ]
    }
   ],
   "source": [
    "fruits = [\"pommes\", \"bananes\", \"poires\", \"oranges\"]\n",
    "nombres = [5, 2, 10, 4]\n",
    "\n",
    "d1 = {fruits[i]:nombres[i] for i in range(4)}\n",
    "print('d1 = ', d1)\n",
    "\n",
    "d2 = dict(zip(fruits, nombres))\n",
    "print('d2 = ', d2)"
   ]
  },
  {
   "cell_type": "markdown",
   "metadata": {
    "run_control": {
     "frozen": false,
     "read_only": false
    }
   },
   "source": [
    "## Fonctions\n",
    "\n",
    "### Définition\n",
    "\n",
    "L'opérateur `def` permet de créer une fonction (ou une procédure qui sera juste une fonction ne renvoyant rien). L'opérateur `return` indiquant le résultat à renvoyer le cas échéant. Comme pour un `if`, le bloc d'instructions est défini selon l'indentation. \n",
    "\n",
    "Il est bien évidemment possible de passer un paramètre à une fonction, sans qu'on ait à déclarer son type. \n",
    "\n",
    "Lorqu'il y a plus d'un paramètre, on peut faire un appel classique. Mais il est aussi possible de nommer explicitement les paramètres. Avec ce mécanisme, il est ainsi possible de les déclarer dans l'ordre que l'on veut. Mais si l'on nomme un paramètre, il est obligatoire de nommer les autres (erreur d'exécution sinon).\n",
    "\n",
    "Il existe la possibilité de définir une valeur par défaut à un paramètre dans une fonction. Ceci permet d'appeler la fonction sans donner de valeur pour ce paramètre (la fonction utilisera la valeur par défaut donc). \n",
    "\n",
    "```\n",
    "def f(...):\n",
    "    ...\n",
    "    return ...\n",
    "```\n"
   ]
  },
  {
   "cell_type": "markdown",
   "metadata": {
    "run_control": {
     "frozen": false,
     "read_only": false
    }
   },
   "source": [
    "Il est possible d'ajouter une condition `if` dans la fonction `lambda` avec un formalisme de type `valeurTrue if condition else valeurFalse`. Ci-après, nous calculons le carré de chaque valeur, multiplié par `-1` pour celles inférieur ou égale à 8."
   ]
  },
  {
   "cell_type": "code",
   "execution_count": 3,
   "metadata": {
    "run_control": {
     "frozen": false,
     "read_only": false
    }
   },
   "outputs": [
    {
     "name": "stdout",
     "output_type": "stream",
     "text": [
      "[-9, -1, 81, -49]\n"
     ]
    }
   ],
   "source": [
    "b = map(lambda v: v **2 if v > 8 else -(v ** 2), a)\n",
    "print(list(b))"
   ]
  },
  {
   "cell_type": "markdown",
   "metadata": {},
   "source": [
    "## Manipulation de données\n",
    "\n",
    "Nous allons utiliser dans ce TP le module `pandas` permettant la gestion de données avec Python dans un format (individus décrits par des variables) plus classique pour les méthodes statistiques. \n",
    "\n",
    "### Importation de données avec `pandas`\n",
    "\n",
    "Nous allons travailler sur les données [tips](tips.csv). Vous pouvez trouver des informations ([ici](https://www.rdocumentation.org/packages/reshape2/versions/1.4.2/topics/tips)). Voici comment lire ces données dans `python` avec `read_csv()` de `pandas`."
   ]
  },
  {
   "cell_type": "code",
   "execution_count": 4,
   "metadata": {},
   "outputs": [
    {
     "data": {
      "text/html": [
       "<div>\n",
       "<style scoped>\n",
       "    .dataframe tbody tr th:only-of-type {\n",
       "        vertical-align: middle;\n",
       "    }\n",
       "\n",
       "    .dataframe tbody tr th {\n",
       "        vertical-align: top;\n",
       "    }\n",
       "\n",
       "    .dataframe thead th {\n",
       "        text-align: right;\n",
       "    }\n",
       "</style>\n",
       "<table border=\"1\" class=\"dataframe\">\n",
       "  <thead>\n",
       "    <tr style=\"text-align: right;\">\n",
       "      <th></th>\n",
       "      <th>total_bill</th>\n",
       "      <th>tip</th>\n",
       "      <th>sex</th>\n",
       "      <th>smoker</th>\n",
       "      <th>day</th>\n",
       "      <th>time</th>\n",
       "      <th>size</th>\n",
       "    </tr>\n",
       "  </thead>\n",
       "  <tbody>\n",
       "    <tr>\n",
       "      <th>0</th>\n",
       "      <td>16.99</td>\n",
       "      <td>1.01</td>\n",
       "      <td>Female</td>\n",
       "      <td>No</td>\n",
       "      <td>Sun</td>\n",
       "      <td>Dinner</td>\n",
       "      <td>2</td>\n",
       "    </tr>\n",
       "    <tr>\n",
       "      <th>1</th>\n",
       "      <td>10.34</td>\n",
       "      <td>1.66</td>\n",
       "      <td>Male</td>\n",
       "      <td>No</td>\n",
       "      <td>Sun</td>\n",
       "      <td>Dinner</td>\n",
       "      <td>3</td>\n",
       "    </tr>\n",
       "    <tr>\n",
       "      <th>2</th>\n",
       "      <td>21.01</td>\n",
       "      <td>3.50</td>\n",
       "      <td>Male</td>\n",
       "      <td>No</td>\n",
       "      <td>Sun</td>\n",
       "      <td>Dinner</td>\n",
       "      <td>3</td>\n",
       "    </tr>\n",
       "    <tr>\n",
       "      <th>3</th>\n",
       "      <td>23.68</td>\n",
       "      <td>3.31</td>\n",
       "      <td>Male</td>\n",
       "      <td>No</td>\n",
       "      <td>Sun</td>\n",
       "      <td>Dinner</td>\n",
       "      <td>2</td>\n",
       "    </tr>\n",
       "    <tr>\n",
       "      <th>4</th>\n",
       "      <td>24.59</td>\n",
       "      <td>3.61</td>\n",
       "      <td>Female</td>\n",
       "      <td>No</td>\n",
       "      <td>Sun</td>\n",
       "      <td>Dinner</td>\n",
       "      <td>4</td>\n",
       "    </tr>\n",
       "  </tbody>\n",
       "</table>\n",
       "</div>"
      ],
      "text/plain": [
       "   total_bill   tip     sex smoker  day    time  size\n",
       "0       16.99  1.01  Female     No  Sun  Dinner     2\n",
       "1       10.34  1.66    Male     No  Sun  Dinner     3\n",
       "2       21.01  3.50    Male     No  Sun  Dinner     3\n",
       "3       23.68  3.31    Male     No  Sun  Dinner     2\n",
       "4       24.59  3.61  Female     No  Sun  Dinner     4"
      ]
     },
     "execution_count": 4,
     "metadata": {},
     "output_type": "execute_result"
    }
   ],
   "source": [
    "import pandas\n",
    "\n",
    "# Lecture d'un fichier texte\n",
    "tips = pandas.read_csv(\"tips.csv\", header = 0, sep = \",\")\n",
    "tips.head()"
   ]
  },
  {
   "cell_type": "markdown",
   "metadata": {},
   "source": [
    "Sur ces données, il est bien évidemment possible de voir quelques informations classiques."
   ]
  },
  {
   "cell_type": "code",
   "execution_count": 5,
   "metadata": {},
   "outputs": [
    {
     "data": {
      "text/plain": [
       "pandas.core.frame.DataFrame"
      ]
     },
     "execution_count": 5,
     "metadata": {},
     "output_type": "execute_result"
    }
   ],
   "source": [
    "# Type de la variable\n",
    "type(tips)"
   ]
  },
  {
   "cell_type": "code",
   "execution_count": 6,
   "metadata": {},
   "outputs": [
    {
     "data": {
      "text/plain": [
       "(244, 7)"
      ]
     },
     "execution_count": 6,
     "metadata": {},
     "output_type": "execute_result"
    }
   ],
   "source": [
    "# nombre de lignes et de colonnes de la table\n",
    "tips.shape"
   ]
  },
  {
   "cell_type": "code",
   "execution_count": 7,
   "metadata": {},
   "outputs": [
    {
     "data": {
      "text/plain": [
       "total_bill    244\n",
       "tip           244\n",
       "sex           244\n",
       "smoker        244\n",
       "day           244\n",
       "time          244\n",
       "size          244\n",
       "dtype: int64"
      ]
     },
     "execution_count": 7,
     "metadata": {},
     "output_type": "execute_result"
    }
   ],
   "source": [
    "# nombre de valeurs présentes dans chaque colonne\n",
    "tips.count()"
   ]
  },
  {
   "cell_type": "code",
   "execution_count": 8,
   "metadata": {},
   "outputs": [
    {
     "name": "stdout",
     "output_type": "stream",
     "text": [
      "<class 'pandas.core.frame.DataFrame'>\n",
      "RangeIndex: 244 entries, 0 to 243\n",
      "Data columns (total 7 columns):\n",
      " #   Column      Non-Null Count  Dtype  \n",
      "---  ------      --------------  -----  \n",
      " 0   total_bill  244 non-null    float64\n",
      " 1   tip         244 non-null    float64\n",
      " 2   sex         244 non-null    object \n",
      " 3   smoker      244 non-null    object \n",
      " 4   day         244 non-null    object \n",
      " 5   time        244 non-null    object \n",
      " 6   size        244 non-null    int64  \n",
      "dtypes: float64(2), int64(1), object(4)\n",
      "memory usage: 13.5+ KB\n"
     ]
    }
   ],
   "source": [
    "# détail complet de la table\n",
    "tips.info()"
   ]
  },
  {
   "cell_type": "code",
   "execution_count": 9,
   "metadata": {},
   "outputs": [
    {
     "data": {
      "text/plain": [
       "['total_bill', 'tip', 'sex', 'smoker', 'day', 'time', 'size']"
      ]
     },
     "execution_count": 9,
     "metadata": {},
     "output_type": "execute_result"
    }
   ],
   "source": [
    "# nom des colonnes (au format liste)\n",
    "list(tips.columns)"
   ]
  },
  {
   "cell_type": "code",
   "execution_count": 10,
   "metadata": {},
   "outputs": [
    {
     "data": {
      "text/plain": [
       "['total_bill', 'tip', 'sex', 'smoker', 'day', 'time', 'size']"
      ]
     },
     "execution_count": 10,
     "metadata": {},
     "output_type": "execute_result"
    }
   ],
   "source": [
    "# idem\n",
    "list(tips)"
   ]
  },
  {
   "cell_type": "markdown",
   "metadata": {},
   "source": [
    "### Manipulation *à la SQL*\n",
    "\n",
    "Une fois qu'on a des données, la première chose qu'on souhaite savoir faire souvent, est de pouvoir manipuler ces données; C'est-à-dire réaliser les opérations classiques en bases de données, à savoir :\n",
    "\n",
    "- Restriction\n",
    "- Projection\n",
    "- Tri et limitation des résultats\n",
    "- Ajout de nouvelles variables (via des valeurs ou un calcul à partir des autres)\n",
    "- Agrégats\n",
    "- Jointures\n",
    "\n",
    "Il y a bien évidmement d'autres opérations possibles, spécifiques ou non à Python.\n",
    "\n",
    "*Note Bene* : certaines fonctions renvoient un nouvel objet qu'il faudra donc stocker dans une variable (nouvelle ou la même). Par contre, d'autres fonctions modifient directement l'objet en question.\n",
    "\n",
    "### Restriction\n",
    "\n",
    "Première étape essentielle, cela consiste à sélectionner un certain nombre de lignes de la table, selon une condition sur les valeurs des variables. Il exite pour cela la fonction `query()` prenant en paramètre une chaîne de caractères contenant la condition à appliquer. Voici quelques exemples de condition. Il y a bien évidemment beaucoup d'autres fonctions existantes, en particuliers pour les chaînes."
   ]
  },
  {
   "cell_type": "code",
   "execution_count": 11,
   "metadata": {},
   "outputs": [
    {
     "data": {
      "text/html": [
       "<div>\n",
       "<style scoped>\n",
       "    .dataframe tbody tr th:only-of-type {\n",
       "        vertical-align: middle;\n",
       "    }\n",
       "\n",
       "    .dataframe tbody tr th {\n",
       "        vertical-align: top;\n",
       "    }\n",
       "\n",
       "    .dataframe thead th {\n",
       "        text-align: right;\n",
       "    }\n",
       "</style>\n",
       "<table border=\"1\" class=\"dataframe\">\n",
       "  <thead>\n",
       "    <tr style=\"text-align: right;\">\n",
       "      <th></th>\n",
       "      <th>total_bill</th>\n",
       "      <th>tip</th>\n",
       "      <th>sex</th>\n",
       "      <th>smoker</th>\n",
       "      <th>day</th>\n",
       "      <th>time</th>\n",
       "      <th>size</th>\n",
       "    </tr>\n",
       "  </thead>\n",
       "  <tbody>\n",
       "    <tr>\n",
       "      <th>59</th>\n",
       "      <td>48.27</td>\n",
       "      <td>6.73</td>\n",
       "      <td>Male</td>\n",
       "      <td>No</td>\n",
       "      <td>Sat</td>\n",
       "      <td>Dinner</td>\n",
       "      <td>4</td>\n",
       "    </tr>\n",
       "    <tr>\n",
       "      <th>156</th>\n",
       "      <td>48.17</td>\n",
       "      <td>5.00</td>\n",
       "      <td>Male</td>\n",
       "      <td>No</td>\n",
       "      <td>Sun</td>\n",
       "      <td>Dinner</td>\n",
       "      <td>6</td>\n",
       "    </tr>\n",
       "    <tr>\n",
       "      <th>170</th>\n",
       "      <td>50.81</td>\n",
       "      <td>10.00</td>\n",
       "      <td>Male</td>\n",
       "      <td>Yes</td>\n",
       "      <td>Sat</td>\n",
       "      <td>Dinner</td>\n",
       "      <td>3</td>\n",
       "    </tr>\n",
       "    <tr>\n",
       "      <th>212</th>\n",
       "      <td>48.33</td>\n",
       "      <td>9.00</td>\n",
       "      <td>Male</td>\n",
       "      <td>No</td>\n",
       "      <td>Sat</td>\n",
       "      <td>Dinner</td>\n",
       "      <td>4</td>\n",
       "    </tr>\n",
       "  </tbody>\n",
       "</table>\n",
       "</div>"
      ],
      "text/plain": [
       "     total_bill    tip   sex smoker  day    time  size\n",
       "59        48.27   6.73  Male     No  Sat  Dinner     4\n",
       "156       48.17   5.00  Male     No  Sun  Dinner     6\n",
       "170       50.81  10.00  Male    Yes  Sat  Dinner     3\n",
       "212       48.33   9.00  Male     No  Sat  Dinner     4"
      ]
     },
     "execution_count": 11,
     "metadata": {},
     "output_type": "execute_result"
    }
   ],
   "source": [
    "tips.query('total_bill > 48') # que les factures de plus de 48$"
   ]
  },
  {
   "cell_type": "code",
   "execution_count": 12,
   "metadata": {},
   "outputs": [
    {
     "data": {
      "text/html": [
       "<div>\n",
       "<style scoped>\n",
       "    .dataframe tbody tr th:only-of-type {\n",
       "        vertical-align: middle;\n",
       "    }\n",
       "\n",
       "    .dataframe tbody tr th {\n",
       "        vertical-align: top;\n",
       "    }\n",
       "\n",
       "    .dataframe thead th {\n",
       "        text-align: right;\n",
       "    }\n",
       "</style>\n",
       "<table border=\"1\" class=\"dataframe\">\n",
       "  <thead>\n",
       "    <tr style=\"text-align: right;\">\n",
       "      <th></th>\n",
       "      <th>total_bill</th>\n",
       "      <th>tip</th>\n",
       "      <th>sex</th>\n",
       "      <th>smoker</th>\n",
       "      <th>day</th>\n",
       "      <th>time</th>\n",
       "      <th>size</th>\n",
       "    </tr>\n",
       "  </thead>\n",
       "  <tbody>\n",
       "    <tr>\n",
       "      <th>0</th>\n",
       "      <td>16.99</td>\n",
       "      <td>1.01</td>\n",
       "      <td>Female</td>\n",
       "      <td>No</td>\n",
       "      <td>Sun</td>\n",
       "      <td>Dinner</td>\n",
       "      <td>2</td>\n",
       "    </tr>\n",
       "    <tr>\n",
       "      <th>1</th>\n",
       "      <td>10.34</td>\n",
       "      <td>1.66</td>\n",
       "      <td>Male</td>\n",
       "      <td>No</td>\n",
       "      <td>Sun</td>\n",
       "      <td>Dinner</td>\n",
       "      <td>3</td>\n",
       "    </tr>\n",
       "    <tr>\n",
       "      <th>2</th>\n",
       "      <td>21.01</td>\n",
       "      <td>3.50</td>\n",
       "      <td>Male</td>\n",
       "      <td>No</td>\n",
       "      <td>Sun</td>\n",
       "      <td>Dinner</td>\n",
       "      <td>3</td>\n",
       "    </tr>\n",
       "    <tr>\n",
       "      <th>3</th>\n",
       "      <td>23.68</td>\n",
       "      <td>3.31</td>\n",
       "      <td>Male</td>\n",
       "      <td>No</td>\n",
       "      <td>Sun</td>\n",
       "      <td>Dinner</td>\n",
       "      <td>2</td>\n",
       "    </tr>\n",
       "    <tr>\n",
       "      <th>4</th>\n",
       "      <td>24.59</td>\n",
       "      <td>3.61</td>\n",
       "      <td>Female</td>\n",
       "      <td>No</td>\n",
       "      <td>Sun</td>\n",
       "      <td>Dinner</td>\n",
       "      <td>4</td>\n",
       "    </tr>\n",
       "    <tr>\n",
       "      <th>...</th>\n",
       "      <td>...</td>\n",
       "      <td>...</td>\n",
       "      <td>...</td>\n",
       "      <td>...</td>\n",
       "      <td>...</td>\n",
       "      <td>...</td>\n",
       "      <td>...</td>\n",
       "    </tr>\n",
       "    <tr>\n",
       "      <th>238</th>\n",
       "      <td>35.83</td>\n",
       "      <td>4.67</td>\n",
       "      <td>Female</td>\n",
       "      <td>No</td>\n",
       "      <td>Sat</td>\n",
       "      <td>Dinner</td>\n",
       "      <td>3</td>\n",
       "    </tr>\n",
       "    <tr>\n",
       "      <th>239</th>\n",
       "      <td>29.03</td>\n",
       "      <td>5.92</td>\n",
       "      <td>Male</td>\n",
       "      <td>No</td>\n",
       "      <td>Sat</td>\n",
       "      <td>Dinner</td>\n",
       "      <td>3</td>\n",
       "    </tr>\n",
       "    <tr>\n",
       "      <th>240</th>\n",
       "      <td>27.18</td>\n",
       "      <td>2.00</td>\n",
       "      <td>Female</td>\n",
       "      <td>Yes</td>\n",
       "      <td>Sat</td>\n",
       "      <td>Dinner</td>\n",
       "      <td>2</td>\n",
       "    </tr>\n",
       "    <tr>\n",
       "      <th>241</th>\n",
       "      <td>22.67</td>\n",
       "      <td>2.00</td>\n",
       "      <td>Male</td>\n",
       "      <td>Yes</td>\n",
       "      <td>Sat</td>\n",
       "      <td>Dinner</td>\n",
       "      <td>2</td>\n",
       "    </tr>\n",
       "    <tr>\n",
       "      <th>242</th>\n",
       "      <td>17.82</td>\n",
       "      <td>1.75</td>\n",
       "      <td>Male</td>\n",
       "      <td>No</td>\n",
       "      <td>Sat</td>\n",
       "      <td>Dinner</td>\n",
       "      <td>2</td>\n",
       "    </tr>\n",
       "  </tbody>\n",
       "</table>\n",
       "<p>163 rows × 7 columns</p>\n",
       "</div>"
      ],
      "text/plain": [
       "     total_bill   tip     sex smoker  day    time  size\n",
       "0         16.99  1.01  Female     No  Sun  Dinner     2\n",
       "1         10.34  1.66    Male     No  Sun  Dinner     3\n",
       "2         21.01  3.50    Male     No  Sun  Dinner     3\n",
       "3         23.68  3.31    Male     No  Sun  Dinner     2\n",
       "4         24.59  3.61  Female     No  Sun  Dinner     4\n",
       "..          ...   ...     ...    ...  ...     ...   ...\n",
       "238       35.83  4.67  Female     No  Sat  Dinner     3\n",
       "239       29.03  5.92    Male     No  Sat  Dinner     3\n",
       "240       27.18  2.00  Female    Yes  Sat  Dinner     2\n",
       "241       22.67  2.00    Male    Yes  Sat  Dinner     2\n",
       "242       17.82  1.75    Male     No  Sat  Dinner     2\n",
       "\n",
       "[163 rows x 7 columns]"
      ]
     },
     "execution_count": 12,
     "metadata": {},
     "output_type": "execute_result"
    }
   ],
   "source": [
    "tips.query('day in (\"Sat\", \"Sun\")') # que les factures ayant eu lieu un samedi ou un dimanche"
   ]
  },
  {
   "cell_type": "code",
   "execution_count": 13,
   "metadata": {},
   "outputs": [
    {
     "data": {
      "text/html": [
       "<div>\n",
       "<style scoped>\n",
       "    .dataframe tbody tr th:only-of-type {\n",
       "        vertical-align: middle;\n",
       "    }\n",
       "\n",
       "    .dataframe tbody tr th {\n",
       "        vertical-align: top;\n",
       "    }\n",
       "\n",
       "    .dataframe thead th {\n",
       "        text-align: right;\n",
       "    }\n",
       "</style>\n",
       "<table border=\"1\" class=\"dataframe\">\n",
       "  <thead>\n",
       "    <tr style=\"text-align: right;\">\n",
       "      <th></th>\n",
       "      <th>total_bill</th>\n",
       "      <th>tip</th>\n",
       "      <th>sex</th>\n",
       "      <th>smoker</th>\n",
       "      <th>day</th>\n",
       "      <th>time</th>\n",
       "      <th>size</th>\n",
       "    </tr>\n",
       "  </thead>\n",
       "  <tbody>\n",
       "    <tr>\n",
       "      <th>141</th>\n",
       "      <td>34.30</td>\n",
       "      <td>6.7</td>\n",
       "      <td>Male</td>\n",
       "      <td>No</td>\n",
       "      <td>Thur</td>\n",
       "      <td>Lunch</td>\n",
       "      <td>6</td>\n",
       "    </tr>\n",
       "    <tr>\n",
       "      <th>142</th>\n",
       "      <td>41.19</td>\n",
       "      <td>5.0</td>\n",
       "      <td>Male</td>\n",
       "      <td>No</td>\n",
       "      <td>Thur</td>\n",
       "      <td>Lunch</td>\n",
       "      <td>5</td>\n",
       "    </tr>\n",
       "    <tr>\n",
       "      <th>156</th>\n",
       "      <td>48.17</td>\n",
       "      <td>5.0</td>\n",
       "      <td>Male</td>\n",
       "      <td>No</td>\n",
       "      <td>Sun</td>\n",
       "      <td>Dinner</td>\n",
       "      <td>6</td>\n",
       "    </tr>\n",
       "    <tr>\n",
       "      <th>185</th>\n",
       "      <td>20.69</td>\n",
       "      <td>5.0</td>\n",
       "      <td>Male</td>\n",
       "      <td>No</td>\n",
       "      <td>Sun</td>\n",
       "      <td>Dinner</td>\n",
       "      <td>5</td>\n",
       "    </tr>\n",
       "    <tr>\n",
       "      <th>187</th>\n",
       "      <td>30.46</td>\n",
       "      <td>2.0</td>\n",
       "      <td>Male</td>\n",
       "      <td>Yes</td>\n",
       "      <td>Sun</td>\n",
       "      <td>Dinner</td>\n",
       "      <td>5</td>\n",
       "    </tr>\n",
       "    <tr>\n",
       "      <th>216</th>\n",
       "      <td>28.15</td>\n",
       "      <td>3.0</td>\n",
       "      <td>Male</td>\n",
       "      <td>Yes</td>\n",
       "      <td>Sat</td>\n",
       "      <td>Dinner</td>\n",
       "      <td>5</td>\n",
       "    </tr>\n",
       "  </tbody>\n",
       "</table>\n",
       "</div>"
      ],
      "text/plain": [
       "     total_bill  tip   sex smoker   day    time  size\n",
       "141       34.30  6.7  Male     No  Thur   Lunch     6\n",
       "142       41.19  5.0  Male     No  Thur   Lunch     5\n",
       "156       48.17  5.0  Male     No   Sun  Dinner     6\n",
       "185       20.69  5.0  Male     No   Sun  Dinner     5\n",
       "187       30.46  2.0  Male    Yes   Sun  Dinner     5\n",
       "216       28.15  3.0  Male    Yes   Sat  Dinner     5"
      ]
     },
     "execution_count": 13,
     "metadata": {},
     "output_type": "execute_result"
    }
   ],
   "source": [
    "tips.query('size > 4 & sex == \"Male\"') # que les tables de plus de 4 convives et payées par un homme"
   ]
  },
  {
   "cell_type": "markdown",
   "metadata": {},
   "source": [
    "### Projection\n",
    "\n",
    "Deuxième étape, celle-ci consiste tout simple à sélectionner certaines colonnes de la tables. En python, on utilise la fonction `filter()`. Il faut noter que celle-ci peut aussi fonctionner sur les lignes (quand celles-ci ont un index - pas vu ici)."
   ]
  },
  {
   "cell_type": "code",
   "execution_count": 14,
   "metadata": {},
   "outputs": [
    {
     "data": {
      "text/html": [
       "<div>\n",
       "<style scoped>\n",
       "    .dataframe tbody tr th:only-of-type {\n",
       "        vertical-align: middle;\n",
       "    }\n",
       "\n",
       "    .dataframe tbody tr th {\n",
       "        vertical-align: top;\n",
       "    }\n",
       "\n",
       "    .dataframe thead th {\n",
       "        text-align: right;\n",
       "    }\n",
       "</style>\n",
       "<table border=\"1\" class=\"dataframe\">\n",
       "  <thead>\n",
       "    <tr style=\"text-align: right;\">\n",
       "      <th></th>\n",
       "      <th>sex</th>\n",
       "      <th>total_bill</th>\n",
       "    </tr>\n",
       "  </thead>\n",
       "  <tbody>\n",
       "    <tr>\n",
       "      <th>0</th>\n",
       "      <td>Female</td>\n",
       "      <td>16.99</td>\n",
       "    </tr>\n",
       "    <tr>\n",
       "      <th>1</th>\n",
       "      <td>Male</td>\n",
       "      <td>10.34</td>\n",
       "    </tr>\n",
       "    <tr>\n",
       "      <th>2</th>\n",
       "      <td>Male</td>\n",
       "      <td>21.01</td>\n",
       "    </tr>\n",
       "    <tr>\n",
       "      <th>3</th>\n",
       "      <td>Male</td>\n",
       "      <td>23.68</td>\n",
       "    </tr>\n",
       "    <tr>\n",
       "      <th>4</th>\n",
       "      <td>Female</td>\n",
       "      <td>24.59</td>\n",
       "    </tr>\n",
       "    <tr>\n",
       "      <th>...</th>\n",
       "      <td>...</td>\n",
       "      <td>...</td>\n",
       "    </tr>\n",
       "    <tr>\n",
       "      <th>239</th>\n",
       "      <td>Male</td>\n",
       "      <td>29.03</td>\n",
       "    </tr>\n",
       "    <tr>\n",
       "      <th>240</th>\n",
       "      <td>Female</td>\n",
       "      <td>27.18</td>\n",
       "    </tr>\n",
       "    <tr>\n",
       "      <th>241</th>\n",
       "      <td>Male</td>\n",
       "      <td>22.67</td>\n",
       "    </tr>\n",
       "    <tr>\n",
       "      <th>242</th>\n",
       "      <td>Male</td>\n",
       "      <td>17.82</td>\n",
       "    </tr>\n",
       "    <tr>\n",
       "      <th>243</th>\n",
       "      <td>Female</td>\n",
       "      <td>18.78</td>\n",
       "    </tr>\n",
       "  </tbody>\n",
       "</table>\n",
       "<p>244 rows × 2 columns</p>\n",
       "</div>"
      ],
      "text/plain": [
       "        sex  total_bill\n",
       "0    Female       16.99\n",
       "1      Male       10.34\n",
       "2      Male       21.01\n",
       "3      Male       23.68\n",
       "4    Female       24.59\n",
       "..      ...         ...\n",
       "239    Male       29.03\n",
       "240  Female       27.18\n",
       "241    Male       22.67\n",
       "242    Male       17.82\n",
       "243  Female       18.78\n",
       "\n",
       "[244 rows x 2 columns]"
      ]
     },
     "execution_count": 14,
     "metadata": {},
     "output_type": "execute_result"
    }
   ],
   "source": [
    "tips.filter([\"sex\", \"total_bill\"])"
   ]
  },
  {
   "cell_type": "markdown",
   "metadata": {},
   "source": [
    "Quand on fait ce genre d'opérations, il est courant que nous nous retrouvions avec des lignes identiques. Pour supprimer les doublons, nous utilisons la fonction `drop_duplicates()` sur le résultat."
   ]
  },
  {
   "cell_type": "code",
   "execution_count": 15,
   "metadata": {},
   "outputs": [
    {
     "data": {
      "text/html": [
       "<div>\n",
       "<style scoped>\n",
       "    .dataframe tbody tr th:only-of-type {\n",
       "        vertical-align: middle;\n",
       "    }\n",
       "\n",
       "    .dataframe tbody tr th {\n",
       "        vertical-align: top;\n",
       "    }\n",
       "\n",
       "    .dataframe thead th {\n",
       "        text-align: right;\n",
       "    }\n",
       "</style>\n",
       "<table border=\"1\" class=\"dataframe\">\n",
       "  <thead>\n",
       "    <tr style=\"text-align: right;\">\n",
       "      <th></th>\n",
       "      <th>sex</th>\n",
       "      <th>smoker</th>\n",
       "    </tr>\n",
       "  </thead>\n",
       "  <tbody>\n",
       "    <tr>\n",
       "      <th>0</th>\n",
       "      <td>Female</td>\n",
       "      <td>No</td>\n",
       "    </tr>\n",
       "    <tr>\n",
       "      <th>1</th>\n",
       "      <td>Male</td>\n",
       "      <td>No</td>\n",
       "    </tr>\n",
       "    <tr>\n",
       "      <th>56</th>\n",
       "      <td>Male</td>\n",
       "      <td>Yes</td>\n",
       "    </tr>\n",
       "    <tr>\n",
       "      <th>67</th>\n",
       "      <td>Female</td>\n",
       "      <td>Yes</td>\n",
       "    </tr>\n",
       "  </tbody>\n",
       "</table>\n",
       "</div>"
      ],
      "text/plain": [
       "       sex smoker\n",
       "0   Female     No\n",
       "1     Male     No\n",
       "56    Male    Yes\n",
       "67  Female    Yes"
      ]
     },
     "execution_count": 15,
     "metadata": {},
     "output_type": "execute_result"
    }
   ],
   "source": [
    "tips.filter([\"sex\", \"smoker\"]).drop_duplicates()"
   ]
  },
  {
   "cell_type": "markdown",
   "metadata": {},
   "source": [
    "On peut aussi utiliser le formalisme `dataframe.colonne` pour accéder aux valeurs d'une seule colonne"
   ]
  },
  {
   "cell_type": "code",
   "execution_count": 16,
   "metadata": {},
   "outputs": [
    {
     "data": {
      "text/plain": [
       "0      16.99\n",
       "1      10.34\n",
       "2      21.01\n",
       "3      23.68\n",
       "4      24.59\n",
       "       ...  \n",
       "239    29.03\n",
       "240    27.18\n",
       "241    22.67\n",
       "242    17.82\n",
       "243    18.78\n",
       "Name: total_bill, Length: 244, dtype: float64"
      ]
     },
     "execution_count": 16,
     "metadata": {},
     "output_type": "execute_result"
    }
   ],
   "source": [
    "tips.total_bill"
   ]
  },
  {
   "cell_type": "markdown",
   "metadata": {},
   "source": [
    "### Tri et limitation des résultats\n",
    "\n",
    "Pour le tri, il existe la fonction `sort_values()`, dans laquelle on indique la ou les variables à utiliser pour le tri. Si on veut un tri descendant, on modifie la valeur du paramètre `ascending` (`True` par défaut)."
   ]
  },
  {
   "cell_type": "code",
   "execution_count": 17,
   "metadata": {},
   "outputs": [
    {
     "data": {
      "text/html": [
       "<div>\n",
       "<style scoped>\n",
       "    .dataframe tbody tr th:only-of-type {\n",
       "        vertical-align: middle;\n",
       "    }\n",
       "\n",
       "    .dataframe tbody tr th {\n",
       "        vertical-align: top;\n",
       "    }\n",
       "\n",
       "    .dataframe thead th {\n",
       "        text-align: right;\n",
       "    }\n",
       "</style>\n",
       "<table border=\"1\" class=\"dataframe\">\n",
       "  <thead>\n",
       "    <tr style=\"text-align: right;\">\n",
       "      <th></th>\n",
       "      <th>total_bill</th>\n",
       "      <th>tip</th>\n",
       "      <th>sex</th>\n",
       "      <th>smoker</th>\n",
       "      <th>day</th>\n",
       "      <th>time</th>\n",
       "      <th>size</th>\n",
       "    </tr>\n",
       "  </thead>\n",
       "  <tbody>\n",
       "    <tr>\n",
       "      <th>67</th>\n",
       "      <td>3.07</td>\n",
       "      <td>1.00</td>\n",
       "      <td>Female</td>\n",
       "      <td>Yes</td>\n",
       "      <td>Sat</td>\n",
       "      <td>Dinner</td>\n",
       "      <td>1</td>\n",
       "    </tr>\n",
       "    <tr>\n",
       "      <th>92</th>\n",
       "      <td>5.75</td>\n",
       "      <td>1.00</td>\n",
       "      <td>Female</td>\n",
       "      <td>Yes</td>\n",
       "      <td>Fri</td>\n",
       "      <td>Dinner</td>\n",
       "      <td>2</td>\n",
       "    </tr>\n",
       "    <tr>\n",
       "      <th>111</th>\n",
       "      <td>7.25</td>\n",
       "      <td>1.00</td>\n",
       "      <td>Female</td>\n",
       "      <td>No</td>\n",
       "      <td>Sat</td>\n",
       "      <td>Dinner</td>\n",
       "      <td>1</td>\n",
       "    </tr>\n",
       "    <tr>\n",
       "      <th>172</th>\n",
       "      <td>7.25</td>\n",
       "      <td>5.15</td>\n",
       "      <td>Male</td>\n",
       "      <td>Yes</td>\n",
       "      <td>Sun</td>\n",
       "      <td>Dinner</td>\n",
       "      <td>2</td>\n",
       "    </tr>\n",
       "    <tr>\n",
       "      <th>149</th>\n",
       "      <td>7.51</td>\n",
       "      <td>2.00</td>\n",
       "      <td>Male</td>\n",
       "      <td>No</td>\n",
       "      <td>Thur</td>\n",
       "      <td>Lunch</td>\n",
       "      <td>2</td>\n",
       "    </tr>\n",
       "    <tr>\n",
       "      <th>...</th>\n",
       "      <td>...</td>\n",
       "      <td>...</td>\n",
       "      <td>...</td>\n",
       "      <td>...</td>\n",
       "      <td>...</td>\n",
       "      <td>...</td>\n",
       "      <td>...</td>\n",
       "    </tr>\n",
       "    <tr>\n",
       "      <th>182</th>\n",
       "      <td>45.35</td>\n",
       "      <td>3.50</td>\n",
       "      <td>Male</td>\n",
       "      <td>Yes</td>\n",
       "      <td>Sun</td>\n",
       "      <td>Dinner</td>\n",
       "      <td>3</td>\n",
       "    </tr>\n",
       "    <tr>\n",
       "      <th>156</th>\n",
       "      <td>48.17</td>\n",
       "      <td>5.00</td>\n",
       "      <td>Male</td>\n",
       "      <td>No</td>\n",
       "      <td>Sun</td>\n",
       "      <td>Dinner</td>\n",
       "      <td>6</td>\n",
       "    </tr>\n",
       "    <tr>\n",
       "      <th>59</th>\n",
       "      <td>48.27</td>\n",
       "      <td>6.73</td>\n",
       "      <td>Male</td>\n",
       "      <td>No</td>\n",
       "      <td>Sat</td>\n",
       "      <td>Dinner</td>\n",
       "      <td>4</td>\n",
       "    </tr>\n",
       "    <tr>\n",
       "      <th>212</th>\n",
       "      <td>48.33</td>\n",
       "      <td>9.00</td>\n",
       "      <td>Male</td>\n",
       "      <td>No</td>\n",
       "      <td>Sat</td>\n",
       "      <td>Dinner</td>\n",
       "      <td>4</td>\n",
       "    </tr>\n",
       "    <tr>\n",
       "      <th>170</th>\n",
       "      <td>50.81</td>\n",
       "      <td>10.00</td>\n",
       "      <td>Male</td>\n",
       "      <td>Yes</td>\n",
       "      <td>Sat</td>\n",
       "      <td>Dinner</td>\n",
       "      <td>3</td>\n",
       "    </tr>\n",
       "  </tbody>\n",
       "</table>\n",
       "<p>244 rows × 7 columns</p>\n",
       "</div>"
      ],
      "text/plain": [
       "     total_bill    tip     sex smoker   day    time  size\n",
       "67         3.07   1.00  Female    Yes   Sat  Dinner     1\n",
       "92         5.75   1.00  Female    Yes   Fri  Dinner     2\n",
       "111        7.25   1.00  Female     No   Sat  Dinner     1\n",
       "172        7.25   5.15    Male    Yes   Sun  Dinner     2\n",
       "149        7.51   2.00    Male     No  Thur   Lunch     2\n",
       "..          ...    ...     ...    ...   ...     ...   ...\n",
       "182       45.35   3.50    Male    Yes   Sun  Dinner     3\n",
       "156       48.17   5.00    Male     No   Sun  Dinner     6\n",
       "59        48.27   6.73    Male     No   Sat  Dinner     4\n",
       "212       48.33   9.00    Male     No   Sat  Dinner     4\n",
       "170       50.81  10.00    Male    Yes   Sat  Dinner     3\n",
       "\n",
       "[244 rows x 7 columns]"
      ]
     },
     "execution_count": 17,
     "metadata": {},
     "output_type": "execute_result"
    }
   ],
   "source": [
    "tips.sort_values(by = \"total_bill\")"
   ]
  },
  {
   "cell_type": "code",
   "execution_count": 18,
   "metadata": {},
   "outputs": [
    {
     "data": {
      "text/html": [
       "<div>\n",
       "<style scoped>\n",
       "    .dataframe tbody tr th:only-of-type {\n",
       "        vertical-align: middle;\n",
       "    }\n",
       "\n",
       "    .dataframe tbody tr th {\n",
       "        vertical-align: top;\n",
       "    }\n",
       "\n",
       "    .dataframe thead th {\n",
       "        text-align: right;\n",
       "    }\n",
       "</style>\n",
       "<table border=\"1\" class=\"dataframe\">\n",
       "  <thead>\n",
       "    <tr style=\"text-align: right;\">\n",
       "      <th></th>\n",
       "      <th>total_bill</th>\n",
       "      <th>tip</th>\n",
       "      <th>sex</th>\n",
       "      <th>smoker</th>\n",
       "      <th>day</th>\n",
       "      <th>time</th>\n",
       "      <th>size</th>\n",
       "    </tr>\n",
       "  </thead>\n",
       "  <tbody>\n",
       "    <tr>\n",
       "      <th>170</th>\n",
       "      <td>50.81</td>\n",
       "      <td>10.00</td>\n",
       "      <td>Male</td>\n",
       "      <td>Yes</td>\n",
       "      <td>Sat</td>\n",
       "      <td>Dinner</td>\n",
       "      <td>3</td>\n",
       "    </tr>\n",
       "    <tr>\n",
       "      <th>212</th>\n",
       "      <td>48.33</td>\n",
       "      <td>9.00</td>\n",
       "      <td>Male</td>\n",
       "      <td>No</td>\n",
       "      <td>Sat</td>\n",
       "      <td>Dinner</td>\n",
       "      <td>4</td>\n",
       "    </tr>\n",
       "    <tr>\n",
       "      <th>59</th>\n",
       "      <td>48.27</td>\n",
       "      <td>6.73</td>\n",
       "      <td>Male</td>\n",
       "      <td>No</td>\n",
       "      <td>Sat</td>\n",
       "      <td>Dinner</td>\n",
       "      <td>4</td>\n",
       "    </tr>\n",
       "    <tr>\n",
       "      <th>156</th>\n",
       "      <td>48.17</td>\n",
       "      <td>5.00</td>\n",
       "      <td>Male</td>\n",
       "      <td>No</td>\n",
       "      <td>Sun</td>\n",
       "      <td>Dinner</td>\n",
       "      <td>6</td>\n",
       "    </tr>\n",
       "    <tr>\n",
       "      <th>182</th>\n",
       "      <td>45.35</td>\n",
       "      <td>3.50</td>\n",
       "      <td>Male</td>\n",
       "      <td>Yes</td>\n",
       "      <td>Sun</td>\n",
       "      <td>Dinner</td>\n",
       "      <td>3</td>\n",
       "    </tr>\n",
       "    <tr>\n",
       "      <th>...</th>\n",
       "      <td>...</td>\n",
       "      <td>...</td>\n",
       "      <td>...</td>\n",
       "      <td>...</td>\n",
       "      <td>...</td>\n",
       "      <td>...</td>\n",
       "      <td>...</td>\n",
       "    </tr>\n",
       "    <tr>\n",
       "      <th>149</th>\n",
       "      <td>7.51</td>\n",
       "      <td>2.00</td>\n",
       "      <td>Male</td>\n",
       "      <td>No</td>\n",
       "      <td>Thur</td>\n",
       "      <td>Lunch</td>\n",
       "      <td>2</td>\n",
       "    </tr>\n",
       "    <tr>\n",
       "      <th>111</th>\n",
       "      <td>7.25</td>\n",
       "      <td>1.00</td>\n",
       "      <td>Female</td>\n",
       "      <td>No</td>\n",
       "      <td>Sat</td>\n",
       "      <td>Dinner</td>\n",
       "      <td>1</td>\n",
       "    </tr>\n",
       "    <tr>\n",
       "      <th>172</th>\n",
       "      <td>7.25</td>\n",
       "      <td>5.15</td>\n",
       "      <td>Male</td>\n",
       "      <td>Yes</td>\n",
       "      <td>Sun</td>\n",
       "      <td>Dinner</td>\n",
       "      <td>2</td>\n",
       "    </tr>\n",
       "    <tr>\n",
       "      <th>92</th>\n",
       "      <td>5.75</td>\n",
       "      <td>1.00</td>\n",
       "      <td>Female</td>\n",
       "      <td>Yes</td>\n",
       "      <td>Fri</td>\n",
       "      <td>Dinner</td>\n",
       "      <td>2</td>\n",
       "    </tr>\n",
       "    <tr>\n",
       "      <th>67</th>\n",
       "      <td>3.07</td>\n",
       "      <td>1.00</td>\n",
       "      <td>Female</td>\n",
       "      <td>Yes</td>\n",
       "      <td>Sat</td>\n",
       "      <td>Dinner</td>\n",
       "      <td>1</td>\n",
       "    </tr>\n",
       "  </tbody>\n",
       "</table>\n",
       "<p>244 rows × 7 columns</p>\n",
       "</div>"
      ],
      "text/plain": [
       "     total_bill    tip     sex smoker   day    time  size\n",
       "170       50.81  10.00    Male    Yes   Sat  Dinner     3\n",
       "212       48.33   9.00    Male     No   Sat  Dinner     4\n",
       "59        48.27   6.73    Male     No   Sat  Dinner     4\n",
       "156       48.17   5.00    Male     No   Sun  Dinner     6\n",
       "182       45.35   3.50    Male    Yes   Sun  Dinner     3\n",
       "..          ...    ...     ...    ...   ...     ...   ...\n",
       "149        7.51   2.00    Male     No  Thur   Lunch     2\n",
       "111        7.25   1.00  Female     No   Sat  Dinner     1\n",
       "172        7.25   5.15    Male    Yes   Sun  Dinner     2\n",
       "92         5.75   1.00  Female    Yes   Fri  Dinner     2\n",
       "67         3.07   1.00  Female    Yes   Sat  Dinner     1\n",
       "\n",
       "[244 rows x 7 columns]"
      ]
     },
     "execution_count": 18,
     "metadata": {},
     "output_type": "execute_result"
    }
   ],
   "source": [
    "tips.sort_values(by = \"total_bill\", ascending = False)"
   ]
  },
  {
   "cell_type": "markdown",
   "metadata": {},
   "source": [
    "Pour se limiter aux premières lignes (respectivement les dernières), on utilise la fonction `head()` (resp. `tail()`), qui affiche par défaut 5 lignes. Cette valeur est bien évidemment modifiable, comme vu ci-après."
   ]
  },
  {
   "cell_type": "code",
   "execution_count": 19,
   "metadata": {},
   "outputs": [
    {
     "data": {
      "text/html": [
       "<div>\n",
       "<style scoped>\n",
       "    .dataframe tbody tr th:only-of-type {\n",
       "        vertical-align: middle;\n",
       "    }\n",
       "\n",
       "    .dataframe tbody tr th {\n",
       "        vertical-align: top;\n",
       "    }\n",
       "\n",
       "    .dataframe thead th {\n",
       "        text-align: right;\n",
       "    }\n",
       "</style>\n",
       "<table border=\"1\" class=\"dataframe\">\n",
       "  <thead>\n",
       "    <tr style=\"text-align: right;\">\n",
       "      <th></th>\n",
       "      <th>total_bill</th>\n",
       "      <th>tip</th>\n",
       "      <th>sex</th>\n",
       "      <th>smoker</th>\n",
       "      <th>day</th>\n",
       "      <th>time</th>\n",
       "      <th>size</th>\n",
       "    </tr>\n",
       "  </thead>\n",
       "  <tbody>\n",
       "    <tr>\n",
       "      <th>0</th>\n",
       "      <td>16.99</td>\n",
       "      <td>1.01</td>\n",
       "      <td>Female</td>\n",
       "      <td>No</td>\n",
       "      <td>Sun</td>\n",
       "      <td>Dinner</td>\n",
       "      <td>2</td>\n",
       "    </tr>\n",
       "    <tr>\n",
       "      <th>1</th>\n",
       "      <td>10.34</td>\n",
       "      <td>1.66</td>\n",
       "      <td>Male</td>\n",
       "      <td>No</td>\n",
       "      <td>Sun</td>\n",
       "      <td>Dinner</td>\n",
       "      <td>3</td>\n",
       "    </tr>\n",
       "    <tr>\n",
       "      <th>2</th>\n",
       "      <td>21.01</td>\n",
       "      <td>3.50</td>\n",
       "      <td>Male</td>\n",
       "      <td>No</td>\n",
       "      <td>Sun</td>\n",
       "      <td>Dinner</td>\n",
       "      <td>3</td>\n",
       "    </tr>\n",
       "    <tr>\n",
       "      <th>3</th>\n",
       "      <td>23.68</td>\n",
       "      <td>3.31</td>\n",
       "      <td>Male</td>\n",
       "      <td>No</td>\n",
       "      <td>Sun</td>\n",
       "      <td>Dinner</td>\n",
       "      <td>2</td>\n",
       "    </tr>\n",
       "    <tr>\n",
       "      <th>4</th>\n",
       "      <td>24.59</td>\n",
       "      <td>3.61</td>\n",
       "      <td>Female</td>\n",
       "      <td>No</td>\n",
       "      <td>Sun</td>\n",
       "      <td>Dinner</td>\n",
       "      <td>4</td>\n",
       "    </tr>\n",
       "    <tr>\n",
       "      <th>5</th>\n",
       "      <td>25.29</td>\n",
       "      <td>4.71</td>\n",
       "      <td>Male</td>\n",
       "      <td>No</td>\n",
       "      <td>Sun</td>\n",
       "      <td>Dinner</td>\n",
       "      <td>4</td>\n",
       "    </tr>\n",
       "    <tr>\n",
       "      <th>6</th>\n",
       "      <td>8.77</td>\n",
       "      <td>2.00</td>\n",
       "      <td>Male</td>\n",
       "      <td>No</td>\n",
       "      <td>Sun</td>\n",
       "      <td>Dinner</td>\n",
       "      <td>2</td>\n",
       "    </tr>\n",
       "    <tr>\n",
       "      <th>7</th>\n",
       "      <td>26.88</td>\n",
       "      <td>3.12</td>\n",
       "      <td>Male</td>\n",
       "      <td>No</td>\n",
       "      <td>Sun</td>\n",
       "      <td>Dinner</td>\n",
       "      <td>4</td>\n",
       "    </tr>\n",
       "    <tr>\n",
       "      <th>8</th>\n",
       "      <td>15.04</td>\n",
       "      <td>1.96</td>\n",
       "      <td>Male</td>\n",
       "      <td>No</td>\n",
       "      <td>Sun</td>\n",
       "      <td>Dinner</td>\n",
       "      <td>2</td>\n",
       "    </tr>\n",
       "    <tr>\n",
       "      <th>9</th>\n",
       "      <td>14.78</td>\n",
       "      <td>3.23</td>\n",
       "      <td>Male</td>\n",
       "      <td>No</td>\n",
       "      <td>Sun</td>\n",
       "      <td>Dinner</td>\n",
       "      <td>2</td>\n",
       "    </tr>\n",
       "  </tbody>\n",
       "</table>\n",
       "</div>"
      ],
      "text/plain": [
       "   total_bill   tip     sex smoker  day    time  size\n",
       "0       16.99  1.01  Female     No  Sun  Dinner     2\n",
       "1       10.34  1.66    Male     No  Sun  Dinner     3\n",
       "2       21.01  3.50    Male     No  Sun  Dinner     3\n",
       "3       23.68  3.31    Male     No  Sun  Dinner     2\n",
       "4       24.59  3.61  Female     No  Sun  Dinner     4\n",
       "5       25.29  4.71    Male     No  Sun  Dinner     4\n",
       "6        8.77  2.00    Male     No  Sun  Dinner     2\n",
       "7       26.88  3.12    Male     No  Sun  Dinner     4\n",
       "8       15.04  1.96    Male     No  Sun  Dinner     2\n",
       "9       14.78  3.23    Male     No  Sun  Dinner     2"
      ]
     },
     "execution_count": 19,
     "metadata": {},
     "output_type": "execute_result"
    }
   ],
   "source": [
    "tips.head(10) # 5 premières lignes par défaut"
   ]
  },
  {
   "cell_type": "code",
   "execution_count": 20,
   "metadata": {},
   "outputs": [
    {
     "data": {
      "text/html": [
       "<div>\n",
       "<style scoped>\n",
       "    .dataframe tbody tr th:only-of-type {\n",
       "        vertical-align: middle;\n",
       "    }\n",
       "\n",
       "    .dataframe tbody tr th {\n",
       "        vertical-align: top;\n",
       "    }\n",
       "\n",
       "    .dataframe thead th {\n",
       "        text-align: right;\n",
       "    }\n",
       "</style>\n",
       "<table border=\"1\" class=\"dataframe\">\n",
       "  <thead>\n",
       "    <tr style=\"text-align: right;\">\n",
       "      <th></th>\n",
       "      <th>total_bill</th>\n",
       "      <th>tip</th>\n",
       "      <th>sex</th>\n",
       "      <th>smoker</th>\n",
       "      <th>day</th>\n",
       "      <th>time</th>\n",
       "      <th>size</th>\n",
       "    </tr>\n",
       "  </thead>\n",
       "  <tbody>\n",
       "    <tr>\n",
       "      <th>241</th>\n",
       "      <td>22.67</td>\n",
       "      <td>2.00</td>\n",
       "      <td>Male</td>\n",
       "      <td>Yes</td>\n",
       "      <td>Sat</td>\n",
       "      <td>Dinner</td>\n",
       "      <td>2</td>\n",
       "    </tr>\n",
       "    <tr>\n",
       "      <th>242</th>\n",
       "      <td>17.82</td>\n",
       "      <td>1.75</td>\n",
       "      <td>Male</td>\n",
       "      <td>No</td>\n",
       "      <td>Sat</td>\n",
       "      <td>Dinner</td>\n",
       "      <td>2</td>\n",
       "    </tr>\n",
       "    <tr>\n",
       "      <th>243</th>\n",
       "      <td>18.78</td>\n",
       "      <td>3.00</td>\n",
       "      <td>Female</td>\n",
       "      <td>No</td>\n",
       "      <td>Thur</td>\n",
       "      <td>Dinner</td>\n",
       "      <td>2</td>\n",
       "    </tr>\n",
       "  </tbody>\n",
       "</table>\n",
       "</div>"
      ],
      "text/plain": [
       "     total_bill   tip     sex smoker   day    time  size\n",
       "241       22.67  2.00    Male    Yes   Sat  Dinner     2\n",
       "242       17.82  1.75    Male     No   Sat  Dinner     2\n",
       "243       18.78  3.00  Female     No  Thur  Dinner     2"
      ]
     },
     "execution_count": 20,
     "metadata": {},
     "output_type": "execute_result"
    }
   ],
   "source": [
    "tips.tail(3) # 5 dernières lignes par défaut"
   ]
  },
  {
   "cell_type": "markdown",
   "metadata": {},
   "source": [
    "### Ajout de nouvelles variables\n",
    "\n",
    "Il y a 2 possibilités ici :\n",
    "\n",
    "- à partir de valeurs déjà connues\n",
    "- à partir d'un calcul basé sur les autres variables\n",
    "\n",
    "A partir de valeurs, soit vous en fournissez autant que de lignes, soit une seule qui sera donc dupliquée à toutes les lignes"
   ]
  },
  {
   "cell_type": "code",
   "execution_count": 21,
   "metadata": {},
   "outputs": [
    {
     "data": {
      "text/html": [
       "<div>\n",
       "<style scoped>\n",
       "    .dataframe tbody tr th:only-of-type {\n",
       "        vertical-align: middle;\n",
       "    }\n",
       "\n",
       "    .dataframe tbody tr th {\n",
       "        vertical-align: top;\n",
       "    }\n",
       "\n",
       "    .dataframe thead th {\n",
       "        text-align: right;\n",
       "    }\n",
       "</style>\n",
       "<table border=\"1\" class=\"dataframe\">\n",
       "  <thead>\n",
       "    <tr style=\"text-align: right;\">\n",
       "      <th></th>\n",
       "      <th>total_bill</th>\n",
       "      <th>tip</th>\n",
       "      <th>sex</th>\n",
       "      <th>smoker</th>\n",
       "      <th>day</th>\n",
       "      <th>time</th>\n",
       "      <th>size</th>\n",
       "      <th>n_row</th>\n",
       "      <th>nouv</th>\n",
       "    </tr>\n",
       "  </thead>\n",
       "  <tbody>\n",
       "    <tr>\n",
       "      <th>0</th>\n",
       "      <td>16.99</td>\n",
       "      <td>1.01</td>\n",
       "      <td>Female</td>\n",
       "      <td>No</td>\n",
       "      <td>Sun</td>\n",
       "      <td>Dinner</td>\n",
       "      <td>2</td>\n",
       "      <td>0</td>\n",
       "      <td>nouvelle valeur</td>\n",
       "    </tr>\n",
       "    <tr>\n",
       "      <th>1</th>\n",
       "      <td>10.34</td>\n",
       "      <td>1.66</td>\n",
       "      <td>Male</td>\n",
       "      <td>No</td>\n",
       "      <td>Sun</td>\n",
       "      <td>Dinner</td>\n",
       "      <td>3</td>\n",
       "      <td>1</td>\n",
       "      <td>nouvelle valeur</td>\n",
       "    </tr>\n",
       "    <tr>\n",
       "      <th>2</th>\n",
       "      <td>21.01</td>\n",
       "      <td>3.50</td>\n",
       "      <td>Male</td>\n",
       "      <td>No</td>\n",
       "      <td>Sun</td>\n",
       "      <td>Dinner</td>\n",
       "      <td>3</td>\n",
       "      <td>2</td>\n",
       "      <td>nouvelle valeur</td>\n",
       "    </tr>\n",
       "    <tr>\n",
       "      <th>3</th>\n",
       "      <td>23.68</td>\n",
       "      <td>3.31</td>\n",
       "      <td>Male</td>\n",
       "      <td>No</td>\n",
       "      <td>Sun</td>\n",
       "      <td>Dinner</td>\n",
       "      <td>2</td>\n",
       "      <td>3</td>\n",
       "      <td>nouvelle valeur</td>\n",
       "    </tr>\n",
       "    <tr>\n",
       "      <th>4</th>\n",
       "      <td>24.59</td>\n",
       "      <td>3.61</td>\n",
       "      <td>Female</td>\n",
       "      <td>No</td>\n",
       "      <td>Sun</td>\n",
       "      <td>Dinner</td>\n",
       "      <td>4</td>\n",
       "      <td>4</td>\n",
       "      <td>nouvelle valeur</td>\n",
       "    </tr>\n",
       "  </tbody>\n",
       "</table>\n",
       "</div>"
      ],
      "text/plain": [
       "   total_bill   tip     sex smoker  day    time  size  n_row             nouv\n",
       "0       16.99  1.01  Female     No  Sun  Dinner     2      0  nouvelle valeur\n",
       "1       10.34  1.66    Male     No  Sun  Dinner     3      1  nouvelle valeur\n",
       "2       21.01  3.50    Male     No  Sun  Dinner     3      2  nouvelle valeur\n",
       "3       23.68  3.31    Male     No  Sun  Dinner     2      3  nouvelle valeur\n",
       "4       24.59  3.61  Female     No  Sun  Dinner     4      4  nouvelle valeur"
      ]
     },
     "execution_count": 21,
     "metadata": {},
     "output_type": "execute_result"
    }
   ],
   "source": [
    "tips['n_row'] = range(244)\n",
    "tips['nouv'] = \"nouvelle valeur\"\n",
    "tips.head()"
   ]
  },
  {
   "cell_type": "markdown",
   "metadata": {},
   "source": [
    "Bien évidemment, on souhaite généralement faire un calcul à partir des autres variables. Ceci peut se faire avec la fonction `assign()`.\n",
    "\n",
    "Notez l'utilisation du mot-clé `lambda` pour la définition d'une fonction anonyme."
   ]
  },
  {
   "cell_type": "code",
   "execution_count": 22,
   "metadata": {},
   "outputs": [
    {
     "data": {
      "text/html": [
       "<div>\n",
       "<style scoped>\n",
       "    .dataframe tbody tr th:only-of-type {\n",
       "        vertical-align: middle;\n",
       "    }\n",
       "\n",
       "    .dataframe tbody tr th {\n",
       "        vertical-align: top;\n",
       "    }\n",
       "\n",
       "    .dataframe thead th {\n",
       "        text-align: right;\n",
       "    }\n",
       "</style>\n",
       "<table border=\"1\" class=\"dataframe\">\n",
       "  <thead>\n",
       "    <tr style=\"text-align: right;\">\n",
       "      <th></th>\n",
       "      <th>total_bill</th>\n",
       "      <th>tip</th>\n",
       "      <th>sex</th>\n",
       "      <th>smoker</th>\n",
       "      <th>day</th>\n",
       "      <th>time</th>\n",
       "      <th>size</th>\n",
       "      <th>n_row</th>\n",
       "      <th>nouv</th>\n",
       "      <th>per_person</th>\n",
       "    </tr>\n",
       "  </thead>\n",
       "  <tbody>\n",
       "    <tr>\n",
       "      <th>0</th>\n",
       "      <td>16.99</td>\n",
       "      <td>1.01</td>\n",
       "      <td>Female</td>\n",
       "      <td>No</td>\n",
       "      <td>Sun</td>\n",
       "      <td>Dinner</td>\n",
       "      <td>2</td>\n",
       "      <td>0</td>\n",
       "      <td>nouvelle valeur</td>\n",
       "      <td>8.49</td>\n",
       "    </tr>\n",
       "    <tr>\n",
       "      <th>1</th>\n",
       "      <td>10.34</td>\n",
       "      <td>1.66</td>\n",
       "      <td>Male</td>\n",
       "      <td>No</td>\n",
       "      <td>Sun</td>\n",
       "      <td>Dinner</td>\n",
       "      <td>3</td>\n",
       "      <td>1</td>\n",
       "      <td>nouvelle valeur</td>\n",
       "      <td>3.45</td>\n",
       "    </tr>\n",
       "    <tr>\n",
       "      <th>2</th>\n",
       "      <td>21.01</td>\n",
       "      <td>3.50</td>\n",
       "      <td>Male</td>\n",
       "      <td>No</td>\n",
       "      <td>Sun</td>\n",
       "      <td>Dinner</td>\n",
       "      <td>3</td>\n",
       "      <td>2</td>\n",
       "      <td>nouvelle valeur</td>\n",
       "      <td>7.00</td>\n",
       "    </tr>\n",
       "    <tr>\n",
       "      <th>3</th>\n",
       "      <td>23.68</td>\n",
       "      <td>3.31</td>\n",
       "      <td>Male</td>\n",
       "      <td>No</td>\n",
       "      <td>Sun</td>\n",
       "      <td>Dinner</td>\n",
       "      <td>2</td>\n",
       "      <td>3</td>\n",
       "      <td>nouvelle valeur</td>\n",
       "      <td>11.84</td>\n",
       "    </tr>\n",
       "    <tr>\n",
       "      <th>4</th>\n",
       "      <td>24.59</td>\n",
       "      <td>3.61</td>\n",
       "      <td>Female</td>\n",
       "      <td>No</td>\n",
       "      <td>Sun</td>\n",
       "      <td>Dinner</td>\n",
       "      <td>4</td>\n",
       "      <td>4</td>\n",
       "      <td>nouvelle valeur</td>\n",
       "      <td>6.15</td>\n",
       "    </tr>\n",
       "    <tr>\n",
       "      <th>...</th>\n",
       "      <td>...</td>\n",
       "      <td>...</td>\n",
       "      <td>...</td>\n",
       "      <td>...</td>\n",
       "      <td>...</td>\n",
       "      <td>...</td>\n",
       "      <td>...</td>\n",
       "      <td>...</td>\n",
       "      <td>...</td>\n",
       "      <td>...</td>\n",
       "    </tr>\n",
       "    <tr>\n",
       "      <th>239</th>\n",
       "      <td>29.03</td>\n",
       "      <td>5.92</td>\n",
       "      <td>Male</td>\n",
       "      <td>No</td>\n",
       "      <td>Sat</td>\n",
       "      <td>Dinner</td>\n",
       "      <td>3</td>\n",
       "      <td>239</td>\n",
       "      <td>nouvelle valeur</td>\n",
       "      <td>9.68</td>\n",
       "    </tr>\n",
       "    <tr>\n",
       "      <th>240</th>\n",
       "      <td>27.18</td>\n",
       "      <td>2.00</td>\n",
       "      <td>Female</td>\n",
       "      <td>Yes</td>\n",
       "      <td>Sat</td>\n",
       "      <td>Dinner</td>\n",
       "      <td>2</td>\n",
       "      <td>240</td>\n",
       "      <td>nouvelle valeur</td>\n",
       "      <td>13.59</td>\n",
       "    </tr>\n",
       "    <tr>\n",
       "      <th>241</th>\n",
       "      <td>22.67</td>\n",
       "      <td>2.00</td>\n",
       "      <td>Male</td>\n",
       "      <td>Yes</td>\n",
       "      <td>Sat</td>\n",
       "      <td>Dinner</td>\n",
       "      <td>2</td>\n",
       "      <td>241</td>\n",
       "      <td>nouvelle valeur</td>\n",
       "      <td>11.34</td>\n",
       "    </tr>\n",
       "    <tr>\n",
       "      <th>242</th>\n",
       "      <td>17.82</td>\n",
       "      <td>1.75</td>\n",
       "      <td>Male</td>\n",
       "      <td>No</td>\n",
       "      <td>Sat</td>\n",
       "      <td>Dinner</td>\n",
       "      <td>2</td>\n",
       "      <td>242</td>\n",
       "      <td>nouvelle valeur</td>\n",
       "      <td>8.91</td>\n",
       "    </tr>\n",
       "    <tr>\n",
       "      <th>243</th>\n",
       "      <td>18.78</td>\n",
       "      <td>3.00</td>\n",
       "      <td>Female</td>\n",
       "      <td>No</td>\n",
       "      <td>Thur</td>\n",
       "      <td>Dinner</td>\n",
       "      <td>2</td>\n",
       "      <td>243</td>\n",
       "      <td>nouvelle valeur</td>\n",
       "      <td>9.39</td>\n",
       "    </tr>\n",
       "  </tbody>\n",
       "</table>\n",
       "<p>244 rows × 10 columns</p>\n",
       "</div>"
      ],
      "text/plain": [
       "     total_bill   tip     sex smoker   day    time  size  n_row  \\\n",
       "0         16.99  1.01  Female     No   Sun  Dinner     2      0   \n",
       "1         10.34  1.66    Male     No   Sun  Dinner     3      1   \n",
       "2         21.01  3.50    Male     No   Sun  Dinner     3      2   \n",
       "3         23.68  3.31    Male     No   Sun  Dinner     2      3   \n",
       "4         24.59  3.61  Female     No   Sun  Dinner     4      4   \n",
       "..          ...   ...     ...    ...   ...     ...   ...    ...   \n",
       "239       29.03  5.92    Male     No   Sat  Dinner     3    239   \n",
       "240       27.18  2.00  Female    Yes   Sat  Dinner     2    240   \n",
       "241       22.67  2.00    Male    Yes   Sat  Dinner     2    241   \n",
       "242       17.82  1.75    Male     No   Sat  Dinner     2    242   \n",
       "243       18.78  3.00  Female     No  Thur  Dinner     2    243   \n",
       "\n",
       "                nouv  per_person  \n",
       "0    nouvelle valeur        8.49  \n",
       "1    nouvelle valeur        3.45  \n",
       "2    nouvelle valeur        7.00  \n",
       "3    nouvelle valeur       11.84  \n",
       "4    nouvelle valeur        6.15  \n",
       "..               ...         ...  \n",
       "239  nouvelle valeur        9.68  \n",
       "240  nouvelle valeur       13.59  \n",
       "241  nouvelle valeur       11.34  \n",
       "242  nouvelle valeur        8.91  \n",
       "243  nouvelle valeur        9.39  \n",
       "\n",
       "[244 rows x 10 columns]"
      ]
     },
     "execution_count": 22,
     "metadata": {},
     "output_type": "execute_result"
    }
   ],
   "source": [
    "# attention ici, l.size fait référence à la taille de l, car c'est un mot clé de python\n",
    "tips.assign(per_person = lambda l: round(l.total_bill / l['size'], 2)) "
   ]
  },
  {
   "cell_type": "markdown",
   "metadata": {},
   "source": [
    "### Agrégat\n",
    "\n",
    "Le calcul d'un agrégat permet de calculer une statistique de base (dénombrement, somme, moyenne, minimum, maximum - rarement autre chose) sur un tableau de données. On peut soit calculer globalement, soit pour chaque modalité d'une variable (voire chaque couple de modalités de plusieurs variables). \n",
    "\n",
    "Pour le faire globalement, on utilise la fonction `aggregate()` (ou `agg()`)."
   ]
  },
  {
   "cell_type": "code",
   "execution_count": 23,
   "metadata": {},
   "outputs": [
    {
     "data": {
      "text/html": [
       "<div>\n",
       "<style scoped>\n",
       "    .dataframe tbody tr th:only-of-type {\n",
       "        vertical-align: middle;\n",
       "    }\n",
       "\n",
       "    .dataframe tbody tr th {\n",
       "        vertical-align: top;\n",
       "    }\n",
       "\n",
       "    .dataframe thead th {\n",
       "        text-align: right;\n",
       "    }\n",
       "</style>\n",
       "<table border=\"1\" class=\"dataframe\">\n",
       "  <thead>\n",
       "    <tr style=\"text-align: right;\">\n",
       "      <th></th>\n",
       "      <th>total_bill</th>\n",
       "      <th>tip</th>\n",
       "      <th>size</th>\n",
       "    </tr>\n",
       "  </thead>\n",
       "  <tbody>\n",
       "    <tr>\n",
       "      <th>count</th>\n",
       "      <td>244.000000</td>\n",
       "      <td>244.000000</td>\n",
       "      <td>244.000000</td>\n",
       "    </tr>\n",
       "    <tr>\n",
       "      <th>mean</th>\n",
       "      <td>19.785943</td>\n",
       "      <td>2.998279</td>\n",
       "      <td>2.569672</td>\n",
       "    </tr>\n",
       "  </tbody>\n",
       "</table>\n",
       "</div>"
      ],
      "text/plain": [
       "       total_bill         tip        size\n",
       "count  244.000000  244.000000  244.000000\n",
       "mean    19.785943    2.998279    2.569672"
      ]
     },
     "execution_count": 23,
     "metadata": {},
     "output_type": "execute_result"
    }
   ],
   "source": [
    "tips.filter([\"total_bill\", \"tip\", \"size\"]).aggregate(['count', \"mean\"])"
   ]
  },
  {
   "cell_type": "markdown",
   "metadata": {},
   "source": [
    "Pour le faire pour chaque modalité d'une variable, on utilise la fonction `groupby()` en plus. Si on ne réalise qu'un seul calcul, on a directement les fonctions associées."
   ]
  },
  {
   "cell_type": "code",
   "execution_count": 24,
   "metadata": {
    "scrolled": true
   },
   "outputs": [
    {
     "data": {
      "text/html": [
       "<div>\n",
       "<style scoped>\n",
       "    .dataframe tbody tr th:only-of-type {\n",
       "        vertical-align: middle;\n",
       "    }\n",
       "\n",
       "    .dataframe tbody tr th {\n",
       "        vertical-align: top;\n",
       "    }\n",
       "\n",
       "    .dataframe thead th {\n",
       "        text-align: right;\n",
       "    }\n",
       "</style>\n",
       "<table border=\"1\" class=\"dataframe\">\n",
       "  <thead>\n",
       "    <tr style=\"text-align: right;\">\n",
       "      <th></th>\n",
       "      <th>total_bill</th>\n",
       "      <th>tip</th>\n",
       "      <th>size</th>\n",
       "    </tr>\n",
       "    <tr>\n",
       "      <th>sex</th>\n",
       "      <th></th>\n",
       "      <th></th>\n",
       "      <th></th>\n",
       "    </tr>\n",
       "  </thead>\n",
       "  <tbody>\n",
       "    <tr>\n",
       "      <th>Female</th>\n",
       "      <td>18.056897</td>\n",
       "      <td>2.833448</td>\n",
       "      <td>2.459770</td>\n",
       "    </tr>\n",
       "    <tr>\n",
       "      <th>Male</th>\n",
       "      <td>20.744076</td>\n",
       "      <td>3.089618</td>\n",
       "      <td>2.630573</td>\n",
       "    </tr>\n",
       "  </tbody>\n",
       "</table>\n",
       "</div>"
      ],
      "text/plain": [
       "        total_bill       tip      size\n",
       "sex                                   \n",
       "Female   18.056897  2.833448  2.459770\n",
       "Male     20.744076  3.089618  2.630573"
      ]
     },
     "execution_count": 24,
     "metadata": {},
     "output_type": "execute_result"
    }
   ],
   "source": [
    "tips.filter([\"sex\", \"total_bill\", \"tip\", \"size\"]).groupby(\"sex\").mean()"
   ]
  },
  {
   "cell_type": "markdown",
   "metadata": {},
   "source": [
    "On peut aussi définir plusieurs opérateurs d'agrégations."
   ]
  },
  {
   "cell_type": "code",
   "execution_count": 25,
   "metadata": {},
   "outputs": [
    {
     "data": {
      "text/html": [
       "<div>\n",
       "<style scoped>\n",
       "    .dataframe tbody tr th:only-of-type {\n",
       "        vertical-align: middle;\n",
       "    }\n",
       "\n",
       "    .dataframe tbody tr th {\n",
       "        vertical-align: top;\n",
       "    }\n",
       "\n",
       "    .dataframe thead tr th {\n",
       "        text-align: left;\n",
       "    }\n",
       "\n",
       "    .dataframe thead tr:last-of-type th {\n",
       "        text-align: right;\n",
       "    }\n",
       "</style>\n",
       "<table border=\"1\" class=\"dataframe\">\n",
       "  <thead>\n",
       "    <tr>\n",
       "      <th></th>\n",
       "      <th colspan=\"2\" halign=\"left\">total_bill</th>\n",
       "      <th colspan=\"2\" halign=\"left\">tip</th>\n",
       "      <th colspan=\"2\" halign=\"left\">size</th>\n",
       "    </tr>\n",
       "    <tr>\n",
       "      <th></th>\n",
       "      <th>count</th>\n",
       "      <th>mean</th>\n",
       "      <th>count</th>\n",
       "      <th>mean</th>\n",
       "      <th>count</th>\n",
       "      <th>mean</th>\n",
       "    </tr>\n",
       "    <tr>\n",
       "      <th>sex</th>\n",
       "      <th></th>\n",
       "      <th></th>\n",
       "      <th></th>\n",
       "      <th></th>\n",
       "      <th></th>\n",
       "      <th></th>\n",
       "    </tr>\n",
       "  </thead>\n",
       "  <tbody>\n",
       "    <tr>\n",
       "      <th>Female</th>\n",
       "      <td>87</td>\n",
       "      <td>18.056897</td>\n",
       "      <td>87</td>\n",
       "      <td>2.833448</td>\n",
       "      <td>87</td>\n",
       "      <td>2.459770</td>\n",
       "    </tr>\n",
       "    <tr>\n",
       "      <th>Male</th>\n",
       "      <td>157</td>\n",
       "      <td>20.744076</td>\n",
       "      <td>157</td>\n",
       "      <td>3.089618</td>\n",
       "      <td>157</td>\n",
       "      <td>2.630573</td>\n",
       "    </tr>\n",
       "  </tbody>\n",
       "</table>\n",
       "</div>"
      ],
      "text/plain": [
       "       total_bill              tip            size          \n",
       "            count       mean count      mean count      mean\n",
       "sex                                                         \n",
       "Female         87  18.056897    87  2.833448    87  2.459770\n",
       "Male          157  20.744076   157  3.089618   157  2.630573"
      ]
     },
     "execution_count": 25,
     "metadata": {},
     "output_type": "execute_result"
    }
   ],
   "source": [
    "tips.filter([\"sex\", \"total_bill\", \"tip\", \"size\"]).groupby(\"sex\").aggregate(['count', \"mean\"])"
   ]
  },
  {
   "cell_type": "markdown",
   "metadata": {},
   "source": [
    "Si on a plusieurs variables dans le regroupement, le calcul se fait donc pour chaque couple de modalités de celles-ci."
   ]
  },
  {
   "cell_type": "code",
   "execution_count": 26,
   "metadata": {
    "scrolled": true
   },
   "outputs": [
    {
     "data": {
      "text/html": [
       "<div>\n",
       "<style scoped>\n",
       "    .dataframe tbody tr th:only-of-type {\n",
       "        vertical-align: middle;\n",
       "    }\n",
       "\n",
       "    .dataframe tbody tr th {\n",
       "        vertical-align: top;\n",
       "    }\n",
       "\n",
       "    .dataframe thead th {\n",
       "        text-align: right;\n",
       "    }\n",
       "</style>\n",
       "<table border=\"1\" class=\"dataframe\">\n",
       "  <thead>\n",
       "    <tr style=\"text-align: right;\">\n",
       "      <th></th>\n",
       "      <th></th>\n",
       "      <th>total_bill</th>\n",
       "      <th>tip</th>\n",
       "      <th>size</th>\n",
       "    </tr>\n",
       "    <tr>\n",
       "      <th>sex</th>\n",
       "      <th>smoker</th>\n",
       "      <th></th>\n",
       "      <th></th>\n",
       "      <th></th>\n",
       "    </tr>\n",
       "  </thead>\n",
       "  <tbody>\n",
       "    <tr>\n",
       "      <th rowspan=\"2\" valign=\"top\">Female</th>\n",
       "      <th>No</th>\n",
       "      <td>18.105185</td>\n",
       "      <td>2.773519</td>\n",
       "      <td>2.592593</td>\n",
       "    </tr>\n",
       "    <tr>\n",
       "      <th>Yes</th>\n",
       "      <td>17.977879</td>\n",
       "      <td>2.931515</td>\n",
       "      <td>2.242424</td>\n",
       "    </tr>\n",
       "    <tr>\n",
       "      <th rowspan=\"2\" valign=\"top\">Male</th>\n",
       "      <th>No</th>\n",
       "      <td>19.791237</td>\n",
       "      <td>3.113402</td>\n",
       "      <td>2.711340</td>\n",
       "    </tr>\n",
       "    <tr>\n",
       "      <th>Yes</th>\n",
       "      <td>22.284500</td>\n",
       "      <td>3.051167</td>\n",
       "      <td>2.500000</td>\n",
       "    </tr>\n",
       "  </tbody>\n",
       "</table>\n",
       "</div>"
      ],
      "text/plain": [
       "               total_bill       tip      size\n",
       "sex    smoker                                \n",
       "Female No       18.105185  2.773519  2.592593\n",
       "       Yes      17.977879  2.931515  2.242424\n",
       "Male   No       19.791237  3.113402  2.711340\n",
       "       Yes      22.284500  3.051167  2.500000"
      ]
     },
     "execution_count": 26,
     "metadata": {},
     "output_type": "execute_result"
    }
   ],
   "source": [
    "tips.filter([\"sex\", \"smoker\", \"total_bill\", \"tip\", \"size\"]).groupby([\"sex\", \"smoker\"]).mean()"
   ]
  },
  {
   "cell_type": "markdown",
   "metadata": {},
   "source": [
    "## Visualisation de données\n",
    "\n",
    "Le module `seaborn` est basé sur matplotlib. Il faut donc ajouter la ligne %matplotlib inline dans un notebook, pour pouvoir voir les graphiques.\n",
    "\n",
    "Ce module contient toutes les fonctions directement, l'importation est donc assez simple."
   ]
  },
  {
   "cell_type": "code",
   "execution_count": 27,
   "metadata": {},
   "outputs": [],
   "source": [
    "import seaborn\n",
    "\n",
    "%matplotlib inline"
   ]
  },
  {
   "cell_type": "markdown",
   "metadata": {},
   "source": [
    "### Variable quantitative\n",
    "\n",
    "La fonction `displot()` nous permet de réaliser les graphiques de distribution d'une variable quantitative. Par défaut, elle réaliser un histogramme."
   ]
  },
  {
   "cell_type": "code",
   "execution_count": 28,
   "metadata": {},
   "outputs": [
    {
     "data": {
      "text/plain": [
       "<seaborn.axisgrid.FacetGrid at 0x13ba0a4f0>"
      ]
     },
     "execution_count": 28,
     "metadata": {},
     "output_type": "execute_result"
    },
    {
     "data": {
      "image/png": "[encoded data removed]",
      "text/plain": [
       "<Figure size 360x360 with 1 Axes>"
      ]
     },
     "metadata": {
      "needs_background": "light"
     },
     "output_type": "display_data"
    }
   ],
   "source": [
    "seaborn.displot(data = tips, x = \"total_bill\")"
   ]
  },
  {
   "cell_type": "markdown",
   "metadata": {},
   "source": [
    "C'est la fonction `boxplot()` qui nous permet de réaliser une boîte à moustache (soit verticale en mettant la variable en `y`, soit horizontale en la mettant en `x`)."
   ]
  },
  {
   "cell_type": "code",
   "execution_count": 29,
   "metadata": {},
   "outputs": [
    {
     "data": {
      "text/plain": [
       "<AxesSubplot:ylabel='total_bill'>"
      ]
     },
     "execution_count": 29,
     "metadata": {},
     "output_type": "execute_result"
    },
    {
     "data": {
      "image/png": "[encoded data removed]",
      "text/plain": [
       "<Figure size 432x288 with 1 Axes>"
      ]
     },
     "metadata": {
      "needs_background": "light"
     },
     "output_type": "display_data"
    }
   ],
   "source": [
    "seaborn.boxplot(data = tips, y = \"total_bill\")"
   ]
  },
  {
   "cell_type": "code",
   "execution_count": 30,
   "metadata": {},
   "outputs": [
    {
     "data": {
      "text/plain": [
       "<AxesSubplot:xlabel='total_bill'>"
      ]
     },
     "execution_count": 30,
     "metadata": {},
     "output_type": "execute_result"
    },
    {
     "data": {
      "image/png": "[encoded data removed]",
      "text/plain": [
       "<Figure size 432x288 with 1 Axes>"
      ]
     },
     "metadata": {
      "needs_background": "light"
     },
     "output_type": "display_data"
    }
   ],
   "source": [
    "seaborn.boxplot(data = tips, x = \"total_bill\")"
   ]
  },
  {
   "cell_type": "markdown",
   "metadata": {},
   "source": [
    "Une autre représentation possible est obtenue avec la fonction `pointplot()`, qui représente la moyenne et l'écarte-type, avec le choix entre vertical (y) ou horizontal (x)."
   ]
  },
  {
   "cell_type": "code",
   "execution_count": 31,
   "metadata": {},
   "outputs": [
    {
     "data": {
      "text/plain": [
       "<AxesSubplot:ylabel='total_bill'>"
      ]
     },
     "execution_count": 31,
     "metadata": {},
     "output_type": "execute_result"
    },
    {
     "data": {
      "image/png": "[encoded data removed]",
      "text/plain": [
       "<Figure size 432x288 with 1 Axes>"
      ]
     },
     "metadata": {
      "needs_background": "light"
     },
     "output_type": "display_data"
    }
   ],
   "source": [
    "seaborn.pointplot(data = tips, y = \"total_bill\")"
   ]
  },
  {
   "cell_type": "code",
   "execution_count": 32,
   "metadata": {},
   "outputs": [
    {
     "data": {
      "text/plain": [
       "<AxesSubplot:xlabel='total_bill'>"
      ]
     },
     "execution_count": 32,
     "metadata": {},
     "output_type": "execute_result"
    },
    {
     "data": {
      "image/png": "[encoded data removed]",
      "text/plain": [
       "<Figure size 432x288 with 1 Axes>"
      ]
     },
     "metadata": {
      "needs_background": "light"
     },
     "output_type": "display_data"
    }
   ],
   "source": [
    "seaborn.pointplot(data = tips, x = \"total_bill\")"
   ]
  },
  {
   "cell_type": "markdown",
   "metadata": {},
   "source": [
    "Un autre graphique possible est celui obtenu avec `violinplot()`, qui représente la densité d'une variable, toujours avec le choix vertical/horizontale (y/x)."
   ]
  },
  {
   "cell_type": "code",
   "execution_count": 33,
   "metadata": {},
   "outputs": [
    {
     "data": {
      "text/plain": [
       "<AxesSubplot:ylabel='total_bill'>"
      ]
     },
     "execution_count": 33,
     "metadata": {},
     "output_type": "execute_result"
    },
    {
     "data": {
      "image/png": "[encoded data removed]",
      "text/plain": [
       "<Figure size 432x288 with 1 Axes>"
      ]
     },
     "metadata": {
      "needs_background": "light"
     },
     "output_type": "display_data"
    }
   ],
   "source": [
    "seaborn.violinplot(data = tips, y = \"total_bill\")"
   ]
  },
  {
   "cell_type": "code",
   "execution_count": 34,
   "metadata": {},
   "outputs": [
    {
     "data": {
      "text/plain": [
       "<AxesSubplot:xlabel='total_bill'>"
      ]
     },
     "execution_count": 34,
     "metadata": {},
     "output_type": "execute_result"
    },
    {
     "data": {
      "image/png": "[encoded data removed]",
      "text/plain": [
       "<Figure size 432x288 with 1 Axes>"
      ]
     },
     "metadata": {
      "needs_background": "light"
     },
     "output_type": "display_data"
    }
   ],
   "source": [
    "seaborn.violinplot(data = tips, x = \"total_bill\")"
   ]
  },
  {
   "cell_type": "markdown",
   "metadata": {},
   "source": [
    "Enfin, il est possible de représenter toutes les valeurs sur un pseudo nuage de points. Avec `striplot()` dont l'option `jitter` a été activée, les points sont aléatoirement répartis sur l'axe des $x$  (si on utilise y - inversement sinon)."
   ]
  },
  {
   "cell_type": "code",
   "execution_count": 35,
   "metadata": {},
   "outputs": [
    {
     "data": {
      "text/plain": [
       "<AxesSubplot:ylabel='total_bill'>"
      ]
     },
     "execution_count": 35,
     "metadata": {},
     "output_type": "execute_result"
    },
    {
     "data": {
      "image/png": "[encoded data removed]",
      "text/plain": [
       "<Figure size 432x288 with 1 Axes>"
      ]
     },
     "metadata": {
      "needs_background": "light"
     },
     "output_type": "display_data"
    }
   ],
   "source": [
    "seaborn.stripplot(data = tips, y = \"total_bill\", jitter = True)"
   ]
  },
  {
   "cell_type": "code",
   "execution_count": 36,
   "metadata": {},
   "outputs": [
    {
     "data": {
      "text/plain": [
       "<AxesSubplot:xlabel='total_bill'>"
      ]
     },
     "execution_count": 36,
     "metadata": {},
     "output_type": "execute_result"
    },
    {
     "data": {
      "image/png": "[encoded data removed]",
      "text/plain": [
       "<Figure size 432x288 with 1 Axes>"
      ]
     },
     "metadata": {
      "needs_background": "light"
     },
     "output_type": "display_data"
    }
   ],
   "source": [
    "seaborn.stripplot(data = tips, x = \"total_bill\", jitter = True)"
   ]
  },
  {
   "cell_type": "markdown",
   "metadata": {},
   "source": [
    "### Variable qualitative\n",
    "\n",
    "Le diagramme en barres en effectifs est obtenu via la fonction `countplot()`. Il est soit horizontal (avec la variable en `x`), soit vertical (en `y`)."
   ]
  },
  {
   "cell_type": "code",
   "execution_count": 37,
   "metadata": {},
   "outputs": [
    {
     "data": {
      "text/plain": [
       "<AxesSubplot:xlabel='sex', ylabel='count'>"
      ]
     },
     "execution_count": 37,
     "metadata": {},
     "output_type": "execute_result"
    },
    {
     "data": {
      "image/png": "[encoded data removed]",
      "text/plain": [
       "<Figure size 432x288 with 1 Axes>"
      ]
     },
     "metadata": {
      "needs_background": "light"
     },
     "output_type": "display_data"
    }
   ],
   "source": [
    "seaborn.countplot(data = tips, x = \"sex\")"
   ]
  },
  {
   "cell_type": "code",
   "execution_count": 38,
   "metadata": {},
   "outputs": [
    {
     "data": {
      "text/plain": [
       "<AxesSubplot:xlabel='count', ylabel='sex'>"
      ]
     },
     "execution_count": 38,
     "metadata": {},
     "output_type": "execute_result"
    },
    {
     "data": {
      "image/png": "[encoded data removed]",
      "text/plain": [
       "<Figure size 432x288 with 1 Axes>"
      ]
     },
     "metadata": {
      "needs_background": "light"
     },
     "output_type": "display_data"
    }
   ],
   "source": [
    "seaborn.countplot(data = tips, y = \"sex\")"
   ]
  },
  {
   "cell_type": "markdown",
   "metadata": {},
   "source": [
    "Pour avoir la version en pourcentages (ou en proportions) de ce graphique, nous devons utiliser la fonction `barplot()`, sur la table de proportions calculée avant. Cette fonction réalise un calcul (moyenne par défaut) sur une variable (ici `freq`) en fonction des modalités d'une autre variable (`sex` ici donc)."
   ]
  },
  {
   "cell_type": "code",
   "execution_count": 39,
   "metadata": {},
   "outputs": [
    {
     "data": {
      "text/plain": [
       "<AxesSubplot:xlabel='sex', ylabel='freq'>"
      ]
     },
     "execution_count": 39,
     "metadata": {},
     "output_type": "execute_result"
    },
    {
     "data": {
      "image/png": "[encoded data removed]",
      "text/plain": [
       "<Figure size 432x288 with 1 Axes>"
      ]
     },
     "metadata": {
      "needs_background": "light"
     },
     "output_type": "display_data"
    }
   ],
   "source": [
    "t = pandas.crosstab(tips.sex, \"freq\", normalize=True)\n",
    "t = t.assign(sex = t.index, freq = 100 * t.freq)\n",
    "seaborn.barplot(data = t, x = \"sex\", y = \"freq\")"
   ]
  },
  {
   "cell_type": "markdown",
   "metadata": {},
   "source": [
    "Pour réaliser un diagramme en barres empilées, il faudra le créer soi-même. Nous ne verrons pas ici."
   ]
  },
  {
   "cell_type": "markdown",
   "metadata": {},
   "source": [
    "### Var quantitative - Var quantitative\n",
    "\n",
    "Pour réaliser le nuage de points, on utilise la fonction `jointplot()`. Elle a l'avantage d'ajouter par défaut les histogrammes de chaque variable. Elle réalise par défaut le nuage de points simple (scatter). "
   ]
  },
  {
   "cell_type": "code",
   "execution_count": 40,
   "metadata": {},
   "outputs": [
    {
     "data": {
      "text/plain": [
       "<seaborn.axisgrid.JointGrid at 0x13df5a3d0>"
      ]
     },
     "execution_count": 40,
     "metadata": {},
     "output_type": "execute_result"
    },
    {
     "data": {
      "image/png": "[encoded data removed]",
      "text/plain": [
       "<Figure size 432x432 with 3 Axes>"
      ]
     },
     "metadata": {
      "needs_background": "light"
     },
     "output_type": "display_data"
    }
   ],
   "source": [
    "seaborn.jointplot(data = tips, x = \"total_bill\", y = \"tip\")"
   ]
  },
  {
   "cell_type": "markdown",
   "metadata": {},
   "source": [
    "En choississant le type `reg` avec le paramètre `kind`, on obtient en plus l'ajustement linéaire de la variable en y par celle en x."
   ]
  },
  {
   "cell_type": "code",
   "execution_count": 41,
   "metadata": {},
   "outputs": [
    {
     "data": {
      "text/plain": [
       "<seaborn.axisgrid.JointGrid at 0x13e03b6a0>"
      ]
     },
     "execution_count": 41,
     "metadata": {},
     "output_type": "execute_result"
    },
    {
     "data": {
      "image/png": "[encoded data removed]",
      "text/plain": [
       "<Figure size 432x432 with 3 Axes>"
      ]
     },
     "metadata": {
      "needs_background": "light"
     },
     "output_type": "display_data"
    }
   ],
   "source": [
    "seaborn.jointplot(data = tips, x = \"total_bill\", y = \"tip\", kind = \"reg\")"
   ]
  },
  {
   "cell_type": "markdown",
   "metadata": {},
   "source": [
    "Si on souhaite ne pas avoir les distributions marginales, la fonction` regplot()` nous permet de réaliser le nuage de points avec ou sans ajustement (paramètre `fit_reg`)."
   ]
  },
  {
   "cell_type": "code",
   "execution_count": 42,
   "metadata": {},
   "outputs": [
    {
     "data": {
      "text/plain": [
       "<AxesSubplot:xlabel='total_bill', ylabel='tip'>"
      ]
     },
     "execution_count": 42,
     "metadata": {},
     "output_type": "execute_result"
    },
    {
     "data": {
      "image/png": "[encoded data removed]",
      "text/plain": [
       "<Figure size 432x288 with 1 Axes>"
      ]
     },
     "metadata": {
      "needs_background": "light"
     },
     "output_type": "display_data"
    }
   ],
   "source": [
    "seaborn.regplot(data = tips, x = \"total_bill\", y = \"tip\")"
   ]
  },
  {
   "cell_type": "code",
   "execution_count": 43,
   "metadata": {},
   "outputs": [
    {
     "data": {
      "text/plain": [
       "<AxesSubplot:xlabel='total_bill', ylabel='tip'>"
      ]
     },
     "execution_count": 43,
     "metadata": {},
     "output_type": "execute_result"
    },
    {
     "data": {
      "image/png": "[encoded data removed]",
      "text/plain": [
       "<Figure size 432x288 with 1 Axes>"
      ]
     },
     "metadata": {
      "needs_background": "light"
     },
     "output_type": "display_data"
    }
   ],
   "source": [
    "seaborn.regplot(data = tips, x = \"total_bill\", y = \"tip\", fit_reg = False)"
   ]
  },
  {
   "cell_type": "code",
   "execution_count": 44,
   "metadata": {},
   "outputs": [
    {
     "data": {
      "text/plain": [
       "<AxesSubplot:xlabel='total_bill', ylabel='tip'>"
      ]
     },
     "execution_count": 44,
     "metadata": {},
     "output_type": "execute_result"
    },
    {
     "data": {
      "image/png": "[encoded data removed]",
      "text/plain": [
       "<Figure size 432x288 with 1 Axes>"
      ]
     },
     "metadata": {
      "needs_background": "light"
     },
     "output_type": "display_data"
    }
   ],
   "source": [
    "seaborn.regplot(data = tips, x = \"total_bill\", y = \"tip\", scatter = False)"
   ]
  },
  {
   "cell_type": "markdown",
   "metadata": {},
   "source": [
    "Il est possible d'obtenir directement tous les nuages de points 2 à 2, avec la fonction `pairplot()`. Le paramètre `vars` permet de sélectionner certaines variables. Par défaut, la fonction utilise toutes les variables numériques."
   ]
  },
  {
   "cell_type": "code",
   "execution_count": 45,
   "metadata": {},
   "outputs": [
    {
     "data": {
      "text/plain": [
       "<seaborn.axisgrid.PairGrid at 0x13e2f2910>"
      ]
     },
     "execution_count": 45,
     "metadata": {},
     "output_type": "execute_result"
    },
    {
     "data": {
      "image/png": "[encoded data removed]",
      "text/plain": [
       "<Figure size 540x540 with 12 Axes>"
      ]
     },
     "metadata": {
      "needs_background": "light"
     },
     "output_type": "display_data"
    }
   ],
   "source": [
    "seaborn.pairplot(data = tips, vars = [\"total_bill\", \"tip\", \"size\"])"
   ]
  },
  {
   "cell_type": "markdown",
   "metadata": {},
   "source": [
    "### Var qualitative - Var qualitative\n",
    "\n",
    "Pour obtenir le diagramme en barres séparées (en effectifs), nous utilisons la fonction `countplot()` avec le paramètre `hue` pour indiquer la variable servant de *coloriage* aux barres."
   ]
  },
  {
   "cell_type": "code",
   "execution_count": 46,
   "metadata": {},
   "outputs": [
    {
     "data": {
      "text/plain": [
       "<AxesSubplot:xlabel='sex', ylabel='count'>"
      ]
     },
     "execution_count": 46,
     "metadata": {},
     "output_type": "execute_result"
    },
    {
     "data": {
      "image/png": "[encoded data removed]",
      "text/plain": [
       "<Figure size 432x288 with 1 Axes>"
      ]
     },
     "metadata": {
      "needs_background": "light"
     },
     "output_type": "display_data"
    }
   ],
   "source": [
    "seaborn.countplot(data = tips, x = \"sex\", hue = \"smoker\")"
   ]
  },
  {
   "cell_type": "markdown",
   "metadata": {},
   "source": [
    "### Var quantitative - Var qualitative\n",
    "\n",
    "Pour réaliser les boîtes à moustaches de la variable quantitative pour chaque modalité de la variable qualitative, on utilise la fonction `catplot()`."
   ]
  },
  {
   "cell_type": "code",
   "execution_count": 47,
   "metadata": {},
   "outputs": [
    {
     "data": {
      "text/plain": [
       "<seaborn.axisgrid.FacetGrid at 0x13e737c40>"
      ]
     },
     "execution_count": 47,
     "metadata": {},
     "output_type": "execute_result"
    },
    {
     "data": {
      "image/png": "[encoded data removed]",
      "text/plain": [
       "<Figure size 360x360 with 1 Axes>"
      ]
     },
     "metadata": {
      "needs_background": "light"
     },
     "output_type": "display_data"
    }
   ],
   "source": [
    "seaborn.catplot(data = tips, x = \"sex\", y = \"total_bill\", kind = \"box\")"
   ]
  },
  {
   "cell_type": "markdown",
   "metadata": {},
   "source": [
    "On peut aussi représenter la moyenne et l'écart-type à l'aide du graphique `pointplot` (qu'on réalise ici via `catplot()`)."
   ]
  },
  {
   "cell_type": "code",
   "execution_count": 48,
   "metadata": {},
   "outputs": [
    {
     "data": {
      "text/plain": [
       "<seaborn.axisgrid.FacetGrid at 0x13e823d90>"
      ]
     },
     "execution_count": 48,
     "metadata": {},
     "output_type": "execute_result"
    },
    {
     "data": {
      "image/png": "[encoded data removed]",
      "text/plain": [
       "<Figure size 360x360 with 1 Axes>"
      ]
     },
     "metadata": {
      "needs_background": "light"
     },
     "output_type": "display_data"
    }
   ],
   "source": [
    "seaborn.catplot(data = tips, x = \"sex\", y = \"total_bill\", kind = \"point\", join = False)"
   ]
  },
  {
   "cell_type": "markdown",
   "metadata": {},
   "source": [
    "### Compléments\n",
    "\n",
    "Il est bien évidemment possible de personnaliser le graphique de différentes façons, dont certains sont présentées ci-dessous. On accède aux fonctions de personnalisation soit via des paramètres de la fonction, soit via l'objet renvoyé par la fonction utilisée pour créer le graphique, soit via le module directement. Dans ce cas, ce sont des changements qui affecteront aussi les graphiques futurs.\n",
    "\n",
    "- `suptitle` dans `fig` : titre global\n",
    "- `set_axis_labels` : titre des axes\n",
    "- `palette` : choix d'une palette de couleurs\n",
    "- `size` et `aspect` : hauteur et ratio entre hauteur et largeur, pour chaque facette (une seule ici)"
   ]
  },
  {
   "cell_type": "code",
   "execution_count": 49,
   "metadata": {},
   "outputs": [
    {
     "data": {
      "text/plain": [
       "<seaborn.axisgrid.FacetGrid at 0x13e7083a0>"
      ]
     },
     "execution_count": 49,
     "metadata": {},
     "output_type": "execute_result"
    },
    {
     "data": {
      "image/png": "[encoded data removed]",
      "text/plain": [
       "<Figure size 645.375x288 with 1 Axes>"
      ]
     },
     "metadata": {},
     "output_type": "display_data"
    }
   ],
   "source": [
    "seaborn.set_style(\"white\")\n",
    "p = seaborn.catplot(data = tips, x = \"size\", y = \"tip\", hue = \"sex\", \n",
    "                    kind = \"box\", \n",
    "                    palette = \"Set2\", height = 4, aspect = 2)\n",
    "p.fig.suptitle(\"Taille et pourboire en fonction du sexe\")\n",
    "p.set_axis_labels(\"Nombre de convives\", \"Pourboire\")"
   ]
  },
  {
   "cell_type": "markdown",
   "metadata": {},
   "source": [
    "## Données Velib\n",
    "\n",
    "Nous allons travailler sur des données Velib en temps réel, qui sont disponibles sur [cette page](https://opendata.paris.fr/explore/dataset/velib-disponibilite-en-temps-reel/).\n",
    "\n",
    "Pour cela, nous avons besoin du module `requests`, tel qu'utilisé ci-dessous."
   ]
  },
  {
   "cell_type": "code",
   "execution_count": 50,
   "metadata": {},
   "outputs": [
    {
     "data": {
      "text/plain": [
       "{'nhits': 1396,\n",
       " 'parameters': {'dataset': 'velib-disponibilite-en-temps-reel',\n",
       "  'timezone': 'UTC',\n",
       "  'rows': 10,\n",
       "  'start': 0,\n",
       "  'format': 'json'},\n",
       " 'records': [{'datasetid': 'velib-disponibilite-en-temps-reel',\n",
       "   'recordid': '5e1bb05303b7aae294afd812ec4a581cc033e909',\n",
       "   'fields': {'ebike': 5,\n",
       "    'capacity': 55,\n",
       "    'name': 'André Mazet - Saint-André des Arts',\n",
       "    'nom_arrondissement_communes': 'Paris',\n",
       "    'numbikesavailable': 12,\n",
       "    'is_installed': 'OUI',\n",
       "    'is_renting': 'OUI',\n",
       "    'mechanical': 7,\n",
       "    'stationcode': '6015',\n",
       "    'coordonnees_geo': [48.8537558106, 2.33909580857],\n",
       "    'numdocksavailable': 42,\n",
       "    'duedate': '2021-03-29T12:49:21+00:00',\n",
       "    'is_returning': 'OUI'},\n",
       "   'geometry': {'type': 'Point',\n",
       "    'coordinates': [2.33909580857, 48.8537558106]},\n",
       "   'record_timestamp': '2021-03-29T13:39:00.469000+00:00'},\n",
       "  {'datasetid': 'velib-disponibilite-en-temps-reel',\n",
       "   'recordid': '713afacf0d05062badbf19c60addbbb346215ee6',\n",
       "   'fields': {'ebike': 0,\n",
       "    'capacity': 30,\n",
       "    'name': 'Mairie du 12ème',\n",
       "    'nom_arrondissement_communes': 'Paris',\n",
       "    'numbikesavailable': 3,\n",
       "    'is_installed': 'OUI',\n",
       "    'is_renting': 'OUI',\n",
       "    'mechanical': 3,\n",
       "    'stationcode': '12109',\n",
       "    'coordonnees_geo': [48.8408553118, 2.38755494356],\n",
       "    'numdocksavailable': 27,\n",
       "    'duedate': '2021-03-29T12:48:43+00:00',\n",
       "    'is_returning': 'OUI'},\n",
       "   'geometry': {'type': 'Point',\n",
       "    'coordinates': [2.38755494356, 48.8408553118]},\n",
       "   'record_timestamp': '2021-03-29T13:39:00.469000+00:00'},\n",
       "  {'datasetid': 'velib-disponibilite-en-temps-reel',\n",
       "   'recordid': 'e208d1615652a5427cbc0cf9befa658dac3d6b10',\n",
       "   'fields': {'ebike': 11,\n",
       "    'capacity': 46,\n",
       "    'name': 'Harpe - Saint-Germain',\n",
       "    'nom_arrondissement_communes': 'Paris',\n",
       "    'numbikesavailable': 27,\n",
       "    'is_installed': 'OUI',\n",
       "    'is_renting': 'OUI',\n",
       "    'mechanical': 16,\n",
       "    'stationcode': '5001',\n",
       "    'coordonnees_geo': [48.851518815, 2.34367031604],\n",
       "    'numdocksavailable': 16,\n",
       "    'duedate': '2021-03-29T12:48:44+00:00',\n",
       "    'is_returning': 'OUI'},\n",
       "   'geometry': {'type': 'Point', 'coordinates': [2.34367031604, 48.851518815]},\n",
       "   'record_timestamp': '2021-03-29T13:39:00.469000+00:00'},\n",
       "  {'datasetid': 'velib-disponibilite-en-temps-reel',\n",
       "   'recordid': '85101add63d3280ffb804bf42ee14c34c769e420',\n",
       "   'fields': {'ebike': 4,\n",
       "    'capacity': 60,\n",
       "    'name': 'Alibert - Jemmapes',\n",
       "    'nom_arrondissement_communes': 'Paris',\n",
       "    'numbikesavailable': 13,\n",
       "    'is_installed': 'OUI',\n",
       "    'is_renting': 'OUI',\n",
       "    'mechanical': 9,\n",
       "    'stationcode': '10013',\n",
       "    'coordonnees_geo': [48.871044052, 2.36610446199],\n",
       "    'numdocksavailable': 43,\n",
       "    'duedate': '2021-03-29T12:49:17+00:00',\n",
       "    'is_returning': 'OUI'},\n",
       "   'geometry': {'type': 'Point', 'coordinates': [2.36610446199, 48.871044052]},\n",
       "   'record_timestamp': '2021-03-29T13:39:00.469000+00:00'},\n",
       "  {'datasetid': 'velib-disponibilite-en-temps-reel',\n",
       "   'recordid': 'b5b81df9fb6fd64faee7f853b7f639b1d48b6f61',\n",
       "   'fields': {'ebike': 0,\n",
       "    'capacity': 25,\n",
       "    'name': 'Cassini - Denfert-Rochereau',\n",
       "    'nom_arrondissement_communes': 'Paris',\n",
       "    'numbikesavailable': 5,\n",
       "    'is_installed': 'OUI',\n",
       "    'is_renting': 'OUI',\n",
       "    'mechanical': 5,\n",
       "    'stationcode': '14111',\n",
       "    'coordonnees_geo': [48.8375258391, 2.33603540808],\n",
       "    'numdocksavailable': 19,\n",
       "    'duedate': '2021-03-29T12:44:10+00:00',\n",
       "    'is_returning': 'OUI'},\n",
       "   'geometry': {'type': 'Point',\n",
       "    'coordinates': [2.33603540808, 48.8375258391]},\n",
       "   'record_timestamp': '2021-03-29T13:39:00.469000+00:00'},\n",
       "  {'datasetid': 'velib-disponibilite-en-temps-reel',\n",
       "   'recordid': 'a5c076923f4649866a71df22c30177d0b02b8bd8',\n",
       "   'fields': {'ebike': 11,\n",
       "    'capacity': 62,\n",
       "    'name': 'Grande Armée - Brunel',\n",
       "    'nom_arrondissement_communes': 'Paris',\n",
       "    'numbikesavailable': 15,\n",
       "    'is_installed': 'OUI',\n",
       "    'is_renting': 'OUI',\n",
       "    'mechanical': 4,\n",
       "    'stationcode': '17038',\n",
       "    'coordonnees_geo': [48.876116, 2.288124],\n",
       "    'numdocksavailable': 45,\n",
       "    'duedate': '2021-03-29T12:44:47+00:00',\n",
       "    'is_returning': 'OUI'},\n",
       "   'geometry': {'type': 'Point', 'coordinates': [2.288124, 48.876116]},\n",
       "   'record_timestamp': '2021-03-29T13:39:00.469000+00:00'},\n",
       "  {'datasetid': 'velib-disponibilite-en-temps-reel',\n",
       "   'recordid': '49311913bdd1147e9df06ab0e8c5c6317c90cc87',\n",
       "   'fields': {'ebike': 0,\n",
       "    'capacity': 35,\n",
       "    'name': 'Vaneau - Sèvres',\n",
       "    'nom_arrondissement_communes': 'Paris',\n",
       "    'numbikesavailable': 14,\n",
       "    'is_installed': 'OUI',\n",
       "    'is_renting': 'OUI',\n",
       "    'mechanical': 14,\n",
       "    'stationcode': '7002',\n",
       "    'coordonnees_geo': [48.8485632331, 2.32042182593],\n",
       "    'numdocksavailable': 19,\n",
       "    'duedate': '2021-03-29T12:48:32+00:00',\n",
       "    'is_returning': 'OUI'},\n",
       "   'geometry': {'type': 'Point',\n",
       "    'coordinates': [2.32042182593, 48.8485632331]},\n",
       "   'record_timestamp': '2021-03-29T13:39:00.469000+00:00'},\n",
       "  {'datasetid': 'velib-disponibilite-en-temps-reel',\n",
       "   'recordid': 'd67f1bbc18b3de2767da3d50ac41d8e0364176f9',\n",
       "   'fields': {'ebike': 8,\n",
       "    'capacity': 17,\n",
       "    'name': 'Thouin - Cardinal Lemoine',\n",
       "    'nom_arrondissement_communes': 'Paris',\n",
       "    'numbikesavailable': 11,\n",
       "    'is_installed': 'OUI',\n",
       "    'is_renting': 'OUI',\n",
       "    'mechanical': 3,\n",
       "    'stationcode': '5016',\n",
       "    'coordonnees_geo': [48.8450471666, 2.34946478513],\n",
       "    'numdocksavailable': 6,\n",
       "    'duedate': '2021-03-29T12:48:14+00:00',\n",
       "    'is_returning': 'OUI'},\n",
       "   'geometry': {'type': 'Point',\n",
       "    'coordinates': [2.34946478513, 48.8450471666]},\n",
       "   'record_timestamp': '2021-03-29T13:39:00.469000+00:00'},\n",
       "  {'datasetid': 'velib-disponibilite-en-temps-reel',\n",
       "   'recordid': '001c96af551cd580052a16fa25538bfaaa6c75d9',\n",
       "   'fields': {'ebike': 1,\n",
       "    'capacity': 52,\n",
       "    'name': 'Morillons - Dantzig',\n",
       "    'nom_arrondissement_communes': 'Paris',\n",
       "    'numbikesavailable': 5,\n",
       "    'is_installed': 'OUI',\n",
       "    'is_renting': 'OUI',\n",
       "    'mechanical': 4,\n",
       "    'stationcode': '15047',\n",
       "    'coordonnees_geo': [48.8331014995, 2.29938000441],\n",
       "    'numdocksavailable': 46,\n",
       "    'duedate': '2021-03-29T12:49:30+00:00',\n",
       "    'is_returning': 'OUI'},\n",
       "   'geometry': {'type': 'Point',\n",
       "    'coordinates': [2.29938000441, 48.8331014995]},\n",
       "   'record_timestamp': '2021-03-29T13:39:00.469000+00:00'},\n",
       "  {'datasetid': 'velib-disponibilite-en-temps-reel',\n",
       "   'recordid': '236e61213ccdf742fc3a9e5e2f20a79b1a4272a9',\n",
       "   'fields': {'ebike': 3,\n",
       "    'capacity': 34,\n",
       "    'name': 'Croulebarde - Corvisart',\n",
       "    'nom_arrondissement_communes': 'Paris',\n",
       "    'numbikesavailable': 15,\n",
       "    'is_installed': 'OUI',\n",
       "    'is_renting': 'OUI',\n",
       "    'mechanical': 12,\n",
       "    'stationcode': '13101',\n",
       "    'coordonnees_geo': [48.8309816593, 2.34816469252],\n",
       "    'numdocksavailable': 18,\n",
       "    'duedate': '2021-03-29T12:47:18+00:00',\n",
       "    'is_returning': 'OUI'},\n",
       "   'geometry': {'type': 'Point',\n",
       "    'coordinates': [2.34816469252, 48.8309816593]},\n",
       "   'record_timestamp': '2021-03-29T13:39:00.469000+00:00'}]}"
      ]
     },
     "execution_count": 50,
     "metadata": {},
     "output_type": "execute_result"
    }
   ],
   "source": [
    "import requests\n",
    "\n",
    "url = \"https://opendata.paris.fr/api/records/1.0/search/\"\n",
    "par = dict(\n",
    "    dataset = \"velib-disponibilite-en-temps-reel\"\n",
    ")\n",
    "r = requests.get(url = url, params = par)\n",
    "r.json()\n"
   ]
  },
  {
   "cell_type": "markdown",
   "metadata": {},
   "source": [
    "Dans ce résultat, nous voyons qu'il y a 1393 enregistrements à récupérer (`nhits`), et que nous en avons récupérer ici uniquement 10 (`parameters.rows`). Pour avoir les 10 suivants, on doit faire comme ci-dessous"
   ]
  },
  {
   "cell_type": "code",
   "execution_count": 51,
   "metadata": {},
   "outputs": [
    {
     "data": {
      "text/plain": [
       "{'nhits': 1396,\n",
       " 'parameters': {'dataset': 'velib-disponibilite-en-temps-reel',\n",
       "  'timezone': 'UTC',\n",
       "  'rows': 10,\n",
       "  'start': 11,\n",
       "  'format': 'json'},\n",
       " 'records': [{'datasetid': 'velib-disponibilite-en-temps-reel',\n",
       "   'recordid': '9770d9845aa9ddba684a31a15eee22157737b698',\n",
       "   'fields': {'ebike': 3,\n",
       "    'capacity': 44,\n",
       "    'name': 'Ramponeau - Belleville',\n",
       "    'nom_arrondissement_communes': 'Paris',\n",
       "    'numbikesavailable': 4,\n",
       "    'is_installed': 'OUI',\n",
       "    'is_renting': 'OUI',\n",
       "    'mechanical': 1,\n",
       "    'stationcode': '20143',\n",
       "    'coordonnees_geo': [48.8710311376, 2.37905685211],\n",
       "    'numdocksavailable': 39,\n",
       "    'duedate': '2021-03-29T12:49:51+00:00',\n",
       "    'is_returning': 'OUI'},\n",
       "   'geometry': {'type': 'Point',\n",
       "    'coordinates': [2.37905685211, 48.8710311376]},\n",
       "   'record_timestamp': '2021-03-29T13:40:00.505000+00:00'},\n",
       "  {'datasetid': 'velib-disponibilite-en-temps-reel',\n",
       "   'recordid': 'e0830cfa3bbcbfb3659f064f8eb5eeb9eb31f7fd',\n",
       "   'fields': {'ebike': 0,\n",
       "    'capacity': 21,\n",
       "    'name': 'Le Brix et Mesmin - Jourdan',\n",
       "    'nom_arrondissement_communes': 'Paris',\n",
       "    'numbikesavailable': 0,\n",
       "    'is_installed': 'OUI',\n",
       "    'is_renting': 'OUI',\n",
       "    'mechanical': 0,\n",
       "    'stationcode': '14108',\n",
       "    'coordonnees_geo': [48.8223409659, 2.3278616533],\n",
       "    'numdocksavailable': 21,\n",
       "    'duedate': '2021-03-29T12:49:02+00:00',\n",
       "    'is_returning': 'OUI'},\n",
       "   'geometry': {'type': 'Point', 'coordinates': [2.3278616533, 48.8223409659]},\n",
       "   'record_timestamp': '2021-03-29T13:40:00.505000+00:00'},\n",
       "  {'datasetid': 'velib-disponibilite-en-temps-reel',\n",
       "   'recordid': 'f211df17b631fed5330bbd42d8d528dfe9f395d8',\n",
       "   'fields': {'ebike': 2,\n",
       "    'capacity': 20,\n",
       "    'name': 'Liberté - Vert-de-Maisons',\n",
       "    'nom_arrondissement_communes': 'Maisons-Alfort',\n",
       "    'numbikesavailable': 6,\n",
       "    'is_installed': 'OUI',\n",
       "    'is_renting': 'OUI',\n",
       "    'mechanical': 4,\n",
       "    'stationcode': '47007',\n",
       "    'coordonnees_geo': [48.7901478096, 2.43286281824],\n",
       "    'numdocksavailable': 14,\n",
       "    'duedate': '2021-03-29T12:42:07+00:00',\n",
       "    'is_returning': 'OUI'},\n",
       "   'geometry': {'type': 'Point',\n",
       "    'coordinates': [2.43286281824, 48.7901478096]},\n",
       "   'record_timestamp': '2021-03-29T13:40:00.505000+00:00'},\n",
       "  {'datasetid': 'velib-disponibilite-en-temps-reel',\n",
       "   'recordid': '57de3b60f1d3c0e6e74c53916ec6ece6ed9052ac',\n",
       "   'fields': {'ebike': 6,\n",
       "    'capacity': 33,\n",
       "    'name': 'Bir Hakeim',\n",
       "    'nom_arrondissement_communes': 'Paris',\n",
       "    'numbikesavailable': 26,\n",
       "    'is_installed': 'OUI',\n",
       "    'is_renting': 'OUI',\n",
       "    'mechanical': 20,\n",
       "    'stationcode': '15026',\n",
       "    'coordonnees_geo': [48.8538440543, 2.28970534822],\n",
       "    'numdocksavailable': 6,\n",
       "    'duedate': '2021-03-29T12:49:53+00:00',\n",
       "    'is_returning': 'OUI'},\n",
       "   'geometry': {'type': 'Point',\n",
       "    'coordinates': [2.28970534822, 48.8538440543]},\n",
       "   'record_timestamp': '2021-03-29T13:40:00.505000+00:00'},\n",
       "  {'datasetid': 'velib-disponibilite-en-temps-reel',\n",
       "   'recordid': 'f636a3fa295ec37cd3f465099947aea7e3ced8cb',\n",
       "   'fields': {'ebike': 6,\n",
       "    'capacity': 30,\n",
       "    'name': \"Jules Guesde - Pont du Port à l'Anglais\",\n",
       "    'nom_arrondissement_communes': 'Vitry-sur-Seine',\n",
       "    'numbikesavailable': 19,\n",
       "    'is_installed': 'OUI',\n",
       "    'is_renting': 'OUI',\n",
       "    'mechanical': 13,\n",
       "    'stationcode': '44017',\n",
       "    'coordonnees_geo': [48.7962880709, 2.41721212864],\n",
       "    'numdocksavailable': 10,\n",
       "    'duedate': '2021-03-29T12:50:00+00:00',\n",
       "    'is_returning': 'OUI'},\n",
       "   'geometry': {'type': 'Point',\n",
       "    'coordinates': [2.41721212864, 48.7962880709]},\n",
       "   'record_timestamp': '2021-03-29T13:40:00.505000+00:00'},\n",
       "  {'datasetid': 'velib-disponibilite-en-temps-reel',\n",
       "   'recordid': '9b917df23721275acf9386344724377ab788cb7a',\n",
       "   'fields': {'ebike': 0,\n",
       "    'capacity': 26,\n",
       "    'name': 'Michel-Ange - Parent de Rosan',\n",
       "    'nom_arrondissement_communes': 'Paris',\n",
       "    'numbikesavailable': 1,\n",
       "    'is_installed': 'OUI',\n",
       "    'is_renting': 'OUI',\n",
       "    'mechanical': 1,\n",
       "    'stationcode': '16118',\n",
       "    'coordonnees_geo': [48.8405799237, 2.25841194391],\n",
       "    'numdocksavailable': 25,\n",
       "    'duedate': '2021-03-29T12:47:41+00:00',\n",
       "    'is_returning': 'OUI'},\n",
       "   'geometry': {'type': 'Point',\n",
       "    'coordinates': [2.25841194391, 48.8405799237]},\n",
       "   'record_timestamp': '2021-03-29T13:40:00.505000+00:00'},\n",
       "  {'datasetid': 'velib-disponibilite-en-temps-reel',\n",
       "   'recordid': '10b322d7068b19b6a1dc8cf762d016721074d328',\n",
       "   'fields': {'ebike': 3,\n",
       "    'capacity': 30,\n",
       "    'name': 'Saint-Cloud - Hippodrome',\n",
       "    'nom_arrondissement_communes': 'Paris',\n",
       "    'numbikesavailable': 9,\n",
       "    'is_installed': 'OUI',\n",
       "    'is_renting': 'OUI',\n",
       "    'mechanical': 6,\n",
       "    'stationcode': '16138',\n",
       "    'coordonnees_geo': [48.8577214889, 2.2549109906],\n",
       "    'numdocksavailable': 21,\n",
       "    'duedate': '2021-03-29T12:40:54+00:00',\n",
       "    'is_returning': 'OUI'},\n",
       "   'geometry': {'type': 'Point', 'coordinates': [2.2549109906, 48.8577214889]},\n",
       "   'record_timestamp': '2021-03-29T13:40:00.505000+00:00'},\n",
       "  {'datasetid': 'velib-disponibilite-en-temps-reel',\n",
       "   'recordid': 'b9512ba73549f09f1a4ea6ba5acd3e5491b7d119',\n",
       "   'fields': {'ebike': 0,\n",
       "    'capacity': 25,\n",
       "    'name': 'Louis Lejeune - Barbès',\n",
       "    'nom_arrondissement_communes': 'Montrouge',\n",
       "    'numbikesavailable': 6,\n",
       "    'is_installed': 'OUI',\n",
       "    'is_renting': 'OUI',\n",
       "    'mechanical': 6,\n",
       "    'stationcode': '21216',\n",
       "    'coordonnees_geo': [48.8180741898, 2.32670098543],\n",
       "    'numdocksavailable': 19,\n",
       "    'duedate': '2021-03-29T12:45:56+00:00',\n",
       "    'is_returning': 'OUI'},\n",
       "   'geometry': {'type': 'Point',\n",
       "    'coordinates': [2.32670098543, 48.8180741898]},\n",
       "   'record_timestamp': '2021-03-29T13:40:00.505000+00:00'},\n",
       "  {'datasetid': 'velib-disponibilite-en-temps-reel',\n",
       "   'recordid': 'ff33e30b3135971f9bc6f4c622f66b731ea71cf7',\n",
       "   'fields': {'ebike': 1,\n",
       "    'capacity': 16,\n",
       "    'name': 'Général Martial Valin - Pont du Garigliano',\n",
       "    'nom_arrondissement_communes': 'Paris',\n",
       "    'numbikesavailable': 6,\n",
       "    'is_installed': 'OUI',\n",
       "    'is_renting': 'OUI',\n",
       "    'mechanical': 5,\n",
       "    'stationcode': '15068',\n",
       "    'coordonnees_geo': [48.8382309427, 2.27050602436],\n",
       "    'numdocksavailable': 10,\n",
       "    'duedate': '2021-03-29T12:49:34+00:00',\n",
       "    'is_returning': 'OUI'},\n",
       "   'geometry': {'type': 'Point',\n",
       "    'coordinates': [2.27050602436, 48.8382309427]},\n",
       "   'record_timestamp': '2021-03-29T13:40:00.505000+00:00'},\n",
       "  {'datasetid': 'velib-disponibilite-en-temps-reel',\n",
       "   'recordid': 'ec08bd53d41e0d9cb0f7c87426938d1fc677c7c3',\n",
       "   'fields': {'ebike': 9,\n",
       "    'capacity': 33,\n",
       "    'name': 'Boétie - Ponthieu',\n",
       "    'nom_arrondissement_communes': 'Paris',\n",
       "    'numbikesavailable': 32,\n",
       "    'is_installed': 'OUI',\n",
       "    'is_renting': 'OUI',\n",
       "    'mechanical': 23,\n",
       "    'stationcode': '8050',\n",
       "    'coordonnees_geo': [48.8714172844, 2.3076787591],\n",
       "    'numdocksavailable': 1,\n",
       "    'duedate': '2021-03-29T12:50:01+00:00',\n",
       "    'is_returning': 'OUI'},\n",
       "   'geometry': {'type': 'Point', 'coordinates': [2.3076787591, 48.8714172844]},\n",
       "   'record_timestamp': '2021-03-29T13:40:00.505000+00:00'}]}"
      ]
     },
     "execution_count": 51,
     "metadata": {},
     "output_type": "execute_result"
    }
   ],
   "source": [
    "par = dict(\n",
    "    dataset = \"velib-disponibilite-en-temps-reel\",\n",
    "    start = 11\n",
    ")\n",
    "rsuite = requests.get(url = url, params = par)\n",
    "rsuite.json()"
   ]
  },
  {
   "cell_type": "markdown",
   "metadata": {},
   "source": [
    "Ce qui nous intéresse ici est le champ `records`, qui contient les enregistrements de 10 premières stations donc. En le transformant en data frame avec `pandas`, on voit que le tableau obtenu n'est pas très lisible."
   ]
  },
  {
   "cell_type": "code",
   "execution_count": 52,
   "metadata": {},
   "outputs": [
    {
     "data": {
      "text/html": [
       "<div>\n",
       "<style scoped>\n",
       "    .dataframe tbody tr th:only-of-type {\n",
       "        vertical-align: middle;\n",
       "    }\n",
       "\n",
       "    .dataframe tbody tr th {\n",
       "        vertical-align: top;\n",
       "    }\n",
       "\n",
       "    .dataframe thead th {\n",
       "        text-align: right;\n",
       "    }\n",
       "</style>\n",
       "<table border=\"1\" class=\"dataframe\">\n",
       "  <thead>\n",
       "    <tr style=\"text-align: right;\">\n",
       "      <th></th>\n",
       "      <th>datasetid</th>\n",
       "      <th>recordid</th>\n",
       "      <th>fields</th>\n",
       "      <th>geometry</th>\n",
       "      <th>record_timestamp</th>\n",
       "    </tr>\n",
       "  </thead>\n",
       "  <tbody>\n",
       "    <tr>\n",
       "      <th>0</th>\n",
       "      <td>velib-disponibilite-en-temps-reel</td>\n",
       "      <td>5e1bb05303b7aae294afd812ec4a581cc033e909</td>\n",
       "      <td>{'ebike': 5, 'capacity': 55, 'name': 'André Ma...</td>\n",
       "      <td>{'type': 'Point', 'coordinates': [2.3390958085...</td>\n",
       "      <td>2021-03-29T13:39:00.469000+00:00</td>\n",
       "    </tr>\n",
       "    <tr>\n",
       "      <th>1</th>\n",
       "      <td>velib-disponibilite-en-temps-reel</td>\n",
       "      <td>713afacf0d05062badbf19c60addbbb346215ee6</td>\n",
       "      <td>{'ebike': 0, 'capacity': 30, 'name': 'Mairie d...</td>\n",
       "      <td>{'type': 'Point', 'coordinates': [2.3875549435...</td>\n",
       "      <td>2021-03-29T13:39:00.469000+00:00</td>\n",
       "    </tr>\n",
       "    <tr>\n",
       "      <th>2</th>\n",
       "      <td>velib-disponibilite-en-temps-reel</td>\n",
       "      <td>e208d1615652a5427cbc0cf9befa658dac3d6b10</td>\n",
       "      <td>{'ebike': 11, 'capacity': 46, 'name': 'Harpe -...</td>\n",
       "      <td>{'type': 'Point', 'coordinates': [2.3436703160...</td>\n",
       "      <td>2021-03-29T13:39:00.469000+00:00</td>\n",
       "    </tr>\n",
       "    <tr>\n",
       "      <th>3</th>\n",
       "      <td>velib-disponibilite-en-temps-reel</td>\n",
       "      <td>85101add63d3280ffb804bf42ee14c34c769e420</td>\n",
       "      <td>{'ebike': 4, 'capacity': 60, 'name': 'Alibert ...</td>\n",
       "      <td>{'type': 'Point', 'coordinates': [2.3661044619...</td>\n",
       "      <td>2021-03-29T13:39:00.469000+00:00</td>\n",
       "    </tr>\n",
       "    <tr>\n",
       "      <th>4</th>\n",
       "      <td>velib-disponibilite-en-temps-reel</td>\n",
       "      <td>b5b81df9fb6fd64faee7f853b7f639b1d48b6f61</td>\n",
       "      <td>{'ebike': 0, 'capacity': 25, 'name': 'Cassini ...</td>\n",
       "      <td>{'type': 'Point', 'coordinates': [2.3360354080...</td>\n",
       "      <td>2021-03-29T13:39:00.469000+00:00</td>\n",
       "    </tr>\n",
       "    <tr>\n",
       "      <th>5</th>\n",
       "      <td>velib-disponibilite-en-temps-reel</td>\n",
       "      <td>a5c076923f4649866a71df22c30177d0b02b8bd8</td>\n",
       "      <td>{'ebike': 11, 'capacity': 62, 'name': 'Grande ...</td>\n",
       "      <td>{'type': 'Point', 'coordinates': [2.288124, 48...</td>\n",
       "      <td>2021-03-29T13:39:00.469000+00:00</td>\n",
       "    </tr>\n",
       "    <tr>\n",
       "      <th>6</th>\n",
       "      <td>velib-disponibilite-en-temps-reel</td>\n",
       "      <td>49311913bdd1147e9df06ab0e8c5c6317c90cc87</td>\n",
       "      <td>{'ebike': 0, 'capacity': 35, 'name': 'Vaneau -...</td>\n",
       "      <td>{'type': 'Point', 'coordinates': [2.3204218259...</td>\n",
       "      <td>2021-03-29T13:39:00.469000+00:00</td>\n",
       "    </tr>\n",
       "    <tr>\n",
       "      <th>7</th>\n",
       "      <td>velib-disponibilite-en-temps-reel</td>\n",
       "      <td>d67f1bbc18b3de2767da3d50ac41d8e0364176f9</td>\n",
       "      <td>{'ebike': 8, 'capacity': 17, 'name': 'Thouin -...</td>\n",
       "      <td>{'type': 'Point', 'coordinates': [2.3494647851...</td>\n",
       "      <td>2021-03-29T13:39:00.469000+00:00</td>\n",
       "    </tr>\n",
       "    <tr>\n",
       "      <th>8</th>\n",
       "      <td>velib-disponibilite-en-temps-reel</td>\n",
       "      <td>001c96af551cd580052a16fa25538bfaaa6c75d9</td>\n",
       "      <td>{'ebike': 1, 'capacity': 52, 'name': 'Morillon...</td>\n",
       "      <td>{'type': 'Point', 'coordinates': [2.2993800044...</td>\n",
       "      <td>2021-03-29T13:39:00.469000+00:00</td>\n",
       "    </tr>\n",
       "    <tr>\n",
       "      <th>9</th>\n",
       "      <td>velib-disponibilite-en-temps-reel</td>\n",
       "      <td>236e61213ccdf742fc3a9e5e2f20a79b1a4272a9</td>\n",
       "      <td>{'ebike': 3, 'capacity': 34, 'name': 'Crouleba...</td>\n",
       "      <td>{'type': 'Point', 'coordinates': [2.3481646925...</td>\n",
       "      <td>2021-03-29T13:39:00.469000+00:00</td>\n",
       "    </tr>\n",
       "  </tbody>\n",
       "</table>\n",
       "</div>"
      ],
      "text/plain": [
       "                           datasetid  \\\n",
       "0  velib-disponibilite-en-temps-reel   \n",
       "1  velib-disponibilite-en-temps-reel   \n",
       "2  velib-disponibilite-en-temps-reel   \n",
       "3  velib-disponibilite-en-temps-reel   \n",
       "4  velib-disponibilite-en-temps-reel   \n",
       "5  velib-disponibilite-en-temps-reel   \n",
       "6  velib-disponibilite-en-temps-reel   \n",
       "7  velib-disponibilite-en-temps-reel   \n",
       "8  velib-disponibilite-en-temps-reel   \n",
       "9  velib-disponibilite-en-temps-reel   \n",
       "\n",
       "                                   recordid  \\\n",
       "0  5e1bb05303b7aae294afd812ec4a581cc033e909   \n",
       "1  713afacf0d05062badbf19c60addbbb346215ee6   \n",
       "2  e208d1615652a5427cbc0cf9befa658dac3d6b10   \n",
       "3  85101add63d3280ffb804bf42ee14c34c769e420   \n",
       "4  b5b81df9fb6fd64faee7f853b7f639b1d48b6f61   \n",
       "5  a5c076923f4649866a71df22c30177d0b02b8bd8   \n",
       "6  49311913bdd1147e9df06ab0e8c5c6317c90cc87   \n",
       "7  d67f1bbc18b3de2767da3d50ac41d8e0364176f9   \n",
       "8  001c96af551cd580052a16fa25538bfaaa6c75d9   \n",
       "9  236e61213ccdf742fc3a9e5e2f20a79b1a4272a9   \n",
       "\n",
       "                                              fields  \\\n",
       "0  {'ebike': 5, 'capacity': 55, 'name': 'André Ma...   \n",
       "1  {'ebike': 0, 'capacity': 30, 'name': 'Mairie d...   \n",
       "2  {'ebike': 11, 'capacity': 46, 'name': 'Harpe -...   \n",
       "3  {'ebike': 4, 'capacity': 60, 'name': 'Alibert ...   \n",
       "4  {'ebike': 0, 'capacity': 25, 'name': 'Cassini ...   \n",
       "5  {'ebike': 11, 'capacity': 62, 'name': 'Grande ...   \n",
       "6  {'ebike': 0, 'capacity': 35, 'name': 'Vaneau -...   \n",
       "7  {'ebike': 8, 'capacity': 17, 'name': 'Thouin -...   \n",
       "8  {'ebike': 1, 'capacity': 52, 'name': 'Morillon...   \n",
       "9  {'ebike': 3, 'capacity': 34, 'name': 'Crouleba...   \n",
       "\n",
       "                                            geometry  \\\n",
       "0  {'type': 'Point', 'coordinates': [2.3390958085...   \n",
       "1  {'type': 'Point', 'coordinates': [2.3875549435...   \n",
       "2  {'type': 'Point', 'coordinates': [2.3436703160...   \n",
       "3  {'type': 'Point', 'coordinates': [2.3661044619...   \n",
       "4  {'type': 'Point', 'coordinates': [2.3360354080...   \n",
       "5  {'type': 'Point', 'coordinates': [2.288124, 48...   \n",
       "6  {'type': 'Point', 'coordinates': [2.3204218259...   \n",
       "7  {'type': 'Point', 'coordinates': [2.3494647851...   \n",
       "8  {'type': 'Point', 'coordinates': [2.2993800044...   \n",
       "9  {'type': 'Point', 'coordinates': [2.3481646925...   \n",
       "\n",
       "                   record_timestamp  \n",
       "0  2021-03-29T13:39:00.469000+00:00  \n",
       "1  2021-03-29T13:39:00.469000+00:00  \n",
       "2  2021-03-29T13:39:00.469000+00:00  \n",
       "3  2021-03-29T13:39:00.469000+00:00  \n",
       "4  2021-03-29T13:39:00.469000+00:00  \n",
       "5  2021-03-29T13:39:00.469000+00:00  \n",
       "6  2021-03-29T13:39:00.469000+00:00  \n",
       "7  2021-03-29T13:39:00.469000+00:00  \n",
       "8  2021-03-29T13:39:00.469000+00:00  \n",
       "9  2021-03-29T13:39:00.469000+00:00  "
      ]
     },
     "execution_count": 52,
     "metadata": {},
     "output_type": "execute_result"
    }
   ],
   "source": [
    "records = r.json()['records']\n",
    "df = pandas.DataFrame(records)\n",
    "\n",
    "df"
   ]
  },
  {
   "cell_type": "markdown",
   "metadata": {},
   "source": [
    "On souhaite finalement se restreindre qu'aux informations contenues dans le champs `fields`. Pour cela, on utilise le mécanisme de *dict comprehension*."
   ]
  },
  {
   "cell_type": "code",
   "execution_count": 53,
   "metadata": {},
   "outputs": [
    {
     "data": {
      "text/html": [
       "<div>\n",
       "<style scoped>\n",
       "    .dataframe tbody tr th:only-of-type {\n",
       "        vertical-align: middle;\n",
       "    }\n",
       "\n",
       "    .dataframe tbody tr th {\n",
       "        vertical-align: top;\n",
       "    }\n",
       "\n",
       "    .dataframe thead th {\n",
       "        text-align: right;\n",
       "    }\n",
       "</style>\n",
       "<table border=\"1\" class=\"dataframe\">\n",
       "  <thead>\n",
       "    <tr style=\"text-align: right;\">\n",
       "      <th></th>\n",
       "      <th>ebike</th>\n",
       "      <th>capacity</th>\n",
       "      <th>name</th>\n",
       "      <th>nom_arrondissement_communes</th>\n",
       "      <th>numbikesavailable</th>\n",
       "      <th>is_installed</th>\n",
       "      <th>is_renting</th>\n",
       "      <th>mechanical</th>\n",
       "      <th>stationcode</th>\n",
       "      <th>coordonnees_geo</th>\n",
       "      <th>numdocksavailable</th>\n",
       "      <th>duedate</th>\n",
       "      <th>is_returning</th>\n",
       "    </tr>\n",
       "  </thead>\n",
       "  <tbody>\n",
       "    <tr>\n",
       "      <th>0</th>\n",
       "      <td>5</td>\n",
       "      <td>55</td>\n",
       "      <td>André Mazet - Saint-André des Arts</td>\n",
       "      <td>Paris</td>\n",
       "      <td>12</td>\n",
       "      <td>OUI</td>\n",
       "      <td>OUI</td>\n",
       "      <td>7</td>\n",
       "      <td>6015</td>\n",
       "      <td>[48.8537558106, 2.33909580857]</td>\n",
       "      <td>42</td>\n",
       "      <td>2021-03-29T12:49:21+00:00</td>\n",
       "      <td>OUI</td>\n",
       "    </tr>\n",
       "    <tr>\n",
       "      <th>1</th>\n",
       "      <td>0</td>\n",
       "      <td>30</td>\n",
       "      <td>Mairie du 12ème</td>\n",
       "      <td>Paris</td>\n",
       "      <td>3</td>\n",
       "      <td>OUI</td>\n",
       "      <td>OUI</td>\n",
       "      <td>3</td>\n",
       "      <td>12109</td>\n",
       "      <td>[48.8408553118, 2.38755494356]</td>\n",
       "      <td>27</td>\n",
       "      <td>2021-03-29T12:48:43+00:00</td>\n",
       "      <td>OUI</td>\n",
       "    </tr>\n",
       "    <tr>\n",
       "      <th>2</th>\n",
       "      <td>11</td>\n",
       "      <td>46</td>\n",
       "      <td>Harpe - Saint-Germain</td>\n",
       "      <td>Paris</td>\n",
       "      <td>27</td>\n",
       "      <td>OUI</td>\n",
       "      <td>OUI</td>\n",
       "      <td>16</td>\n",
       "      <td>5001</td>\n",
       "      <td>[48.851518815, 2.34367031604]</td>\n",
       "      <td>16</td>\n",
       "      <td>2021-03-29T12:48:44+00:00</td>\n",
       "      <td>OUI</td>\n",
       "    </tr>\n",
       "    <tr>\n",
       "      <th>3</th>\n",
       "      <td>4</td>\n",
       "      <td>60</td>\n",
       "      <td>Alibert - Jemmapes</td>\n",
       "      <td>Paris</td>\n",
       "      <td>13</td>\n",
       "      <td>OUI</td>\n",
       "      <td>OUI</td>\n",
       "      <td>9</td>\n",
       "      <td>10013</td>\n",
       "      <td>[48.871044052, 2.36610446199]</td>\n",
       "      <td>43</td>\n",
       "      <td>2021-03-29T12:49:17+00:00</td>\n",
       "      <td>OUI</td>\n",
       "    </tr>\n",
       "    <tr>\n",
       "      <th>4</th>\n",
       "      <td>0</td>\n",
       "      <td>25</td>\n",
       "      <td>Cassini - Denfert-Rochereau</td>\n",
       "      <td>Paris</td>\n",
       "      <td>5</td>\n",
       "      <td>OUI</td>\n",
       "      <td>OUI</td>\n",
       "      <td>5</td>\n",
       "      <td>14111</td>\n",
       "      <td>[48.8375258391, 2.33603540808]</td>\n",
       "      <td>19</td>\n",
       "      <td>2021-03-29T12:44:10+00:00</td>\n",
       "      <td>OUI</td>\n",
       "    </tr>\n",
       "    <tr>\n",
       "      <th>5</th>\n",
       "      <td>11</td>\n",
       "      <td>62</td>\n",
       "      <td>Grande Armée - Brunel</td>\n",
       "      <td>Paris</td>\n",
       "      <td>15</td>\n",
       "      <td>OUI</td>\n",
       "      <td>OUI</td>\n",
       "      <td>4</td>\n",
       "      <td>17038</td>\n",
       "      <td>[48.876116, 2.288124]</td>\n",
       "      <td>45</td>\n",
       "      <td>2021-03-29T12:44:47+00:00</td>\n",
       "      <td>OUI</td>\n",
       "    </tr>\n",
       "    <tr>\n",
       "      <th>6</th>\n",
       "      <td>0</td>\n",
       "      <td>35</td>\n",
       "      <td>Vaneau - Sèvres</td>\n",
       "      <td>Paris</td>\n",
       "      <td>14</td>\n",
       "      <td>OUI</td>\n",
       "      <td>OUI</td>\n",
       "      <td>14</td>\n",
       "      <td>7002</td>\n",
       "      <td>[48.8485632331, 2.32042182593]</td>\n",
       "      <td>19</td>\n",
       "      <td>2021-03-29T12:48:32+00:00</td>\n",
       "      <td>OUI</td>\n",
       "    </tr>\n",
       "    <tr>\n",
       "      <th>7</th>\n",
       "      <td>8</td>\n",
       "      <td>17</td>\n",
       "      <td>Thouin - Cardinal Lemoine</td>\n",
       "      <td>Paris</td>\n",
       "      <td>11</td>\n",
       "      <td>OUI</td>\n",
       "      <td>OUI</td>\n",
       "      <td>3</td>\n",
       "      <td>5016</td>\n",
       "      <td>[48.8450471666, 2.34946478513]</td>\n",
       "      <td>6</td>\n",
       "      <td>2021-03-29T12:48:14+00:00</td>\n",
       "      <td>OUI</td>\n",
       "    </tr>\n",
       "    <tr>\n",
       "      <th>8</th>\n",
       "      <td>1</td>\n",
       "      <td>52</td>\n",
       "      <td>Morillons - Dantzig</td>\n",
       "      <td>Paris</td>\n",
       "      <td>5</td>\n",
       "      <td>OUI</td>\n",
       "      <td>OUI</td>\n",
       "      <td>4</td>\n",
       "      <td>15047</td>\n",
       "      <td>[48.8331014995, 2.29938000441]</td>\n",
       "      <td>46</td>\n",
       "      <td>2021-03-29T12:49:30+00:00</td>\n",
       "      <td>OUI</td>\n",
       "    </tr>\n",
       "    <tr>\n",
       "      <th>9</th>\n",
       "      <td>3</td>\n",
       "      <td>34</td>\n",
       "      <td>Croulebarde - Corvisart</td>\n",
       "      <td>Paris</td>\n",
       "      <td>15</td>\n",
       "      <td>OUI</td>\n",
       "      <td>OUI</td>\n",
       "      <td>12</td>\n",
       "      <td>13101</td>\n",
       "      <td>[48.8309816593, 2.34816469252]</td>\n",
       "      <td>18</td>\n",
       "      <td>2021-03-29T12:47:18+00:00</td>\n",
       "      <td>OUI</td>\n",
       "    </tr>\n",
       "  </tbody>\n",
       "</table>\n",
       "</div>"
      ],
      "text/plain": [
       "   ebike  capacity                                name  \\\n",
       "0      5        55  André Mazet - Saint-André des Arts   \n",
       "1      0        30                     Mairie du 12ème   \n",
       "2     11        46               Harpe - Saint-Germain   \n",
       "3      4        60                  Alibert - Jemmapes   \n",
       "4      0        25         Cassini - Denfert-Rochereau   \n",
       "5     11        62               Grande Armée - Brunel   \n",
       "6      0        35                     Vaneau - Sèvres   \n",
       "7      8        17           Thouin - Cardinal Lemoine   \n",
       "8      1        52                 Morillons - Dantzig   \n",
       "9      3        34             Croulebarde - Corvisart   \n",
       "\n",
       "  nom_arrondissement_communes  numbikesavailable is_installed is_renting  \\\n",
       "0                       Paris                 12          OUI        OUI   \n",
       "1                       Paris                  3          OUI        OUI   \n",
       "2                       Paris                 27          OUI        OUI   \n",
       "3                       Paris                 13          OUI        OUI   \n",
       "4                       Paris                  5          OUI        OUI   \n",
       "5                       Paris                 15          OUI        OUI   \n",
       "6                       Paris                 14          OUI        OUI   \n",
       "7                       Paris                 11          OUI        OUI   \n",
       "8                       Paris                  5          OUI        OUI   \n",
       "9                       Paris                 15          OUI        OUI   \n",
       "\n",
       "   mechanical stationcode                 coordonnees_geo  numdocksavailable  \\\n",
       "0           7        6015  [48.8537558106, 2.33909580857]                 42   \n",
       "1           3       12109  [48.8408553118, 2.38755494356]                 27   \n",
       "2          16        5001   [48.851518815, 2.34367031604]                 16   \n",
       "3           9       10013   [48.871044052, 2.36610446199]                 43   \n",
       "4           5       14111  [48.8375258391, 2.33603540808]                 19   \n",
       "5           4       17038           [48.876116, 2.288124]                 45   \n",
       "6          14        7002  [48.8485632331, 2.32042182593]                 19   \n",
       "7           3        5016  [48.8450471666, 2.34946478513]                  6   \n",
       "8           4       15047  [48.8331014995, 2.29938000441]                 46   \n",
       "9          12       13101  [48.8309816593, 2.34816469252]                 18   \n",
       "\n",
       "                     duedate is_returning  \n",
       "0  2021-03-29T12:49:21+00:00          OUI  \n",
       "1  2021-03-29T12:48:43+00:00          OUI  \n",
       "2  2021-03-29T12:48:44+00:00          OUI  \n",
       "3  2021-03-29T12:49:17+00:00          OUI  \n",
       "4  2021-03-29T12:44:10+00:00          OUI  \n",
       "5  2021-03-29T12:44:47+00:00          OUI  \n",
       "6  2021-03-29T12:48:32+00:00          OUI  \n",
       "7  2021-03-29T12:48:14+00:00          OUI  \n",
       "8  2021-03-29T12:49:30+00:00          OUI  \n",
       "9  2021-03-29T12:47:18+00:00          OUI  "
      ]
     },
     "execution_count": 53,
     "metadata": {},
     "output_type": "execute_result"
    }
   ],
   "source": [
    "pandas.DataFrame([s['fields'] for s in records])"
   ]
  },
  {
   "cell_type": "markdown",
   "metadata": {},
   "source": [
    "Ici, la colonne `station` ne nous est pas utile (les informations dedans sont déjà présentes). Toujours le même mécanisme de *list comprehension*, on peut la supprimer du résultat."
   ]
  },
  {
   "cell_type": "code",
   "execution_count": 54,
   "metadata": {},
   "outputs": [
    {
     "data": {
      "text/html": [
       "<div>\n",
       "<style scoped>\n",
       "    .dataframe tbody tr th:only-of-type {\n",
       "        vertical-align: middle;\n",
       "    }\n",
       "\n",
       "    .dataframe tbody tr th {\n",
       "        vertical-align: top;\n",
       "    }\n",
       "\n",
       "    .dataframe thead th {\n",
       "        text-align: right;\n",
       "    }\n",
       "</style>\n",
       "<table border=\"1\" class=\"dataframe\">\n",
       "  <thead>\n",
       "    <tr style=\"text-align: right;\">\n",
       "      <th></th>\n",
       "      <th>ebike</th>\n",
       "      <th>capacity</th>\n",
       "      <th>name</th>\n",
       "      <th>nom_arrondissement_communes</th>\n",
       "      <th>numbikesavailable</th>\n",
       "      <th>is_installed</th>\n",
       "      <th>is_renting</th>\n",
       "      <th>mechanical</th>\n",
       "      <th>stationcode</th>\n",
       "      <th>coordonnees_geo</th>\n",
       "      <th>numdocksavailable</th>\n",
       "      <th>duedate</th>\n",
       "      <th>is_returning</th>\n",
       "    </tr>\n",
       "  </thead>\n",
       "  <tbody>\n",
       "    <tr>\n",
       "      <th>0</th>\n",
       "      <td>5</td>\n",
       "      <td>55</td>\n",
       "      <td>André Mazet - Saint-André des Arts</td>\n",
       "      <td>Paris</td>\n",
       "      <td>12</td>\n",
       "      <td>OUI</td>\n",
       "      <td>OUI</td>\n",
       "      <td>7</td>\n",
       "      <td>6015</td>\n",
       "      <td>[48.8537558106, 2.33909580857]</td>\n",
       "      <td>42</td>\n",
       "      <td>2021-03-29T12:49:21+00:00</td>\n",
       "      <td>OUI</td>\n",
       "    </tr>\n",
       "    <tr>\n",
       "      <th>1</th>\n",
       "      <td>0</td>\n",
       "      <td>30</td>\n",
       "      <td>Mairie du 12ème</td>\n",
       "      <td>Paris</td>\n",
       "      <td>3</td>\n",
       "      <td>OUI</td>\n",
       "      <td>OUI</td>\n",
       "      <td>3</td>\n",
       "      <td>12109</td>\n",
       "      <td>[48.8408553118, 2.38755494356]</td>\n",
       "      <td>27</td>\n",
       "      <td>2021-03-29T12:48:43+00:00</td>\n",
       "      <td>OUI</td>\n",
       "    </tr>\n",
       "    <tr>\n",
       "      <th>2</th>\n",
       "      <td>11</td>\n",
       "      <td>46</td>\n",
       "      <td>Harpe - Saint-Germain</td>\n",
       "      <td>Paris</td>\n",
       "      <td>27</td>\n",
       "      <td>OUI</td>\n",
       "      <td>OUI</td>\n",
       "      <td>16</td>\n",
       "      <td>5001</td>\n",
       "      <td>[48.851518815, 2.34367031604]</td>\n",
       "      <td>16</td>\n",
       "      <td>2021-03-29T12:48:44+00:00</td>\n",
       "      <td>OUI</td>\n",
       "    </tr>\n",
       "    <tr>\n",
       "      <th>3</th>\n",
       "      <td>4</td>\n",
       "      <td>60</td>\n",
       "      <td>Alibert - Jemmapes</td>\n",
       "      <td>Paris</td>\n",
       "      <td>13</td>\n",
       "      <td>OUI</td>\n",
       "      <td>OUI</td>\n",
       "      <td>9</td>\n",
       "      <td>10013</td>\n",
       "      <td>[48.871044052, 2.36610446199]</td>\n",
       "      <td>43</td>\n",
       "      <td>2021-03-29T12:49:17+00:00</td>\n",
       "      <td>OUI</td>\n",
       "    </tr>\n",
       "    <tr>\n",
       "      <th>4</th>\n",
       "      <td>0</td>\n",
       "      <td>25</td>\n",
       "      <td>Cassini - Denfert-Rochereau</td>\n",
       "      <td>Paris</td>\n",
       "      <td>5</td>\n",
       "      <td>OUI</td>\n",
       "      <td>OUI</td>\n",
       "      <td>5</td>\n",
       "      <td>14111</td>\n",
       "      <td>[48.8375258391, 2.33603540808]</td>\n",
       "      <td>19</td>\n",
       "      <td>2021-03-29T12:44:10+00:00</td>\n",
       "      <td>OUI</td>\n",
       "    </tr>\n",
       "    <tr>\n",
       "      <th>5</th>\n",
       "      <td>11</td>\n",
       "      <td>62</td>\n",
       "      <td>Grande Armée - Brunel</td>\n",
       "      <td>Paris</td>\n",
       "      <td>15</td>\n",
       "      <td>OUI</td>\n",
       "      <td>OUI</td>\n",
       "      <td>4</td>\n",
       "      <td>17038</td>\n",
       "      <td>[48.876116, 2.288124]</td>\n",
       "      <td>45</td>\n",
       "      <td>2021-03-29T12:44:47+00:00</td>\n",
       "      <td>OUI</td>\n",
       "    </tr>\n",
       "    <tr>\n",
       "      <th>6</th>\n",
       "      <td>0</td>\n",
       "      <td>35</td>\n",
       "      <td>Vaneau - Sèvres</td>\n",
       "      <td>Paris</td>\n",
       "      <td>14</td>\n",
       "      <td>OUI</td>\n",
       "      <td>OUI</td>\n",
       "      <td>14</td>\n",
       "      <td>7002</td>\n",
       "      <td>[48.8485632331, 2.32042182593]</td>\n",
       "      <td>19</td>\n",
       "      <td>2021-03-29T12:48:32+00:00</td>\n",
       "      <td>OUI</td>\n",
       "    </tr>\n",
       "    <tr>\n",
       "      <th>7</th>\n",
       "      <td>8</td>\n",
       "      <td>17</td>\n",
       "      <td>Thouin - Cardinal Lemoine</td>\n",
       "      <td>Paris</td>\n",
       "      <td>11</td>\n",
       "      <td>OUI</td>\n",
       "      <td>OUI</td>\n",
       "      <td>3</td>\n",
       "      <td>5016</td>\n",
       "      <td>[48.8450471666, 2.34946478513]</td>\n",
       "      <td>6</td>\n",
       "      <td>2021-03-29T12:48:14+00:00</td>\n",
       "      <td>OUI</td>\n",
       "    </tr>\n",
       "    <tr>\n",
       "      <th>8</th>\n",
       "      <td>1</td>\n",
       "      <td>52</td>\n",
       "      <td>Morillons - Dantzig</td>\n",
       "      <td>Paris</td>\n",
       "      <td>5</td>\n",
       "      <td>OUI</td>\n",
       "      <td>OUI</td>\n",
       "      <td>4</td>\n",
       "      <td>15047</td>\n",
       "      <td>[48.8331014995, 2.29938000441]</td>\n",
       "      <td>46</td>\n",
       "      <td>2021-03-29T12:49:30+00:00</td>\n",
       "      <td>OUI</td>\n",
       "    </tr>\n",
       "    <tr>\n",
       "      <th>9</th>\n",
       "      <td>3</td>\n",
       "      <td>34</td>\n",
       "      <td>Croulebarde - Corvisart</td>\n",
       "      <td>Paris</td>\n",
       "      <td>15</td>\n",
       "      <td>OUI</td>\n",
       "      <td>OUI</td>\n",
       "      <td>12</td>\n",
       "      <td>13101</td>\n",
       "      <td>[48.8309816593, 2.34816469252]</td>\n",
       "      <td>18</td>\n",
       "      <td>2021-03-29T12:47:18+00:00</td>\n",
       "      <td>OUI</td>\n",
       "    </tr>\n",
       "  </tbody>\n",
       "</table>\n",
       "</div>"
      ],
      "text/plain": [
       "   ebike  capacity                                name  \\\n",
       "0      5        55  André Mazet - Saint-André des Arts   \n",
       "1      0        30                     Mairie du 12ème   \n",
       "2     11        46               Harpe - Saint-Germain   \n",
       "3      4        60                  Alibert - Jemmapes   \n",
       "4      0        25         Cassini - Denfert-Rochereau   \n",
       "5     11        62               Grande Armée - Brunel   \n",
       "6      0        35                     Vaneau - Sèvres   \n",
       "7      8        17           Thouin - Cardinal Lemoine   \n",
       "8      1        52                 Morillons - Dantzig   \n",
       "9      3        34             Croulebarde - Corvisart   \n",
       "\n",
       "  nom_arrondissement_communes  numbikesavailable is_installed is_renting  \\\n",
       "0                       Paris                 12          OUI        OUI   \n",
       "1                       Paris                  3          OUI        OUI   \n",
       "2                       Paris                 27          OUI        OUI   \n",
       "3                       Paris                 13          OUI        OUI   \n",
       "4                       Paris                  5          OUI        OUI   \n",
       "5                       Paris                 15          OUI        OUI   \n",
       "6                       Paris                 14          OUI        OUI   \n",
       "7                       Paris                 11          OUI        OUI   \n",
       "8                       Paris                  5          OUI        OUI   \n",
       "9                       Paris                 15          OUI        OUI   \n",
       "\n",
       "   mechanical stationcode                 coordonnees_geo  numdocksavailable  \\\n",
       "0           7        6015  [48.8537558106, 2.33909580857]                 42   \n",
       "1           3       12109  [48.8408553118, 2.38755494356]                 27   \n",
       "2          16        5001   [48.851518815, 2.34367031604]                 16   \n",
       "3           9       10013   [48.871044052, 2.36610446199]                 43   \n",
       "4           5       14111  [48.8375258391, 2.33603540808]                 19   \n",
       "5           4       17038           [48.876116, 2.288124]                 45   \n",
       "6          14        7002  [48.8485632331, 2.32042182593]                 19   \n",
       "7           3        5016  [48.8450471666, 2.34946478513]                  6   \n",
       "8           4       15047  [48.8331014995, 2.29938000441]                 46   \n",
       "9          12       13101  [48.8309816593, 2.34816469252]                 18   \n",
       "\n",
       "                     duedate is_returning  \n",
       "0  2021-03-29T12:49:21+00:00          OUI  \n",
       "1  2021-03-29T12:48:43+00:00          OUI  \n",
       "2  2021-03-29T12:48:44+00:00          OUI  \n",
       "3  2021-03-29T12:49:17+00:00          OUI  \n",
       "4  2021-03-29T12:44:10+00:00          OUI  \n",
       "5  2021-03-29T12:44:47+00:00          OUI  \n",
       "6  2021-03-29T12:48:32+00:00          OUI  \n",
       "7  2021-03-29T12:48:14+00:00          OUI  \n",
       "8  2021-03-29T12:49:30+00:00          OUI  \n",
       "9  2021-03-29T12:47:18+00:00          OUI  "
      ]
     },
     "execution_count": 54,
     "metadata": {},
     "output_type": "execute_result"
    }
   ],
   "source": [
    "pandas.DataFrame([{i:s['fields'][i] for i in s['fields'] if i!='station'} for s in records])"
   ]
  },
  {
   "cell_type": "markdown",
   "metadata": {},
   "source": [
    "### Carte avec `leaflet`\n",
    "\n",
    "Dans ce TP, nous allons aussi aborder l'aspect cartographie sous `python` avec le package `folium` (à installer donc). L'idée sera d'ajouter à un fond de carte des formes de couleurs, en fonction d'une information tierce. Le package `folium` est une interface entre `python` et la librairie [`leaflet`](https://leafletjs.com/). Elle s'utilise très facilement, comme nous pouvons le voir ci-dessous pour la création d'une carte. Les coordonnées indiquées sont la latitude et la longitude de Paris."
   ]
  },
  {
   "cell_type": "code",
   "execution_count": 55,
   "metadata": {},
   "outputs": [
    {
     "data": {
      "text/html": [
       "<div style=\"width:100%;\"><div style=\"position:relative;width:100%;height:0;padding-bottom:60%;\"><span style=\"color:#565656\">Make this Notebook Trusted to load map: File -> Trust Notebook</span><iframe src=\"about:blank\" style=\"position:absolute;width:100%;height:100%;left:0;top:0;border:none !important;\" data-html=%3C%21DOCTYPE%20html%3E%0A%3Chead%3E%20%20%20%20%0A%20%20%20%20%3Cmeta%20http-equiv%3D%22content-type%22%20content%3D%22text/html%3B%20charset%3DUTF-8%22%20/%3E%0A%20%20%20%20%0A%20%20%20%20%20%20%20%20%3Cscript%3E%0A%20%20%20%20%20%20%20%20%20%20%20%20L_NO_TOUCH%20%3D%20false%3B%0A%20%20%20%20%20%20%20%20%20%20%20%20L_DISABLE_3D%20%3D%20false%3B%0A%20%20%20%20%20%20%20%20%3C/script%3E%0A%20%20%20%20%0A%20%20%20%20%3Cstyle%3Ehtml%2C%20body%20%7Bwidth%3A%20100%25%3Bheight%3A%20100%25%3Bmargin%3A%200%3Bpadding%3A%200%3B%7D%3C/style%3E%0A%20%20%20%20%3Cstyle%3E%23map%20%7Bposition%3Aabsolute%3Btop%3A0%3Bbottom%3A0%3Bright%3A0%3Bleft%3A0%3B%7D%3C/style%3E%0A%20%20%20%20%3Cscript%20src%3D%22https%3A//cdn.jsdelivr.net/npm/leaflet%401.6.0/dist/leaflet.js%22%3E%3C/script%3E%0A%20%20%20%20%3Cscript%20src%3D%22https%3A//code.jquery.com/jquery-1.12.4.min.js%22%3E%3C/script%3E%0A%20%20%20%20%3Cscript%20src%3D%22https%3A//maxcdn.bootstrapcdn.com/bootstrap/3.2.0/js/bootstrap.min.js%22%3E%3C/script%3E%0A%20%20%20%20%3Cscript%20src%3D%22https%3A//cdnjs.cloudflare.com/ajax/libs/Leaflet.awesome-markers/2.0.2/leaflet.awesome-markers.js%22%3E%3C/script%3E%0A%20%20%20%20%3Clink%20rel%3D%22stylesheet%22%20href%3D%22https%3A//cdn.jsdelivr.net/npm/leaflet%401.6.0/dist/leaflet.css%22/%3E%0A%20%20%20%20%3Clink%20rel%3D%22stylesheet%22%20href%3D%22https%3A//maxcdn.bootstrapcdn.com/bootstrap/3.2.0/css/bootstrap.min.css%22/%3E%0A%20%20%20%20%3Clink%20rel%3D%22stylesheet%22%20href%3D%22https%3A//maxcdn.bootstrapcdn.com/bootstrap/3.2.0/css/bootstrap-theme.min.css%22/%3E%0A%20%20%20%20%3Clink%20rel%3D%22stylesheet%22%20href%3D%22https%3A//maxcdn.bootstrapcdn.com/font-awesome/4.6.3/css/font-awesome.min.css%22/%3E%0A%20%20%20%20%3Clink%20rel%3D%22stylesheet%22%20href%3D%22https%3A//cdnjs.cloudflare.com/ajax/libs/Leaflet.awesome-markers/2.0.2/leaflet.awesome-markers.css%22/%3E%0A%20%20%20%20%3Clink%20rel%3D%22stylesheet%22%20href%3D%22https%3A//cdn.jsdelivr.net/gh/python-visualization/folium/folium/templates/leaflet.awesome.rotate.min.css%22/%3E%0A%20%20%20%20%0A%20%20%20%20%20%20%20%20%20%20%20%20%3Cmeta%20name%3D%22viewport%22%20content%3D%22width%3Ddevice-width%2C%0A%20%20%20%20%20%20%20%20%20%20%20%20%20%20%20%20initial-scale%3D1.0%2C%20maximum-scale%3D1.0%2C%20user-scalable%3Dno%22%20/%3E%0A%20%20%20%20%20%20%20%20%20%20%20%20%3Cstyle%3E%0A%20%20%20%20%20%20%20%20%20%20%20%20%20%20%20%20%23map_fc3111f4d70d482ca6aa162b1e9ac043%20%7B%0A%20%20%20%20%20%20%20%20%20%20%20%20%20%20%20%20%20%20%20%20position%3A%20relative%3B%0A%20%20%20%20%20%20%20%20%20%20%20%20%20%20%20%20%20%20%20%20width%3A%20100.0%25%3B%0A%20%20%20%20%20%20%20%20%20%20%20%20%20%20%20%20%20%20%20%20height%3A%20100.0%25%3B%0A%20%20%20%20%20%20%20%20%20%20%20%20%20%20%20%20%20%20%20%20left%3A%200.0%25%3B%0A%20%20%20%20%20%20%20%20%20%20%20%20%20%20%20%20%20%20%20%20top%3A%200.0%25%3B%0A%20%20%20%20%20%20%20%20%20%20%20%20%20%20%20%20%7D%0A%20%20%20%20%20%20%20%20%20%20%20%20%3C/style%3E%0A%20%20%20%20%20%20%20%20%0A%3C/head%3E%0A%3Cbody%3E%20%20%20%20%0A%20%20%20%20%0A%20%20%20%20%20%20%20%20%20%20%20%20%3Cdiv%20class%3D%22folium-map%22%20id%3D%22map_fc3111f4d70d482ca6aa162b1e9ac043%22%20%3E%3C/div%3E%0A%20%20%20%20%20%20%20%20%0A%3C/body%3E%0A%3Cscript%3E%20%20%20%20%0A%20%20%20%20%0A%20%20%20%20%20%20%20%20%20%20%20%20var%20map_fc3111f4d70d482ca6aa162b1e9ac043%20%3D%20L.map%28%0A%20%20%20%20%20%20%20%20%20%20%20%20%20%20%20%20%22map_fc3111f4d70d482ca6aa162b1e9ac043%22%2C%0A%20%20%20%20%20%20%20%20%20%20%20%20%20%20%20%20%7B%0A%20%20%20%20%20%20%20%20%20%20%20%20%20%20%20%20%20%20%20%20center%3A%20%5B48.87%2C%202.35%5D%2C%0A%20%20%20%20%20%20%20%20%20%20%20%20%20%20%20%20%20%20%20%20crs%3A%20L.CRS.EPSG3857%2C%0A%20%20%20%20%20%20%20%20%20%20%20%20%20%20%20%20%20%20%20%20zoom%3A%2012%2C%0A%20%20%20%20%20%20%20%20%20%20%20%20%20%20%20%20%20%20%20%20zoomControl%3A%20true%2C%0A%20%20%20%20%20%20%20%20%20%20%20%20%20%20%20%20%20%20%20%20preferCanvas%3A%20false%2C%0A%20%20%20%20%20%20%20%20%20%20%20%20%20%20%20%20%7D%0A%20%20%20%20%20%20%20%20%20%20%20%20%29%3B%0A%0A%20%20%20%20%20%20%20%20%20%20%20%20%0A%0A%20%20%20%20%20%20%20%20%0A%20%20%20%20%0A%20%20%20%20%20%20%20%20%20%20%20%20var%20tile_layer_f025732817f7449e929e0066cea3fde3%20%3D%20L.tileLayer%28%0A%20%20%20%20%20%20%20%20%20%20%20%20%20%20%20%20%22https%3A//%7Bs%7D.tile.openstreetmap.org/%7Bz%7D/%7Bx%7D/%7By%7D.png%22%2C%0A%20%20%20%20%20%20%20%20%20%20%20%20%20%20%20%20%7B%22attribution%22%3A%20%22Data%20by%20%5Cu0026copy%3B%20%5Cu003ca%20href%3D%5C%22http%3A//openstreetmap.org%5C%22%5Cu003eOpenStreetMap%5Cu003c/a%5Cu003e%2C%20under%20%5Cu003ca%20href%3D%5C%22http%3A//www.openstreetmap.org/copyright%5C%22%5Cu003eODbL%5Cu003c/a%5Cu003e.%22%2C%20%22detectRetina%22%3A%20false%2C%20%22maxNativeZoom%22%3A%2018%2C%20%22maxZoom%22%3A%2018%2C%20%22minZoom%22%3A%200%2C%20%22noWrap%22%3A%20false%2C%20%22opacity%22%3A%201%2C%20%22subdomains%22%3A%20%22abc%22%2C%20%22tms%22%3A%20false%7D%0A%20%20%20%20%20%20%20%20%20%20%20%20%29.addTo%28map_fc3111f4d70d482ca6aa162b1e9ac043%29%3B%0A%20%20%20%20%20%20%20%20%0A%3C/script%3E onload=\"this.contentDocument.open();this.contentDocument.write(    decodeURIComponent(this.getAttribute('data-html')));this.contentDocument.close();\" allowfullscreen webkitallowfullscreen mozallowfullscreen></iframe></div></div>"
      ],
      "text/plain": [
       "<folium.folium.Map at 0x13ebefca0>"
      ]
     },
     "execution_count": 55,
     "metadata": {},
     "output_type": "execute_result"
    }
   ],
   "source": [
    "import folium\n",
    "centre = [48.87, 2.35]\n",
    "paris = folium.Map(location = centre, zoom_start = 12)\n",
    "paris"
   ]
  },
  {
   "cell_type": "markdown",
   "metadata": {},
   "source": [
    "### Avec des marqueurs\n",
    "\n",
    "En reprenant le data frame vu juste avant (et en le stockant dans une variable), on peut créer une carte avec des marqueurs, qui affichent le nom de la station lorsqu'on clique dessus."
   ]
  },
  {
   "cell_type": "code",
   "execution_count": 56,
   "metadata": {},
   "outputs": [
    {
     "data": {
      "text/html": [
       "<div style=\"width:100%;\"><div style=\"position:relative;width:100%;height:0;padding-bottom:60%;\"><span style=\"color:#565656\">Make this Notebook Trusted to load map: File -> Trust Notebook</span><iframe src=\"about:blank\" style=\"position:absolute;width:100%;height:100%;left:0;top:0;border:none !important;\" data-html=%3C%21DOCTYPE%20html%3E%0A%3Chead%3E%20%20%20%20%0A%20%20%20%20%3Cmeta%20http-equiv%3D%22content-type%22%20content%3D%22text/html%3B%20charset%3DUTF-8%22%20/%3E%0A%20%20%20%20%0A%20%20%20%20%20%20%20%20%3Cscript%3E%0A%20%20%20%20%20%20%20%20%20%20%20%20L_NO_TOUCH%20%3D%20false%3B%0A%20%20%20%20%20%20%20%20%20%20%20%20L_DISABLE_3D%20%3D%20false%3B%0A%20%20%20%20%20%20%20%20%3C/script%3E%0A%20%20%20%20%0A%20%20%20%20%3Cstyle%3Ehtml%2C%20body%20%7Bwidth%3A%20100%25%3Bheight%3A%20100%25%3Bmargin%3A%200%3Bpadding%3A%200%3B%7D%3C/style%3E%0A%20%20%20%20%3Cstyle%3E%23map%20%7Bposition%3Aabsolute%3Btop%3A0%3Bbottom%3A0%3Bright%3A0%3Bleft%3A0%3B%7D%3C/style%3E%0A%20%20%20%20%3Cscript%20src%3D%22https%3A//cdn.jsdelivr.net/npm/leaflet%401.6.0/dist/leaflet.js%22%3E%3C/script%3E%0A%20%20%20%20%3Cscript%20src%3D%22https%3A//code.jquery.com/jquery-1.12.4.min.js%22%3E%3C/script%3E%0A%20%20%20%20%3Cscript%20src%3D%22https%3A//maxcdn.bootstrapcdn.com/bootstrap/3.2.0/js/bootstrap.min.js%22%3E%3C/script%3E%0A%20%20%20%20%3Cscript%20src%3D%22https%3A//cdnjs.cloudflare.com/ajax/libs/Leaflet.awesome-markers/2.0.2/leaflet.awesome-markers.js%22%3E%3C/script%3E%0A%20%20%20%20%3Clink%20rel%3D%22stylesheet%22%20href%3D%22https%3A//cdn.jsdelivr.net/npm/leaflet%401.6.0/dist/leaflet.css%22/%3E%0A%20%20%20%20%3Clink%20rel%3D%22stylesheet%22%20href%3D%22https%3A//maxcdn.bootstrapcdn.com/bootstrap/3.2.0/css/bootstrap.min.css%22/%3E%0A%20%20%20%20%3Clink%20rel%3D%22stylesheet%22%20href%3D%22https%3A//maxcdn.bootstrapcdn.com/bootstrap/3.2.0/css/bootstrap-theme.min.css%22/%3E%0A%20%20%20%20%3Clink%20rel%3D%22stylesheet%22%20href%3D%22https%3A//maxcdn.bootstrapcdn.com/font-awesome/4.6.3/css/font-awesome.min.css%22/%3E%0A%20%20%20%20%3Clink%20rel%3D%22stylesheet%22%20href%3D%22https%3A//cdnjs.cloudflare.com/ajax/libs/Leaflet.awesome-markers/2.0.2/leaflet.awesome-markers.css%22/%3E%0A%20%20%20%20%3Clink%20rel%3D%22stylesheet%22%20href%3D%22https%3A//cdn.jsdelivr.net/gh/python-visualization/folium/folium/templates/leaflet.awesome.rotate.min.css%22/%3E%0A%20%20%20%20%0A%20%20%20%20%20%20%20%20%20%20%20%20%3Cmeta%20name%3D%22viewport%22%20content%3D%22width%3Ddevice-width%2C%0A%20%20%20%20%20%20%20%20%20%20%20%20%20%20%20%20initial-scale%3D1.0%2C%20maximum-scale%3D1.0%2C%20user-scalable%3Dno%22%20/%3E%0A%20%20%20%20%20%20%20%20%20%20%20%20%3Cstyle%3E%0A%20%20%20%20%20%20%20%20%20%20%20%20%20%20%20%20%23map_e8a93654dfd14affa3d856675d42b762%20%7B%0A%20%20%20%20%20%20%20%20%20%20%20%20%20%20%20%20%20%20%20%20position%3A%20relative%3B%0A%20%20%20%20%20%20%20%20%20%20%20%20%20%20%20%20%20%20%20%20width%3A%20100.0%25%3B%0A%20%20%20%20%20%20%20%20%20%20%20%20%20%20%20%20%20%20%20%20height%3A%20100.0%25%3B%0A%20%20%20%20%20%20%20%20%20%20%20%20%20%20%20%20%20%20%20%20left%3A%200.0%25%3B%0A%20%20%20%20%20%20%20%20%20%20%20%20%20%20%20%20%20%20%20%20top%3A%200.0%25%3B%0A%20%20%20%20%20%20%20%20%20%20%20%20%20%20%20%20%7D%0A%20%20%20%20%20%20%20%20%20%20%20%20%3C/style%3E%0A%20%20%20%20%20%20%20%20%0A%3C/head%3E%0A%3Cbody%3E%20%20%20%20%0A%20%20%20%20%0A%20%20%20%20%20%20%20%20%20%20%20%20%3Cdiv%20class%3D%22folium-map%22%20id%3D%22map_e8a93654dfd14affa3d856675d42b762%22%20%3E%3C/div%3E%0A%20%20%20%20%20%20%20%20%0A%3C/body%3E%0A%3Cscript%3E%20%20%20%20%0A%20%20%20%20%0A%20%20%20%20%20%20%20%20%20%20%20%20var%20map_e8a93654dfd14affa3d856675d42b762%20%3D%20L.map%28%0A%20%20%20%20%20%20%20%20%20%20%20%20%20%20%20%20%22map_e8a93654dfd14affa3d856675d42b762%22%2C%0A%20%20%20%20%20%20%20%20%20%20%20%20%20%20%20%20%7B%0A%20%20%20%20%20%20%20%20%20%20%20%20%20%20%20%20%20%20%20%20center%3A%20%5B48.87%2C%202.35%5D%2C%0A%20%20%20%20%20%20%20%20%20%20%20%20%20%20%20%20%20%20%20%20crs%3A%20L.CRS.EPSG3857%2C%0A%20%20%20%20%20%20%20%20%20%20%20%20%20%20%20%20%20%20%20%20zoom%3A%2012%2C%0A%20%20%20%20%20%20%20%20%20%20%20%20%20%20%20%20%20%20%20%20zoomControl%3A%20true%2C%0A%20%20%20%20%20%20%20%20%20%20%20%20%20%20%20%20%20%20%20%20preferCanvas%3A%20false%2C%0A%20%20%20%20%20%20%20%20%20%20%20%20%20%20%20%20%7D%0A%20%20%20%20%20%20%20%20%20%20%20%20%29%3B%0A%0A%20%20%20%20%20%20%20%20%20%20%20%20%0A%0A%20%20%20%20%20%20%20%20%0A%20%20%20%20%0A%20%20%20%20%20%20%20%20%20%20%20%20var%20tile_layer_7b2d20c6ab6c4ae79257379a8eb62d25%20%3D%20L.tileLayer%28%0A%20%20%20%20%20%20%20%20%20%20%20%20%20%20%20%20%22https%3A//%7Bs%7D.tile.openstreetmap.org/%7Bz%7D/%7Bx%7D/%7By%7D.png%22%2C%0A%20%20%20%20%20%20%20%20%20%20%20%20%20%20%20%20%7B%22attribution%22%3A%20%22Data%20by%20%5Cu0026copy%3B%20%5Cu003ca%20href%3D%5C%22http%3A//openstreetmap.org%5C%22%5Cu003eOpenStreetMap%5Cu003c/a%5Cu003e%2C%20under%20%5Cu003ca%20href%3D%5C%22http%3A//www.openstreetmap.org/copyright%5C%22%5Cu003eODbL%5Cu003c/a%5Cu003e.%22%2C%20%22detectRetina%22%3A%20false%2C%20%22maxNativeZoom%22%3A%2018%2C%20%22maxZoom%22%3A%2018%2C%20%22minZoom%22%3A%200%2C%20%22noWrap%22%3A%20false%2C%20%22opacity%22%3A%201%2C%20%22subdomains%22%3A%20%22abc%22%2C%20%22tms%22%3A%20false%7D%0A%20%20%20%20%20%20%20%20%20%20%20%20%29.addTo%28map_e8a93654dfd14affa3d856675d42b762%29%3B%0A%20%20%20%20%20%20%20%20%0A%20%20%20%20%0A%20%20%20%20%20%20%20%20%20%20%20%20var%20marker_373b2edeca374d5ba787a5a886496b42%20%3D%20L.marker%28%0A%20%20%20%20%20%20%20%20%20%20%20%20%20%20%20%20%5B48.8537558106%2C%202.33909580857%5D%2C%0A%20%20%20%20%20%20%20%20%20%20%20%20%20%20%20%20%7B%7D%0A%20%20%20%20%20%20%20%20%20%20%20%20%29.addTo%28map_e8a93654dfd14affa3d856675d42b762%29%3B%0A%20%20%20%20%20%20%20%20%0A%20%20%20%20%0A%20%20%20%20%20%20%20%20var%20popup_2453f2687b934ab2b11e0b8223dffef7%20%3D%20L.popup%28%7B%22maxWidth%22%3A%20%22100%25%22%7D%29%3B%0A%0A%20%20%20%20%20%20%20%20%0A%20%20%20%20%20%20%20%20%20%20%20%20var%20html_05f3aa854078465fa8c1ebc4d6cd342f%20%3D%20%24%28%60%3Cdiv%20id%3D%22html_05f3aa854078465fa8c1ebc4d6cd342f%22%20style%3D%22width%3A%20100.0%25%3B%20height%3A%20100.0%25%3B%22%3EAndr%C3%A9%20Mazet%20-%20Saint-Andr%C3%A9%20des%20Arts%3C/div%3E%60%29%5B0%5D%3B%0A%20%20%20%20%20%20%20%20%20%20%20%20popup_2453f2687b934ab2b11e0b8223dffef7.setContent%28html_05f3aa854078465fa8c1ebc4d6cd342f%29%3B%0A%20%20%20%20%20%20%20%20%0A%0A%20%20%20%20%20%20%20%20marker_373b2edeca374d5ba787a5a886496b42.bindPopup%28popup_2453f2687b934ab2b11e0b8223dffef7%29%0A%20%20%20%20%20%20%20%20%3B%0A%0A%20%20%20%20%20%20%20%20%0A%20%20%20%20%0A%20%20%20%20%0A%20%20%20%20%20%20%20%20%20%20%20%20var%20marker_b5a22be040484681b40573605b7b1480%20%3D%20L.marker%28%0A%20%20%20%20%20%20%20%20%20%20%20%20%20%20%20%20%5B48.8408553118%2C%202.38755494356%5D%2C%0A%20%20%20%20%20%20%20%20%20%20%20%20%20%20%20%20%7B%7D%0A%20%20%20%20%20%20%20%20%20%20%20%20%29.addTo%28map_e8a93654dfd14affa3d856675d42b762%29%3B%0A%20%20%20%20%20%20%20%20%0A%20%20%20%20%0A%20%20%20%20%20%20%20%20var%20popup_63eca5657882421a9e9baf14bff078f3%20%3D%20L.popup%28%7B%22maxWidth%22%3A%20%22100%25%22%7D%29%3B%0A%0A%20%20%20%20%20%20%20%20%0A%20%20%20%20%20%20%20%20%20%20%20%20var%20html_b99df103c04f4697a4dc6a8b965373bf%20%3D%20%24%28%60%3Cdiv%20id%3D%22html_b99df103c04f4697a4dc6a8b965373bf%22%20style%3D%22width%3A%20100.0%25%3B%20height%3A%20100.0%25%3B%22%3EMairie%20du%2012%C3%A8me%3C/div%3E%60%29%5B0%5D%3B%0A%20%20%20%20%20%20%20%20%20%20%20%20popup_63eca5657882421a9e9baf14bff078f3.setContent%28html_b99df103c04f4697a4dc6a8b965373bf%29%3B%0A%20%20%20%20%20%20%20%20%0A%0A%20%20%20%20%20%20%20%20marker_b5a22be040484681b40573605b7b1480.bindPopup%28popup_63eca5657882421a9e9baf14bff078f3%29%0A%20%20%20%20%20%20%20%20%3B%0A%0A%20%20%20%20%20%20%20%20%0A%20%20%20%20%0A%20%20%20%20%0A%20%20%20%20%20%20%20%20%20%20%20%20var%20marker_66bf31f22fdd4808aded6a5c6440dbaf%20%3D%20L.marker%28%0A%20%20%20%20%20%20%20%20%20%20%20%20%20%20%20%20%5B48.851518815%2C%202.34367031604%5D%2C%0A%20%20%20%20%20%20%20%20%20%20%20%20%20%20%20%20%7B%7D%0A%20%20%20%20%20%20%20%20%20%20%20%20%29.addTo%28map_e8a93654dfd14affa3d856675d42b762%29%3B%0A%20%20%20%20%20%20%20%20%0A%20%20%20%20%0A%20%20%20%20%20%20%20%20var%20popup_4665ebca957d41f493cb36cfdd3f779c%20%3D%20L.popup%28%7B%22maxWidth%22%3A%20%22100%25%22%7D%29%3B%0A%0A%20%20%20%20%20%20%20%20%0A%20%20%20%20%20%20%20%20%20%20%20%20var%20html_a00521492e3f4d829e1e8b51209e05b5%20%3D%20%24%28%60%3Cdiv%20id%3D%22html_a00521492e3f4d829e1e8b51209e05b5%22%20style%3D%22width%3A%20100.0%25%3B%20height%3A%20100.0%25%3B%22%3EHarpe%20-%20Saint-Germain%3C/div%3E%60%29%5B0%5D%3B%0A%20%20%20%20%20%20%20%20%20%20%20%20popup_4665ebca957d41f493cb36cfdd3f779c.setContent%28html_a00521492e3f4d829e1e8b51209e05b5%29%3B%0A%20%20%20%20%20%20%20%20%0A%0A%20%20%20%20%20%20%20%20marker_66bf31f22fdd4808aded6a5c6440dbaf.bindPopup%28popup_4665ebca957d41f493cb36cfdd3f779c%29%0A%20%20%20%20%20%20%20%20%3B%0A%0A%20%20%20%20%20%20%20%20%0A%20%20%20%20%0A%20%20%20%20%0A%20%20%20%20%20%20%20%20%20%20%20%20var%20marker_79df260dd2434317a2a43baffa80fb9e%20%3D%20L.marker%28%0A%20%20%20%20%20%20%20%20%20%20%20%20%20%20%20%20%5B48.871044052%2C%202.36610446199%5D%2C%0A%20%20%20%20%20%20%20%20%20%20%20%20%20%20%20%20%7B%7D%0A%20%20%20%20%20%20%20%20%20%20%20%20%29.addTo%28map_e8a93654dfd14affa3d856675d42b762%29%3B%0A%20%20%20%20%20%20%20%20%0A%20%20%20%20%0A%20%20%20%20%20%20%20%20var%20popup_9fece4a46282441bbe74c479f05c0498%20%3D%20L.popup%28%7B%22maxWidth%22%3A%20%22100%25%22%7D%29%3B%0A%0A%20%20%20%20%20%20%20%20%0A%20%20%20%20%20%20%20%20%20%20%20%20var%20html_f95028100b384dacbcd8002eb7f1ba9f%20%3D%20%24%28%60%3Cdiv%20id%3D%22html_f95028100b384dacbcd8002eb7f1ba9f%22%20style%3D%22width%3A%20100.0%25%3B%20height%3A%20100.0%25%3B%22%3EAlibert%20-%20Jemmapes%3C/div%3E%60%29%5B0%5D%3B%0A%20%20%20%20%20%20%20%20%20%20%20%20popup_9fece4a46282441bbe74c479f05c0498.setContent%28html_f95028100b384dacbcd8002eb7f1ba9f%29%3B%0A%20%20%20%20%20%20%20%20%0A%0A%20%20%20%20%20%20%20%20marker_79df260dd2434317a2a43baffa80fb9e.bindPopup%28popup_9fece4a46282441bbe74c479f05c0498%29%0A%20%20%20%20%20%20%20%20%3B%0A%0A%20%20%20%20%20%20%20%20%0A%20%20%20%20%0A%20%20%20%20%0A%20%20%20%20%20%20%20%20%20%20%20%20var%20marker_8fee0b03d2484b25a68cf6f6ebe9f325%20%3D%20L.marker%28%0A%20%20%20%20%20%20%20%20%20%20%20%20%20%20%20%20%5B48.8375258391%2C%202.33603540808%5D%2C%0A%20%20%20%20%20%20%20%20%20%20%20%20%20%20%20%20%7B%7D%0A%20%20%20%20%20%20%20%20%20%20%20%20%29.addTo%28map_e8a93654dfd14affa3d856675d42b762%29%3B%0A%20%20%20%20%20%20%20%20%0A%20%20%20%20%0A%20%20%20%20%20%20%20%20var%20popup_6145da5cb5464c98b2de204a436fc2da%20%3D%20L.popup%28%7B%22maxWidth%22%3A%20%22100%25%22%7D%29%3B%0A%0A%20%20%20%20%20%20%20%20%0A%20%20%20%20%20%20%20%20%20%20%20%20var%20html_4870a0c285304003a7513cbbaa9e36c3%20%3D%20%24%28%60%3Cdiv%20id%3D%22html_4870a0c285304003a7513cbbaa9e36c3%22%20style%3D%22width%3A%20100.0%25%3B%20height%3A%20100.0%25%3B%22%3ECassini%20-%20Denfert-Rochereau%3C/div%3E%60%29%5B0%5D%3B%0A%20%20%20%20%20%20%20%20%20%20%20%20popup_6145da5cb5464c98b2de204a436fc2da.setContent%28html_4870a0c285304003a7513cbbaa9e36c3%29%3B%0A%20%20%20%20%20%20%20%20%0A%0A%20%20%20%20%20%20%20%20marker_8fee0b03d2484b25a68cf6f6ebe9f325.bindPopup%28popup_6145da5cb5464c98b2de204a436fc2da%29%0A%20%20%20%20%20%20%20%20%3B%0A%0A%20%20%20%20%20%20%20%20%0A%20%20%20%20%0A%20%20%20%20%0A%20%20%20%20%20%20%20%20%20%20%20%20var%20marker_ae7fb6f38e14492caf3c71e78338b006%20%3D%20L.marker%28%0A%20%20%20%20%20%20%20%20%20%20%20%20%20%20%20%20%5B48.876116%2C%202.288124%5D%2C%0A%20%20%20%20%20%20%20%20%20%20%20%20%20%20%20%20%7B%7D%0A%20%20%20%20%20%20%20%20%20%20%20%20%29.addTo%28map_e8a93654dfd14affa3d856675d42b762%29%3B%0A%20%20%20%20%20%20%20%20%0A%20%20%20%20%0A%20%20%20%20%20%20%20%20var%20popup_c6119a64532442b7b568933bf2a5e6c4%20%3D%20L.popup%28%7B%22maxWidth%22%3A%20%22100%25%22%7D%29%3B%0A%0A%20%20%20%20%20%20%20%20%0A%20%20%20%20%20%20%20%20%20%20%20%20var%20html_f1b3c5b383094dc9b73cb837c6f23b89%20%3D%20%24%28%60%3Cdiv%20id%3D%22html_f1b3c5b383094dc9b73cb837c6f23b89%22%20style%3D%22width%3A%20100.0%25%3B%20height%3A%20100.0%25%3B%22%3EGrande%20Arm%C3%A9e%20-%20Brunel%3C/div%3E%60%29%5B0%5D%3B%0A%20%20%20%20%20%20%20%20%20%20%20%20popup_c6119a64532442b7b568933bf2a5e6c4.setContent%28html_f1b3c5b383094dc9b73cb837c6f23b89%29%3B%0A%20%20%20%20%20%20%20%20%0A%0A%20%20%20%20%20%20%20%20marker_ae7fb6f38e14492caf3c71e78338b006.bindPopup%28popup_c6119a64532442b7b568933bf2a5e6c4%29%0A%20%20%20%20%20%20%20%20%3B%0A%0A%20%20%20%20%20%20%20%20%0A%20%20%20%20%0A%20%20%20%20%0A%20%20%20%20%20%20%20%20%20%20%20%20var%20marker_2599c80f3c3e40c990c98d9849e0b564%20%3D%20L.marker%28%0A%20%20%20%20%20%20%20%20%20%20%20%20%20%20%20%20%5B48.8485632331%2C%202.32042182593%5D%2C%0A%20%20%20%20%20%20%20%20%20%20%20%20%20%20%20%20%7B%7D%0A%20%20%20%20%20%20%20%20%20%20%20%20%29.addTo%28map_e8a93654dfd14affa3d856675d42b762%29%3B%0A%20%20%20%20%20%20%20%20%0A%20%20%20%20%0A%20%20%20%20%20%20%20%20var%20popup_acbe1d8ceee443a597b0ac7e53294696%20%3D%20L.popup%28%7B%22maxWidth%22%3A%20%22100%25%22%7D%29%3B%0A%0A%20%20%20%20%20%20%20%20%0A%20%20%20%20%20%20%20%20%20%20%20%20var%20html_2b486be75b2549aa96b2e960a639c527%20%3D%20%24%28%60%3Cdiv%20id%3D%22html_2b486be75b2549aa96b2e960a639c527%22%20style%3D%22width%3A%20100.0%25%3B%20height%3A%20100.0%25%3B%22%3EVaneau%20-%20S%C3%A8vres%3C/div%3E%60%29%5B0%5D%3B%0A%20%20%20%20%20%20%20%20%20%20%20%20popup_acbe1d8ceee443a597b0ac7e53294696.setContent%28html_2b486be75b2549aa96b2e960a639c527%29%3B%0A%20%20%20%20%20%20%20%20%0A%0A%20%20%20%20%20%20%20%20marker_2599c80f3c3e40c990c98d9849e0b564.bindPopup%28popup_acbe1d8ceee443a597b0ac7e53294696%29%0A%20%20%20%20%20%20%20%20%3B%0A%0A%20%20%20%20%20%20%20%20%0A%20%20%20%20%0A%20%20%20%20%0A%20%20%20%20%20%20%20%20%20%20%20%20var%20marker_c6a499df2c874fbab96e2957fa17ab1f%20%3D%20L.marker%28%0A%20%20%20%20%20%20%20%20%20%20%20%20%20%20%20%20%5B48.8450471666%2C%202.34946478513%5D%2C%0A%20%20%20%20%20%20%20%20%20%20%20%20%20%20%20%20%7B%7D%0A%20%20%20%20%20%20%20%20%20%20%20%20%29.addTo%28map_e8a93654dfd14affa3d856675d42b762%29%3B%0A%20%20%20%20%20%20%20%20%0A%20%20%20%20%0A%20%20%20%20%20%20%20%20var%20popup_2bbb869bf594454ea056805a8903aa77%20%3D%20L.popup%28%7B%22maxWidth%22%3A%20%22100%25%22%7D%29%3B%0A%0A%20%20%20%20%20%20%20%20%0A%20%20%20%20%20%20%20%20%20%20%20%20var%20html_fa7d96fa6af2416cafb4735bece3583e%20%3D%20%24%28%60%3Cdiv%20id%3D%22html_fa7d96fa6af2416cafb4735bece3583e%22%20style%3D%22width%3A%20100.0%25%3B%20height%3A%20100.0%25%3B%22%3EThouin%20-%20Cardinal%20Lemoine%3C/div%3E%60%29%5B0%5D%3B%0A%20%20%20%20%20%20%20%20%20%20%20%20popup_2bbb869bf594454ea056805a8903aa77.setContent%28html_fa7d96fa6af2416cafb4735bece3583e%29%3B%0A%20%20%20%20%20%20%20%20%0A%0A%20%20%20%20%20%20%20%20marker_c6a499df2c874fbab96e2957fa17ab1f.bindPopup%28popup_2bbb869bf594454ea056805a8903aa77%29%0A%20%20%20%20%20%20%20%20%3B%0A%0A%20%20%20%20%20%20%20%20%0A%20%20%20%20%0A%20%20%20%20%0A%20%20%20%20%20%20%20%20%20%20%20%20var%20marker_f4b4dc03d3044b03b14ffe4184192e97%20%3D%20L.marker%28%0A%20%20%20%20%20%20%20%20%20%20%20%20%20%20%20%20%5B48.8331014995%2C%202.29938000441%5D%2C%0A%20%20%20%20%20%20%20%20%20%20%20%20%20%20%20%20%7B%7D%0A%20%20%20%20%20%20%20%20%20%20%20%20%29.addTo%28map_e8a93654dfd14affa3d856675d42b762%29%3B%0A%20%20%20%20%20%20%20%20%0A%20%20%20%20%0A%20%20%20%20%20%20%20%20var%20popup_efb2379e041a4c02b99fd80d301f50ec%20%3D%20L.popup%28%7B%22maxWidth%22%3A%20%22100%25%22%7D%29%3B%0A%0A%20%20%20%20%20%20%20%20%0A%20%20%20%20%20%20%20%20%20%20%20%20var%20html_1c505a6dc52345b39fb2ebf5658d4af1%20%3D%20%24%28%60%3Cdiv%20id%3D%22html_1c505a6dc52345b39fb2ebf5658d4af1%22%20style%3D%22width%3A%20100.0%25%3B%20height%3A%20100.0%25%3B%22%3EMorillons%20-%20Dantzig%3C/div%3E%60%29%5B0%5D%3B%0A%20%20%20%20%20%20%20%20%20%20%20%20popup_efb2379e041a4c02b99fd80d301f50ec.setContent%28html_1c505a6dc52345b39fb2ebf5658d4af1%29%3B%0A%20%20%20%20%20%20%20%20%0A%0A%20%20%20%20%20%20%20%20marker_f4b4dc03d3044b03b14ffe4184192e97.bindPopup%28popup_efb2379e041a4c02b99fd80d301f50ec%29%0A%20%20%20%20%20%20%20%20%3B%0A%0A%20%20%20%20%20%20%20%20%0A%20%20%20%20%0A%20%20%20%20%0A%20%20%20%20%20%20%20%20%20%20%20%20var%20marker_a2c1432e057b4bc2917da7fb689ec146%20%3D%20L.marker%28%0A%20%20%20%20%20%20%20%20%20%20%20%20%20%20%20%20%5B48.8309816593%2C%202.34816469252%5D%2C%0A%20%20%20%20%20%20%20%20%20%20%20%20%20%20%20%20%7B%7D%0A%20%20%20%20%20%20%20%20%20%20%20%20%29.addTo%28map_e8a93654dfd14affa3d856675d42b762%29%3B%0A%20%20%20%20%20%20%20%20%0A%20%20%20%20%0A%20%20%20%20%20%20%20%20var%20popup_eb673068de6e4ac48f1e714214457d2c%20%3D%20L.popup%28%7B%22maxWidth%22%3A%20%22100%25%22%7D%29%3B%0A%0A%20%20%20%20%20%20%20%20%0A%20%20%20%20%20%20%20%20%20%20%20%20var%20html_934ade11d8d6463e9a70b00709dad596%20%3D%20%24%28%60%3Cdiv%20id%3D%22html_934ade11d8d6463e9a70b00709dad596%22%20style%3D%22width%3A%20100.0%25%3B%20height%3A%20100.0%25%3B%22%3ECroulebarde%20-%20Corvisart%3C/div%3E%60%29%5B0%5D%3B%0A%20%20%20%20%20%20%20%20%20%20%20%20popup_eb673068de6e4ac48f1e714214457d2c.setContent%28html_934ade11d8d6463e9a70b00709dad596%29%3B%0A%20%20%20%20%20%20%20%20%0A%0A%20%20%20%20%20%20%20%20marker_a2c1432e057b4bc2917da7fb689ec146.bindPopup%28popup_eb673068de6e4ac48f1e714214457d2c%29%0A%20%20%20%20%20%20%20%20%3B%0A%0A%20%20%20%20%20%20%20%20%0A%20%20%20%20%0A%3C/script%3E onload=\"this.contentDocument.open();this.contentDocument.write(    decodeURIComponent(this.getAttribute('data-html')));this.contentDocument.close();\" allowfullscreen webkitallowfullscreen mozallowfullscreen></iframe></div></div>"
      ],
      "text/plain": [
       "<folium.folium.Map at 0x13f240b80>"
      ]
     },
     "execution_count": 56,
     "metadata": {},
     "output_type": "execute_result"
    }
   ],
   "source": [
    "df = pandas.DataFrame([{i:s['fields'][i] for i in s['fields'] if i!='station'} for s in records])\n",
    "paris = folium.Map(location = centre, zoom_start = 12)\n",
    "for station in [s['fields'] for s in records]:\n",
    "    folium.Marker(station[\"coordonnees_geo\"], \n",
    "                        popup = station[\"name\"]).add_to(paris)\n",
    "paris"
   ]
  },
  {
   "cell_type": "markdown",
   "metadata": {},
   "source": [
    "## A faire\n",
    "\n",
    "- Ecrire le code permettant d'importer les informations de toutes les stations\n",
    "- Stocker celles-ci dans un data frame `pandas`\n",
    "- Représenter la distribution des capacités (`capacity`) des stations\n",
    "- Faire de même en comparant les villes\n",
    "- Afficher les stations sur une carte\n",
    "- Pour chaque ville (`nom_arrondissement_communes`), calculer :\n",
    "    - le nombre de stations\n",
    "    - le nombre total de places (`capacity`)\n",
    "    - le nombre total de vélos disponibles (`numbikesavailable`)\n",
    "    - le nombre total de places disponibles (`numdocksavailable`) \n",
    "    - les coordonnées moyennes (pour permettre un affichage)\n",
    "- Afficher un marqueur pour chaque ville avec les informations récupérées ci-dessous\n"
   ]
  },
  {
   "cell_type": "code",
   "execution_count": null,
   "metadata": {},
   "outputs": [],
   "source": []
  }
 ],
 "metadata": {
  "kernelspec": {
   "display_name": "Python 3",
   "language": "python",
   "name": "python3"
  },
  "language_info": {
   "codemirror_mode": {
    "name": "ipython",
    "version": 3
   },
   "file_extension": ".py",
   "mimetype": "text/x-python",
   "name": "python",
   "nbconvert_exporter": "python",
   "pygments_lexer": "ipython3",
   "version": "3.9.2"
  }
 },
 "nbformat": 4,
 "nbformat_minor": 2
}
