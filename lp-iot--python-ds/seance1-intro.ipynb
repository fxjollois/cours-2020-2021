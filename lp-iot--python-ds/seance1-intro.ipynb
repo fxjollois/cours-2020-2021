{
 "cells": [
  {
   "cell_type": "markdown",
   "metadata": {
    "run_control": {
     "frozen": false,
     "read_only": false
    }
   },
   "source": [
    "# Introduction à `Python`\n",
    "\n",
    "[`Python`](https://www.python.org/) est un langage de programmation en pleine croissance dans le domaine de la **Data Science** et du **Big Data**. Il a une syntaxe particulière pour certains aspects, avec des points communs tout de même avec de nombreux autres. Nous allons ici aborder les premiers éléments de syntaxe de ce langage.\n",
    "\n",
    "## Eléments de base\n",
    "\n",
    "### Utilisation en mode console\n",
    "\n",
    "`python` est un langage scripté, dont l'exécution se fait dans une console. Dans celle-ci, il est donc possible d'exécuter les commandes les unes après les autres. Il est aussi possible (et recommander) d'écrire son script dans un fichier texte (souvent avec l'extension `.py`) et de l'exécuter via `execfile()`.\n",
    "\n",
    "Pour accéder à l'aide d'une fonction, il existe la fonction `help()`, prenant éventuellement en paramètre une fonction directement, ou une chaîne de caractère. Si la fonction n'a pas de paramètre, elle démarre l'aide interactive.\n",
    "\n",
    "### *Notebook*\n",
    "\n",
    "Le module `jupyter` permet de travailler avec des *notebooks*, qui sont des documents contenant à la fois le code, les résultat et du texte. Ce document est ainsi un *notebook*. \n",
    "\n",
    "\n",
    "### Types de données\n",
    "\n",
    "Comme tous les autres langages, `python` a plusieurs types possibles pour les données. En voici quelques uns. Vous pouvez exécuter les commandes dans une console pour voir le résultat.\n",
    "\n",
    "| type | valeur | type() | commentaires |\n",
    "|:-|:-:|:-|:-|\n",
    "|entier | 1 |int | |\n",
    "|réel | 1.234 | float | |\n",
    "|chaîne de caractères | \"un mot\" | str | on peut utiliser indifférement `\"\"` ou `''` |\n",
    "|liste | [1, 2] | list | chaque élément peut être différent des autres |\n",
    "|tuple | (1, 2) | tuple | similaire à une liste mais **constante** |\n",
    "|dictionnaire | {\"a\": 1, \"b\": \"deux\"} | dict | ensemble de valeurs quelconques **nommées** |\n",
    "\n",
    "Les `tuples`, `lists` et les `dicts` peuvent s'imbriquer les uns dans les autres.\n",
    "\n",
    "```\n",
    "(1, (2, 3), [4, 5], {\"a\": 1, \"b\": \"deux\"})\n",
    "[1, [2, 3], (4, 5), {\"a\": 1, \"b\": \"deux\"}]\n",
    "{\"a\": 1, \"b\": \"deux\", \"c\": (5, 6), \"d\": [7, 8]}\n",
    "```\n",
    "\n",
    "Il existe des fonctions permettant de passer d'un type à l'autre (quand cela est possible), telles que `int()`, `float()`, `str()`, `tuple()` et `list()`.\n",
    "\n",
    "Il existe aussi des valeurs prédéfinies, telles que `True` (vrai), `False` (faux) et `None` (donnée absente).\n",
    "\n",
    "### Création et suppression de variables\n",
    "\n",
    "Il n'y a pas de mot-clé pour la définition d'une variable. Celle-ci est définie/créée lors de sa première affectation. Si elle n'existe pas mais qu'on essaie de l'utiliser, alors un message d'erreur apparaît. Il est aussi possible de la supprimer via la fonction `del()`.\n",
    "\n",
    "### Type dynamique\n",
    "\n",
    "Bien que `python` soit rigoureux dans l'évaluation des expressions (il ne fait pas de `cast` automatique - i.e. changement de type des données), le type d'une variable est dit **dynamique**. Le type d'une variable dépend uniquement de la valeur de son affectation. Voici un exemple simple de ce phénomène."
   ]
  },
  {
   "cell_type": "code",
   "execution_count": 1,
   "metadata": {
    "run_control": {
     "frozen": false,
     "read_only": false
    }
   },
   "outputs": [
    {
     "name": "stdout",
     "output_type": "stream",
     "text": [
      "1\n"
     ]
    },
    {
     "data": {
      "text/plain": [
       "int"
      ]
     },
     "execution_count": 1,
     "metadata": {},
     "output_type": "execute_result"
    }
   ],
   "source": [
    "a = 1\n",
    "print(a)\n",
    "type(a)"
   ]
  },
  {
   "cell_type": "code",
   "execution_count": 2,
   "metadata": {
    "run_control": {
     "frozen": false,
     "read_only": false
    }
   },
   "outputs": [
    {
     "name": "stdout",
     "output_type": "stream",
     "text": [
      "deux\n"
     ]
    },
    {
     "data": {
      "text/plain": [
       "str"
      ]
     },
     "execution_count": 2,
     "metadata": {},
     "output_type": "execute_result"
    }
   ],
   "source": [
    "a = \"deux\"\n",
    "print(a)\n",
    "type(a)"
   ]
  },
  {
   "cell_type": "markdown",
   "metadata": {
    "run_control": {
     "frozen": false,
     "read_only": false
    }
   },
   "source": [
    "La variable `a` est passée du type `int` au type `str` sans qu'on l'explicite. Il faut donc faire attention lors de l'écriture de ses programmes.\n",
    "\n",
    "### Affichage\n",
    "\n",
    "Comme vu précédemment, il existe la fonction `print()` permettant d'afficher du texte et/ou le contenu des variables dans la console. Celle-ci peut prendre les paramètres `sep`, qui permet d'indiquer le ou les caractères séparant les champs (un espace `\" \"` par défaut), et `end`, qui permet d'indiquer le caractère de fin de ligne (retour à la ligne `\"\\n\"` par défaut)."
   ]
  },
  {
   "cell_type": "code",
   "execution_count": 3,
   "metadata": {},
   "outputs": [
    {
     "name": "stdout",
     "output_type": "stream",
     "text": [
      "Bonjour\n",
      "a = 1.234\n",
      "a=1.234\n",
      "a=1.234\n"
     ]
    }
   ],
   "source": [
    "a = 1.234\n",
    "print(\"Bonjour\")\n",
    "print(\"a =\", a)\n",
    "print(\"a\", a, sep = \"=\")\n",
    "print(\"a=\", end = \"\") # permet de ne pas revenir à la ligne \n",
    "print(a) # la valeur s'affiche donc à la suite de la ligne précédente"
   ]
  },
  {
   "cell_type": "markdown",
   "metadata": {
    "run_control": {
     "frozen": false,
     "read_only": false
    }
   },
   "source": [
    "### Opérateurs\n",
    "\n",
    "Il existe bien évidemment tous les opérateurs classiques, tels que présentés ci-dessous.\n",
    "\n",
    "| Type | Opérateurs |\n",
    "|:-|:-|\n",
    "| Arithmétiques | `+ - * / // % **` |\n",
    "| Comparaisons | `> >= < <= == !=` |\n",
    "| Booléens | `\\| & not()` |\n"
   ]
  },
  {
   "cell_type": "markdown",
   "metadata": {
    "run_control": {
     "frozen": false,
     "read_only": false
    }
   },
   "source": [
    "## Eléments de langage\n",
    "\n",
    "### Traitement conditionnel\n",
    "\n",
    "Comme dans tout langage, le traitement conditionnel se fait à partir d'un `if`. Voici un exemple très simple d'utilisation. "
   ]
  },
  {
   "cell_type": "code",
   "execution_count": 4,
   "metadata": {
    "run_control": {
     "frozen": false,
     "read_only": false
    }
   },
   "outputs": [
    {
     "name": "stdout",
     "output_type": "stream",
     "text": [
      "sup\n"
     ]
    }
   ],
   "source": [
    "a = 3\n",
    "if (a > 2):\n",
    "    print(\"sup\")"
   ]
  },
  {
   "cell_type": "markdown",
   "metadata": {
    "run_control": {
     "frozen": false,
     "read_only": false
    }
   },
   "source": [
    "Une particularité de `python` est d'utiliser l'indentation (*i.e.* le décalage à droite à l'aide d'au moins une tabulation) pour définir les opérations à réaliser dans un bloc. Si on veut faire plusieurs opérations dans le `if`, voila comment procéder par exemple."
   ]
  },
  {
   "cell_type": "code",
   "execution_count": 5,
   "metadata": {
    "run_control": {
     "frozen": false,
     "read_only": false
    }
   },
   "outputs": [
    {
     "name": "stdout",
     "output_type": "stream",
     "text": [
      "dans le IF\n",
      "sup\n"
     ]
    }
   ],
   "source": [
    "if (a > 2):\n",
    "    print(\"dans le IF\")\n",
    "    print(\"sup\")"
   ]
  },
  {
   "cell_type": "markdown",
   "metadata": {
    "run_control": {
     "frozen": false,
     "read_only": false
    }
   },
   "source": [
    "Il existe aussi la possibilité d'ajouter soit un traitement alternatif simple (avec `else`), soit un traitement alternatif conditionnel lui aussi (avec `elif`)."
   ]
  },
  {
   "cell_type": "code",
   "execution_count": 6,
   "metadata": {
    "run_control": {
     "frozen": false,
     "read_only": false
    }
   },
   "outputs": [
    {
     "name": "stdout",
     "output_type": "stream",
     "text": [
      "inf\n"
     ]
    }
   ],
   "source": [
    "# Avec un else seulement\n",
    "a = 1\n",
    "if (a > 2):\n",
    "    print(\"sup\")\n",
    "else:\n",
    "    print(\"inf\")"
   ]
  },
  {
   "cell_type": "code",
   "execution_count": 7,
   "metadata": {
    "run_control": {
     "frozen": false,
     "read_only": false
    }
   },
   "outputs": [
    {
     "name": "stdout",
     "output_type": "stream",
     "text": [
      "mid\n"
     ]
    }
   ],
   "source": [
    "# Avec elif en plus\n",
    "if (a > 2):\n",
    "    print(\"sup\")\n",
    "elif (a > 0):\n",
    "    print(\"mid\")\n",
    "else:\n",
    "    print(\"inf\")"
   ]
  },
  {
   "cell_type": "markdown",
   "metadata": {
    "run_control": {
     "frozen": false,
     "read_only": false
    }
   },
   "source": [
    "Il n'existe rien dans `python` pour le `switch/case`tel qu'on peut le voir par ailleurs. Mais on peut passer par un dictionnaire pour des tests d'égalité (cf plus bas pour plus d'informations sur les dictionnaires)."
   ]
  },
  {
   "cell_type": "code",
   "execution_count": 8,
   "metadata": {
    "run_control": {
     "frozen": false,
     "read_only": false
    }
   },
   "outputs": [
    {
     "data": {
      "text/plain": [
       "'mercredi'"
      ]
     },
     "execution_count": 8,
     "metadata": {},
     "output_type": "execute_result"
    }
   ],
   "source": [
    "jour = {\n",
    "    0: \"lundi\",\n",
    "    1: \"mardi\",\n",
    "    2: \"mercredi\",\n",
    "    3: \"jeudi\",\n",
    "    4: \"vendredi\",\n",
    "    5: \"samedi\",\n",
    "    6: \"dimanche\"\n",
    "}\n",
    "jour.get(2)"
   ]
  },
  {
   "cell_type": "markdown",
   "metadata": {
    "run_control": {
     "frozen": false,
     "read_only": false
    }
   },
   "source": [
    "### Traitement itératif\n",
    "\n",
    "On utilise en premier la boucle `for` dans laquelle on peut utiliser la fonction `range()` pour avoir les valeurs entre `0` (par défaut) et la valeur passée en paramètre. Vous remarquerez que `i` est persistant à la boucle et garde la dernière valeur."
   ]
  },
  {
   "cell_type": "code",
   "execution_count": 9,
   "metadata": {
    "run_control": {
     "frozen": false,
     "read_only": false
    }
   },
   "outputs": [
    {
     "name": "stdout",
     "output_type": "stream",
     "text": [
      "0\n",
      "1\n",
      "2\n",
      "3\n",
      "4\n",
      "dernière valeur de i : 4\n"
     ]
    }
   ],
   "source": [
    "for i in range(5):\n",
    "    print(i)\n",
    "print(\"dernière valeur de i :\", i)"
   ]
  },
  {
   "cell_type": "markdown",
   "metadata": {
    "run_control": {
     "frozen": false,
     "read_only": false
    }
   },
   "source": [
    "Cette fonction `range()` peut prendre deux paramètres, et dans ce cas, génère la boucle entre les deux par pas de 1."
   ]
  },
  {
   "cell_type": "code",
   "execution_count": 10,
   "metadata": {
    "run_control": {
     "frozen": false,
     "read_only": false
    }
   },
   "outputs": [
    {
     "name": "stdout",
     "output_type": "stream",
     "text": [
      "5\n",
      "6\n",
      "7\n",
      "8\n",
      "9\n"
     ]
    }
   ],
   "source": [
    "for i in range(5, 10):\n",
    "    print(i)"
   ]
  },
  {
   "cell_type": "markdown",
   "metadata": {
    "run_control": {
     "frozen": false,
     "read_only": false
    }
   },
   "source": [
    "Et si l'on souhaite modifier le pas de séquence, on ajoute un troisième paramètre. Celui-ci doit être cohérent par rapport aux deux premières valeurs."
   ]
  },
  {
   "cell_type": "code",
   "execution_count": 11,
   "metadata": {
    "run_control": {
     "frozen": false,
     "read_only": false
    }
   },
   "outputs": [
    {
     "name": "stdout",
     "output_type": "stream",
     "text": [
      "10\n",
      "9\n",
      "8\n",
      "7\n",
      "6\n"
     ]
    }
   ],
   "source": [
    "for i in range(10, 5, -1):\n",
    "    print(i)"
   ]
  },
  {
   "cell_type": "markdown",
   "metadata": {
    "run_control": {
     "frozen": false,
     "read_only": false
    }
   },
   "source": [
    "Il est possible d'utiliser une `list` ou un `tuple` pour définir les valeurs dans lesquelles naviguer."
   ]
  },
  {
   "cell_type": "code",
   "execution_count": 12,
   "metadata": {
    "run_control": {
     "frozen": false,
     "read_only": false
    }
   },
   "outputs": [
    {
     "name": "stdout",
     "output_type": "stream",
     "text": [
      "4\n",
      "1\n",
      "10\n"
     ]
    }
   ],
   "source": [
    "for i in [4, 1, 10]:\n",
    "    print(i)"
   ]
  },
  {
   "cell_type": "markdown",
   "metadata": {
    "run_control": {
     "frozen": false,
     "read_only": false
    }
   },
   "source": [
    "Et en utilisant une chaîne de caractère, on peut naviguer dans celle-ci."
   ]
  },
  {
   "cell_type": "code",
   "execution_count": 13,
   "metadata": {
    "run_control": {
     "frozen": false,
     "read_only": false
    }
   },
   "outputs": [
    {
     "name": "stdout",
     "output_type": "stream",
     "text": [
      "B\n",
      "o\n",
      "n\n",
      "j\n",
      "o\n",
      "u\n",
      "r\n"
     ]
    }
   ],
   "source": [
    "for l in \"Bonjour\":\n",
    "    print(l)"
   ]
  },
  {
   "cell_type": "markdown",
   "metadata": {
    "run_control": {
     "frozen": false,
     "read_only": false
    }
   },
   "source": [
    "Mais en utilisant un groupe de chaîne (`list` ou `tuple`), on travaille sur les chaînes au complet."
   ]
  },
  {
   "cell_type": "code",
   "execution_count": 14,
   "metadata": {
    "run_control": {
     "frozen": false,
     "read_only": false
    }
   },
   "outputs": [
    {
     "name": "stdout",
     "output_type": "stream",
     "text": [
      "Bonjour\n",
      "Bonsoir\n"
     ]
    }
   ],
   "source": [
    "for l in (\"jour\", \"soir\"):\n",
    "    print(\"Bon\", l, sep = \"\")"
   ]
  },
  {
   "cell_type": "markdown",
   "metadata": {
    "run_control": {
     "frozen": false,
     "read_only": false
    }
   },
   "source": [
    "La fonction `enumerate()` permet de récupérer à la fois les indices des valeurs et les valeurs. "
   ]
  },
  {
   "cell_type": "code",
   "execution_count": 15,
   "metadata": {
    "run_control": {
     "frozen": false,
     "read_only": false
    }
   },
   "outputs": [
    {
     "name": "stdout",
     "output_type": "stream",
     "text": [
      "i = 0 \tx = 3\n",
      "i = 1 \tx = 1\n",
      "i = 2 \tx = 9\n",
      "i = 3 \tx = 4\n"
     ]
    }
   ],
   "source": [
    "a = [3, 1, 9, 4]\n",
    "for i, x in enumerate(a):\n",
    "    print(\"i =\", i, \"\\tx =\", x)"
   ]
  },
  {
   "cell_type": "markdown",
   "metadata": {
    "run_control": {
     "frozen": false,
     "read_only": false
    }
   },
   "source": [
    "Et la fonction `zip()` permet elle de travailler sur plusieurs groupes de valeurs (ici deux listes). Notez que cette fonction limite le résultat à la taille du plus petit regroupement."
   ]
  },
  {
   "cell_type": "code",
   "execution_count": 16,
   "metadata": {
    "run_control": {
     "frozen": false,
     "read_only": false
    },
    "scrolled": true
   },
   "outputs": [
    {
     "name": "stdout",
     "output_type": "stream",
     "text": [
      " i = 3 \tj = trois\n",
      " i = 1 \tj = un\n",
      " i = 9 \tj = neuf\n"
     ]
    }
   ],
   "source": [
    "b = [\"trois\", \"un\", \"neuf\"]\n",
    "for i, j in zip(a, b):\n",
    "    print(\" i =\", i, \"\\tj =\", j)"
   ]
  },
  {
   "cell_type": "markdown",
   "metadata": {},
   "source": [
    "On peut aussi faire une boucle sur un dictionnaire, l'itérateur prenant les valeurs des champs de celui-ci."
   ]
  },
  {
   "cell_type": "code",
   "execution_count": 17,
   "metadata": {},
   "outputs": [
    {
     "name": "stdout",
     "output_type": "stream",
     "text": [
      "i = 0 \tjour(i) =  lundi\n",
      "i = 1 \tjour(i) =  mardi\n",
      "i = 2 \tjour(i) =  mercredi\n",
      "i = 3 \tjour(i) =  jeudi\n",
      "i = 4 \tjour(i) =  vendredi\n",
      "i = 5 \tjour(i) =  samedi\n",
      "i = 6 \tjour(i) =  dimanche\n"
     ]
    }
   ],
   "source": [
    "for i in jour:\n",
    "    print(\"i =\", i, \"\\tjour(i) = \", jour[i])"
   ]
  },
  {
   "cell_type": "markdown",
   "metadata": {
    "run_control": {
     "frozen": false,
     "read_only": false
    }
   },
   "source": [
    "Enfin, on dispose aussi de la boucle `while` qui teste en début de boucle si une condition est toujours vérifiée. Bien évidemment, à la fin de la boucle, `i` a la première valeur à rendre la condition fausse. Ici, `i += 1` est un raccourci pour `i = i + 1`."
   ]
  },
  {
   "cell_type": "code",
   "execution_count": 18,
   "metadata": {
    "run_control": {
     "frozen": false,
     "read_only": false
    }
   },
   "outputs": [
    {
     "name": "stdout",
     "output_type": "stream",
     "text": [
      "0\n",
      "1\n",
      "2\n",
      "3\n",
      "4\n",
      "5\n",
      "6\n",
      "7\n",
      "8\n",
      "9\n",
      "Valeur de i : 10\n"
     ]
    }
   ],
   "source": [
    "i = 0\n",
    "while i < 10:\n",
    "    print(i)\n",
    "    i += 1\n",
    "print(\"Valeur de i :\", i)"
   ]
  },
  {
   "cell_type": "markdown",
   "metadata": {
    "run_control": {
     "frozen": false,
     "read_only": false
    }
   },
   "source": [
    "## Création et manipulations d'objets \n",
    "\n",
    "Comme indiqué, il existe différents types d'objets en `python`. Sont présentés ici des exemples de créations et de manipulations de chaînes (`str`), de `tuples`, de `list` et de dictionnaires (`dict`).\n",
    "\n",
    "### Chaînes\n",
    "\n",
    "Une chaîne de caractère se définit à l'aide des quotes simples (`''`) ou doubles (`\"\"`). Par défaut, `python` présentera les chaînes avec des simples quotes. Mais en présence d'une apostrophe dans la chaîne, il faut la déclarer avec des doubles quotes. Il est possible de connaître la longueur de la chaîne avec la fonction `len()`."
   ]
  },
  {
   "cell_type": "code",
   "execution_count": 19,
   "metadata": {
    "run_control": {
     "frozen": false,
     "read_only": false
    }
   },
   "outputs": [
    {
     "data": {
      "text/plain": [
       "'bonjour'"
      ]
     },
     "execution_count": 19,
     "metadata": {},
     "output_type": "execute_result"
    }
   ],
   "source": [
    "\"bonjour\""
   ]
  },
  {
   "cell_type": "code",
   "execution_count": 20,
   "metadata": {
    "run_control": {
     "frozen": false,
     "read_only": false
    }
   },
   "outputs": [
    {
     "data": {
      "text/plain": [
       "\"aujourd'hui\""
      ]
     },
     "execution_count": 20,
     "metadata": {},
     "output_type": "execute_result"
    }
   ],
   "source": [
    "\"aujourd'hui\""
   ]
  },
  {
   "cell_type": "code",
   "execution_count": 21,
   "metadata": {
    "run_control": {
     "frozen": false,
     "read_only": false
    }
   },
   "outputs": [
    {
     "data": {
      "text/plain": [
       "7"
      ]
     },
     "execution_count": 21,
     "metadata": {},
     "output_type": "execute_result"
    }
   ],
   "source": [
    "a = 'bonjour'\n",
    "len(a)"
   ]
  },
  {
   "cell_type": "markdown",
   "metadata": {
    "run_control": {
     "frozen": false,
     "read_only": false
    }
   },
   "source": [
    "Pour extraire des sous-chaînes, on utilise l'indexation en séquence `python`, en prenant en compte que le premier caractère est en position `0`. La séquence par défaut est par pas de 1 (par exemple, `1:5` renvoie les positions `1`, `2`, `3`, `4`, `5`). Si on omet le premier ou le dernier, `python` comprend qu'on désire le début ou la fin de la chaîne. On peut ajouter un paramètre à la séquence, permettant de jouer sur le pas entre les valeurs de la séquence."
   ]
  },
  {
   "cell_type": "code",
   "execution_count": 22,
   "metadata": {
    "run_control": {
     "frozen": false,
     "read_only": false
    }
   },
   "outputs": [
    {
     "data": {
      "text/plain": [
       "'onjo'"
      ]
     },
     "execution_count": 22,
     "metadata": {},
     "output_type": "execute_result"
    }
   ],
   "source": [
    "a[1:5]"
   ]
  },
  {
   "cell_type": "code",
   "execution_count": 23,
   "metadata": {
    "run_control": {
     "frozen": false,
     "read_only": false
    }
   },
   "outputs": [
    {
     "data": {
      "text/plain": [
       "'bon'"
      ]
     },
     "execution_count": 23,
     "metadata": {},
     "output_type": "execute_result"
    }
   ],
   "source": [
    "a[0:3]"
   ]
  },
  {
   "cell_type": "code",
   "execution_count": 24,
   "metadata": {
    "run_control": {
     "frozen": false,
     "read_only": false
    }
   },
   "outputs": [
    {
     "data": {
      "text/plain": [
       "'bon'"
      ]
     },
     "execution_count": 24,
     "metadata": {},
     "output_type": "execute_result"
    }
   ],
   "source": [
    "a[:3]"
   ]
  },
  {
   "cell_type": "code",
   "execution_count": 25,
   "metadata": {
    "run_control": {
     "frozen": false,
     "read_only": false
    }
   },
   "outputs": [
    {
     "data": {
      "text/plain": [
       "'jour'"
      ]
     },
     "execution_count": 25,
     "metadata": {},
     "output_type": "execute_result"
    }
   ],
   "source": [
    "a[3:len(a)]"
   ]
  },
  {
   "cell_type": "code",
   "execution_count": 26,
   "metadata": {
    "run_control": {
     "frozen": false,
     "read_only": false
    }
   },
   "outputs": [
    {
     "data": {
      "text/plain": [
       "'jour'"
      ]
     },
     "execution_count": 26,
     "metadata": {},
     "output_type": "execute_result"
    }
   ],
   "source": [
    "a[3:]"
   ]
  },
  {
   "cell_type": "code",
   "execution_count": 27,
   "metadata": {
    "run_control": {
     "frozen": false,
     "read_only": false
    }
   },
   "outputs": [
    {
     "data": {
      "text/plain": [
       "'bonjour'"
      ]
     },
     "execution_count": 27,
     "metadata": {},
     "output_type": "execute_result"
    }
   ],
   "source": [
    "a[::]"
   ]
  },
  {
   "cell_type": "code",
   "execution_count": 28,
   "metadata": {
    "run_control": {
     "frozen": false,
     "read_only": false
    }
   },
   "outputs": [
    {
     "data": {
      "text/plain": [
       "'ruojnob'"
      ]
     },
     "execution_count": 28,
     "metadata": {},
     "output_type": "execute_result"
    }
   ],
   "source": [
    "a[::-1]"
   ]
  },
  {
   "cell_type": "code",
   "execution_count": 29,
   "metadata": {
    "run_control": {
     "frozen": false,
     "read_only": false
    }
   },
   "outputs": [
    {
     "data": {
      "text/plain": [
       "'bnor'"
      ]
     },
     "execution_count": 29,
     "metadata": {},
     "output_type": "execute_result"
    }
   ],
   "source": [
    "a[::2]"
   ]
  },
  {
   "cell_type": "code",
   "execution_count": 30,
   "metadata": {
    "run_control": {
     "frozen": false,
     "read_only": false
    }
   },
   "outputs": [
    {
     "data": {
      "text/plain": [
       "'oj'"
      ]
     },
     "execution_count": 30,
     "metadata": {},
     "output_type": "execute_result"
    }
   ],
   "source": [
    "a[1:5:2]"
   ]
  },
  {
   "cell_type": "code",
   "execution_count": 31,
   "metadata": {
    "run_control": {
     "frozen": false,
     "read_only": false
    }
   },
   "outputs": [
    {
     "data": {
      "text/plain": [
       "'uj'"
      ]
     },
     "execution_count": 31,
     "metadata": {},
     "output_type": "execute_result"
    }
   ],
   "source": [
    "a[5:1:-2]"
   ]
  },
  {
   "cell_type": "markdown",
   "metadata": {
    "run_control": {
     "frozen": false,
     "read_only": false
    }
   },
   "source": [
    "Sur ces chaînes, on peut réaliser un certain nombre d'opérations classiques, telles que le changement de casse (`upper()` ou `lower()`), la mise en majuscule des premières lettres de chaque mot (`capitalize()`), la recherche d'une sous-chaîne (`find()` - première occurence), le remplacement d'une sous-chaîne (`replace()`), le dénombrement de sous-chaînes (`count()`) ou le découpage en sous-chaînes selon un caractère (`split()`). En voici quelques exemples."
   ]
  },
  {
   "cell_type": "code",
   "execution_count": 32,
   "metadata": {
    "run_control": {
     "frozen": false,
     "read_only": false
    }
   },
   "outputs": [
    {
     "data": {
      "text/plain": [
       "'BONJOUR'"
      ]
     },
     "execution_count": 32,
     "metadata": {},
     "output_type": "execute_result"
    }
   ],
   "source": [
    "a.upper()"
   ]
  },
  {
   "cell_type": "code",
   "execution_count": 33,
   "metadata": {
    "run_control": {
     "frozen": false,
     "read_only": false
    }
   },
   "outputs": [
    {
     "data": {
      "text/plain": [
       "'Bonjour'"
      ]
     },
     "execution_count": 33,
     "metadata": {},
     "output_type": "execute_result"
    }
   ],
   "source": [
    "a.capitalize()"
   ]
  },
  {
   "cell_type": "code",
   "execution_count": 34,
   "metadata": {
    "run_control": {
     "frozen": false,
     "read_only": false
    }
   },
   "outputs": [
    {
     "data": {
      "text/plain": [
       "3"
      ]
     },
     "execution_count": 34,
     "metadata": {},
     "output_type": "execute_result"
    }
   ],
   "source": [
    "a.find('j')"
   ]
  },
  {
   "cell_type": "code",
   "execution_count": 35,
   "metadata": {
    "run_control": {
     "frozen": false,
     "read_only": false
    }
   },
   "outputs": [
    {
     "data": {
      "text/plain": [
       "'bonsoir'"
      ]
     },
     "execution_count": 35,
     "metadata": {},
     "output_type": "execute_result"
    }
   ],
   "source": [
    "a.replace('jour', 'soir')"
   ]
  },
  {
   "cell_type": "code",
   "execution_count": 36,
   "metadata": {
    "run_control": {
     "frozen": false,
     "read_only": false
    }
   },
   "outputs": [
    {
     "data": {
      "text/plain": [
       "2"
      ]
     },
     "execution_count": 36,
     "metadata": {},
     "output_type": "execute_result"
    }
   ],
   "source": [
    "a.count('o')"
   ]
  },
  {
   "cell_type": "code",
   "execution_count": 37,
   "metadata": {
    "run_control": {
     "frozen": false,
     "read_only": false
    }
   },
   "outputs": [
    {
     "data": {
      "text/plain": [
       "['bon', 'our']"
      ]
     },
     "execution_count": 37,
     "metadata": {},
     "output_type": "execute_result"
    }
   ],
   "source": [
    "a.split('j')"
   ]
  },
  {
   "cell_type": "markdown",
   "metadata": {
    "run_control": {
     "frozen": false,
     "read_only": false
    }
   },
   "source": [
    "### Tuples\n",
    "\n",
    "Un `tuple` en `python` est un ensemble déclaré via des `()`, composé de valeurs pas forcément de même type et éventuellement complexe, qu'il n'est pas possible de modifier. C'est en quelque sorte une constante, une fois déclarée.\n",
    "\n",
    "Il est possible d'utiliser les mêmes outils d'indexation en séquence vu pour les chaînes. \n",
    "\n",
    "### Listes\n",
    "\n",
    "Une `list` est aussi un ensemble déclarée via des `[]`, composé d'éléments pas forcément tous du même type et possiblement complexe. A la différence d'un tuple, une liste est modifiable."
   ]
  },
  {
   "cell_type": "code",
   "execution_count": 38,
   "metadata": {
    "run_control": {
     "frozen": false,
     "read_only": false
    }
   },
   "outputs": [
    {
     "name": "stdout",
     "output_type": "stream",
     "text": [
      "[3, 1, 9, 7]\n"
     ]
    }
   ],
   "source": [
    "a = [3, 1, 9, 7]\n",
    "print(a)"
   ]
  },
  {
   "cell_type": "code",
   "execution_count": 39,
   "metadata": {
    "run_control": {
     "frozen": false,
     "read_only": false
    }
   },
   "outputs": [
    {
     "data": {
      "text/plain": [
       "4"
      ]
     },
     "execution_count": 39,
     "metadata": {},
     "output_type": "execute_result"
    }
   ],
   "source": [
    "len(a)"
   ]
  },
  {
   "cell_type": "code",
   "execution_count": 40,
   "metadata": {
    "run_control": {
     "frozen": false,
     "read_only": false
    }
   },
   "outputs": [
    {
     "data": {
      "text/plain": [
       "3"
      ]
     },
     "execution_count": 40,
     "metadata": {},
     "output_type": "execute_result"
    }
   ],
   "source": [
    "a[0]"
   ]
  },
  {
   "cell_type": "code",
   "execution_count": 41,
   "metadata": {
    "run_control": {
     "frozen": false,
     "read_only": false
    }
   },
   "outputs": [
    {
     "data": {
      "text/plain": [
       "[1, 9]"
      ]
     },
     "execution_count": 41,
     "metadata": {},
     "output_type": "execute_result"
    }
   ],
   "source": [
    "a[1:3]"
   ]
  },
  {
   "cell_type": "markdown",
   "metadata": {
    "run_control": {
     "frozen": false,
     "read_only": false
    }
   },
   "source": [
    "Il est possible d'utiliser les mêmes outils d'indexation en séquence vu pour les chaînes. \n",
    "\n",
    "Nous disposons sur ces listes de plusieurs fonctions tels que `reverse()` (pour inverser la liste), `sort()` (tri, avec l'option `reverse` pour le choix du tri), `pop()` (pour récupérer et supprimer le dernier élément), `append()` (pour ajouter un élément à la fin), `insert()` (pour insérer un élément dans la liste, à la position indiquée - paramètres = position suivie de la valeur), `remove()` (pour supprimer les valeurs passées en paramètre). Toutes ces fonctions modifient directement la liste sur laquelle on les applique."
   ]
  },
  {
   "cell_type": "code",
   "execution_count": 42,
   "metadata": {
    "run_control": {
     "frozen": false,
     "read_only": false
    }
   },
   "outputs": [
    {
     "name": "stdout",
     "output_type": "stream",
     "text": [
      "[7, 9, 1, 3]\n"
     ]
    }
   ],
   "source": [
    "a.reverse()\n",
    "print(a)"
   ]
  },
  {
   "cell_type": "code",
   "execution_count": 43,
   "metadata": {
    "run_control": {
     "frozen": false,
     "read_only": false
    }
   },
   "outputs": [
    {
     "name": "stdout",
     "output_type": "stream",
     "text": [
      "[1, 3, 7, 9]\n"
     ]
    }
   ],
   "source": [
    "a.sort()\n",
    "print(a)"
   ]
  },
  {
   "cell_type": "code",
   "execution_count": 44,
   "metadata": {
    "run_control": {
     "frozen": false,
     "read_only": false
    }
   },
   "outputs": [
    {
     "name": "stdout",
     "output_type": "stream",
     "text": [
      "[9, 7, 3, 1]\n"
     ]
    }
   ],
   "source": [
    "a.sort(reverse=True)\n",
    "print(a)"
   ]
  },
  {
   "cell_type": "code",
   "execution_count": 45,
   "metadata": {
    "run_control": {
     "frozen": false,
     "read_only": false
    }
   },
   "outputs": [
    {
     "name": "stdout",
     "output_type": "stream",
     "text": [
      "[9, 7, 3]\n"
     ]
    }
   ],
   "source": [
    "a.pop()\n",
    "print(a)"
   ]
  },
  {
   "cell_type": "code",
   "execution_count": 46,
   "metadata": {
    "run_control": {
     "frozen": false,
     "read_only": false
    }
   },
   "outputs": [
    {
     "name": "stdout",
     "output_type": "stream",
     "text": [
      "[9, 7, 3, 5]\n"
     ]
    }
   ],
   "source": [
    "a.append(5)\n",
    "print(a)"
   ]
  },
  {
   "cell_type": "code",
   "execution_count": 47,
   "metadata": {
    "run_control": {
     "frozen": false,
     "read_only": false
    }
   },
   "outputs": [
    {
     "name": "stdout",
     "output_type": "stream",
     "text": [
      "[6, 9, 7, 3, 5]\n"
     ]
    }
   ],
   "source": [
    "a.insert(0, 6)\n",
    "print(a)"
   ]
  },
  {
   "cell_type": "code",
   "execution_count": 48,
   "metadata": {
    "run_control": {
     "frozen": false,
     "read_only": false
    }
   },
   "outputs": [
    {
     "name": "stdout",
     "output_type": "stream",
     "text": [
      "[6, 9, 3, 5]\n"
     ]
    }
   ],
   "source": [
    "a.remove(7)\n",
    "print(a)"
   ]
  },
  {
   "cell_type": "markdown",
   "metadata": {
    "run_control": {
     "frozen": false,
     "read_only": false
    }
   },
   "source": [
    "Un autre moyen d'insérer une valeur, voire plusieurs, à une liste est d'utiliser l'opérateur `+`, tel qu'indiqué ci-dessous. Celui-ci permet une concaténation des deux listes en une seule. L'opérateur `*` permet lui de répéter une liste autant de fois que désiré."
   ]
  },
  {
   "cell_type": "code",
   "execution_count": 49,
   "metadata": {
    "run_control": {
     "frozen": false,
     "read_only": false
    }
   },
   "outputs": [
    {
     "data": {
      "text/plain": [
       "[6, 9, 3, 5, 6, 9, 3, 5]"
      ]
     },
     "execution_count": 49,
     "metadata": {},
     "output_type": "execute_result"
    }
   ],
   "source": [
    "a + [1, 2]\n",
    "a * 2"
   ]
  },
  {
   "cell_type": "markdown",
   "metadata": {
    "run_control": {
     "frozen": false,
     "read_only": false
    }
   },
   "source": [
    "On peut utiliser un mécanisme spécifique, appelé *list comprehension* (fonctionnant aussi sur les chaînes et les tuples), permettant de récupérer les valeurs (ou un calcul sur chaque valeur) pour tous les éléments de la liste (ou certains si on applique un `if`)."
   ]
  },
  {
   "cell_type": "code",
   "execution_count": 50,
   "metadata": {
    "run_control": {
     "frozen": false,
     "read_only": false
    }
   },
   "outputs": [
    {
     "data": {
      "text/plain": [
       "[9, 1, 81, 49]"
      ]
     },
     "execution_count": 50,
     "metadata": {},
     "output_type": "execute_result"
    }
   ],
   "source": [
    "a = [3, 1, 9, 7]\n",
    "[x**2 for x in a]"
   ]
  },
  {
   "cell_type": "code",
   "execution_count": 51,
   "metadata": {
    "run_control": {
     "frozen": false,
     "read_only": false
    }
   },
   "outputs": [
    {
     "data": {
      "text/plain": [
       "[81, 49]"
      ]
     },
     "execution_count": 51,
     "metadata": {},
     "output_type": "execute_result"
    }
   ],
   "source": [
    "[x**2 for x in a if x >= 4]"
   ]
  },
  {
   "cell_type": "markdown",
   "metadata": {
    "run_control": {
     "frozen": false,
     "read_only": false
    }
   },
   "source": [
    "Par contre, il faut faire très attention au **passage de référence** lorsqu'on copie une liste. En effet, dans le code suivant, on copie `a` dans `b`. Et en modifiant `a`, on remarque que `b` est aussi modifié. Et l'inverse est aussi vrai."
   ]
  },
  {
   "cell_type": "code",
   "execution_count": 52,
   "metadata": {
    "run_control": {
     "frozen": false,
     "read_only": false
    }
   },
   "outputs": [
    {
     "name": "stdout",
     "output_type": "stream",
     "text": [
      "[1, 2, 3, 4]\n"
     ]
    }
   ],
   "source": [
    "a = [1, 2, 3, 4]\n",
    "print(a)"
   ]
  },
  {
   "cell_type": "code",
   "execution_count": 53,
   "metadata": {
    "run_control": {
     "frozen": false,
     "read_only": false
    }
   },
   "outputs": [
    {
     "name": "stdout",
     "output_type": "stream",
     "text": [
      "[1, 2, 3, 4]\n"
     ]
    }
   ],
   "source": [
    "b = a\n",
    "print(b)"
   ]
  },
  {
   "cell_type": "code",
   "execution_count": 54,
   "metadata": {
    "run_control": {
     "frozen": false,
     "read_only": false
    }
   },
   "outputs": [
    {
     "name": "stdout",
     "output_type": "stream",
     "text": [
      "[5, 2, 3, 4]\n",
      "[5, 2, 3, 4]\n"
     ]
    }
   ],
   "source": [
    "a[0] = 5\n",
    "print(a)\n",
    "print(b)"
   ]
  },
  {
   "cell_type": "code",
   "execution_count": 55,
   "metadata": {
    "run_control": {
     "frozen": false,
     "read_only": false
    }
   },
   "outputs": [
    {
     "name": "stdout",
     "output_type": "stream",
     "text": [
      "[5, 9, 3, 4]\n",
      "[5, 9, 3, 4]\n"
     ]
    }
   ],
   "source": [
    "b[1] = 9\n",
    "print(b)\n",
    "print(a)"
   ]
  },
  {
   "cell_type": "markdown",
   "metadata": {
    "run_control": {
     "frozen": false,
     "read_only": false
    }
   },
   "source": [
    "Pour remédier à ce problème, on doit duppliquer la liste avec la fonction `copy()` de la liste initiale, comme ci-dessous."
   ]
  },
  {
   "cell_type": "code",
   "execution_count": 56,
   "metadata": {
    "run_control": {
     "frozen": false,
     "read_only": false
    }
   },
   "outputs": [
    {
     "name": "stdout",
     "output_type": "stream",
     "text": [
      "[-1, 9, 3, 4]\n",
      "[5, 9, 3, 4]\n"
     ]
    }
   ],
   "source": [
    "b = a.copy()\n",
    "a[0] = -1\n",
    "print(a)\n",
    "print(b)"
   ]
  },
  {
   "cell_type": "markdown",
   "metadata": {
    "run_control": {
     "frozen": false,
     "read_only": false
    }
   },
   "source": [
    "### Dictionnaires\n",
    "\n",
    "Les **dictionnaires** (`dict` en `python`) sont des listes nommées (définies via des `{}`), c'est-à-dire que chaque élément a un nom (appelé aussi clé). Ces éléments ne sont pas forcément tous du même type, et peuvent aussi être complexe."
   ]
  },
  {
   "cell_type": "code",
   "execution_count": 57,
   "metadata": {
    "run_control": {
     "frozen": false,
     "read_only": false
    }
   },
   "outputs": [
    {
     "name": "stdout",
     "output_type": "stream",
     "text": [
      "{'nom': 'Jollois', 'prenom': 'FX', 'langues': ['R', 'Python', 'SQL', 'SAS'], 'labo': {'nom': 'LIPADE', 'lieu': 'CUSP'}}\n"
     ]
    },
    {
     "data": {
      "text/plain": [
       "4"
      ]
     },
     "execution_count": 57,
     "metadata": {},
     "output_type": "execute_result"
    }
   ],
   "source": [
    "a = { \"nom\": \"Jollois\", \"prenom\": \"FX\", \"langues\": [\"R\", \"Python\", \"SQL\", \"SAS\"], \"labo\": { \"nom\": \"LIPADE\", \"lieu\": \"CUSP\"}}\n",
    "print(a)\n",
    "len(a)"
   ]
  },
  {
   "cell_type": "markdown",
   "metadata": {
    "run_control": {
     "frozen": false,
     "read_only": false
    }
   },
   "source": [
    "Pour accéder aux éléments du dictionnaire, on peut utiliser le formalisme suivant."
   ]
  },
  {
   "cell_type": "code",
   "execution_count": 58,
   "metadata": {
    "run_control": {
     "frozen": false,
     "read_only": false
    }
   },
   "outputs": [
    {
     "data": {
      "text/plain": [
       "'Jollois'"
      ]
     },
     "execution_count": 58,
     "metadata": {},
     "output_type": "execute_result"
    }
   ],
   "source": [
    "a[\"nom\"]"
   ]
  },
  {
   "cell_type": "code",
   "execution_count": 59,
   "metadata": {
    "run_control": {
     "frozen": false,
     "read_only": false
    }
   },
   "outputs": [
    {
     "data": {
      "text/plain": [
       "['R', 'Python', 'SQL', 'SAS']"
      ]
     },
     "execution_count": 59,
     "metadata": {},
     "output_type": "execute_result"
    }
   ],
   "source": [
    "a[\"langues\"]"
   ]
  },
  {
   "cell_type": "code",
   "execution_count": 60,
   "metadata": {
    "run_control": {
     "frozen": false,
     "read_only": false
    }
   },
   "outputs": [
    {
     "data": {
      "text/plain": [
       "'R'"
      ]
     },
     "execution_count": 60,
     "metadata": {},
     "output_type": "execute_result"
    }
   ],
   "source": [
    "a[\"langues\"][0]"
   ]
  },
  {
   "cell_type": "code",
   "execution_count": 61,
   "metadata": {
    "run_control": {
     "frozen": false,
     "read_only": false
    }
   },
   "outputs": [
    {
     "data": {
      "text/plain": [
       "{'nom': 'LIPADE', 'lieu': 'CUSP'}"
      ]
     },
     "execution_count": 61,
     "metadata": {},
     "output_type": "execute_result"
    }
   ],
   "source": [
    "a[\"labo\"]"
   ]
  },
  {
   "cell_type": "code",
   "execution_count": 62,
   "metadata": {
    "run_control": {
     "frozen": false,
     "read_only": false
    }
   },
   "outputs": [
    {
     "data": {
      "text/plain": [
       "'CUSP'"
      ]
     },
     "execution_count": 62,
     "metadata": {},
     "output_type": "execute_result"
    }
   ],
   "source": [
    "a[\"labo\"][\"lieu\"]"
   ]
  },
  {
   "cell_type": "markdown",
   "metadata": {
    "run_control": {
     "frozen": false,
     "read_only": false
    }
   },
   "source": [
    "Il existe aussi des fonctions utiles sur ces objets, telles que `get()` (pour récupérer la valeur d'une clé), `keys()` (pour avoir la liste des clés de l'objet), `values()` (pour avoir les valeurs des clés, dans le même ordre que listé dans `keys()`), `popitem()` (pour récupérer un dictionnaire avec le dernier item, et le supprimer du dictionnaire initiale) et `pop()` (pour récupérer la valeur de l'item passé en paramètre, et le supprimer de l'élément de départ)."
   ]
  },
  {
   "cell_type": "code",
   "execution_count": 63,
   "metadata": {
    "run_control": {
     "frozen": false,
     "read_only": false
    }
   },
   "outputs": [
    {
     "data": {
      "text/plain": [
       "'Jollois'"
      ]
     },
     "execution_count": 63,
     "metadata": {},
     "output_type": "execute_result"
    }
   ],
   "source": [
    "a.get(\"nom\")"
   ]
  },
  {
   "cell_type": "code",
   "execution_count": 64,
   "metadata": {
    "run_control": {
     "frozen": false,
     "read_only": false
    }
   },
   "outputs": [
    {
     "data": {
      "text/plain": [
       "dict_keys(['nom', 'prenom', 'langues', 'labo'])"
      ]
     },
     "execution_count": 64,
     "metadata": {},
     "output_type": "execute_result"
    }
   ],
   "source": [
    "a.keys()"
   ]
  },
  {
   "cell_type": "code",
   "execution_count": 65,
   "metadata": {
    "run_control": {
     "frozen": false,
     "read_only": false
    }
   },
   "outputs": [
    {
     "data": {
      "text/plain": [
       "dict_values(['Jollois', 'FX', ['R', 'Python', 'SQL', 'SAS'], {'nom': 'LIPADE', 'lieu': 'CUSP'}])"
      ]
     },
     "execution_count": 65,
     "metadata": {},
     "output_type": "execute_result"
    }
   ],
   "source": [
    "a.values()"
   ]
  },
  {
   "cell_type": "code",
   "execution_count": 66,
   "metadata": {
    "run_control": {
     "frozen": false,
     "read_only": false
    }
   },
   "outputs": [
    {
     "data": {
      "text/plain": [
       "('labo', {'nom': 'LIPADE', 'lieu': 'CUSP'})"
      ]
     },
     "execution_count": 66,
     "metadata": {},
     "output_type": "execute_result"
    }
   ],
   "source": [
    "a.popitem()"
   ]
  },
  {
   "cell_type": "code",
   "execution_count": 67,
   "metadata": {
    "run_control": {
     "frozen": false,
     "read_only": false
    }
   },
   "outputs": [
    {
     "name": "stdout",
     "output_type": "stream",
     "text": [
      "{'nom': 'Jollois', 'prenom': 'FX', 'langues': ['R', 'Python', 'SQL', 'SAS']}\n"
     ]
    }
   ],
   "source": [
    "print(a)"
   ]
  },
  {
   "cell_type": "code",
   "execution_count": 68,
   "metadata": {
    "run_control": {
     "frozen": false,
     "read_only": false
    }
   },
   "outputs": [
    {
     "data": {
      "text/plain": [
       "'Jollois'"
      ]
     },
     "execution_count": 68,
     "metadata": {},
     "output_type": "execute_result"
    }
   ],
   "source": [
    "a.pop(\"nom\")"
   ]
  },
  {
   "cell_type": "code",
   "execution_count": 69,
   "metadata": {
    "run_control": {
     "frozen": false,
     "read_only": false
    }
   },
   "outputs": [
    {
     "name": "stdout",
     "output_type": "stream",
     "text": [
      "{'prenom': 'FX', 'langues': ['R', 'Python', 'SQL', 'SAS']}\n"
     ]
    }
   ],
   "source": [
    "print(a)"
   ]
  },
  {
   "cell_type": "markdown",
   "metadata": {
    "run_control": {
     "frozen": false,
     "read_only": false
    }
   },
   "source": [
    "On peut ajouter facilement un item à un dictionnaire, en lui affectant une valeur."
   ]
  },
  {
   "cell_type": "code",
   "execution_count": 70,
   "metadata": {
    "run_control": {
     "frozen": false,
     "read_only": false
    }
   },
   "outputs": [
    {
     "name": "stdout",
     "output_type": "stream",
     "text": [
      "{'prenom': 'FX', 'langues': ['R', 'Python', 'SQL', 'SAS'], 'type': 'MCF'}\n"
     ]
    }
   ],
   "source": [
    "a[\"type\"] = \"MCF\"\n",
    "print(a)"
   ]
  },
  {
   "cell_type": "markdown",
   "metadata": {
    "run_control": {
     "frozen": false,
     "read_only": false
    }
   },
   "source": [
    "De même que pour les listes, il faut faire attention lors de l'affectation d'un dictionnaire à un autre. La fonction `copy()` permet donc d'obtenir une copie indépendante de l'objet initial."
   ]
  },
  {
   "cell_type": "code",
   "execution_count": 71,
   "metadata": {
    "run_control": {
     "frozen": false,
     "read_only": false
    }
   },
   "outputs": [
    {
     "name": "stdout",
     "output_type": "stream",
     "text": [
      "{'prenom': 'Xavier', 'langues': ['R', 'Python', 'SQL', 'SAS'], 'type': 'MCF'}\n",
      "{'prenom': 'Xavier', 'langues': ['R', 'Python', 'SQL', 'SAS'], 'type': 'MCF'}\n"
     ]
    }
   ],
   "source": [
    "b = a\n",
    "b[\"prenom\"] = \"Xavier\"\n",
    "print(b)\n",
    "print(a)"
   ]
  },
  {
   "cell_type": "code",
   "execution_count": 72,
   "metadata": {
    "run_control": {
     "frozen": false,
     "read_only": false
    }
   },
   "outputs": [
    {
     "name": "stdout",
     "output_type": "stream",
     "text": [
      "{'prenom': 'FX', 'langues': ['R', 'Python', 'SQL', 'SAS'], 'type': 'MCF'}\n",
      "{'prenom': 'Xavier', 'langues': ['R', 'Python', 'SQL', 'SAS'], 'type': 'MCF'}\n"
     ]
    }
   ],
   "source": [
    "b = a.copy()\n",
    "b[\"prenom\"] = \"FX\"\n",
    "print(b)\n",
    "print(a)"
   ]
  },
  {
   "cell_type": "markdown",
   "metadata": {
    "run_control": {
     "frozen": false,
     "read_only": false
    }
   },
   "source": [
    "Le mécanisme de *list comprehension* est aussi utilisable pour créer un dictionnaire. Il faut dans ce cas indiquer deux valeus : la clé et sa valeur. Dans notre cas, la fonction `dict()` appliqué sur le résultat de la fonction `zip()` des deux listes nous permet d'avoir le même résultat."
   ]
  },
  {
   "cell_type": "code",
   "execution_count": 73,
   "metadata": {
    "run_control": {
     "frozen": false,
     "read_only": false
    }
   },
   "outputs": [
    {
     "data": {
      "text/plain": [
       "{'pommes': 5, 'bananes': 2, 'poires': 10, 'oranges': 4}"
      ]
     },
     "execution_count": 73,
     "metadata": {},
     "output_type": "execute_result"
    }
   ],
   "source": [
    "fruits = [\"pommes\", \"bananes\", \"poires\", \"oranges\"]\n",
    "nombres = [5, 2, 10, 4]\n",
    "{fruits[i]:nombres[i] for i in range(4)}\n",
    "dict(zip(fruits, nombres))"
   ]
  },
  {
   "cell_type": "markdown",
   "metadata": {
    "run_control": {
     "frozen": false,
     "read_only": false
    }
   },
   "source": [
    "## Fonctions\n",
    "\n",
    "### Définition\n",
    "\n",
    "L'opérateur `def` permet de créer une fonction (ou une procédure qui sera juste une fonction ne renvoyant rien). L'opérateur `return` indiquant le résultat à renvoyer le cas échéant. Le premier exemple est une fonction renvoyant une valeur (approximative) de $\\pi$. Comme pour un `if`, le bloc d'instructions est défini selon l'indentation."
   ]
  },
  {
   "cell_type": "code",
   "execution_count": 74,
   "metadata": {
    "run_control": {
     "frozen": false,
     "read_only": false
    }
   },
   "outputs": [
    {
     "data": {
      "text/plain": [
       "9.869606577649"
      ]
     },
     "execution_count": 74,
     "metadata": {},
     "output_type": "execute_result"
    }
   ],
   "source": [
    "def pi():\n",
    "    res = 3.141593 ** 2\n",
    "    return res\n",
    "pi()"
   ]
  },
  {
   "cell_type": "markdown",
   "metadata": {
    "run_control": {
     "frozen": false,
     "read_only": false
    }
   },
   "source": [
    "Ce deuxième exemple est une procédure affichant tout simplement `\"Bonjour\"`."
   ]
  },
  {
   "cell_type": "code",
   "execution_count": 75,
   "metadata": {
    "run_control": {
     "frozen": false,
     "read_only": false
    }
   },
   "outputs": [
    {
     "name": "stdout",
     "output_type": "stream",
     "text": [
      "Bonjour\n"
     ]
    }
   ],
   "source": [
    "def afficheBonjour():\n",
    "    print(\"Bonjour\")\n",
    "afficheBonjour()"
   ]
  },
  {
   "cell_type": "markdown",
   "metadata": {
    "run_control": {
     "frozen": false,
     "read_only": false
    }
   },
   "source": [
    "Il est bien évidemment possible de passer un paramètre à une fonction, sans qu'on ait à déclarer son type. Bien sûr, un appel de la fonction sans valeur pour un paramètre défini entraîne une erreur."
   ]
  },
  {
   "cell_type": "code",
   "execution_count": 76,
   "metadata": {
    "run_control": {
     "frozen": false,
     "read_only": false
    }
   },
   "outputs": [
    {
     "name": "stdout",
     "output_type": "stream",
     "text": [
      "Bonjour Jollois\n"
     ]
    }
   ],
   "source": [
    "def afficheBonjour(nom):\n",
    "    print(\"Bonjour\", nom)\n",
    "afficheBonjour(\"Jollois\")"
   ]
  },
  {
   "cell_type": "markdown",
   "metadata": {
    "run_control": {
     "frozen": false,
     "read_only": false
    }
   },
   "source": [
    "Lorqu'il y a plus d'un paramètre, on peut faire un appel classique. Mais il est aussi possible de nommer explicitement les paramètres. Avec ce mécanisme, il est ainsi possible de les déclarer dans l'ordre que l'on veut. Mais si l'on nomme un paramètre, il est obligatoire de nommer les autres (erreur d'exécution sinon)."
   ]
  },
  {
   "cell_type": "code",
   "execution_count": 77,
   "metadata": {
    "run_control": {
     "frozen": false,
     "read_only": false
    }
   },
   "outputs": [
    {
     "name": "stdout",
     "output_type": "stream",
     "text": [
      "Bonjour FX Jollois\n"
     ]
    }
   ],
   "source": [
    "def afficheBonjour(nom, prenom):\n",
    "    print(\"Bonjour\", prenom, nom)\n",
    "afficheBonjour(\"Jollois\", \"FX\")"
   ]
  },
  {
   "cell_type": "code",
   "execution_count": 78,
   "metadata": {
    "run_control": {
     "frozen": false,
     "read_only": false
    }
   },
   "outputs": [
    {
     "name": "stdout",
     "output_type": "stream",
     "text": [
      "Bonjour FX Jollois\n"
     ]
    }
   ],
   "source": [
    "afficheBonjour(nom = \"Jollois\", prenom = \"FX\")"
   ]
  },
  {
   "cell_type": "code",
   "execution_count": 79,
   "metadata": {
    "run_control": {
     "frozen": false,
     "read_only": false
    }
   },
   "outputs": [
    {
     "name": "stdout",
     "output_type": "stream",
     "text": [
      "Bonjour FX Jollois\n"
     ]
    }
   ],
   "source": [
    "afficheBonjour(prenom = \"FX\", nom = \"Jollois\")"
   ]
  },
  {
   "cell_type": "markdown",
   "metadata": {
    "run_control": {
     "frozen": false,
     "read_only": false
    }
   },
   "source": [
    "Il existe la possibilité de définir une valeur par défaut à un paramètre dans une fonction. Ceci permet d'appeler la fonction sans donner de valeur pour ce paramètre (la fonction utilisera celle par défaut donc). "
   ]
  },
  {
   "cell_type": "code",
   "execution_count": 80,
   "metadata": {
    "run_control": {
     "frozen": false,
     "read_only": false
    }
   },
   "outputs": [
    {
     "name": "stdout",
     "output_type": "stream",
     "text": [
      "Bonjour FX Jollois\n"
     ]
    }
   ],
   "source": [
    "def afficheBonjour(nom, prenom = \"?\"):\n",
    "    print(\"Bonjour\", prenom, nom)\n",
    "afficheBonjour(\"Jollois\", \"FX\")"
   ]
  },
  {
   "cell_type": "code",
   "execution_count": 81,
   "metadata": {
    "run_control": {
     "frozen": false,
     "read_only": false
    }
   },
   "outputs": [
    {
     "name": "stdout",
     "output_type": "stream",
     "text": [
      "Bonjour ? Jollois\n"
     ]
    }
   ],
   "source": [
    "afficheBonjour(\"Jollois\")"
   ]
  },
  {
   "cell_type": "markdown",
   "metadata": {
    "run_control": {
     "frozen": false,
     "read_only": false
    }
   },
   "source": [
    "### Pureté d'une fonction\n",
    "\n",
    "Une fonction est dite *pure* si elle n'a pas d'effet de bords lors de son appel. Dans la fonction `f1()` définie ci-dessous, le paramètre `a` est local et son affectation ne change pas la valeur de la variable `a` globale. `f1()` sera donc considérée comme pure."
   ]
  },
  {
   "cell_type": "code",
   "execution_count": 82,
   "metadata": {
    "run_control": {
     "frozen": false,
     "read_only": false
    }
   },
   "outputs": [
    {
     "name": "stdout",
     "output_type": "stream",
     "text": [
      "[0, 1, 2, 3, 4]\n",
      "[0, 1, 4, 9, 16]\n",
      "[0, 1, 2, 3, 4]\n"
     ]
    }
   ],
   "source": [
    "def f1(a):\n",
    "    a = [b**2 for b in a]\n",
    "    return a\n",
    "a = list(range(5))\n",
    "print(a)\n",
    "print(f1(a))\n",
    "print(a)"
   ]
  },
  {
   "cell_type": "markdown",
   "metadata": {
    "run_control": {
     "frozen": false,
     "read_only": false
    }
   },
   "source": [
    "Maintenant, si nous définissons la fonction comme `f2()` ci-dessous, nous remarquons que la variable `a` globale est modifiée suite à l'appel de la fonction. `f2()` est considérée *impure*."
   ]
  },
  {
   "cell_type": "code",
   "execution_count": 83,
   "metadata": {
    "run_control": {
     "frozen": false,
     "read_only": false
    }
   },
   "outputs": [
    {
     "name": "stdout",
     "output_type": "stream",
     "text": [
      "[0, 1, 2, 3, 4]\n",
      "[0, 1, 4, 9, 16]\n",
      "[0, 1, 4, 9, 16]\n"
     ]
    }
   ],
   "source": [
    "def f2(a):\n",
    "    for i in a:\n",
    "        a[i] = a[i] ** 2\n",
    "    return a\n",
    "a = list(range(5))\n",
    "print(a)\n",
    "print(f2(a))\n",
    "print(a)"
   ]
  },
  {
   "cell_type": "markdown",
   "metadata": {
    "run_control": {
     "frozen": false,
     "read_only": false
    }
   },
   "source": [
    "### Gestion des erreurs\n",
    "\n",
    "Il arrive régulièrement que l'on doive gérer les erreurs d'exécution dans une fonction. On utilise pour cela l'opérateur `try`, qui contiendra le code à exécuter normalement. Et dans le bloc `except`, on indiquera la marche à suivre en cas d'erreur lors de l'exécution du `try`. On peut définir une suite d'instruction à réaliser après la gestion de l'erreur avec un bloc `finally` (optionnel).\n",
    "\n",
    "Ci-dessous, nous définissons une fonction renvoyant la somme d'une liste ou d'un tuple. Si la somme est impossible à réaliser (par exemple, car il y a une chaîne dans la liste passée en paramètre), on affiche un message d'erreur et on renvoie la valeur `None`."
   ]
  },
  {
   "cell_type": "code",
   "execution_count": 84,
   "metadata": {
    "run_control": {
     "frozen": false,
     "read_only": false
    }
   },
   "outputs": [
    {
     "name": "stdout",
     "output_type": "stream",
     "text": [
      "9\n",
      "Erreur : somme impossible !\n",
      "None\n"
     ]
    }
   ],
   "source": [
    "def somme(v):\n",
    "    try:\n",
    "        res = sum(v)\n",
    "    except:\n",
    "        print(\"Erreur : somme impossible !\")\n",
    "        res = None\n",
    "    finally:\n",
    "        return res\n",
    "a = somme([1, 3, 5])\n",
    "print(a)\n",
    "a = somme([\"un\", 3, 5])\n",
    "print(a)"
   ]
  },
  {
   "cell_type": "markdown",
   "metadata": {
    "run_control": {
     "frozen": false,
     "read_only": false
    }
   },
   "source": [
    "### Fonctions sur Listes\n",
    "\n",
    "Dans le cadre de l'utilisation de liste, il est nécessaire d'utiliser des fonctions particulières, dites *high order functions*. Ces dernières prennent en paramètre une fonction et une liste.\n",
    "\n",
    "Pour les exemples, nous définissons une liste de nombres."
   ]
  },
  {
   "cell_type": "code",
   "execution_count": 85,
   "metadata": {
    "run_control": {
     "frozen": false,
     "read_only": false
    }
   },
   "outputs": [
    {
     "name": "stdout",
     "output_type": "stream",
     "text": [
      "[13, 7, 2, 9, 1, 10, 6, 3, 8]\n"
     ]
    }
   ],
   "source": [
    "a = [13, 7, 2, 9, 1, 10, 6, 3, 8]\n",
    "print(a)"
   ]
  },
  {
   "cell_type": "markdown",
   "metadata": {
    "run_control": {
     "frozen": false,
     "read_only": false
    }
   },
   "source": [
    "#### `map()`\n",
    "\n",
    "La fonction `map()` permet d'appliquer une fonction sur chaque élément d'une liste (ou d'un tuple). Elle renvoie un objet de type `map` que l'on peut transformer en liste avec la fonction `list()`. Une fois celle-ci appliqué, l'objet renvoyé par `map()` est vide.\n",
    "\n",
    "Ici, nous définissons une fonction `carre()` qui renvoie le carré du paramètre passé. Et nous l'appliquons sur chaque élément de la liste `a` créé précédemment."
   ]
  },
  {
   "cell_type": "code",
   "execution_count": 86,
   "metadata": {
    "run_control": {
     "frozen": false,
     "read_only": false
    }
   },
   "outputs": [
    {
     "data": {
      "text/plain": [
       "25"
      ]
     },
     "execution_count": 86,
     "metadata": {},
     "output_type": "execute_result"
    }
   ],
   "source": [
    "def carre(v):\n",
    "    return v ** 2\n",
    "carre(5)"
   ]
  },
  {
   "cell_type": "code",
   "execution_count": 87,
   "metadata": {
    "run_control": {
     "frozen": false,
     "read_only": false
    }
   },
   "outputs": [
    {
     "name": "stdout",
     "output_type": "stream",
     "text": [
      "[169, 49, 4, 81, 1, 100, 36, 9, 64]\n"
     ]
    }
   ],
   "source": [
    "b = map(carre, a)\n",
    "print(list(b))"
   ]
  },
  {
   "cell_type": "markdown",
   "metadata": {
    "run_control": {
     "frozen": false,
     "read_only": false
    }
   },
   "source": [
    "#### `filter()`\n",
    "\n",
    "L'idée de la fonction `filter()` est de filtrer les valeurs de la liste, en fonction du résultat de la fonction passée en paramètre. De même que pour `map()`, nous listons les résultats pour l'avoir sous une forme de `list`.\n",
    "\n",
    "La fonction `pair()` ci-dessous teste si la valeur passée en paramètre est divisible par 2 (donc si elle est paire). L'utlisation de la fonction `filter()` sur `a`, avec cette fonction, nous renvoie les valeurs de `a` paires."
   ]
  },
  {
   "cell_type": "code",
   "execution_count": 88,
   "metadata": {
    "run_control": {
     "frozen": false,
     "read_only": false
    }
   },
   "outputs": [
    {
     "data": {
      "text/plain": [
       "True"
      ]
     },
     "execution_count": 88,
     "metadata": {},
     "output_type": "execute_result"
    }
   ],
   "source": [
    "def pair(v):\n",
    "    return v%2 == 0\n",
    "pair(5)\n",
    "pair(8)"
   ]
  },
  {
   "cell_type": "code",
   "execution_count": 89,
   "metadata": {
    "run_control": {
     "frozen": false,
     "read_only": false
    }
   },
   "outputs": [
    {
     "name": "stdout",
     "output_type": "stream",
     "text": [
      "[2, 10, 6, 8]\n"
     ]
    }
   ],
   "source": [
    "b = filter(pair, a)\n",
    "print(list(b))"
   ]
  },
  {
   "cell_type": "markdown",
   "metadata": {
    "run_control": {
     "frozen": false,
     "read_only": false
    }
   },
   "source": [
    "#### `reduce()`\n",
    "\n",
    "La dernière fonction intéressante sur les listes est `reduce()`, permettant de réduire une liste en une valeur. Elle est contenue dans le module `functools`, qu'on importe via la commande `import`.\n",
    "\n",
    "La fonction à passer en paramètre doit donc prendre deux valeurs et renvoyer une valeur de même type. Le deuxième paramètre est la liste sur laquelle appliquer la réduction. Il est aussi possible d'ajouter une valeur initiale.\n",
    "\n",
    "Cette fonction `reduce()` regroupe deux éléments de liste ensemble, puis regroupe le résultat précédent avec l'élément suivant, et ainsi de suite, jsuq'à épuisement de la liste.\n",
    "\n",
    "Voici un exemple d'utilisation de `reduce()` pour le calcul de la somme des éléments d'une liste. On définit la fonction `somme()` qui prend deux éléments et qui renvoie la somme de deux. On l'applique, via `reduce()` sur la liste. Le résultat obtenu est bien la somme sur `a`. Le deuxième appel est avec une valeur initialisée à 100."
   ]
  },
  {
   "cell_type": "code",
   "execution_count": 90,
   "metadata": {
    "run_control": {
     "frozen": false,
     "read_only": false
    }
   },
   "outputs": [
    {
     "data": {
      "text/plain": [
       "13"
      ]
     },
     "execution_count": 90,
     "metadata": {},
     "output_type": "execute_result"
    }
   ],
   "source": [
    "def somme(v1, v2): \n",
    "    return v1 + v2\n",
    "somme(3, 10)"
   ]
  },
  {
   "cell_type": "code",
   "execution_count": 91,
   "metadata": {
    "run_control": {
     "frozen": false,
     "read_only": false
    }
   },
   "outputs": [
    {
     "data": {
      "text/plain": [
       "59"
      ]
     },
     "execution_count": 91,
     "metadata": {},
     "output_type": "execute_result"
    }
   ],
   "source": [
    "sum(a)"
   ]
  },
  {
   "cell_type": "code",
   "execution_count": 92,
   "metadata": {
    "run_control": {
     "frozen": false,
     "read_only": false
    }
   },
   "outputs": [
    {
     "name": "stdout",
     "output_type": "stream",
     "text": [
      "59\n"
     ]
    }
   ],
   "source": [
    "import functools\n",
    "b = functools.reduce(somme, a)\n",
    "print(b)"
   ]
  },
  {
   "cell_type": "code",
   "execution_count": 93,
   "metadata": {
    "run_control": {
     "frozen": false,
     "read_only": false
    }
   },
   "outputs": [
    {
     "name": "stdout",
     "output_type": "stream",
     "text": [
      "159\n"
     ]
    }
   ],
   "source": [
    "b = functools.reduce(somme, a, 100)\n",
    "print(b)"
   ]
  },
  {
   "cell_type": "markdown",
   "metadata": {
    "run_control": {
     "frozen": false,
     "read_only": false
    }
   },
   "source": [
    "#### Fonction anonyme\n",
    "\n",
    "Dans ces appels de fonctions, il est courant de passer en paramètre une fonction simple. Dans ce cadre, il existe un mécanisme évitant la déclaration de la fonction avant. On parle de *fonction anonyme*, déclarée via l'opérateur `lambda`. Le principe est de définir la fonction lors de son passage comme paramètre. La contrainte est que cette fonction doit tenir sur une seule ligne.\n",
    "\n",
    "Dans l'exemple qui suit, nous appliquons une fonction calculant le carré d'une valeur à une liste, via la fonction `map()`."
   ]
  },
  {
   "cell_type": "code",
   "execution_count": 94,
   "metadata": {
    "run_control": {
     "frozen": false,
     "read_only": false
    }
   },
   "outputs": [
    {
     "name": "stdout",
     "output_type": "stream",
     "text": [
      "[169, 49, 4, 81, 1, 100, 36, 9, 64]\n"
     ]
    }
   ],
   "source": [
    "b = map(lambda v: v ** 2, a)\n",
    "print(list(b))"
   ]
  },
  {
   "cell_type": "markdown",
   "metadata": {
    "run_control": {
     "frozen": false,
     "read_only": false
    }
   },
   "source": [
    "Il est possible d'ajouter une condition `if` dans la fonction `lambda` avec un formalisme de type `valeurTrue if condition else valeurFalse`. Ci-après, nous calculons le carré de chaque valeur, multiplié par `-1` pour celles inférieur ou égale à 8."
   ]
  },
  {
   "cell_type": "code",
   "execution_count": 95,
   "metadata": {
    "run_control": {
     "frozen": false,
     "read_only": false
    }
   },
   "outputs": [
    {
     "name": "stdout",
     "output_type": "stream",
     "text": [
      "[169, -49, -4, 81, -1, 100, -36, -9, -64]\n"
     ]
    }
   ],
   "source": [
    "b = map(lambda v: v **2 if v > 8 else -(v ** 2), a)\n",
    "print(list(b))"
   ]
  },
  {
   "cell_type": "markdown",
   "metadata": {},
   "source": [
    "## Manipulation de données\n",
    "\n",
    "Nous allons utiliser dans ce TP le module `pandas` permettant la gestion de données avec Python dans un format (individus décrits par des variables) plus classique pour les méthodes statistiques. \n",
    "\n",
    "### Importation de données avec `pandas`\n",
    "\n",
    "Nous allons travailler sur les données [tips](tips.csv). Vous pouvez trouver des informations ([ici](https://www.rdocumentation.org/packages/reshape2/versions/1.4.2/topics/tips)). Voici comment lire ces données dans `python` avec `read_csv()` de `pandas`."
   ]
  },
  {
   "cell_type": "code",
   "execution_count": 96,
   "metadata": {},
   "outputs": [
    {
     "data": {
      "text/html": [
       "<div>\n",
       "<style scoped>\n",
       "    .dataframe tbody tr th:only-of-type {\n",
       "        vertical-align: middle;\n",
       "    }\n",
       "\n",
       "    .dataframe tbody tr th {\n",
       "        vertical-align: top;\n",
       "    }\n",
       "\n",
       "    .dataframe thead th {\n",
       "        text-align: right;\n",
       "    }\n",
       "</style>\n",
       "<table border=\"1\" class=\"dataframe\">\n",
       "  <thead>\n",
       "    <tr style=\"text-align: right;\">\n",
       "      <th></th>\n",
       "      <th>total_bill</th>\n",
       "      <th>tip</th>\n",
       "      <th>sex</th>\n",
       "      <th>smoker</th>\n",
       "      <th>day</th>\n",
       "      <th>time</th>\n",
       "      <th>size</th>\n",
       "    </tr>\n",
       "  </thead>\n",
       "  <tbody>\n",
       "    <tr>\n",
       "      <td>0</td>\n",
       "      <td>16.99</td>\n",
       "      <td>1.01</td>\n",
       "      <td>Female</td>\n",
       "      <td>No</td>\n",
       "      <td>Sun</td>\n",
       "      <td>Dinner</td>\n",
       "      <td>2</td>\n",
       "    </tr>\n",
       "    <tr>\n",
       "      <td>1</td>\n",
       "      <td>10.34</td>\n",
       "      <td>1.66</td>\n",
       "      <td>Male</td>\n",
       "      <td>No</td>\n",
       "      <td>Sun</td>\n",
       "      <td>Dinner</td>\n",
       "      <td>3</td>\n",
       "    </tr>\n",
       "    <tr>\n",
       "      <td>2</td>\n",
       "      <td>21.01</td>\n",
       "      <td>3.50</td>\n",
       "      <td>Male</td>\n",
       "      <td>No</td>\n",
       "      <td>Sun</td>\n",
       "      <td>Dinner</td>\n",
       "      <td>3</td>\n",
       "    </tr>\n",
       "    <tr>\n",
       "      <td>3</td>\n",
       "      <td>23.68</td>\n",
       "      <td>3.31</td>\n",
       "      <td>Male</td>\n",
       "      <td>No</td>\n",
       "      <td>Sun</td>\n",
       "      <td>Dinner</td>\n",
       "      <td>2</td>\n",
       "    </tr>\n",
       "    <tr>\n",
       "      <td>4</td>\n",
       "      <td>24.59</td>\n",
       "      <td>3.61</td>\n",
       "      <td>Female</td>\n",
       "      <td>No</td>\n",
       "      <td>Sun</td>\n",
       "      <td>Dinner</td>\n",
       "      <td>4</td>\n",
       "    </tr>\n",
       "  </tbody>\n",
       "</table>\n",
       "</div>"
      ],
      "text/plain": [
       "   total_bill   tip     sex smoker  day    time  size\n",
       "0       16.99  1.01  Female     No  Sun  Dinner     2\n",
       "1       10.34  1.66    Male     No  Sun  Dinner     3\n",
       "2       21.01  3.50    Male     No  Sun  Dinner     3\n",
       "3       23.68  3.31    Male     No  Sun  Dinner     2\n",
       "4       24.59  3.61  Female     No  Sun  Dinner     4"
      ]
     },
     "execution_count": 96,
     "metadata": {},
     "output_type": "execute_result"
    }
   ],
   "source": [
    "import pandas\n",
    "\n",
    "# Lecture d'un fichier texte\n",
    "tips = pandas.read_csv(\"tips.csv\", header = 0, sep = \",\")\n",
    "tips.head()"
   ]
  },
  {
   "cell_type": "markdown",
   "metadata": {},
   "source": [
    "Sur ces données, il est bien évidemment possible de voir quelques informations classiques."
   ]
  },
  {
   "cell_type": "code",
   "execution_count": 97,
   "metadata": {},
   "outputs": [
    {
     "data": {
      "text/plain": [
       "pandas.core.frame.DataFrame"
      ]
     },
     "execution_count": 97,
     "metadata": {},
     "output_type": "execute_result"
    }
   ],
   "source": [
    "# Type de la variable\n",
    "type(tips)"
   ]
  },
  {
   "cell_type": "code",
   "execution_count": 98,
   "metadata": {},
   "outputs": [
    {
     "data": {
      "text/plain": [
       "(244, 7)"
      ]
     },
     "execution_count": 98,
     "metadata": {},
     "output_type": "execute_result"
    }
   ],
   "source": [
    "# nombre de lignes et de colonnes de la table\n",
    "tips.shape"
   ]
  },
  {
   "cell_type": "code",
   "execution_count": 99,
   "metadata": {},
   "outputs": [
    {
     "data": {
      "text/plain": [
       "total_bill    244\n",
       "tip           244\n",
       "sex           244\n",
       "smoker        244\n",
       "day           244\n",
       "time          244\n",
       "size          244\n",
       "dtype: int64"
      ]
     },
     "execution_count": 99,
     "metadata": {},
     "output_type": "execute_result"
    }
   ],
   "source": [
    "# nombre de valeurs présentes dans chaque colonne\n",
    "tips.count()"
   ]
  },
  {
   "cell_type": "code",
   "execution_count": 100,
   "metadata": {},
   "outputs": [
    {
     "name": "stdout",
     "output_type": "stream",
     "text": [
      "<class 'pandas.core.frame.DataFrame'>\n",
      "RangeIndex: 244 entries, 0 to 243\n",
      "Data columns (total 7 columns):\n",
      "total_bill    244 non-null float64\n",
      "tip           244 non-null float64\n",
      "sex           244 non-null object\n",
      "smoker        244 non-null object\n",
      "day           244 non-null object\n",
      "time          244 non-null object\n",
      "size          244 non-null int64\n",
      "dtypes: float64(2), int64(1), object(4)\n",
      "memory usage: 13.5+ KB\n"
     ]
    }
   ],
   "source": [
    "# détail complet de la table\n",
    "tips.info()"
   ]
  },
  {
   "cell_type": "code",
   "execution_count": 101,
   "metadata": {},
   "outputs": [
    {
     "data": {
      "text/plain": [
       "['total_bill', 'tip', 'sex', 'smoker', 'day', 'time', 'size']"
      ]
     },
     "execution_count": 101,
     "metadata": {},
     "output_type": "execute_result"
    }
   ],
   "source": [
    "# nom des colonnes (au format liste)\n",
    "list(tips.columns)"
   ]
  },
  {
   "cell_type": "code",
   "execution_count": 102,
   "metadata": {},
   "outputs": [
    {
     "data": {
      "text/plain": [
       "['total_bill', 'tip', 'sex', 'smoker', 'day', 'time', 'size']"
      ]
     },
     "execution_count": 102,
     "metadata": {},
     "output_type": "execute_result"
    }
   ],
   "source": [
    "# idem\n",
    "list(tips)"
   ]
  },
  {
   "cell_type": "markdown",
   "metadata": {},
   "source": [
    "### Manipulation *à la SQL*\n",
    "\n",
    "Une fois qu'on a des données, la première chose qu'on souhaite savoir faire souvent, est de pouvoir manipuler ces données; C'est-à-dire réaliser les opérations classiques en bases de données, à savoir :\n",
    "\n",
    "- Restriction\n",
    "- Projection\n",
    "- Tri et limitation des résultats\n",
    "- Ajout de nouvelles variables (via des valeurs ou un calcul à partir des autres)\n",
    "- Agrégats\n",
    "- Jointures (qui ne seront pas vues ici)\n",
    "\n",
    "Il y a d'autres opérations, spécifiques à Python, qu'on ne verra pas ici. La dernière opération que l'on verra est la modification de la *forme* du tableau de données.\n",
    "\n",
    "*Note Bene* : certaines fonctions renvoient un nouvel objet qu'il faudra donc stocker dans une variable (nouvelle ou la même). Par contre, d'autres fonctions modifient directement l'objet en question.\n",
    "\n",
    "### Restriction\n",
    "\n",
    "Première étape essentiel, cela consiste à sélectionner un certain nombre de lignes de la table, selon une condition sur les valeurs des variables. Il exite pour cela la fonction `query()` prenant en paramètre une chaîne de caractères contenant la condition à appliquer. Voici quelques exemples de condition. Il y a bien évidemment beaucoup d'autres fonctions existantes, en particuliers pour les chaînes."
   ]
  },
  {
   "cell_type": "code",
   "execution_count": 103,
   "metadata": {},
   "outputs": [
    {
     "data": {
      "text/html": [
       "<div>\n",
       "<style scoped>\n",
       "    .dataframe tbody tr th:only-of-type {\n",
       "        vertical-align: middle;\n",
       "    }\n",
       "\n",
       "    .dataframe tbody tr th {\n",
       "        vertical-align: top;\n",
       "    }\n",
       "\n",
       "    .dataframe thead th {\n",
       "        text-align: right;\n",
       "    }\n",
       "</style>\n",
       "<table border=\"1\" class=\"dataframe\">\n",
       "  <thead>\n",
       "    <tr style=\"text-align: right;\">\n",
       "      <th></th>\n",
       "      <th>total_bill</th>\n",
       "      <th>tip</th>\n",
       "      <th>sex</th>\n",
       "      <th>smoker</th>\n",
       "      <th>day</th>\n",
       "      <th>time</th>\n",
       "      <th>size</th>\n",
       "    </tr>\n",
       "  </thead>\n",
       "  <tbody>\n",
       "    <tr>\n",
       "      <td>59</td>\n",
       "      <td>48.27</td>\n",
       "      <td>6.73</td>\n",
       "      <td>Male</td>\n",
       "      <td>No</td>\n",
       "      <td>Sat</td>\n",
       "      <td>Dinner</td>\n",
       "      <td>4</td>\n",
       "    </tr>\n",
       "    <tr>\n",
       "      <td>156</td>\n",
       "      <td>48.17</td>\n",
       "      <td>5.00</td>\n",
       "      <td>Male</td>\n",
       "      <td>No</td>\n",
       "      <td>Sun</td>\n",
       "      <td>Dinner</td>\n",
       "      <td>6</td>\n",
       "    </tr>\n",
       "    <tr>\n",
       "      <td>170</td>\n",
       "      <td>50.81</td>\n",
       "      <td>10.00</td>\n",
       "      <td>Male</td>\n",
       "      <td>Yes</td>\n",
       "      <td>Sat</td>\n",
       "      <td>Dinner</td>\n",
       "      <td>3</td>\n",
       "    </tr>\n",
       "    <tr>\n",
       "      <td>212</td>\n",
       "      <td>48.33</td>\n",
       "      <td>9.00</td>\n",
       "      <td>Male</td>\n",
       "      <td>No</td>\n",
       "      <td>Sat</td>\n",
       "      <td>Dinner</td>\n",
       "      <td>4</td>\n",
       "    </tr>\n",
       "  </tbody>\n",
       "</table>\n",
       "</div>"
      ],
      "text/plain": [
       "     total_bill    tip   sex smoker  day    time  size\n",
       "59        48.27   6.73  Male     No  Sat  Dinner     4\n",
       "156       48.17   5.00  Male     No  Sun  Dinner     6\n",
       "170       50.81  10.00  Male    Yes  Sat  Dinner     3\n",
       "212       48.33   9.00  Male     No  Sat  Dinner     4"
      ]
     },
     "execution_count": 103,
     "metadata": {},
     "output_type": "execute_result"
    }
   ],
   "source": [
    "tips.query('total_bill > 48') # que les factures de plus de 48$"
   ]
  },
  {
   "cell_type": "code",
   "execution_count": 104,
   "metadata": {},
   "outputs": [
    {
     "data": {
      "text/html": [
       "<div>\n",
       "<style scoped>\n",
       "    .dataframe tbody tr th:only-of-type {\n",
       "        vertical-align: middle;\n",
       "    }\n",
       "\n",
       "    .dataframe tbody tr th {\n",
       "        vertical-align: top;\n",
       "    }\n",
       "\n",
       "    .dataframe thead th {\n",
       "        text-align: right;\n",
       "    }\n",
       "</style>\n",
       "<table border=\"1\" class=\"dataframe\">\n",
       "  <thead>\n",
       "    <tr style=\"text-align: right;\">\n",
       "      <th></th>\n",
       "      <th>total_bill</th>\n",
       "      <th>tip</th>\n",
       "      <th>sex</th>\n",
       "      <th>smoker</th>\n",
       "      <th>day</th>\n",
       "      <th>time</th>\n",
       "      <th>size</th>\n",
       "    </tr>\n",
       "  </thead>\n",
       "  <tbody>\n",
       "    <tr>\n",
       "      <td>0</td>\n",
       "      <td>16.99</td>\n",
       "      <td>1.01</td>\n",
       "      <td>Female</td>\n",
       "      <td>No</td>\n",
       "      <td>Sun</td>\n",
       "      <td>Dinner</td>\n",
       "      <td>2</td>\n",
       "    </tr>\n",
       "    <tr>\n",
       "      <td>1</td>\n",
       "      <td>10.34</td>\n",
       "      <td>1.66</td>\n",
       "      <td>Male</td>\n",
       "      <td>No</td>\n",
       "      <td>Sun</td>\n",
       "      <td>Dinner</td>\n",
       "      <td>3</td>\n",
       "    </tr>\n",
       "    <tr>\n",
       "      <td>2</td>\n",
       "      <td>21.01</td>\n",
       "      <td>3.50</td>\n",
       "      <td>Male</td>\n",
       "      <td>No</td>\n",
       "      <td>Sun</td>\n",
       "      <td>Dinner</td>\n",
       "      <td>3</td>\n",
       "    </tr>\n",
       "    <tr>\n",
       "      <td>3</td>\n",
       "      <td>23.68</td>\n",
       "      <td>3.31</td>\n",
       "      <td>Male</td>\n",
       "      <td>No</td>\n",
       "      <td>Sun</td>\n",
       "      <td>Dinner</td>\n",
       "      <td>2</td>\n",
       "    </tr>\n",
       "    <tr>\n",
       "      <td>4</td>\n",
       "      <td>24.59</td>\n",
       "      <td>3.61</td>\n",
       "      <td>Female</td>\n",
       "      <td>No</td>\n",
       "      <td>Sun</td>\n",
       "      <td>Dinner</td>\n",
       "      <td>4</td>\n",
       "    </tr>\n",
       "    <tr>\n",
       "      <td>...</td>\n",
       "      <td>...</td>\n",
       "      <td>...</td>\n",
       "      <td>...</td>\n",
       "      <td>...</td>\n",
       "      <td>...</td>\n",
       "      <td>...</td>\n",
       "      <td>...</td>\n",
       "    </tr>\n",
       "    <tr>\n",
       "      <td>238</td>\n",
       "      <td>35.83</td>\n",
       "      <td>4.67</td>\n",
       "      <td>Female</td>\n",
       "      <td>No</td>\n",
       "      <td>Sat</td>\n",
       "      <td>Dinner</td>\n",
       "      <td>3</td>\n",
       "    </tr>\n",
       "    <tr>\n",
       "      <td>239</td>\n",
       "      <td>29.03</td>\n",
       "      <td>5.92</td>\n",
       "      <td>Male</td>\n",
       "      <td>No</td>\n",
       "      <td>Sat</td>\n",
       "      <td>Dinner</td>\n",
       "      <td>3</td>\n",
       "    </tr>\n",
       "    <tr>\n",
       "      <td>240</td>\n",
       "      <td>27.18</td>\n",
       "      <td>2.00</td>\n",
       "      <td>Female</td>\n",
       "      <td>Yes</td>\n",
       "      <td>Sat</td>\n",
       "      <td>Dinner</td>\n",
       "      <td>2</td>\n",
       "    </tr>\n",
       "    <tr>\n",
       "      <td>241</td>\n",
       "      <td>22.67</td>\n",
       "      <td>2.00</td>\n",
       "      <td>Male</td>\n",
       "      <td>Yes</td>\n",
       "      <td>Sat</td>\n",
       "      <td>Dinner</td>\n",
       "      <td>2</td>\n",
       "    </tr>\n",
       "    <tr>\n",
       "      <td>242</td>\n",
       "      <td>17.82</td>\n",
       "      <td>1.75</td>\n",
       "      <td>Male</td>\n",
       "      <td>No</td>\n",
       "      <td>Sat</td>\n",
       "      <td>Dinner</td>\n",
       "      <td>2</td>\n",
       "    </tr>\n",
       "  </tbody>\n",
       "</table>\n",
       "<p>163 rows × 7 columns</p>\n",
       "</div>"
      ],
      "text/plain": [
       "     total_bill   tip     sex smoker  day    time  size\n",
       "0         16.99  1.01  Female     No  Sun  Dinner     2\n",
       "1         10.34  1.66    Male     No  Sun  Dinner     3\n",
       "2         21.01  3.50    Male     No  Sun  Dinner     3\n",
       "3         23.68  3.31    Male     No  Sun  Dinner     2\n",
       "4         24.59  3.61  Female     No  Sun  Dinner     4\n",
       "..          ...   ...     ...    ...  ...     ...   ...\n",
       "238       35.83  4.67  Female     No  Sat  Dinner     3\n",
       "239       29.03  5.92    Male     No  Sat  Dinner     3\n",
       "240       27.18  2.00  Female    Yes  Sat  Dinner     2\n",
       "241       22.67  2.00    Male    Yes  Sat  Dinner     2\n",
       "242       17.82  1.75    Male     No  Sat  Dinner     2\n",
       "\n",
       "[163 rows x 7 columns]"
      ]
     },
     "execution_count": 104,
     "metadata": {},
     "output_type": "execute_result"
    }
   ],
   "source": [
    "tips.query('day in (\"Sat\", \"Sun\")') # que les factures ayant eu lieu un samedi ou un dimanche"
   ]
  },
  {
   "cell_type": "code",
   "execution_count": 105,
   "metadata": {},
   "outputs": [
    {
     "data": {
      "text/html": [
       "<div>\n",
       "<style scoped>\n",
       "    .dataframe tbody tr th:only-of-type {\n",
       "        vertical-align: middle;\n",
       "    }\n",
       "\n",
       "    .dataframe tbody tr th {\n",
       "        vertical-align: top;\n",
       "    }\n",
       "\n",
       "    .dataframe thead th {\n",
       "        text-align: right;\n",
       "    }\n",
       "</style>\n",
       "<table border=\"1\" class=\"dataframe\">\n",
       "  <thead>\n",
       "    <tr style=\"text-align: right;\">\n",
       "      <th></th>\n",
       "      <th>total_bill</th>\n",
       "      <th>tip</th>\n",
       "      <th>sex</th>\n",
       "      <th>smoker</th>\n",
       "      <th>day</th>\n",
       "      <th>time</th>\n",
       "      <th>size</th>\n",
       "    </tr>\n",
       "  </thead>\n",
       "  <tbody>\n",
       "    <tr>\n",
       "      <td>141</td>\n",
       "      <td>34.30</td>\n",
       "      <td>6.7</td>\n",
       "      <td>Male</td>\n",
       "      <td>No</td>\n",
       "      <td>Thur</td>\n",
       "      <td>Lunch</td>\n",
       "      <td>6</td>\n",
       "    </tr>\n",
       "    <tr>\n",
       "      <td>142</td>\n",
       "      <td>41.19</td>\n",
       "      <td>5.0</td>\n",
       "      <td>Male</td>\n",
       "      <td>No</td>\n",
       "      <td>Thur</td>\n",
       "      <td>Lunch</td>\n",
       "      <td>5</td>\n",
       "    </tr>\n",
       "    <tr>\n",
       "      <td>156</td>\n",
       "      <td>48.17</td>\n",
       "      <td>5.0</td>\n",
       "      <td>Male</td>\n",
       "      <td>No</td>\n",
       "      <td>Sun</td>\n",
       "      <td>Dinner</td>\n",
       "      <td>6</td>\n",
       "    </tr>\n",
       "    <tr>\n",
       "      <td>185</td>\n",
       "      <td>20.69</td>\n",
       "      <td>5.0</td>\n",
       "      <td>Male</td>\n",
       "      <td>No</td>\n",
       "      <td>Sun</td>\n",
       "      <td>Dinner</td>\n",
       "      <td>5</td>\n",
       "    </tr>\n",
       "    <tr>\n",
       "      <td>187</td>\n",
       "      <td>30.46</td>\n",
       "      <td>2.0</td>\n",
       "      <td>Male</td>\n",
       "      <td>Yes</td>\n",
       "      <td>Sun</td>\n",
       "      <td>Dinner</td>\n",
       "      <td>5</td>\n",
       "    </tr>\n",
       "    <tr>\n",
       "      <td>216</td>\n",
       "      <td>28.15</td>\n",
       "      <td>3.0</td>\n",
       "      <td>Male</td>\n",
       "      <td>Yes</td>\n",
       "      <td>Sat</td>\n",
       "      <td>Dinner</td>\n",
       "      <td>5</td>\n",
       "    </tr>\n",
       "  </tbody>\n",
       "</table>\n",
       "</div>"
      ],
      "text/plain": [
       "     total_bill  tip   sex smoker   day    time  size\n",
       "141       34.30  6.7  Male     No  Thur   Lunch     6\n",
       "142       41.19  5.0  Male     No  Thur   Lunch     5\n",
       "156       48.17  5.0  Male     No   Sun  Dinner     6\n",
       "185       20.69  5.0  Male     No   Sun  Dinner     5\n",
       "187       30.46  2.0  Male    Yes   Sun  Dinner     5\n",
       "216       28.15  3.0  Male    Yes   Sat  Dinner     5"
      ]
     },
     "execution_count": 105,
     "metadata": {},
     "output_type": "execute_result"
    }
   ],
   "source": [
    "tips.query('size > 4 & sex == \"Male\"') # que les tables de plus de 4 convives et payées par un homme"
   ]
  },
  {
   "cell_type": "markdown",
   "metadata": {},
   "source": [
    "### Projection\n",
    "\n",
    "Deuxième étape, celle-ci consiste tout simple à sélectionner certaines colonnes de la tables. En python, on utilise la fonction `filter()`. Il faut noter que celle-ci peut aussi fonctionner sur les lignes (quand celles-ci ont un index - pas vu ici)."
   ]
  },
  {
   "cell_type": "code",
   "execution_count": 106,
   "metadata": {},
   "outputs": [
    {
     "data": {
      "text/html": [
       "<div>\n",
       "<style scoped>\n",
       "    .dataframe tbody tr th:only-of-type {\n",
       "        vertical-align: middle;\n",
       "    }\n",
       "\n",
       "    .dataframe tbody tr th {\n",
       "        vertical-align: top;\n",
       "    }\n",
       "\n",
       "    .dataframe thead th {\n",
       "        text-align: right;\n",
       "    }\n",
       "</style>\n",
       "<table border=\"1\" class=\"dataframe\">\n",
       "  <thead>\n",
       "    <tr style=\"text-align: right;\">\n",
       "      <th></th>\n",
       "      <th>sex</th>\n",
       "      <th>total_bill</th>\n",
       "    </tr>\n",
       "  </thead>\n",
       "  <tbody>\n",
       "    <tr>\n",
       "      <td>0</td>\n",
       "      <td>Female</td>\n",
       "      <td>16.99</td>\n",
       "    </tr>\n",
       "    <tr>\n",
       "      <td>1</td>\n",
       "      <td>Male</td>\n",
       "      <td>10.34</td>\n",
       "    </tr>\n",
       "    <tr>\n",
       "      <td>2</td>\n",
       "      <td>Male</td>\n",
       "      <td>21.01</td>\n",
       "    </tr>\n",
       "    <tr>\n",
       "      <td>3</td>\n",
       "      <td>Male</td>\n",
       "      <td>23.68</td>\n",
       "    </tr>\n",
       "    <tr>\n",
       "      <td>4</td>\n",
       "      <td>Female</td>\n",
       "      <td>24.59</td>\n",
       "    </tr>\n",
       "    <tr>\n",
       "      <td>...</td>\n",
       "      <td>...</td>\n",
       "      <td>...</td>\n",
       "    </tr>\n",
       "    <tr>\n",
       "      <td>239</td>\n",
       "      <td>Male</td>\n",
       "      <td>29.03</td>\n",
       "    </tr>\n",
       "    <tr>\n",
       "      <td>240</td>\n",
       "      <td>Female</td>\n",
       "      <td>27.18</td>\n",
       "    </tr>\n",
       "    <tr>\n",
       "      <td>241</td>\n",
       "      <td>Male</td>\n",
       "      <td>22.67</td>\n",
       "    </tr>\n",
       "    <tr>\n",
       "      <td>242</td>\n",
       "      <td>Male</td>\n",
       "      <td>17.82</td>\n",
       "    </tr>\n",
       "    <tr>\n",
       "      <td>243</td>\n",
       "      <td>Female</td>\n",
       "      <td>18.78</td>\n",
       "    </tr>\n",
       "  </tbody>\n",
       "</table>\n",
       "<p>244 rows × 2 columns</p>\n",
       "</div>"
      ],
      "text/plain": [
       "        sex  total_bill\n",
       "0    Female       16.99\n",
       "1      Male       10.34\n",
       "2      Male       21.01\n",
       "3      Male       23.68\n",
       "4    Female       24.59\n",
       "..      ...         ...\n",
       "239    Male       29.03\n",
       "240  Female       27.18\n",
       "241    Male       22.67\n",
       "242    Male       17.82\n",
       "243  Female       18.78\n",
       "\n",
       "[244 rows x 2 columns]"
      ]
     },
     "execution_count": 106,
     "metadata": {},
     "output_type": "execute_result"
    }
   ],
   "source": [
    "tips.filter([\"sex\", \"total_bill\"])"
   ]
  },
  {
   "cell_type": "markdown",
   "metadata": {},
   "source": [
    "Quand on fait ce genre d'opérations, il est courant que nous nous retrouvions avec des lignes identiques. Pour supprimer les doublons, nous utilisons la fonction `drop_duplicates()` sur le résultat."
   ]
  },
  {
   "cell_type": "code",
   "execution_count": 107,
   "metadata": {},
   "outputs": [
    {
     "data": {
      "text/html": [
       "<div>\n",
       "<style scoped>\n",
       "    .dataframe tbody tr th:only-of-type {\n",
       "        vertical-align: middle;\n",
       "    }\n",
       "\n",
       "    .dataframe tbody tr th {\n",
       "        vertical-align: top;\n",
       "    }\n",
       "\n",
       "    .dataframe thead th {\n",
       "        text-align: right;\n",
       "    }\n",
       "</style>\n",
       "<table border=\"1\" class=\"dataframe\">\n",
       "  <thead>\n",
       "    <tr style=\"text-align: right;\">\n",
       "      <th></th>\n",
       "      <th>sex</th>\n",
       "      <th>smoker</th>\n",
       "    </tr>\n",
       "  </thead>\n",
       "  <tbody>\n",
       "    <tr>\n",
       "      <td>0</td>\n",
       "      <td>Female</td>\n",
       "      <td>No</td>\n",
       "    </tr>\n",
       "    <tr>\n",
       "      <td>1</td>\n",
       "      <td>Male</td>\n",
       "      <td>No</td>\n",
       "    </tr>\n",
       "    <tr>\n",
       "      <td>56</td>\n",
       "      <td>Male</td>\n",
       "      <td>Yes</td>\n",
       "    </tr>\n",
       "    <tr>\n",
       "      <td>67</td>\n",
       "      <td>Female</td>\n",
       "      <td>Yes</td>\n",
       "    </tr>\n",
       "  </tbody>\n",
       "</table>\n",
       "</div>"
      ],
      "text/plain": [
       "       sex smoker\n",
       "0   Female     No\n",
       "1     Male     No\n",
       "56    Male    Yes\n",
       "67  Female    Yes"
      ]
     },
     "execution_count": 107,
     "metadata": {},
     "output_type": "execute_result"
    }
   ],
   "source": [
    "tips.filter([\"sex\", \"smoker\"]).drop_duplicates()"
   ]
  },
  {
   "cell_type": "markdown",
   "metadata": {},
   "source": [
    "### Tri et limitation des résultats\n",
    "\n",
    "Pour le tri, il existe la fonction `sort_values()`, dans laquelle on indique la ou les variables à utiliser pour le tri. Si on veut un tri descendant, on modifie la valeur du paramètre `ascending` (`True` par défaut)."
   ]
  },
  {
   "cell_type": "code",
   "execution_count": 108,
   "metadata": {},
   "outputs": [
    {
     "data": {
      "text/html": [
       "<div>\n",
       "<style scoped>\n",
       "    .dataframe tbody tr th:only-of-type {\n",
       "        vertical-align: middle;\n",
       "    }\n",
       "\n",
       "    .dataframe tbody tr th {\n",
       "        vertical-align: top;\n",
       "    }\n",
       "\n",
       "    .dataframe thead th {\n",
       "        text-align: right;\n",
       "    }\n",
       "</style>\n",
       "<table border=\"1\" class=\"dataframe\">\n",
       "  <thead>\n",
       "    <tr style=\"text-align: right;\">\n",
       "      <th></th>\n",
       "      <th>total_bill</th>\n",
       "      <th>tip</th>\n",
       "      <th>sex</th>\n",
       "      <th>smoker</th>\n",
       "      <th>day</th>\n",
       "      <th>time</th>\n",
       "      <th>size</th>\n",
       "    </tr>\n",
       "  </thead>\n",
       "  <tbody>\n",
       "    <tr>\n",
       "      <td>67</td>\n",
       "      <td>3.07</td>\n",
       "      <td>1.00</td>\n",
       "      <td>Female</td>\n",
       "      <td>Yes</td>\n",
       "      <td>Sat</td>\n",
       "      <td>Dinner</td>\n",
       "      <td>1</td>\n",
       "    </tr>\n",
       "    <tr>\n",
       "      <td>92</td>\n",
       "      <td>5.75</td>\n",
       "      <td>1.00</td>\n",
       "      <td>Female</td>\n",
       "      <td>Yes</td>\n",
       "      <td>Fri</td>\n",
       "      <td>Dinner</td>\n",
       "      <td>2</td>\n",
       "    </tr>\n",
       "    <tr>\n",
       "      <td>111</td>\n",
       "      <td>7.25</td>\n",
       "      <td>1.00</td>\n",
       "      <td>Female</td>\n",
       "      <td>No</td>\n",
       "      <td>Sat</td>\n",
       "      <td>Dinner</td>\n",
       "      <td>1</td>\n",
       "    </tr>\n",
       "    <tr>\n",
       "      <td>172</td>\n",
       "      <td>7.25</td>\n",
       "      <td>5.15</td>\n",
       "      <td>Male</td>\n",
       "      <td>Yes</td>\n",
       "      <td>Sun</td>\n",
       "      <td>Dinner</td>\n",
       "      <td>2</td>\n",
       "    </tr>\n",
       "    <tr>\n",
       "      <td>149</td>\n",
       "      <td>7.51</td>\n",
       "      <td>2.00</td>\n",
       "      <td>Male</td>\n",
       "      <td>No</td>\n",
       "      <td>Thur</td>\n",
       "      <td>Lunch</td>\n",
       "      <td>2</td>\n",
       "    </tr>\n",
       "    <tr>\n",
       "      <td>...</td>\n",
       "      <td>...</td>\n",
       "      <td>...</td>\n",
       "      <td>...</td>\n",
       "      <td>...</td>\n",
       "      <td>...</td>\n",
       "      <td>...</td>\n",
       "      <td>...</td>\n",
       "    </tr>\n",
       "    <tr>\n",
       "      <td>182</td>\n",
       "      <td>45.35</td>\n",
       "      <td>3.50</td>\n",
       "      <td>Male</td>\n",
       "      <td>Yes</td>\n",
       "      <td>Sun</td>\n",
       "      <td>Dinner</td>\n",
       "      <td>3</td>\n",
       "    </tr>\n",
       "    <tr>\n",
       "      <td>156</td>\n",
       "      <td>48.17</td>\n",
       "      <td>5.00</td>\n",
       "      <td>Male</td>\n",
       "      <td>No</td>\n",
       "      <td>Sun</td>\n",
       "      <td>Dinner</td>\n",
       "      <td>6</td>\n",
       "    </tr>\n",
       "    <tr>\n",
       "      <td>59</td>\n",
       "      <td>48.27</td>\n",
       "      <td>6.73</td>\n",
       "      <td>Male</td>\n",
       "      <td>No</td>\n",
       "      <td>Sat</td>\n",
       "      <td>Dinner</td>\n",
       "      <td>4</td>\n",
       "    </tr>\n",
       "    <tr>\n",
       "      <td>212</td>\n",
       "      <td>48.33</td>\n",
       "      <td>9.00</td>\n",
       "      <td>Male</td>\n",
       "      <td>No</td>\n",
       "      <td>Sat</td>\n",
       "      <td>Dinner</td>\n",
       "      <td>4</td>\n",
       "    </tr>\n",
       "    <tr>\n",
       "      <td>170</td>\n",
       "      <td>50.81</td>\n",
       "      <td>10.00</td>\n",
       "      <td>Male</td>\n",
       "      <td>Yes</td>\n",
       "      <td>Sat</td>\n",
       "      <td>Dinner</td>\n",
       "      <td>3</td>\n",
       "    </tr>\n",
       "  </tbody>\n",
       "</table>\n",
       "<p>244 rows × 7 columns</p>\n",
       "</div>"
      ],
      "text/plain": [
       "     total_bill    tip     sex smoker   day    time  size\n",
       "67         3.07   1.00  Female    Yes   Sat  Dinner     1\n",
       "92         5.75   1.00  Female    Yes   Fri  Dinner     2\n",
       "111        7.25   1.00  Female     No   Sat  Dinner     1\n",
       "172        7.25   5.15    Male    Yes   Sun  Dinner     2\n",
       "149        7.51   2.00    Male     No  Thur   Lunch     2\n",
       "..          ...    ...     ...    ...   ...     ...   ...\n",
       "182       45.35   3.50    Male    Yes   Sun  Dinner     3\n",
       "156       48.17   5.00    Male     No   Sun  Dinner     6\n",
       "59        48.27   6.73    Male     No   Sat  Dinner     4\n",
       "212       48.33   9.00    Male     No   Sat  Dinner     4\n",
       "170       50.81  10.00    Male    Yes   Sat  Dinner     3\n",
       "\n",
       "[244 rows x 7 columns]"
      ]
     },
     "execution_count": 108,
     "metadata": {},
     "output_type": "execute_result"
    }
   ],
   "source": [
    "tips.sort_values(by = \"total_bill\")"
   ]
  },
  {
   "cell_type": "code",
   "execution_count": 109,
   "metadata": {},
   "outputs": [
    {
     "data": {
      "text/html": [
       "<div>\n",
       "<style scoped>\n",
       "    .dataframe tbody tr th:only-of-type {\n",
       "        vertical-align: middle;\n",
       "    }\n",
       "\n",
       "    .dataframe tbody tr th {\n",
       "        vertical-align: top;\n",
       "    }\n",
       "\n",
       "    .dataframe thead th {\n",
       "        text-align: right;\n",
       "    }\n",
       "</style>\n",
       "<table border=\"1\" class=\"dataframe\">\n",
       "  <thead>\n",
       "    <tr style=\"text-align: right;\">\n",
       "      <th></th>\n",
       "      <th>total_bill</th>\n",
       "      <th>tip</th>\n",
       "      <th>sex</th>\n",
       "      <th>smoker</th>\n",
       "      <th>day</th>\n",
       "      <th>time</th>\n",
       "      <th>size</th>\n",
       "    </tr>\n",
       "  </thead>\n",
       "  <tbody>\n",
       "    <tr>\n",
       "      <td>170</td>\n",
       "      <td>50.81</td>\n",
       "      <td>10.00</td>\n",
       "      <td>Male</td>\n",
       "      <td>Yes</td>\n",
       "      <td>Sat</td>\n",
       "      <td>Dinner</td>\n",
       "      <td>3</td>\n",
       "    </tr>\n",
       "    <tr>\n",
       "      <td>212</td>\n",
       "      <td>48.33</td>\n",
       "      <td>9.00</td>\n",
       "      <td>Male</td>\n",
       "      <td>No</td>\n",
       "      <td>Sat</td>\n",
       "      <td>Dinner</td>\n",
       "      <td>4</td>\n",
       "    </tr>\n",
       "    <tr>\n",
       "      <td>59</td>\n",
       "      <td>48.27</td>\n",
       "      <td>6.73</td>\n",
       "      <td>Male</td>\n",
       "      <td>No</td>\n",
       "      <td>Sat</td>\n",
       "      <td>Dinner</td>\n",
       "      <td>4</td>\n",
       "    </tr>\n",
       "    <tr>\n",
       "      <td>156</td>\n",
       "      <td>48.17</td>\n",
       "      <td>5.00</td>\n",
       "      <td>Male</td>\n",
       "      <td>No</td>\n",
       "      <td>Sun</td>\n",
       "      <td>Dinner</td>\n",
       "      <td>6</td>\n",
       "    </tr>\n",
       "    <tr>\n",
       "      <td>182</td>\n",
       "      <td>45.35</td>\n",
       "      <td>3.50</td>\n",
       "      <td>Male</td>\n",
       "      <td>Yes</td>\n",
       "      <td>Sun</td>\n",
       "      <td>Dinner</td>\n",
       "      <td>3</td>\n",
       "    </tr>\n",
       "    <tr>\n",
       "      <td>...</td>\n",
       "      <td>...</td>\n",
       "      <td>...</td>\n",
       "      <td>...</td>\n",
       "      <td>...</td>\n",
       "      <td>...</td>\n",
       "      <td>...</td>\n",
       "      <td>...</td>\n",
       "    </tr>\n",
       "    <tr>\n",
       "      <td>149</td>\n",
       "      <td>7.51</td>\n",
       "      <td>2.00</td>\n",
       "      <td>Male</td>\n",
       "      <td>No</td>\n",
       "      <td>Thur</td>\n",
       "      <td>Lunch</td>\n",
       "      <td>2</td>\n",
       "    </tr>\n",
       "    <tr>\n",
       "      <td>111</td>\n",
       "      <td>7.25</td>\n",
       "      <td>1.00</td>\n",
       "      <td>Female</td>\n",
       "      <td>No</td>\n",
       "      <td>Sat</td>\n",
       "      <td>Dinner</td>\n",
       "      <td>1</td>\n",
       "    </tr>\n",
       "    <tr>\n",
       "      <td>172</td>\n",
       "      <td>7.25</td>\n",
       "      <td>5.15</td>\n",
       "      <td>Male</td>\n",
       "      <td>Yes</td>\n",
       "      <td>Sun</td>\n",
       "      <td>Dinner</td>\n",
       "      <td>2</td>\n",
       "    </tr>\n",
       "    <tr>\n",
       "      <td>92</td>\n",
       "      <td>5.75</td>\n",
       "      <td>1.00</td>\n",
       "      <td>Female</td>\n",
       "      <td>Yes</td>\n",
       "      <td>Fri</td>\n",
       "      <td>Dinner</td>\n",
       "      <td>2</td>\n",
       "    </tr>\n",
       "    <tr>\n",
       "      <td>67</td>\n",
       "      <td>3.07</td>\n",
       "      <td>1.00</td>\n",
       "      <td>Female</td>\n",
       "      <td>Yes</td>\n",
       "      <td>Sat</td>\n",
       "      <td>Dinner</td>\n",
       "      <td>1</td>\n",
       "    </tr>\n",
       "  </tbody>\n",
       "</table>\n",
       "<p>244 rows × 7 columns</p>\n",
       "</div>"
      ],
      "text/plain": [
       "     total_bill    tip     sex smoker   day    time  size\n",
       "170       50.81  10.00    Male    Yes   Sat  Dinner     3\n",
       "212       48.33   9.00    Male     No   Sat  Dinner     4\n",
       "59        48.27   6.73    Male     No   Sat  Dinner     4\n",
       "156       48.17   5.00    Male     No   Sun  Dinner     6\n",
       "182       45.35   3.50    Male    Yes   Sun  Dinner     3\n",
       "..          ...    ...     ...    ...   ...     ...   ...\n",
       "149        7.51   2.00    Male     No  Thur   Lunch     2\n",
       "111        7.25   1.00  Female     No   Sat  Dinner     1\n",
       "172        7.25   5.15    Male    Yes   Sun  Dinner     2\n",
       "92         5.75   1.00  Female    Yes   Fri  Dinner     2\n",
       "67         3.07   1.00  Female    Yes   Sat  Dinner     1\n",
       "\n",
       "[244 rows x 7 columns]"
      ]
     },
     "execution_count": 109,
     "metadata": {},
     "output_type": "execute_result"
    }
   ],
   "source": [
    "tips.sort_values(by = \"total_bill\", ascending = False)"
   ]
  },
  {
   "cell_type": "markdown",
   "metadata": {},
   "source": [
    "Pour se limiter aux premières lignes (respectivement les dernières), on utilise la fonction `head()` (resp. `tail()`), qui affiche par défaut 5 lignes. Cette valeur est bien évidemment modifiable, comme vu ci-après."
   ]
  },
  {
   "cell_type": "code",
   "execution_count": 110,
   "metadata": {},
   "outputs": [
    {
     "data": {
      "text/html": [
       "<div>\n",
       "<style scoped>\n",
       "    .dataframe tbody tr th:only-of-type {\n",
       "        vertical-align: middle;\n",
       "    }\n",
       "\n",
       "    .dataframe tbody tr th {\n",
       "        vertical-align: top;\n",
       "    }\n",
       "\n",
       "    .dataframe thead th {\n",
       "        text-align: right;\n",
       "    }\n",
       "</style>\n",
       "<table border=\"1\" class=\"dataframe\">\n",
       "  <thead>\n",
       "    <tr style=\"text-align: right;\">\n",
       "      <th></th>\n",
       "      <th>total_bill</th>\n",
       "      <th>tip</th>\n",
       "      <th>sex</th>\n",
       "      <th>smoker</th>\n",
       "      <th>day</th>\n",
       "      <th>time</th>\n",
       "      <th>size</th>\n",
       "    </tr>\n",
       "  </thead>\n",
       "  <tbody>\n",
       "    <tr>\n",
       "      <td>0</td>\n",
       "      <td>16.99</td>\n",
       "      <td>1.01</td>\n",
       "      <td>Female</td>\n",
       "      <td>No</td>\n",
       "      <td>Sun</td>\n",
       "      <td>Dinner</td>\n",
       "      <td>2</td>\n",
       "    </tr>\n",
       "    <tr>\n",
       "      <td>1</td>\n",
       "      <td>10.34</td>\n",
       "      <td>1.66</td>\n",
       "      <td>Male</td>\n",
       "      <td>No</td>\n",
       "      <td>Sun</td>\n",
       "      <td>Dinner</td>\n",
       "      <td>3</td>\n",
       "    </tr>\n",
       "    <tr>\n",
       "      <td>2</td>\n",
       "      <td>21.01</td>\n",
       "      <td>3.50</td>\n",
       "      <td>Male</td>\n",
       "      <td>No</td>\n",
       "      <td>Sun</td>\n",
       "      <td>Dinner</td>\n",
       "      <td>3</td>\n",
       "    </tr>\n",
       "    <tr>\n",
       "      <td>3</td>\n",
       "      <td>23.68</td>\n",
       "      <td>3.31</td>\n",
       "      <td>Male</td>\n",
       "      <td>No</td>\n",
       "      <td>Sun</td>\n",
       "      <td>Dinner</td>\n",
       "      <td>2</td>\n",
       "    </tr>\n",
       "    <tr>\n",
       "      <td>4</td>\n",
       "      <td>24.59</td>\n",
       "      <td>3.61</td>\n",
       "      <td>Female</td>\n",
       "      <td>No</td>\n",
       "      <td>Sun</td>\n",
       "      <td>Dinner</td>\n",
       "      <td>4</td>\n",
       "    </tr>\n",
       "    <tr>\n",
       "      <td>5</td>\n",
       "      <td>25.29</td>\n",
       "      <td>4.71</td>\n",
       "      <td>Male</td>\n",
       "      <td>No</td>\n",
       "      <td>Sun</td>\n",
       "      <td>Dinner</td>\n",
       "      <td>4</td>\n",
       "    </tr>\n",
       "    <tr>\n",
       "      <td>6</td>\n",
       "      <td>8.77</td>\n",
       "      <td>2.00</td>\n",
       "      <td>Male</td>\n",
       "      <td>No</td>\n",
       "      <td>Sun</td>\n",
       "      <td>Dinner</td>\n",
       "      <td>2</td>\n",
       "    </tr>\n",
       "    <tr>\n",
       "      <td>7</td>\n",
       "      <td>26.88</td>\n",
       "      <td>3.12</td>\n",
       "      <td>Male</td>\n",
       "      <td>No</td>\n",
       "      <td>Sun</td>\n",
       "      <td>Dinner</td>\n",
       "      <td>4</td>\n",
       "    </tr>\n",
       "    <tr>\n",
       "      <td>8</td>\n",
       "      <td>15.04</td>\n",
       "      <td>1.96</td>\n",
       "      <td>Male</td>\n",
       "      <td>No</td>\n",
       "      <td>Sun</td>\n",
       "      <td>Dinner</td>\n",
       "      <td>2</td>\n",
       "    </tr>\n",
       "    <tr>\n",
       "      <td>9</td>\n",
       "      <td>14.78</td>\n",
       "      <td>3.23</td>\n",
       "      <td>Male</td>\n",
       "      <td>No</td>\n",
       "      <td>Sun</td>\n",
       "      <td>Dinner</td>\n",
       "      <td>2</td>\n",
       "    </tr>\n",
       "  </tbody>\n",
       "</table>\n",
       "</div>"
      ],
      "text/plain": [
       "   total_bill   tip     sex smoker  day    time  size\n",
       "0       16.99  1.01  Female     No  Sun  Dinner     2\n",
       "1       10.34  1.66    Male     No  Sun  Dinner     3\n",
       "2       21.01  3.50    Male     No  Sun  Dinner     3\n",
       "3       23.68  3.31    Male     No  Sun  Dinner     2\n",
       "4       24.59  3.61  Female     No  Sun  Dinner     4\n",
       "5       25.29  4.71    Male     No  Sun  Dinner     4\n",
       "6        8.77  2.00    Male     No  Sun  Dinner     2\n",
       "7       26.88  3.12    Male     No  Sun  Dinner     4\n",
       "8       15.04  1.96    Male     No  Sun  Dinner     2\n",
       "9       14.78  3.23    Male     No  Sun  Dinner     2"
      ]
     },
     "execution_count": 110,
     "metadata": {},
     "output_type": "execute_result"
    }
   ],
   "source": [
    "tips.head(10) # 5 premières lignes par défaut"
   ]
  },
  {
   "cell_type": "code",
   "execution_count": 111,
   "metadata": {},
   "outputs": [
    {
     "data": {
      "text/html": [
       "<div>\n",
       "<style scoped>\n",
       "    .dataframe tbody tr th:only-of-type {\n",
       "        vertical-align: middle;\n",
       "    }\n",
       "\n",
       "    .dataframe tbody tr th {\n",
       "        vertical-align: top;\n",
       "    }\n",
       "\n",
       "    .dataframe thead th {\n",
       "        text-align: right;\n",
       "    }\n",
       "</style>\n",
       "<table border=\"1\" class=\"dataframe\">\n",
       "  <thead>\n",
       "    <tr style=\"text-align: right;\">\n",
       "      <th></th>\n",
       "      <th>total_bill</th>\n",
       "      <th>tip</th>\n",
       "      <th>sex</th>\n",
       "      <th>smoker</th>\n",
       "      <th>day</th>\n",
       "      <th>time</th>\n",
       "      <th>size</th>\n",
       "    </tr>\n",
       "  </thead>\n",
       "  <tbody>\n",
       "    <tr>\n",
       "      <td>241</td>\n",
       "      <td>22.67</td>\n",
       "      <td>2.00</td>\n",
       "      <td>Male</td>\n",
       "      <td>Yes</td>\n",
       "      <td>Sat</td>\n",
       "      <td>Dinner</td>\n",
       "      <td>2</td>\n",
       "    </tr>\n",
       "    <tr>\n",
       "      <td>242</td>\n",
       "      <td>17.82</td>\n",
       "      <td>1.75</td>\n",
       "      <td>Male</td>\n",
       "      <td>No</td>\n",
       "      <td>Sat</td>\n",
       "      <td>Dinner</td>\n",
       "      <td>2</td>\n",
       "    </tr>\n",
       "    <tr>\n",
       "      <td>243</td>\n",
       "      <td>18.78</td>\n",
       "      <td>3.00</td>\n",
       "      <td>Female</td>\n",
       "      <td>No</td>\n",
       "      <td>Thur</td>\n",
       "      <td>Dinner</td>\n",
       "      <td>2</td>\n",
       "    </tr>\n",
       "  </tbody>\n",
       "</table>\n",
       "</div>"
      ],
      "text/plain": [
       "     total_bill   tip     sex smoker   day    time  size\n",
       "241       22.67  2.00    Male    Yes   Sat  Dinner     2\n",
       "242       17.82  1.75    Male     No   Sat  Dinner     2\n",
       "243       18.78  3.00  Female     No  Thur  Dinner     2"
      ]
     },
     "execution_count": 111,
     "metadata": {},
     "output_type": "execute_result"
    }
   ],
   "source": [
    "tips.tail(3) # 5 dernières lignes par défaut"
   ]
  },
  {
   "cell_type": "markdown",
   "metadata": {},
   "source": [
    "### Ajout de nouvelles variables\n",
    "\n",
    "Il y a 2 possibilités ici :\n",
    "\n",
    "- à partir de valeurs déjà connues\n",
    "- à partir d'un calcul basé sur les autres variables\n",
    "\n",
    "A partir de valeurs, soit vous en fournissez autant que de lignes, soit une seule qui sera donc dupliquée à toutes les lignes"
   ]
  },
  {
   "cell_type": "code",
   "execution_count": 112,
   "metadata": {},
   "outputs": [
    {
     "data": {
      "text/html": [
       "<div>\n",
       "<style scoped>\n",
       "    .dataframe tbody tr th:only-of-type {\n",
       "        vertical-align: middle;\n",
       "    }\n",
       "\n",
       "    .dataframe tbody tr th {\n",
       "        vertical-align: top;\n",
       "    }\n",
       "\n",
       "    .dataframe thead th {\n",
       "        text-align: right;\n",
       "    }\n",
       "</style>\n",
       "<table border=\"1\" class=\"dataframe\">\n",
       "  <thead>\n",
       "    <tr style=\"text-align: right;\">\n",
       "      <th></th>\n",
       "      <th>total_bill</th>\n",
       "      <th>tip</th>\n",
       "      <th>sex</th>\n",
       "      <th>smoker</th>\n",
       "      <th>day</th>\n",
       "      <th>time</th>\n",
       "      <th>size</th>\n",
       "      <th>n_row</th>\n",
       "      <th>nouv</th>\n",
       "    </tr>\n",
       "  </thead>\n",
       "  <tbody>\n",
       "    <tr>\n",
       "      <td>0</td>\n",
       "      <td>16.99</td>\n",
       "      <td>1.01</td>\n",
       "      <td>Female</td>\n",
       "      <td>No</td>\n",
       "      <td>Sun</td>\n",
       "      <td>Dinner</td>\n",
       "      <td>2</td>\n",
       "      <td>0</td>\n",
       "      <td>nouvelle valeur</td>\n",
       "    </tr>\n",
       "    <tr>\n",
       "      <td>1</td>\n",
       "      <td>10.34</td>\n",
       "      <td>1.66</td>\n",
       "      <td>Male</td>\n",
       "      <td>No</td>\n",
       "      <td>Sun</td>\n",
       "      <td>Dinner</td>\n",
       "      <td>3</td>\n",
       "      <td>1</td>\n",
       "      <td>nouvelle valeur</td>\n",
       "    </tr>\n",
       "    <tr>\n",
       "      <td>2</td>\n",
       "      <td>21.01</td>\n",
       "      <td>3.50</td>\n",
       "      <td>Male</td>\n",
       "      <td>No</td>\n",
       "      <td>Sun</td>\n",
       "      <td>Dinner</td>\n",
       "      <td>3</td>\n",
       "      <td>2</td>\n",
       "      <td>nouvelle valeur</td>\n",
       "    </tr>\n",
       "    <tr>\n",
       "      <td>3</td>\n",
       "      <td>23.68</td>\n",
       "      <td>3.31</td>\n",
       "      <td>Male</td>\n",
       "      <td>No</td>\n",
       "      <td>Sun</td>\n",
       "      <td>Dinner</td>\n",
       "      <td>2</td>\n",
       "      <td>3</td>\n",
       "      <td>nouvelle valeur</td>\n",
       "    </tr>\n",
       "    <tr>\n",
       "      <td>4</td>\n",
       "      <td>24.59</td>\n",
       "      <td>3.61</td>\n",
       "      <td>Female</td>\n",
       "      <td>No</td>\n",
       "      <td>Sun</td>\n",
       "      <td>Dinner</td>\n",
       "      <td>4</td>\n",
       "      <td>4</td>\n",
       "      <td>nouvelle valeur</td>\n",
       "    </tr>\n",
       "  </tbody>\n",
       "</table>\n",
       "</div>"
      ],
      "text/plain": [
       "   total_bill   tip     sex smoker  day    time  size  n_row             nouv\n",
       "0       16.99  1.01  Female     No  Sun  Dinner     2      0  nouvelle valeur\n",
       "1       10.34  1.66    Male     No  Sun  Dinner     3      1  nouvelle valeur\n",
       "2       21.01  3.50    Male     No  Sun  Dinner     3      2  nouvelle valeur\n",
       "3       23.68  3.31    Male     No  Sun  Dinner     2      3  nouvelle valeur\n",
       "4       24.59  3.61  Female     No  Sun  Dinner     4      4  nouvelle valeur"
      ]
     },
     "execution_count": 112,
     "metadata": {},
     "output_type": "execute_result"
    }
   ],
   "source": [
    "tips['n_row'] = range(244)\n",
    "tips['nouv'] = \"nouvelle valeur\"\n",
    "tips.head()"
   ]
  },
  {
   "cell_type": "markdown",
   "metadata": {},
   "source": [
    "Bien évidemment, on souhaite généralement faire un calcul à partir des autres variables. Ceci peut se faire avec la fonction `assign()`."
   ]
  },
  {
   "cell_type": "code",
   "execution_count": 113,
   "metadata": {},
   "outputs": [
    {
     "data": {
      "text/html": [
       "<div>\n",
       "<style scoped>\n",
       "    .dataframe tbody tr th:only-of-type {\n",
       "        vertical-align: middle;\n",
       "    }\n",
       "\n",
       "    .dataframe tbody tr th {\n",
       "        vertical-align: top;\n",
       "    }\n",
       "\n",
       "    .dataframe thead th {\n",
       "        text-align: right;\n",
       "    }\n",
       "</style>\n",
       "<table border=\"1\" class=\"dataframe\">\n",
       "  <thead>\n",
       "    <tr style=\"text-align: right;\">\n",
       "      <th></th>\n",
       "      <th>total_bill</th>\n",
       "      <th>tip</th>\n",
       "      <th>sex</th>\n",
       "      <th>smoker</th>\n",
       "      <th>day</th>\n",
       "      <th>time</th>\n",
       "      <th>size</th>\n",
       "      <th>n_row</th>\n",
       "      <th>nouv</th>\n",
       "      <th>per_person</th>\n",
       "    </tr>\n",
       "  </thead>\n",
       "  <tbody>\n",
       "    <tr>\n",
       "      <td>0</td>\n",
       "      <td>16.99</td>\n",
       "      <td>1.01</td>\n",
       "      <td>Female</td>\n",
       "      <td>No</td>\n",
       "      <td>Sun</td>\n",
       "      <td>Dinner</td>\n",
       "      <td>2</td>\n",
       "      <td>0</td>\n",
       "      <td>nouvelle valeur</td>\n",
       "      <td>8.49</td>\n",
       "    </tr>\n",
       "    <tr>\n",
       "      <td>1</td>\n",
       "      <td>10.34</td>\n",
       "      <td>1.66</td>\n",
       "      <td>Male</td>\n",
       "      <td>No</td>\n",
       "      <td>Sun</td>\n",
       "      <td>Dinner</td>\n",
       "      <td>3</td>\n",
       "      <td>1</td>\n",
       "      <td>nouvelle valeur</td>\n",
       "      <td>3.45</td>\n",
       "    </tr>\n",
       "    <tr>\n",
       "      <td>2</td>\n",
       "      <td>21.01</td>\n",
       "      <td>3.50</td>\n",
       "      <td>Male</td>\n",
       "      <td>No</td>\n",
       "      <td>Sun</td>\n",
       "      <td>Dinner</td>\n",
       "      <td>3</td>\n",
       "      <td>2</td>\n",
       "      <td>nouvelle valeur</td>\n",
       "      <td>7.00</td>\n",
       "    </tr>\n",
       "    <tr>\n",
       "      <td>3</td>\n",
       "      <td>23.68</td>\n",
       "      <td>3.31</td>\n",
       "      <td>Male</td>\n",
       "      <td>No</td>\n",
       "      <td>Sun</td>\n",
       "      <td>Dinner</td>\n",
       "      <td>2</td>\n",
       "      <td>3</td>\n",
       "      <td>nouvelle valeur</td>\n",
       "      <td>11.84</td>\n",
       "    </tr>\n",
       "    <tr>\n",
       "      <td>4</td>\n",
       "      <td>24.59</td>\n",
       "      <td>3.61</td>\n",
       "      <td>Female</td>\n",
       "      <td>No</td>\n",
       "      <td>Sun</td>\n",
       "      <td>Dinner</td>\n",
       "      <td>4</td>\n",
       "      <td>4</td>\n",
       "      <td>nouvelle valeur</td>\n",
       "      <td>6.15</td>\n",
       "    </tr>\n",
       "    <tr>\n",
       "      <td>...</td>\n",
       "      <td>...</td>\n",
       "      <td>...</td>\n",
       "      <td>...</td>\n",
       "      <td>...</td>\n",
       "      <td>...</td>\n",
       "      <td>...</td>\n",
       "      <td>...</td>\n",
       "      <td>...</td>\n",
       "      <td>...</td>\n",
       "      <td>...</td>\n",
       "    </tr>\n",
       "    <tr>\n",
       "      <td>239</td>\n",
       "      <td>29.03</td>\n",
       "      <td>5.92</td>\n",
       "      <td>Male</td>\n",
       "      <td>No</td>\n",
       "      <td>Sat</td>\n",
       "      <td>Dinner</td>\n",
       "      <td>3</td>\n",
       "      <td>239</td>\n",
       "      <td>nouvelle valeur</td>\n",
       "      <td>9.68</td>\n",
       "    </tr>\n",
       "    <tr>\n",
       "      <td>240</td>\n",
       "      <td>27.18</td>\n",
       "      <td>2.00</td>\n",
       "      <td>Female</td>\n",
       "      <td>Yes</td>\n",
       "      <td>Sat</td>\n",
       "      <td>Dinner</td>\n",
       "      <td>2</td>\n",
       "      <td>240</td>\n",
       "      <td>nouvelle valeur</td>\n",
       "      <td>13.59</td>\n",
       "    </tr>\n",
       "    <tr>\n",
       "      <td>241</td>\n",
       "      <td>22.67</td>\n",
       "      <td>2.00</td>\n",
       "      <td>Male</td>\n",
       "      <td>Yes</td>\n",
       "      <td>Sat</td>\n",
       "      <td>Dinner</td>\n",
       "      <td>2</td>\n",
       "      <td>241</td>\n",
       "      <td>nouvelle valeur</td>\n",
       "      <td>11.34</td>\n",
       "    </tr>\n",
       "    <tr>\n",
       "      <td>242</td>\n",
       "      <td>17.82</td>\n",
       "      <td>1.75</td>\n",
       "      <td>Male</td>\n",
       "      <td>No</td>\n",
       "      <td>Sat</td>\n",
       "      <td>Dinner</td>\n",
       "      <td>2</td>\n",
       "      <td>242</td>\n",
       "      <td>nouvelle valeur</td>\n",
       "      <td>8.91</td>\n",
       "    </tr>\n",
       "    <tr>\n",
       "      <td>243</td>\n",
       "      <td>18.78</td>\n",
       "      <td>3.00</td>\n",
       "      <td>Female</td>\n",
       "      <td>No</td>\n",
       "      <td>Thur</td>\n",
       "      <td>Dinner</td>\n",
       "      <td>2</td>\n",
       "      <td>243</td>\n",
       "      <td>nouvelle valeur</td>\n",
       "      <td>9.39</td>\n",
       "    </tr>\n",
       "  </tbody>\n",
       "</table>\n",
       "<p>244 rows × 10 columns</p>\n",
       "</div>"
      ],
      "text/plain": [
       "     total_bill   tip     sex smoker   day    time  size  n_row  \\\n",
       "0         16.99  1.01  Female     No   Sun  Dinner     2      0   \n",
       "1         10.34  1.66    Male     No   Sun  Dinner     3      1   \n",
       "2         21.01  3.50    Male     No   Sun  Dinner     3      2   \n",
       "3         23.68  3.31    Male     No   Sun  Dinner     2      3   \n",
       "4         24.59  3.61  Female     No   Sun  Dinner     4      4   \n",
       "..          ...   ...     ...    ...   ...     ...   ...    ...   \n",
       "239       29.03  5.92    Male     No   Sat  Dinner     3    239   \n",
       "240       27.18  2.00  Female    Yes   Sat  Dinner     2    240   \n",
       "241       22.67  2.00    Male    Yes   Sat  Dinner     2    241   \n",
       "242       17.82  1.75    Male     No   Sat  Dinner     2    242   \n",
       "243       18.78  3.00  Female     No  Thur  Dinner     2    243   \n",
       "\n",
       "                nouv  per_person  \n",
       "0    nouvelle valeur        8.49  \n",
       "1    nouvelle valeur        3.45  \n",
       "2    nouvelle valeur        7.00  \n",
       "3    nouvelle valeur       11.84  \n",
       "4    nouvelle valeur        6.15  \n",
       "..               ...         ...  \n",
       "239  nouvelle valeur        9.68  \n",
       "240  nouvelle valeur       13.59  \n",
       "241  nouvelle valeur       11.34  \n",
       "242  nouvelle valeur        8.91  \n",
       "243  nouvelle valeur        9.39  \n",
       "\n",
       "[244 rows x 10 columns]"
      ]
     },
     "execution_count": 113,
     "metadata": {},
     "output_type": "execute_result"
    }
   ],
   "source": [
    "# attention ici, l.size fait référence à la taille de l, car c'est un mot clé de python\n",
    "tips.assign(per_person = lambda l: round(l.total_bill / l['size'], 2)) "
   ]
  },
  {
   "cell_type": "markdown",
   "metadata": {},
   "source": [
    "### Agrégat\n",
    "\n",
    "Le calcul d'un agrégat permet de calculer une statistique de base (dénombrement, somme, moyenne, minimum, maximum - rarement autre chose) sur un tableau de données. On peut soit calculer globalement, soit pour chaque modalité d'une variable (voire chaque couple de modalités de plusieurs variables). \n",
    "\n",
    "Pour le faire globalement, on utilise la fonction `aggregate()` (ou `agg()`)."
   ]
  },
  {
   "cell_type": "code",
   "execution_count": 114,
   "metadata": {},
   "outputs": [
    {
     "data": {
      "text/html": [
       "<div>\n",
       "<style scoped>\n",
       "    .dataframe tbody tr th:only-of-type {\n",
       "        vertical-align: middle;\n",
       "    }\n",
       "\n",
       "    .dataframe tbody tr th {\n",
       "        vertical-align: top;\n",
       "    }\n",
       "\n",
       "    .dataframe thead th {\n",
       "        text-align: right;\n",
       "    }\n",
       "</style>\n",
       "<table border=\"1\" class=\"dataframe\">\n",
       "  <thead>\n",
       "    <tr style=\"text-align: right;\">\n",
       "      <th></th>\n",
       "      <th>total_bill</th>\n",
       "      <th>tip</th>\n",
       "      <th>size</th>\n",
       "    </tr>\n",
       "  </thead>\n",
       "  <tbody>\n",
       "    <tr>\n",
       "      <td>count</td>\n",
       "      <td>244.000000</td>\n",
       "      <td>244.000000</td>\n",
       "      <td>244.000000</td>\n",
       "    </tr>\n",
       "    <tr>\n",
       "      <td>mean</td>\n",
       "      <td>19.785943</td>\n",
       "      <td>2.998279</td>\n",
       "      <td>2.569672</td>\n",
       "    </tr>\n",
       "  </tbody>\n",
       "</table>\n",
       "</div>"
      ],
      "text/plain": [
       "       total_bill         tip        size\n",
       "count  244.000000  244.000000  244.000000\n",
       "mean    19.785943    2.998279    2.569672"
      ]
     },
     "execution_count": 114,
     "metadata": {},
     "output_type": "execute_result"
    }
   ],
   "source": [
    "tips.filter([\"total_bill\", \"tip\", \"size\"]).aggregate(['count', \"mean\"])"
   ]
  },
  {
   "cell_type": "markdown",
   "metadata": {},
   "source": [
    "Pour le faire pour chaque modalité d'une variable, on utilise la fonction `groupby()` en plus. Si on ne réalise qu'un seul calcul, on a directement les fonctions associées."
   ]
  },
  {
   "cell_type": "code",
   "execution_count": 115,
   "metadata": {},
   "outputs": [
    {
     "data": {
      "text/html": [
       "<div>\n",
       "<style scoped>\n",
       "    .dataframe tbody tr th:only-of-type {\n",
       "        vertical-align: middle;\n",
       "    }\n",
       "\n",
       "    .dataframe tbody tr th {\n",
       "        vertical-align: top;\n",
       "    }\n",
       "\n",
       "    .dataframe thead th {\n",
       "        text-align: right;\n",
       "    }\n",
       "</style>\n",
       "<table border=\"1\" class=\"dataframe\">\n",
       "  <thead>\n",
       "    <tr style=\"text-align: right;\">\n",
       "      <th></th>\n",
       "      <th>total_bill</th>\n",
       "      <th>tip</th>\n",
       "      <th>size</th>\n",
       "    </tr>\n",
       "    <tr>\n",
       "      <th>sex</th>\n",
       "      <th></th>\n",
       "      <th></th>\n",
       "      <th></th>\n",
       "    </tr>\n",
       "  </thead>\n",
       "  <tbody>\n",
       "    <tr>\n",
       "      <td>Female</td>\n",
       "      <td>18.056897</td>\n",
       "      <td>2.833448</td>\n",
       "      <td>2.459770</td>\n",
       "    </tr>\n",
       "    <tr>\n",
       "      <td>Male</td>\n",
       "      <td>20.744076</td>\n",
       "      <td>3.089618</td>\n",
       "      <td>2.630573</td>\n",
       "    </tr>\n",
       "  </tbody>\n",
       "</table>\n",
       "</div>"
      ],
      "text/plain": [
       "        total_bill       tip      size\n",
       "sex                                   \n",
       "Female   18.056897  2.833448  2.459770\n",
       "Male     20.744076  3.089618  2.630573"
      ]
     },
     "execution_count": 115,
     "metadata": {},
     "output_type": "execute_result"
    }
   ],
   "source": [
    "tips.filter([\"sex\", \"total_bill\", \"tip\", \"size\"]).groupby(\"sex\").mean()"
   ]
  },
  {
   "cell_type": "markdown",
   "metadata": {},
   "source": [
    "Si on a plusieurs variables dans le regroupement, le calcul se fait donc pour chaque couple de modalités de celles-ci."
   ]
  },
  {
   "cell_type": "code",
   "execution_count": 116,
   "metadata": {},
   "outputs": [
    {
     "data": {
      "text/html": [
       "<div>\n",
       "<style scoped>\n",
       "    .dataframe tbody tr th:only-of-type {\n",
       "        vertical-align: middle;\n",
       "    }\n",
       "\n",
       "    .dataframe tbody tr th {\n",
       "        vertical-align: top;\n",
       "    }\n",
       "\n",
       "    .dataframe thead th {\n",
       "        text-align: right;\n",
       "    }\n",
       "</style>\n",
       "<table border=\"1\" class=\"dataframe\">\n",
       "  <thead>\n",
       "    <tr style=\"text-align: right;\">\n",
       "      <th></th>\n",
       "      <th></th>\n",
       "      <th>total_bill</th>\n",
       "      <th>tip</th>\n",
       "      <th>size</th>\n",
       "    </tr>\n",
       "    <tr>\n",
       "      <th>sex</th>\n",
       "      <th>smoker</th>\n",
       "      <th></th>\n",
       "      <th></th>\n",
       "      <th></th>\n",
       "    </tr>\n",
       "  </thead>\n",
       "  <tbody>\n",
       "    <tr>\n",
       "      <td rowspan=\"2\" valign=\"top\">Female</td>\n",
       "      <td>No</td>\n",
       "      <td>18.105185</td>\n",
       "      <td>2.773519</td>\n",
       "      <td>2.592593</td>\n",
       "    </tr>\n",
       "    <tr>\n",
       "      <td>Yes</td>\n",
       "      <td>17.977879</td>\n",
       "      <td>2.931515</td>\n",
       "      <td>2.242424</td>\n",
       "    </tr>\n",
       "    <tr>\n",
       "      <td rowspan=\"2\" valign=\"top\">Male</td>\n",
       "      <td>No</td>\n",
       "      <td>19.791237</td>\n",
       "      <td>3.113402</td>\n",
       "      <td>2.711340</td>\n",
       "    </tr>\n",
       "    <tr>\n",
       "      <td>Yes</td>\n",
       "      <td>22.284500</td>\n",
       "      <td>3.051167</td>\n",
       "      <td>2.500000</td>\n",
       "    </tr>\n",
       "  </tbody>\n",
       "</table>\n",
       "</div>"
      ],
      "text/plain": [
       "               total_bill       tip      size\n",
       "sex    smoker                                \n",
       "Female No       18.105185  2.773519  2.592593\n",
       "       Yes      17.977879  2.931515  2.242424\n",
       "Male   No       19.791237  3.113402  2.711340\n",
       "       Yes      22.284500  3.051167  2.500000"
      ]
     },
     "execution_count": 116,
     "metadata": {},
     "output_type": "execute_result"
    }
   ],
   "source": [
    "tips.filter([\"sex\", \"smoker\", \"total_bill\", \"tip\", \"size\"]).groupby([\"sex\", \"smoker\"]).mean()"
   ]
  },
  {
   "cell_type": "markdown",
   "metadata": {},
   "source": [
    "## Données Velib\n",
    "\n",
    "Nous allons travailler sur des données Velib en temps réel, qui sont disponibles sur [cette page](https://opendata.paris.fr/explore/dataset/velib-disponibilite-en-temps-reel/).\n",
    "\n",
    "Pour cela, nous avons besoin du module `requests`, tel qu'utilisé ci-dessous."
   ]
  },
  {
   "cell_type": "code",
   "execution_count": 117,
   "metadata": {},
   "outputs": [
    {
     "data": {
      "text/plain": [
       "{'nhits': 1394,\n",
       " 'parameters': {'dataset': 'velib-disponibilite-en-temps-reel',\n",
       "  'timezone': 'UTC',\n",
       "  'rows': 10,\n",
       "  'format': 'json'},\n",
       " 'records': [{'datasetid': 'velib-disponibilite-en-temps-reel',\n",
       "   'recordid': '2cc912fc7c0451f48b19551f02e14219eabb42db',\n",
       "   'fields': {'nbfreeedock': 28,\n",
       "    'station_state': 'Operative',\n",
       "    'maxbikeoverflow': 0,\n",
       "    'creditcard': 'no',\n",
       "    'station_type': 'yes',\n",
       "    'overflowactivation': 'no',\n",
       "    'station_code': '16107',\n",
       "    'overflow': 'no',\n",
       "    'nbbikeoverflow': 0,\n",
       "    'duedate': '2018-07-15',\n",
       "    'densitylevel': '1',\n",
       "    'nbedock': 35,\n",
       "    'station': '{\"code\": \"16107\", \"name\": \"Benjamin Godard - Victor Hugo\", \"state\": \"Operative\", \"type\": \"yes\", \"dueDate\": 1531632033, \"gps\": {\"latitude\": 48.865983, \"longitude\": 2.275725}}',\n",
       "    'nbfreedock': 0,\n",
       "    'nbbike': 1,\n",
       "    'station_name': 'Benjamin Godard - Victor Hugo',\n",
       "    'nbdock': 0,\n",
       "    'geo': [48.865983, 2.275725],\n",
       "    'nbebike': 6,\n",
       "    'kioskstate': 'yes',\n",
       "    'nbebikeoverflow': 0},\n",
       "   'geometry': {'type': 'Point', 'coordinates': [2.275725, 48.865983]},\n",
       "   'record_timestamp': '2020-01-28T12:37:00.834000+00:00'},\n",
       "  {'datasetid': 'velib-disponibilite-en-temps-reel',\n",
       "   'recordid': '9dddc408d7d2bd1377846365d6d5858466825d1f',\n",
       "   'fields': {'nbfreeedock': 44,\n",
       "    'station_state': 'Operative',\n",
       "    'maxbikeoverflow': 55,\n",
       "    'creditcard': 'yes',\n",
       "    'station_type': 'yes',\n",
       "    'overflowactivation': 'no',\n",
       "    'station_code': '6015',\n",
       "    'overflow': 'no',\n",
       "    'nbbikeoverflow': 0,\n",
       "    'duedate': '2018-04-05',\n",
       "    'densitylevel': '1',\n",
       "    'nbedock': 52,\n",
       "    'station': '{\"code\": \"6015\", \"name\": \"André Mazet - Saint-André des Arts\", \"state\": \"Operative\", \"type\": \"yes\", \"dueDate\": 1522965646, \"gps\": {\"latitude\": 48.85375581057431, \"longitude\": 2.3390958085656166}}',\n",
       "    'nbfreedock': 3,\n",
       "    'nbbike': 4,\n",
       "    'station_name': 'André Mazet - Saint-André des Arts',\n",
       "    'nbdock': 3,\n",
       "    'geo': [48.85375581057431, 2.3390958085656166],\n",
       "    'nbebike': 4,\n",
       "    'kioskstate': 'yes',\n",
       "    'nbebikeoverflow': 0},\n",
       "   'geometry': {'type': 'Point',\n",
       "    'coordinates': [2.3390958085656166, 48.85375581057431]},\n",
       "   'record_timestamp': '2020-01-28T12:37:00.834000+00:00'},\n",
       "  {'datasetid': 'velib-disponibilite-en-temps-reel',\n",
       "   'recordid': 'cc199a14bb643a08d50bd5293a50caf9e2589eb6',\n",
       "   'fields': {'nbfreeedock': 18,\n",
       "    'station_state': 'Operative',\n",
       "    'maxbikeoverflow': 21,\n",
       "    'creditcard': 'yes',\n",
       "    'station_type': 'yes',\n",
       "    'overflowactivation': 'no',\n",
       "    'station_code': '9020',\n",
       "    'overflow': 'no',\n",
       "    'nbbikeoverflow': 0,\n",
       "    'duedate': '2018-11-30',\n",
       "    'densitylevel': '1',\n",
       "    'nbedock': 21,\n",
       "    'station': '{\"code\": \"9020\", \"name\": \"Toudouze - Clauzel\", \"state\": \"Operative\", \"type\": \"yes\", \"dueDate\": 1543615140, \"gps\": {\"latitude\": 48.87929591733507, \"longitude\": 2.3373600840568547}}',\n",
       "    'nbfreedock': 0,\n",
       "    'nbbike': 0,\n",
       "    'station_name': 'Toudouze - Clauzel',\n",
       "    'nbdock': 0,\n",
       "    'geo': [48.87929591733507, 2.3373600840568547],\n",
       "    'nbebike': 3,\n",
       "    'kioskstate': 'yes',\n",
       "    'nbebikeoverflow': 0},\n",
       "   'geometry': {'type': 'Point',\n",
       "    'coordinates': [2.3373600840568547, 48.87929591733507]},\n",
       "   'record_timestamp': '2020-01-28T12:37:00.834000+00:00'},\n",
       "  {'datasetid': 'velib-disponibilite-en-temps-reel',\n",
       "   'recordid': '80d57a3d2d83c8e54e5d043d6ebf99da40acacd2',\n",
       "   'fields': {'nbfreeedock': 28,\n",
       "    'station_state': 'Operative',\n",
       "    'maxbikeoverflow': 30,\n",
       "    'creditcard': 'no',\n",
       "    'station_type': 'yes',\n",
       "    'overflowactivation': 'no',\n",
       "    'station_code': '12109',\n",
       "    'overflow': 'no',\n",
       "    'nbbikeoverflow': 0,\n",
       "    'duedate': '2019-03-28',\n",
       "    'densitylevel': '1',\n",
       "    'nbedock': 30,\n",
       "    'station': '{\"code\": \"12109\", \"name\": \"Mairie du 12ème\", \"state\": \"Operative\", \"type\": \"yes\", \"dueDate\": 1553814028, \"gps\": {\"latitude\": 48.84085531176338, \"longitude\": 2.3875549435615544}}',\n",
       "    'nbfreedock': 0,\n",
       "    'nbbike': 2,\n",
       "    'station_name': 'Mairie du 12ème',\n",
       "    'nbdock': 0,\n",
       "    'geo': [48.84085531176338, 2.3875549435615544],\n",
       "    'nbebike': 0,\n",
       "    'kioskstate': 'yes',\n",
       "    'nbebikeoverflow': 0},\n",
       "   'geometry': {'type': 'Point',\n",
       "    'coordinates': [2.3875549435615544, 48.84085531176338]},\n",
       "   'record_timestamp': '2020-01-28T12:37:00.834000+00:00'},\n",
       "  {'datasetid': 'velib-disponibilite-en-temps-reel',\n",
       "   'recordid': 'aa32ce93e4e77c29afc8d0a0eb28469da585293e',\n",
       "   'fields': {'nbfreeedock': 1,\n",
       "    'station_state': 'Operative',\n",
       "    'maxbikeoverflow': 45,\n",
       "    'creditcard': 'yes',\n",
       "    'station_type': 'yes',\n",
       "    'overflowactivation': 'no',\n",
       "    'station_code': '5001',\n",
       "    'overflow': 'no',\n",
       "    'nbbikeoverflow': 0,\n",
       "    'duedate': '2020-03-22',\n",
       "    'densitylevel': '1',\n",
       "    'nbedock': 7,\n",
       "    'station': '{\"code\": \"5001\", \"name\": \"Harpe - Saint-Germain\", \"state\": \"Operative\", \"type\": \"yes\", \"dueDate\": 1584914400, \"gps\": {\"latitude\": 48.85151881501689, \"longitude\": 2.343670316040516}}',\n",
       "    'nbfreedock': 26,\n",
       "    'nbbike': 6,\n",
       "    'station_name': 'Harpe - Saint-Germain',\n",
       "    'nbdock': 38,\n",
       "    'geo': [48.85151881501689, 2.343670316040516],\n",
       "    'nbebike': 5,\n",
       "    'kioskstate': 'yes',\n",
       "    'nbebikeoverflow': 0},\n",
       "   'geometry': {'type': 'Point',\n",
       "    'coordinates': [2.343670316040516, 48.85151881501689]},\n",
       "   'record_timestamp': '2020-01-28T12:37:00.834000+00:00'},\n",
       "  {'datasetid': 'velib-disponibilite-en-temps-reel',\n",
       "   'recordid': 'ca4af3ce96ff5bd822bf81a8857b7e33071f8698',\n",
       "   'fields': {'nbfreeedock': 57,\n",
       "    'station_state': 'Operative',\n",
       "    'maxbikeoverflow': 60,\n",
       "    'creditcard': 'yes',\n",
       "    'station_type': 'yes',\n",
       "    'overflowactivation': 'no',\n",
       "    'station_code': '14014',\n",
       "    'overflow': 'no',\n",
       "    'nbbikeoverflow': 0,\n",
       "    'duedate': '2019-04-28',\n",
       "    'densitylevel': '1',\n",
       "    'nbedock': 60,\n",
       "    'station': '{\"code\": \"14014\", \"name\": \"Jourdan - Stade Charléty\", \"state\": \"Operative\", \"type\": \"yes\", \"dueDate\": 1556488800, \"gps\": {\"latitude\": 48.81942833336948, \"longitude\": 2.343335375189781}}',\n",
       "    'nbfreedock': 0,\n",
       "    'nbbike': 0,\n",
       "    'station_name': 'Jourdan - Stade Charléty',\n",
       "    'nbdock': 0,\n",
       "    'geo': [48.81942833336948, 2.343335375189781],\n",
       "    'nbebike': 3,\n",
       "    'kioskstate': 'yes',\n",
       "    'nbebikeoverflow': 0},\n",
       "   'geometry': {'type': 'Point',\n",
       "    'coordinates': [2.343335375189781, 48.81942833336948]},\n",
       "   'record_timestamp': '2020-01-28T12:37:00.834000+00:00'},\n",
       "  {'datasetid': 'velib-disponibilite-en-temps-reel',\n",
       "   'recordid': '204d1bdad23eacb8c1fcf4ae36832fbb5b81544f',\n",
       "   'fields': {'nbfreeedock': 0,\n",
       "    'station_state': 'Operative',\n",
       "    'maxbikeoverflow': 41,\n",
       "    'creditcard': 'yes',\n",
       "    'station_type': 'no',\n",
       "    'overflowactivation': 'no',\n",
       "    'station_code': '17026',\n",
       "    'overflow': 'no',\n",
       "    'nbbikeoverflow': 0,\n",
       "    'duedate': '2018-02-28',\n",
       "    'densitylevel': '1',\n",
       "    'nbedock': 0,\n",
       "    'station': '{\"code\": \"17026\", \"name\": \"Jouffroy d\\'Abbans - Wagram\", \"state\": \"Operative\", \"type\": \"no\", \"dueDate\": 1519858800, \"gps\": {\"latitude\": 48.881973298351625, \"longitude\": 2.301132157444954}}',\n",
       "    'nbfreedock': 36,\n",
       "    'nbbike': 2,\n",
       "    'station_name': \"Jouffroy d'Abbans - Wagram\",\n",
       "    'nbdock': 40,\n",
       "    'geo': [48.881973298351625, 2.301132157444954],\n",
       "    'nbebike': 2,\n",
       "    'kioskstate': 'yes',\n",
       "    'nbebikeoverflow': 0},\n",
       "   'geometry': {'type': 'Point',\n",
       "    'coordinates': [2.301132157444954, 48.881973298351625]},\n",
       "   'record_timestamp': '2020-01-28T12:37:00.834000+00:00'},\n",
       "  {'datasetid': 'velib-disponibilite-en-temps-reel',\n",
       "   'recordid': 'cead989aa715aea1ad5151dbddd8bd07a10053f8',\n",
       "   'fields': {'nbfreeedock': 33,\n",
       "    'station_state': 'Operative',\n",
       "    'maxbikeoverflow': 39,\n",
       "    'creditcard': 'yes',\n",
       "    'station_type': 'yes',\n",
       "    'overflowactivation': 'no',\n",
       "    'station_code': '17041',\n",
       "    'overflow': 'no',\n",
       "    'nbbikeoverflow': 0,\n",
       "    'duedate': '2018-03-30',\n",
       "    'densitylevel': '1',\n",
       "    'nbedock': 38,\n",
       "    'station': '{\"code\": \"17041\", \"name\": \"Guersant - Gouvion-Saint-Cyr\", \"state\": \"Operative\", \"type\": \"yes\", \"dueDate\": 1522447200, \"gps\": {\"latitude\": 48.88287775178599, \"longitude\": 2.287667370814871}}',\n",
       "    'nbfreedock': 1,\n",
       "    'nbbike': 2,\n",
       "    'station_name': 'Guersant - Gouvion-Saint-Cyr',\n",
       "    'nbdock': 1,\n",
       "    'geo': [48.88287775178599, 2.287667370814871],\n",
       "    'nbebike': 3,\n",
       "    'kioskstate': 'yes',\n",
       "    'nbebikeoverflow': 0},\n",
       "   'geometry': {'type': 'Point',\n",
       "    'coordinates': [2.287667370814871, 48.88287775178599]},\n",
       "   'record_timestamp': '2020-01-28T12:37:00.834000+00:00'},\n",
       "  {'datasetid': 'velib-disponibilite-en-temps-reel',\n",
       "   'recordid': 'c66fbc9ba5beb7aa28dad6e868d97b07dc3e322e',\n",
       "   'fields': {'nbfreeedock': 50,\n",
       "    'station_state': 'Operative',\n",
       "    'maxbikeoverflow': 60,\n",
       "    'creditcard': 'yes',\n",
       "    'station_type': 'yes',\n",
       "    'overflowactivation': 'no',\n",
       "    'station_code': '10013',\n",
       "    'overflow': 'no',\n",
       "    'nbbikeoverflow': 0,\n",
       "    'duedate': '2018-12-30',\n",
       "    'densitylevel': '1',\n",
       "    'nbedock': 59,\n",
       "    'station': '{\"code\": \"10013\", \"name\": \"Alibert - Jemmapes\", \"state\": \"Operative\", \"type\": \"yes\", \"dueDate\": 1546210841, \"gps\": {\"latitude\": 48.8710440519842, \"longitude\": 2.366104461987773}}',\n",
       "    'nbfreedock': 0,\n",
       "    'nbbike': 3,\n",
       "    'station_name': 'Alibert - Jemmapes',\n",
       "    'nbdock': 1,\n",
       "    'geo': [48.8710440519842, 2.366104461987773],\n",
       "    'nbebike': 7,\n",
       "    'kioskstate': 'yes',\n",
       "    'nbebikeoverflow': 0},\n",
       "   'geometry': {'type': 'Point',\n",
       "    'coordinates': [2.366104461987773, 48.8710440519842]},\n",
       "   'record_timestamp': '2020-01-28T12:37:00.834000+00:00'},\n",
       "  {'datasetid': 'velib-disponibilite-en-temps-reel',\n",
       "   'recordid': 'a307ef0e930ebcb6cefd82472bacfc91ef907bcc',\n",
       "   'fields': {'nbfreeedock': 14,\n",
       "    'station_state': 'Operative',\n",
       "    'maxbikeoverflow': 21,\n",
       "    'creditcard': 'yes',\n",
       "    'station_type': 'yes',\n",
       "    'overflowactivation': 'no',\n",
       "    'station_code': '9104',\n",
       "    'overflow': 'no',\n",
       "    'nbbikeoverflow': 0,\n",
       "    'duedate': '2018-10-30',\n",
       "    'densitylevel': '1',\n",
       "    'nbedock': 22,\n",
       "    'station': '{\"code\": \"9104\", \"name\": \"Caumartin - Provence\", \"state\": \"Operative\", \"type\": \"yes\", \"dueDate\": 1540936740, \"gps\": {\"latitude\": 48.874422773426545, \"longitude\": 2.3284685611724854}}',\n",
       "    'nbfreedock': 0,\n",
       "    'nbbike': 4,\n",
       "    'station_name': 'Caumartin - Provence',\n",
       "    'nbdock': 0,\n",
       "    'geo': [48.874422773426545, 2.3284685611724854],\n",
       "    'nbebike': 4,\n",
       "    'kioskstate': 'yes',\n",
       "    'nbebikeoverflow': 0},\n",
       "   'geometry': {'type': 'Point',\n",
       "    'coordinates': [2.3284685611724854, 48.874422773426545]},\n",
       "   'record_timestamp': '2020-01-28T12:37:00.834000+00:00'}]}"
      ]
     },
     "execution_count": 117,
     "metadata": {},
     "output_type": "execute_result"
    }
   ],
   "source": [
    "import requests\n",
    "\n",
    "url = \"https://opendata.paris.fr/api/records/1.0/search/\"\n",
    "par = dict(\n",
    "    dataset = \"velib-disponibilite-en-temps-reel\"\n",
    ")\n",
    "r = requests.get(url = url, params = par)\n",
    "r.json()\n"
   ]
  },
  {
   "cell_type": "markdown",
   "metadata": {},
   "source": [
    "Dans ce résultat, nous voyons qu'il y a 1393 enregistrements à récupérer (`nhits`), et que nous en avons récupérer ici uniquement 10 (`parameters.rows`). Pour avoir les 10 suivants, on doit faire comme ci-dessous"
   ]
  },
  {
   "cell_type": "code",
   "execution_count": 118,
   "metadata": {},
   "outputs": [
    {
     "data": {
      "text/plain": [
       "{'nhits': 1394,\n",
       " 'parameters': {'dataset': 'velib-disponibilite-en-temps-reel',\n",
       "  'timezone': 'UTC',\n",
       "  'rows': 10,\n",
       "  'start': 11,\n",
       "  'format': 'json'},\n",
       " 'records': [{'datasetid': 'velib-disponibilite-en-temps-reel',\n",
       "   'recordid': '1938dcb2862f8613eeb03fc39f6364ba2d5a08ef',\n",
       "   'fields': {'nbfreeedock': 9,\n",
       "    'station_state': 'Operative',\n",
       "    'maxbikeoverflow': 21,\n",
       "    'creditcard': 'yes',\n",
       "    'station_type': 'yes',\n",
       "    'overflowactivation': 'no',\n",
       "    'station_code': '6003',\n",
       "    'overflow': 'no',\n",
       "    'nbbikeoverflow': 0,\n",
       "    'duedate': '2019-01-20',\n",
       "    'densitylevel': '1',\n",
       "    'nbedock': 21,\n",
       "    'station': '{\"code\": \"6003\", \"name\": \"Saint-Sulpice\", \"state\": \"Operative\", \"type\": \"yes\", \"dueDate\": 1547999940, \"gps\": {\"latitude\": 48.85165383178419, \"longitude\": 2.3308077827095985}}',\n",
       "    'nbfreedock': 0,\n",
       "    'nbbike': 9,\n",
       "    'station_name': 'Saint-Sulpice',\n",
       "    'nbdock': 0,\n",
       "    'geo': [48.85165383178419, 2.3308077827095985],\n",
       "    'nbebike': 1,\n",
       "    'kioskstate': 'yes',\n",
       "    'nbebikeoverflow': 0},\n",
       "   'geometry': {'type': 'Point',\n",
       "    'coordinates': [2.3308077827095985, 48.85165383178419]},\n",
       "   'record_timestamp': '2020-01-28T12:37:00.834000+00:00'},\n",
       "  {'datasetid': 'velib-disponibilite-en-temps-reel',\n",
       "   'recordid': 'a6f8878d3c8b1c43970a5398e8ed874b57341502',\n",
       "   'fields': {'nbfreeedock': 40,\n",
       "    'station_state': 'Operative',\n",
       "    'maxbikeoverflow': 49,\n",
       "    'creditcard': 'yes',\n",
       "    'station_type': 'yes',\n",
       "    'overflowactivation': 'no',\n",
       "    'station_code': '13007',\n",
       "    'overflow': 'no',\n",
       "    'nbbikeoverflow': 0,\n",
       "    'duedate': '2020-01-20',\n",
       "    'densitylevel': '1',\n",
       "    'nbedock': 48,\n",
       "    'station': '{\"code\": \"13007\", \"name\": \"Le Brun - Gobelins\", \"state\": \"Operative\", \"type\": \"yes\", \"dueDate\": 1579561200, \"gps\": {\"latitude\": 48.835092787823875, \"longitude\": 2.353468135133752}}',\n",
       "    'nbfreedock': 0,\n",
       "    'nbbike': 2,\n",
       "    'station_name': 'Le Brun - Gobelins',\n",
       "    'nbdock': 0,\n",
       "    'geo': [48.835092787823875, 2.353468135133752],\n",
       "    'nbebike': 4,\n",
       "    'kioskstate': 'yes',\n",
       "    'nbebikeoverflow': 0},\n",
       "   'geometry': {'type': 'Point',\n",
       "    'coordinates': [2.353468135133752, 48.835092787823875]},\n",
       "   'record_timestamp': '2020-01-28T12:37:00.834000+00:00'},\n",
       "  {'datasetid': 'velib-disponibilite-en-temps-reel',\n",
       "   'recordid': '19f7ff3b02e6eda7120bd992bc2b1d4c6d2380f4',\n",
       "   'fields': {'nbfreeedock': 22,\n",
       "    'station_state': 'Operative',\n",
       "    'maxbikeoverflow': 0,\n",
       "    'creditcard': 'yes',\n",
       "    'station_type': 'yes',\n",
       "    'overflowactivation': 'no',\n",
       "    'station_code': '5110',\n",
       "    'overflow': 'no',\n",
       "    'nbbikeoverflow': 0,\n",
       "    'duedate': '2018-06-22',\n",
       "    'densitylevel': '1',\n",
       "    'nbedock': 23,\n",
       "    'station': '{\"code\": \"5110\", \"name\": \"Lacépède - Monge\", \"state\": \"Operative\", \"type\": \"yes\", \"dueDate\": 1529654488, \"gps\": {\"latitude\": 48.84389286531899, \"longitude\": 2.3519663885235786}}',\n",
       "    'nbfreedock': 0,\n",
       "    'nbbike': 0,\n",
       "    'station_name': 'Lacépède - Monge',\n",
       "    'nbdock': 0,\n",
       "    'geo': [48.84389286531899, 2.3519663885235786],\n",
       "    'nbebike': 1,\n",
       "    'kioskstate': 'yes',\n",
       "    'nbebikeoverflow': 0},\n",
       "   'geometry': {'type': 'Point',\n",
       "    'coordinates': [2.3519663885235786, 48.84389286531899]},\n",
       "   'record_timestamp': '2020-01-28T12:37:00.834000+00:00'},\n",
       "  {'datasetid': 'velib-disponibilite-en-temps-reel',\n",
       "   'recordid': '69d5f3dc89b6269a0c8c979518fc1b3f86fddb0b',\n",
       "   'fields': {'nbfreeedock': 14,\n",
       "    'station_state': 'Operative',\n",
       "    'maxbikeoverflow': 0,\n",
       "    'creditcard': 'no',\n",
       "    'station_type': 'yes',\n",
       "    'overflowactivation': 'no',\n",
       "    'station_code': '6108',\n",
       "    'overflow': 'no',\n",
       "    'nbbikeoverflow': 0,\n",
       "    'duedate': '2018-06-22',\n",
       "    'densitylevel': '1',\n",
       "    'nbedock': 17,\n",
       "    'station': '{\"code\": \"6108\", \"name\": \"Saint-Romain - Cherche-Midi\", \"state\": \"Operative\", \"type\": \"yes\", \"dueDate\": 1529659445, \"gps\": {\"latitude\": 48.84708159081946, \"longitude\": 2.321374788880348}}',\n",
       "    'nbfreedock': 0,\n",
       "    'nbbike': 1,\n",
       "    'station_name': 'Saint-Romain - Cherche-Midi',\n",
       "    'nbdock': 0,\n",
       "    'geo': [48.84708159081946, 2.321374788880348],\n",
       "    'nbebike': 2,\n",
       "    'kioskstate': 'yes',\n",
       "    'nbebikeoverflow': 0},\n",
       "   'geometry': {'type': 'Point',\n",
       "    'coordinates': [2.321374788880348, 48.84708159081946]},\n",
       "   'record_timestamp': '2020-01-28T12:37:00.834000+00:00'},\n",
       "  {'datasetid': 'velib-disponibilite-en-temps-reel',\n",
       "   'recordid': '7daa349a8a2731c4f8a2df9ea011a478ca2e178b',\n",
       "   'fields': {'nbfreeedock': 29,\n",
       "    'station_state': 'Operative',\n",
       "    'maxbikeoverflow': 0,\n",
       "    'creditcard': 'no',\n",
       "    'station_type': 'yes',\n",
       "    'overflowactivation': 'no',\n",
       "    'station_code': '33006',\n",
       "    'overflow': 'no',\n",
       "    'nbbikeoverflow': 1,\n",
       "    'duedate': '2019-01-01',\n",
       "    'densitylevel': '1',\n",
       "    'nbedock': 31,\n",
       "    'station': '{\"code\": \"33006\", \"name\": \"André Karman - République\", \"state\": \"Operative\", \"type\": \"yes\", \"dueDate\": 1546361972, \"gps\": {\"latitude\": 48.91039875761846, \"longitude\": 2.3851355910301213}}',\n",
       "    'nbfreedock': 0,\n",
       "    'nbbike': 0,\n",
       "    'station_name': 'André Karman - République',\n",
       "    'nbdock': 0,\n",
       "    'geo': [48.91039875761846, 2.3851355910301213],\n",
       "    'nbebike': 2,\n",
       "    'kioskstate': 'yes',\n",
       "    'nbebikeoverflow': 0},\n",
       "   'geometry': {'type': 'Point',\n",
       "    'coordinates': [2.3851355910301213, 48.91039875761846]},\n",
       "   'record_timestamp': '2020-01-28T12:37:00.834000+00:00'},\n",
       "  {'datasetid': 'velib-disponibilite-en-temps-reel',\n",
       "   'recordid': 'fa18ef207a703f1eeee227bd5ed0e74c83e731b9',\n",
       "   'fields': {'nbfreeedock': 22,\n",
       "    'station_state': 'Operative',\n",
       "    'maxbikeoverflow': 27,\n",
       "    'creditcard': 'no',\n",
       "    'station_type': 'yes',\n",
       "    'overflowactivation': 'no',\n",
       "    'station_code': '42016',\n",
       "    'overflow': 'no',\n",
       "    'nbbikeoverflow': 0,\n",
       "    'duedate': '2018-04-02',\n",
       "    'densitylevel': '1',\n",
       "    'nbedock': 27,\n",
       "    'station': '{\"code\": \"42016\", \"name\": \"Pierre et Marie Curie - Maurice Thorez\", \"state\": \"Operative\", \"type\": \"yes\", \"dueDate\": 1522706410, \"gps\": {\"latitude\": 48.81580226360801, \"longitude\": 2.376804985105991}}',\n",
       "    'nbfreedock': 0,\n",
       "    'nbbike': 2,\n",
       "    'station_name': 'Pierre et Marie Curie - Maurice Thorez',\n",
       "    'nbdock': 0,\n",
       "    'geo': [48.81580226360801, 2.376804985105991],\n",
       "    'nbebike': 3,\n",
       "    'kioskstate': 'yes',\n",
       "    'nbebikeoverflow': 0},\n",
       "   'geometry': {'type': 'Point',\n",
       "    'coordinates': [2.376804985105991, 48.81580226360801]},\n",
       "   'record_timestamp': '2020-01-28T12:37:00.834000+00:00'},\n",
       "  {'datasetid': 'velib-disponibilite-en-temps-reel',\n",
       "   'recordid': 'b4e8530a1ddc6c1945cec7b18b6fa21228049596',\n",
       "   'fields': {'nbfreeedock': 42,\n",
       "    'station_state': 'Operative',\n",
       "    'maxbikeoverflow': 0,\n",
       "    'creditcard': 'yes',\n",
       "    'station_type': 'yes',\n",
       "    'overflowactivation': 'no',\n",
       "    'station_code': '41301',\n",
       "    'overflow': 'no',\n",
       "    'nbbikeoverflow': 0,\n",
       "    'duedate': '2018-06-18',\n",
       "    'densitylevel': '0',\n",
       "    'nbedock': 50,\n",
       "    'station': '{\"code\": \"41301\", \"name\": \"Bois de Vincennes - Gare\", \"state\": \"Operative\", \"type\": \"yes\", \"dueDate\": 1529359231, \"gps\": {\"latitude\": 48.836022242886884, \"longitude\": 2.4708339950830287}}',\n",
       "    'nbfreedock': 0,\n",
       "    'nbbike': 1,\n",
       "    'station_name': 'Bois de Vincennes - Gare',\n",
       "    'nbdock': 0,\n",
       "    'geo': [48.836022242886884, 2.4708339950830287],\n",
       "    'nbebike': 7,\n",
       "    'kioskstate': 'yes',\n",
       "    'nbebikeoverflow': 0},\n",
       "   'geometry': {'type': 'Point',\n",
       "    'coordinates': [2.4708339950830287, 48.836022242886884]},\n",
       "   'record_timestamp': '2020-01-28T12:37:00.834000+00:00'},\n",
       "  {'datasetid': 'velib-disponibilite-en-temps-reel',\n",
       "   'recordid': 'e6b97d8acd72ba9e1fd12301be6dd056d84ce0a2',\n",
       "   'fields': {'nbfreeedock': 25,\n",
       "    'station_state': 'Close',\n",
       "    'maxbikeoverflow': 0,\n",
       "    'creditcard': 'yes',\n",
       "    'station_type': 'yes',\n",
       "    'overflowactivation': 'no',\n",
       "    'station_code': '10105',\n",
       "    'overflow': 'no',\n",
       "    'nbbikeoverflow': 0,\n",
       "    'duedate': '2020-04-14',\n",
       "    'densitylevel': '1',\n",
       "    'nbedock': 25,\n",
       "    'station': '{\"code\": \"10105\", \"name\": \"Mazagran - Bonne Nouvelle\", \"state\": \"Close\", \"type\": \"yes\", \"dueDate\": 1586901600, \"gps\": {\"latitude\": 48.870278, \"longitude\": 2.351281}}',\n",
       "    'nbfreedock': 0,\n",
       "    'nbbike': 0,\n",
       "    'station_name': 'Mazagran - Bonne Nouvelle',\n",
       "    'nbdock': 0,\n",
       "    'geo': [48.870278, 2.351281],\n",
       "    'nbebike': 0,\n",
       "    'kioskstate': 'yes',\n",
       "    'nbebikeoverflow': 0},\n",
       "   'geometry': {'type': 'Point', 'coordinates': [2.351281, 48.870278]},\n",
       "   'record_timestamp': '2020-01-28T12:37:00.834000+00:00'},\n",
       "  {'datasetid': 'velib-disponibilite-en-temps-reel',\n",
       "   'recordid': 'e1a1e1516a1304f0319fad6d6077110d913c3e11',\n",
       "   'fields': {'nbfreeedock': 13,\n",
       "    'station_state': 'Operative',\n",
       "    'maxbikeoverflow': 25,\n",
       "    'creditcard': 'yes',\n",
       "    'station_type': 'yes',\n",
       "    'overflowactivation': 'no',\n",
       "    'station_code': '21010',\n",
       "    'overflow': 'no',\n",
       "    'nbbikeoverflow': 0,\n",
       "    'duedate': '2018-12-30',\n",
       "    'densitylevel': '1',\n",
       "    'nbedock': 25,\n",
       "    'station': '{\"code\": \"21010\", \"name\": \"Silly - Galliéni\", \"state\": \"Operative\", \"type\": \"yes\", \"dueDate\": 1546210829, \"gps\": {\"latitude\": 48.835583838705936, \"longitude\": 2.2325500845909123}}',\n",
       "    'nbfreedock': 0,\n",
       "    'nbbike': 9,\n",
       "    'station_name': 'Silly - Galliéni',\n",
       "    'nbdock': 0,\n",
       "    'geo': [48.835583838705936, 2.2325500845909123],\n",
       "    'nbebike': 3,\n",
       "    'kioskstate': 'yes',\n",
       "    'nbebikeoverflow': 0},\n",
       "   'geometry': {'type': 'Point',\n",
       "    'coordinates': [2.2325500845909123, 48.835583838705936]},\n",
       "   'record_timestamp': '2020-01-28T12:37:00.834000+00:00'},\n",
       "  {'datasetid': 'velib-disponibilite-en-temps-reel',\n",
       "   'recordid': 'ad3f819d5529b60c09047e93f797f7699f910f78',\n",
       "   'fields': {'nbfreeedock': 8,\n",
       "    'station_state': 'Operative',\n",
       "    'maxbikeoverflow': 0,\n",
       "    'creditcard': 'yes',\n",
       "    'station_type': 'yes',\n",
       "    'overflowactivation': 'no',\n",
       "    'station_code': '6021',\n",
       "    'overflow': 'no',\n",
       "    'nbbikeoverflow': 1,\n",
       "    'duedate': '2018-06-22',\n",
       "    'densitylevel': '1',\n",
       "    'nbedock': 20,\n",
       "    'station': '{\"code\": \"6021\", \"name\": \"Beaux-Arts - Bonaparte\", \"state\": \"Operative\", \"type\": \"yes\", \"dueDate\": 1529654643, \"gps\": {\"latitude\": 48.856451985395786, \"longitude\": 2.334851883351803}}',\n",
       "    'nbfreedock': 0,\n",
       "    'nbbike': 8,\n",
       "    'station_name': 'Beaux-Arts - Bonaparte',\n",
       "    'nbdock': 0,\n",
       "    'geo': [48.856451985395786, 2.334851883351803],\n",
       "    'nbebike': 4,\n",
       "    'kioskstate': 'yes',\n",
       "    'nbebikeoverflow': 0},\n",
       "   'geometry': {'type': 'Point',\n",
       "    'coordinates': [2.334851883351803, 48.856451985395786]},\n",
       "   'record_timestamp': '2020-01-28T12:37:00.834000+00:00'}]}"
      ]
     },
     "execution_count": 118,
     "metadata": {},
     "output_type": "execute_result"
    }
   ],
   "source": [
    "par = dict(\n",
    "    dataset = \"velib-disponibilite-en-temps-reel\",\n",
    "    start = 11\n",
    ")\n",
    "rsuite = requests.get(url = url, params = par)\n",
    "rsuite.json()"
   ]
  },
  {
   "cell_type": "markdown",
   "metadata": {},
   "source": [
    "Ce qui nous intéresse ici est le champ `records`, qui contient les enregistrements de 10 premières stations donc. En le transformant en data frame avec `pandas`, on voit que le tableau obtenu n'est pas très lisible."
   ]
  },
  {
   "cell_type": "code",
   "execution_count": 119,
   "metadata": {},
   "outputs": [
    {
     "data": {
      "text/html": [
       "<div>\n",
       "<style scoped>\n",
       "    .dataframe tbody tr th:only-of-type {\n",
       "        vertical-align: middle;\n",
       "    }\n",
       "\n",
       "    .dataframe tbody tr th {\n",
       "        vertical-align: top;\n",
       "    }\n",
       "\n",
       "    .dataframe thead th {\n",
       "        text-align: right;\n",
       "    }\n",
       "</style>\n",
       "<table border=\"1\" class=\"dataframe\">\n",
       "  <thead>\n",
       "    <tr style=\"text-align: right;\">\n",
       "      <th></th>\n",
       "      <th>datasetid</th>\n",
       "      <th>recordid</th>\n",
       "      <th>fields</th>\n",
       "      <th>geometry</th>\n",
       "      <th>record_timestamp</th>\n",
       "    </tr>\n",
       "  </thead>\n",
       "  <tbody>\n",
       "    <tr>\n",
       "      <td>0</td>\n",
       "      <td>velib-disponibilite-en-temps-reel</td>\n",
       "      <td>2cc912fc7c0451f48b19551f02e14219eabb42db</td>\n",
       "      <td>{'nbfreeedock': 28, 'station_state': 'Operativ...</td>\n",
       "      <td>{'type': 'Point', 'coordinates': [2.275725, 48...</td>\n",
       "      <td>2020-01-28T12:37:00.834000+00:00</td>\n",
       "    </tr>\n",
       "    <tr>\n",
       "      <td>1</td>\n",
       "      <td>velib-disponibilite-en-temps-reel</td>\n",
       "      <td>9dddc408d7d2bd1377846365d6d5858466825d1f</td>\n",
       "      <td>{'nbfreeedock': 44, 'station_state': 'Operativ...</td>\n",
       "      <td>{'type': 'Point', 'coordinates': [2.3390958085...</td>\n",
       "      <td>2020-01-28T12:37:00.834000+00:00</td>\n",
       "    </tr>\n",
       "    <tr>\n",
       "      <td>2</td>\n",
       "      <td>velib-disponibilite-en-temps-reel</td>\n",
       "      <td>cc199a14bb643a08d50bd5293a50caf9e2589eb6</td>\n",
       "      <td>{'nbfreeedock': 18, 'station_state': 'Operativ...</td>\n",
       "      <td>{'type': 'Point', 'coordinates': [2.3373600840...</td>\n",
       "      <td>2020-01-28T12:37:00.834000+00:00</td>\n",
       "    </tr>\n",
       "    <tr>\n",
       "      <td>3</td>\n",
       "      <td>velib-disponibilite-en-temps-reel</td>\n",
       "      <td>80d57a3d2d83c8e54e5d043d6ebf99da40acacd2</td>\n",
       "      <td>{'nbfreeedock': 28, 'station_state': 'Operativ...</td>\n",
       "      <td>{'type': 'Point', 'coordinates': [2.3875549435...</td>\n",
       "      <td>2020-01-28T12:37:00.834000+00:00</td>\n",
       "    </tr>\n",
       "    <tr>\n",
       "      <td>4</td>\n",
       "      <td>velib-disponibilite-en-temps-reel</td>\n",
       "      <td>aa32ce93e4e77c29afc8d0a0eb28469da585293e</td>\n",
       "      <td>{'nbfreeedock': 1, 'station_state': 'Operative...</td>\n",
       "      <td>{'type': 'Point', 'coordinates': [2.3436703160...</td>\n",
       "      <td>2020-01-28T12:37:00.834000+00:00</td>\n",
       "    </tr>\n",
       "    <tr>\n",
       "      <td>5</td>\n",
       "      <td>velib-disponibilite-en-temps-reel</td>\n",
       "      <td>ca4af3ce96ff5bd822bf81a8857b7e33071f8698</td>\n",
       "      <td>{'nbfreeedock': 57, 'station_state': 'Operativ...</td>\n",
       "      <td>{'type': 'Point', 'coordinates': [2.3433353751...</td>\n",
       "      <td>2020-01-28T12:37:00.834000+00:00</td>\n",
       "    </tr>\n",
       "    <tr>\n",
       "      <td>6</td>\n",
       "      <td>velib-disponibilite-en-temps-reel</td>\n",
       "      <td>204d1bdad23eacb8c1fcf4ae36832fbb5b81544f</td>\n",
       "      <td>{'nbfreeedock': 0, 'station_state': 'Operative...</td>\n",
       "      <td>{'type': 'Point', 'coordinates': [2.3011321574...</td>\n",
       "      <td>2020-01-28T12:37:00.834000+00:00</td>\n",
       "    </tr>\n",
       "    <tr>\n",
       "      <td>7</td>\n",
       "      <td>velib-disponibilite-en-temps-reel</td>\n",
       "      <td>cead989aa715aea1ad5151dbddd8bd07a10053f8</td>\n",
       "      <td>{'nbfreeedock': 33, 'station_state': 'Operativ...</td>\n",
       "      <td>{'type': 'Point', 'coordinates': [2.2876673708...</td>\n",
       "      <td>2020-01-28T12:37:00.834000+00:00</td>\n",
       "    </tr>\n",
       "    <tr>\n",
       "      <td>8</td>\n",
       "      <td>velib-disponibilite-en-temps-reel</td>\n",
       "      <td>c66fbc9ba5beb7aa28dad6e868d97b07dc3e322e</td>\n",
       "      <td>{'nbfreeedock': 50, 'station_state': 'Operativ...</td>\n",
       "      <td>{'type': 'Point', 'coordinates': [2.3661044619...</td>\n",
       "      <td>2020-01-28T12:37:00.834000+00:00</td>\n",
       "    </tr>\n",
       "    <tr>\n",
       "      <td>9</td>\n",
       "      <td>velib-disponibilite-en-temps-reel</td>\n",
       "      <td>a307ef0e930ebcb6cefd82472bacfc91ef907bcc</td>\n",
       "      <td>{'nbfreeedock': 14, 'station_state': 'Operativ...</td>\n",
       "      <td>{'type': 'Point', 'coordinates': [2.3284685611...</td>\n",
       "      <td>2020-01-28T12:37:00.834000+00:00</td>\n",
       "    </tr>\n",
       "  </tbody>\n",
       "</table>\n",
       "</div>"
      ],
      "text/plain": [
       "                           datasetid  \\\n",
       "0  velib-disponibilite-en-temps-reel   \n",
       "1  velib-disponibilite-en-temps-reel   \n",
       "2  velib-disponibilite-en-temps-reel   \n",
       "3  velib-disponibilite-en-temps-reel   \n",
       "4  velib-disponibilite-en-temps-reel   \n",
       "5  velib-disponibilite-en-temps-reel   \n",
       "6  velib-disponibilite-en-temps-reel   \n",
       "7  velib-disponibilite-en-temps-reel   \n",
       "8  velib-disponibilite-en-temps-reel   \n",
       "9  velib-disponibilite-en-temps-reel   \n",
       "\n",
       "                                   recordid  \\\n",
       "0  2cc912fc7c0451f48b19551f02e14219eabb42db   \n",
       "1  9dddc408d7d2bd1377846365d6d5858466825d1f   \n",
       "2  cc199a14bb643a08d50bd5293a50caf9e2589eb6   \n",
       "3  80d57a3d2d83c8e54e5d043d6ebf99da40acacd2   \n",
       "4  aa32ce93e4e77c29afc8d0a0eb28469da585293e   \n",
       "5  ca4af3ce96ff5bd822bf81a8857b7e33071f8698   \n",
       "6  204d1bdad23eacb8c1fcf4ae36832fbb5b81544f   \n",
       "7  cead989aa715aea1ad5151dbddd8bd07a10053f8   \n",
       "8  c66fbc9ba5beb7aa28dad6e868d97b07dc3e322e   \n",
       "9  a307ef0e930ebcb6cefd82472bacfc91ef907bcc   \n",
       "\n",
       "                                              fields  \\\n",
       "0  {'nbfreeedock': 28, 'station_state': 'Operativ...   \n",
       "1  {'nbfreeedock': 44, 'station_state': 'Operativ...   \n",
       "2  {'nbfreeedock': 18, 'station_state': 'Operativ...   \n",
       "3  {'nbfreeedock': 28, 'station_state': 'Operativ...   \n",
       "4  {'nbfreeedock': 1, 'station_state': 'Operative...   \n",
       "5  {'nbfreeedock': 57, 'station_state': 'Operativ...   \n",
       "6  {'nbfreeedock': 0, 'station_state': 'Operative...   \n",
       "7  {'nbfreeedock': 33, 'station_state': 'Operativ...   \n",
       "8  {'nbfreeedock': 50, 'station_state': 'Operativ...   \n",
       "9  {'nbfreeedock': 14, 'station_state': 'Operativ...   \n",
       "\n",
       "                                            geometry  \\\n",
       "0  {'type': 'Point', 'coordinates': [2.275725, 48...   \n",
       "1  {'type': 'Point', 'coordinates': [2.3390958085...   \n",
       "2  {'type': 'Point', 'coordinates': [2.3373600840...   \n",
       "3  {'type': 'Point', 'coordinates': [2.3875549435...   \n",
       "4  {'type': 'Point', 'coordinates': [2.3436703160...   \n",
       "5  {'type': 'Point', 'coordinates': [2.3433353751...   \n",
       "6  {'type': 'Point', 'coordinates': [2.3011321574...   \n",
       "7  {'type': 'Point', 'coordinates': [2.2876673708...   \n",
       "8  {'type': 'Point', 'coordinates': [2.3661044619...   \n",
       "9  {'type': 'Point', 'coordinates': [2.3284685611...   \n",
       "\n",
       "                   record_timestamp  \n",
       "0  2020-01-28T12:37:00.834000+00:00  \n",
       "1  2020-01-28T12:37:00.834000+00:00  \n",
       "2  2020-01-28T12:37:00.834000+00:00  \n",
       "3  2020-01-28T12:37:00.834000+00:00  \n",
       "4  2020-01-28T12:37:00.834000+00:00  \n",
       "5  2020-01-28T12:37:00.834000+00:00  \n",
       "6  2020-01-28T12:37:00.834000+00:00  \n",
       "7  2020-01-28T12:37:00.834000+00:00  \n",
       "8  2020-01-28T12:37:00.834000+00:00  \n",
       "9  2020-01-28T12:37:00.834000+00:00  "
      ]
     },
     "execution_count": 119,
     "metadata": {},
     "output_type": "execute_result"
    }
   ],
   "source": [
    "records = r.json()['records']\n",
    "df = pandas.DataFrame(records)\n",
    "\n",
    "df"
   ]
  },
  {
   "cell_type": "markdown",
   "metadata": {},
   "source": [
    "On souhaite finalement se restreindre qu'aux informations contenues dans le champs `fields`. Pour cela, on utilise le mécanisme de *dict comprehension*."
   ]
  },
  {
   "cell_type": "code",
   "execution_count": 120,
   "metadata": {},
   "outputs": [
    {
     "data": {
      "text/html": [
       "<div>\n",
       "<style scoped>\n",
       "    .dataframe tbody tr th:only-of-type {\n",
       "        vertical-align: middle;\n",
       "    }\n",
       "\n",
       "    .dataframe tbody tr th {\n",
       "        vertical-align: top;\n",
       "    }\n",
       "\n",
       "    .dataframe thead th {\n",
       "        text-align: right;\n",
       "    }\n",
       "</style>\n",
       "<table border=\"1\" class=\"dataframe\">\n",
       "  <thead>\n",
       "    <tr style=\"text-align: right;\">\n",
       "      <th></th>\n",
       "      <th>nbfreeedock</th>\n",
       "      <th>station_state</th>\n",
       "      <th>maxbikeoverflow</th>\n",
       "      <th>creditcard</th>\n",
       "      <th>station_type</th>\n",
       "      <th>overflowactivation</th>\n",
       "      <th>station_code</th>\n",
       "      <th>overflow</th>\n",
       "      <th>nbbikeoverflow</th>\n",
       "      <th>duedate</th>\n",
       "      <th>...</th>\n",
       "      <th>nbedock</th>\n",
       "      <th>station</th>\n",
       "      <th>nbfreedock</th>\n",
       "      <th>nbbike</th>\n",
       "      <th>station_name</th>\n",
       "      <th>nbdock</th>\n",
       "      <th>geo</th>\n",
       "      <th>nbebike</th>\n",
       "      <th>kioskstate</th>\n",
       "      <th>nbebikeoverflow</th>\n",
       "    </tr>\n",
       "  </thead>\n",
       "  <tbody>\n",
       "    <tr>\n",
       "      <td>0</td>\n",
       "      <td>28</td>\n",
       "      <td>Operative</td>\n",
       "      <td>0</td>\n",
       "      <td>no</td>\n",
       "      <td>yes</td>\n",
       "      <td>no</td>\n",
       "      <td>16107</td>\n",
       "      <td>no</td>\n",
       "      <td>0</td>\n",
       "      <td>2018-07-15</td>\n",
       "      <td>...</td>\n",
       "      <td>35</td>\n",
       "      <td>{\"code\": \"16107\", \"name\": \"Benjamin Godard - V...</td>\n",
       "      <td>0</td>\n",
       "      <td>1</td>\n",
       "      <td>Benjamin Godard - Victor Hugo</td>\n",
       "      <td>0</td>\n",
       "      <td>[48.865983, 2.275725]</td>\n",
       "      <td>6</td>\n",
       "      <td>yes</td>\n",
       "      <td>0</td>\n",
       "    </tr>\n",
       "    <tr>\n",
       "      <td>1</td>\n",
       "      <td>44</td>\n",
       "      <td>Operative</td>\n",
       "      <td>55</td>\n",
       "      <td>yes</td>\n",
       "      <td>yes</td>\n",
       "      <td>no</td>\n",
       "      <td>6015</td>\n",
       "      <td>no</td>\n",
       "      <td>0</td>\n",
       "      <td>2018-04-05</td>\n",
       "      <td>...</td>\n",
       "      <td>52</td>\n",
       "      <td>{\"code\": \"6015\", \"name\": \"André Mazet - Saint-...</td>\n",
       "      <td>3</td>\n",
       "      <td>4</td>\n",
       "      <td>André Mazet - Saint-André des Arts</td>\n",
       "      <td>3</td>\n",
       "      <td>[48.85375581057431, 2.3390958085656166]</td>\n",
       "      <td>4</td>\n",
       "      <td>yes</td>\n",
       "      <td>0</td>\n",
       "    </tr>\n",
       "    <tr>\n",
       "      <td>2</td>\n",
       "      <td>18</td>\n",
       "      <td>Operative</td>\n",
       "      <td>21</td>\n",
       "      <td>yes</td>\n",
       "      <td>yes</td>\n",
       "      <td>no</td>\n",
       "      <td>9020</td>\n",
       "      <td>no</td>\n",
       "      <td>0</td>\n",
       "      <td>2018-11-30</td>\n",
       "      <td>...</td>\n",
       "      <td>21</td>\n",
       "      <td>{\"code\": \"9020\", \"name\": \"Toudouze - Clauzel\",...</td>\n",
       "      <td>0</td>\n",
       "      <td>0</td>\n",
       "      <td>Toudouze - Clauzel</td>\n",
       "      <td>0</td>\n",
       "      <td>[48.87929591733507, 2.3373600840568547]</td>\n",
       "      <td>3</td>\n",
       "      <td>yes</td>\n",
       "      <td>0</td>\n",
       "    </tr>\n",
       "    <tr>\n",
       "      <td>3</td>\n",
       "      <td>28</td>\n",
       "      <td>Operative</td>\n",
       "      <td>30</td>\n",
       "      <td>no</td>\n",
       "      <td>yes</td>\n",
       "      <td>no</td>\n",
       "      <td>12109</td>\n",
       "      <td>no</td>\n",
       "      <td>0</td>\n",
       "      <td>2019-03-28</td>\n",
       "      <td>...</td>\n",
       "      <td>30</td>\n",
       "      <td>{\"code\": \"12109\", \"name\": \"Mairie du 12ème\", \"...</td>\n",
       "      <td>0</td>\n",
       "      <td>2</td>\n",
       "      <td>Mairie du 12ème</td>\n",
       "      <td>0</td>\n",
       "      <td>[48.84085531176338, 2.3875549435615544]</td>\n",
       "      <td>0</td>\n",
       "      <td>yes</td>\n",
       "      <td>0</td>\n",
       "    </tr>\n",
       "    <tr>\n",
       "      <td>4</td>\n",
       "      <td>1</td>\n",
       "      <td>Operative</td>\n",
       "      <td>45</td>\n",
       "      <td>yes</td>\n",
       "      <td>yes</td>\n",
       "      <td>no</td>\n",
       "      <td>5001</td>\n",
       "      <td>no</td>\n",
       "      <td>0</td>\n",
       "      <td>2020-03-22</td>\n",
       "      <td>...</td>\n",
       "      <td>7</td>\n",
       "      <td>{\"code\": \"5001\", \"name\": \"Harpe - Saint-Germai...</td>\n",
       "      <td>26</td>\n",
       "      <td>6</td>\n",
       "      <td>Harpe - Saint-Germain</td>\n",
       "      <td>38</td>\n",
       "      <td>[48.85151881501689, 2.343670316040516]</td>\n",
       "      <td>5</td>\n",
       "      <td>yes</td>\n",
       "      <td>0</td>\n",
       "    </tr>\n",
       "    <tr>\n",
       "      <td>5</td>\n",
       "      <td>57</td>\n",
       "      <td>Operative</td>\n",
       "      <td>60</td>\n",
       "      <td>yes</td>\n",
       "      <td>yes</td>\n",
       "      <td>no</td>\n",
       "      <td>14014</td>\n",
       "      <td>no</td>\n",
       "      <td>0</td>\n",
       "      <td>2019-04-28</td>\n",
       "      <td>...</td>\n",
       "      <td>60</td>\n",
       "      <td>{\"code\": \"14014\", \"name\": \"Jourdan - Stade Cha...</td>\n",
       "      <td>0</td>\n",
       "      <td>0</td>\n",
       "      <td>Jourdan - Stade Charléty</td>\n",
       "      <td>0</td>\n",
       "      <td>[48.81942833336948, 2.343335375189781]</td>\n",
       "      <td>3</td>\n",
       "      <td>yes</td>\n",
       "      <td>0</td>\n",
       "    </tr>\n",
       "    <tr>\n",
       "      <td>6</td>\n",
       "      <td>0</td>\n",
       "      <td>Operative</td>\n",
       "      <td>41</td>\n",
       "      <td>yes</td>\n",
       "      <td>no</td>\n",
       "      <td>no</td>\n",
       "      <td>17026</td>\n",
       "      <td>no</td>\n",
       "      <td>0</td>\n",
       "      <td>2018-02-28</td>\n",
       "      <td>...</td>\n",
       "      <td>0</td>\n",
       "      <td>{\"code\": \"17026\", \"name\": \"Jouffroy d'Abbans -...</td>\n",
       "      <td>36</td>\n",
       "      <td>2</td>\n",
       "      <td>Jouffroy d'Abbans - Wagram</td>\n",
       "      <td>40</td>\n",
       "      <td>[48.881973298351625, 2.301132157444954]</td>\n",
       "      <td>2</td>\n",
       "      <td>yes</td>\n",
       "      <td>0</td>\n",
       "    </tr>\n",
       "    <tr>\n",
       "      <td>7</td>\n",
       "      <td>33</td>\n",
       "      <td>Operative</td>\n",
       "      <td>39</td>\n",
       "      <td>yes</td>\n",
       "      <td>yes</td>\n",
       "      <td>no</td>\n",
       "      <td>17041</td>\n",
       "      <td>no</td>\n",
       "      <td>0</td>\n",
       "      <td>2018-03-30</td>\n",
       "      <td>...</td>\n",
       "      <td>38</td>\n",
       "      <td>{\"code\": \"17041\", \"name\": \"Guersant - Gouvion-...</td>\n",
       "      <td>1</td>\n",
       "      <td>2</td>\n",
       "      <td>Guersant - Gouvion-Saint-Cyr</td>\n",
       "      <td>1</td>\n",
       "      <td>[48.88287775178599, 2.287667370814871]</td>\n",
       "      <td>3</td>\n",
       "      <td>yes</td>\n",
       "      <td>0</td>\n",
       "    </tr>\n",
       "    <tr>\n",
       "      <td>8</td>\n",
       "      <td>50</td>\n",
       "      <td>Operative</td>\n",
       "      <td>60</td>\n",
       "      <td>yes</td>\n",
       "      <td>yes</td>\n",
       "      <td>no</td>\n",
       "      <td>10013</td>\n",
       "      <td>no</td>\n",
       "      <td>0</td>\n",
       "      <td>2018-12-30</td>\n",
       "      <td>...</td>\n",
       "      <td>59</td>\n",
       "      <td>{\"code\": \"10013\", \"name\": \"Alibert - Jemmapes\"...</td>\n",
       "      <td>0</td>\n",
       "      <td>3</td>\n",
       "      <td>Alibert - Jemmapes</td>\n",
       "      <td>1</td>\n",
       "      <td>[48.8710440519842, 2.366104461987773]</td>\n",
       "      <td>7</td>\n",
       "      <td>yes</td>\n",
       "      <td>0</td>\n",
       "    </tr>\n",
       "    <tr>\n",
       "      <td>9</td>\n",
       "      <td>14</td>\n",
       "      <td>Operative</td>\n",
       "      <td>21</td>\n",
       "      <td>yes</td>\n",
       "      <td>yes</td>\n",
       "      <td>no</td>\n",
       "      <td>9104</td>\n",
       "      <td>no</td>\n",
       "      <td>0</td>\n",
       "      <td>2018-10-30</td>\n",
       "      <td>...</td>\n",
       "      <td>22</td>\n",
       "      <td>{\"code\": \"9104\", \"name\": \"Caumartin - Provence...</td>\n",
       "      <td>0</td>\n",
       "      <td>4</td>\n",
       "      <td>Caumartin - Provence</td>\n",
       "      <td>0</td>\n",
       "      <td>[48.874422773426545, 2.3284685611724854]</td>\n",
       "      <td>4</td>\n",
       "      <td>yes</td>\n",
       "      <td>0</td>\n",
       "    </tr>\n",
       "  </tbody>\n",
       "</table>\n",
       "<p>10 rows × 21 columns</p>\n",
       "</div>"
      ],
      "text/plain": [
       "   nbfreeedock station_state  maxbikeoverflow creditcard station_type  \\\n",
       "0           28     Operative                0         no          yes   \n",
       "1           44     Operative               55        yes          yes   \n",
       "2           18     Operative               21        yes          yes   \n",
       "3           28     Operative               30         no          yes   \n",
       "4            1     Operative               45        yes          yes   \n",
       "5           57     Operative               60        yes          yes   \n",
       "6            0     Operative               41        yes           no   \n",
       "7           33     Operative               39        yes          yes   \n",
       "8           50     Operative               60        yes          yes   \n",
       "9           14     Operative               21        yes          yes   \n",
       "\n",
       "  overflowactivation station_code overflow  nbbikeoverflow     duedate  ...  \\\n",
       "0                 no        16107       no               0  2018-07-15  ...   \n",
       "1                 no         6015       no               0  2018-04-05  ...   \n",
       "2                 no         9020       no               0  2018-11-30  ...   \n",
       "3                 no        12109       no               0  2019-03-28  ...   \n",
       "4                 no         5001       no               0  2020-03-22  ...   \n",
       "5                 no        14014       no               0  2019-04-28  ...   \n",
       "6                 no        17026       no               0  2018-02-28  ...   \n",
       "7                 no        17041       no               0  2018-03-30  ...   \n",
       "8                 no        10013       no               0  2018-12-30  ...   \n",
       "9                 no         9104       no               0  2018-10-30  ...   \n",
       "\n",
       "  nbedock                                            station nbfreedock  \\\n",
       "0      35  {\"code\": \"16107\", \"name\": \"Benjamin Godard - V...          0   \n",
       "1      52  {\"code\": \"6015\", \"name\": \"André Mazet - Saint-...          3   \n",
       "2      21  {\"code\": \"9020\", \"name\": \"Toudouze - Clauzel\",...          0   \n",
       "3      30  {\"code\": \"12109\", \"name\": \"Mairie du 12ème\", \"...          0   \n",
       "4       7  {\"code\": \"5001\", \"name\": \"Harpe - Saint-Germai...         26   \n",
       "5      60  {\"code\": \"14014\", \"name\": \"Jourdan - Stade Cha...          0   \n",
       "6       0  {\"code\": \"17026\", \"name\": \"Jouffroy d'Abbans -...         36   \n",
       "7      38  {\"code\": \"17041\", \"name\": \"Guersant - Gouvion-...          1   \n",
       "8      59  {\"code\": \"10013\", \"name\": \"Alibert - Jemmapes\"...          0   \n",
       "9      22  {\"code\": \"9104\", \"name\": \"Caumartin - Provence...          0   \n",
       "\n",
       "   nbbike                        station_name nbdock  \\\n",
       "0       1       Benjamin Godard - Victor Hugo      0   \n",
       "1       4  André Mazet - Saint-André des Arts      3   \n",
       "2       0                  Toudouze - Clauzel      0   \n",
       "3       2                     Mairie du 12ème      0   \n",
       "4       6               Harpe - Saint-Germain     38   \n",
       "5       0            Jourdan - Stade Charléty      0   \n",
       "6       2          Jouffroy d'Abbans - Wagram     40   \n",
       "7       2        Guersant - Gouvion-Saint-Cyr      1   \n",
       "8       3                  Alibert - Jemmapes      1   \n",
       "9       4                Caumartin - Provence      0   \n",
       "\n",
       "                                        geo nbebike  kioskstate  \\\n",
       "0                     [48.865983, 2.275725]       6         yes   \n",
       "1   [48.85375581057431, 2.3390958085656166]       4         yes   \n",
       "2   [48.87929591733507, 2.3373600840568547]       3         yes   \n",
       "3   [48.84085531176338, 2.3875549435615544]       0         yes   \n",
       "4    [48.85151881501689, 2.343670316040516]       5         yes   \n",
       "5    [48.81942833336948, 2.343335375189781]       3         yes   \n",
       "6   [48.881973298351625, 2.301132157444954]       2         yes   \n",
       "7    [48.88287775178599, 2.287667370814871]       3         yes   \n",
       "8     [48.8710440519842, 2.366104461987773]       7         yes   \n",
       "9  [48.874422773426545, 2.3284685611724854]       4         yes   \n",
       "\n",
       "  nbebikeoverflow  \n",
       "0               0  \n",
       "1               0  \n",
       "2               0  \n",
       "3               0  \n",
       "4               0  \n",
       "5               0  \n",
       "6               0  \n",
       "7               0  \n",
       "8               0  \n",
       "9               0  \n",
       "\n",
       "[10 rows x 21 columns]"
      ]
     },
     "execution_count": 120,
     "metadata": {},
     "output_type": "execute_result"
    }
   ],
   "source": [
    "pandas.DataFrame([s['fields'] for s in records])"
   ]
  },
  {
   "cell_type": "markdown",
   "metadata": {},
   "source": [
    "Ici, la colonne `station` ne nous est pas utile (les informations dedans sont déjà présentes). Toujours le même mécanisme de *list comprehension*, on peut la supprimer du résultat."
   ]
  },
  {
   "cell_type": "code",
   "execution_count": 121,
   "metadata": {},
   "outputs": [
    {
     "data": {
      "text/html": [
       "<div>\n",
       "<style scoped>\n",
       "    .dataframe tbody tr th:only-of-type {\n",
       "        vertical-align: middle;\n",
       "    }\n",
       "\n",
       "    .dataframe tbody tr th {\n",
       "        vertical-align: top;\n",
       "    }\n",
       "\n",
       "    .dataframe thead th {\n",
       "        text-align: right;\n",
       "    }\n",
       "</style>\n",
       "<table border=\"1\" class=\"dataframe\">\n",
       "  <thead>\n",
       "    <tr style=\"text-align: right;\">\n",
       "      <th></th>\n",
       "      <th>nbfreeedock</th>\n",
       "      <th>station_state</th>\n",
       "      <th>maxbikeoverflow</th>\n",
       "      <th>creditcard</th>\n",
       "      <th>station_type</th>\n",
       "      <th>overflowactivation</th>\n",
       "      <th>station_code</th>\n",
       "      <th>overflow</th>\n",
       "      <th>nbbikeoverflow</th>\n",
       "      <th>duedate</th>\n",
       "      <th>densitylevel</th>\n",
       "      <th>nbedock</th>\n",
       "      <th>nbfreedock</th>\n",
       "      <th>nbbike</th>\n",
       "      <th>station_name</th>\n",
       "      <th>nbdock</th>\n",
       "      <th>geo</th>\n",
       "      <th>nbebike</th>\n",
       "      <th>kioskstate</th>\n",
       "      <th>nbebikeoverflow</th>\n",
       "    </tr>\n",
       "  </thead>\n",
       "  <tbody>\n",
       "    <tr>\n",
       "      <td>0</td>\n",
       "      <td>28</td>\n",
       "      <td>Operative</td>\n",
       "      <td>0</td>\n",
       "      <td>no</td>\n",
       "      <td>yes</td>\n",
       "      <td>no</td>\n",
       "      <td>16107</td>\n",
       "      <td>no</td>\n",
       "      <td>0</td>\n",
       "      <td>2018-07-15</td>\n",
       "      <td>1</td>\n",
       "      <td>35</td>\n",
       "      <td>0</td>\n",
       "      <td>1</td>\n",
       "      <td>Benjamin Godard - Victor Hugo</td>\n",
       "      <td>0</td>\n",
       "      <td>[48.865983, 2.275725]</td>\n",
       "      <td>6</td>\n",
       "      <td>yes</td>\n",
       "      <td>0</td>\n",
       "    </tr>\n",
       "    <tr>\n",
       "      <td>1</td>\n",
       "      <td>44</td>\n",
       "      <td>Operative</td>\n",
       "      <td>55</td>\n",
       "      <td>yes</td>\n",
       "      <td>yes</td>\n",
       "      <td>no</td>\n",
       "      <td>6015</td>\n",
       "      <td>no</td>\n",
       "      <td>0</td>\n",
       "      <td>2018-04-05</td>\n",
       "      <td>1</td>\n",
       "      <td>52</td>\n",
       "      <td>3</td>\n",
       "      <td>4</td>\n",
       "      <td>André Mazet - Saint-André des Arts</td>\n",
       "      <td>3</td>\n",
       "      <td>[48.85375581057431, 2.3390958085656166]</td>\n",
       "      <td>4</td>\n",
       "      <td>yes</td>\n",
       "      <td>0</td>\n",
       "    </tr>\n",
       "    <tr>\n",
       "      <td>2</td>\n",
       "      <td>18</td>\n",
       "      <td>Operative</td>\n",
       "      <td>21</td>\n",
       "      <td>yes</td>\n",
       "      <td>yes</td>\n",
       "      <td>no</td>\n",
       "      <td>9020</td>\n",
       "      <td>no</td>\n",
       "      <td>0</td>\n",
       "      <td>2018-11-30</td>\n",
       "      <td>1</td>\n",
       "      <td>21</td>\n",
       "      <td>0</td>\n",
       "      <td>0</td>\n",
       "      <td>Toudouze - Clauzel</td>\n",
       "      <td>0</td>\n",
       "      <td>[48.87929591733507, 2.3373600840568547]</td>\n",
       "      <td>3</td>\n",
       "      <td>yes</td>\n",
       "      <td>0</td>\n",
       "    </tr>\n",
       "    <tr>\n",
       "      <td>3</td>\n",
       "      <td>28</td>\n",
       "      <td>Operative</td>\n",
       "      <td>30</td>\n",
       "      <td>no</td>\n",
       "      <td>yes</td>\n",
       "      <td>no</td>\n",
       "      <td>12109</td>\n",
       "      <td>no</td>\n",
       "      <td>0</td>\n",
       "      <td>2019-03-28</td>\n",
       "      <td>1</td>\n",
       "      <td>30</td>\n",
       "      <td>0</td>\n",
       "      <td>2</td>\n",
       "      <td>Mairie du 12ème</td>\n",
       "      <td>0</td>\n",
       "      <td>[48.84085531176338, 2.3875549435615544]</td>\n",
       "      <td>0</td>\n",
       "      <td>yes</td>\n",
       "      <td>0</td>\n",
       "    </tr>\n",
       "    <tr>\n",
       "      <td>4</td>\n",
       "      <td>1</td>\n",
       "      <td>Operative</td>\n",
       "      <td>45</td>\n",
       "      <td>yes</td>\n",
       "      <td>yes</td>\n",
       "      <td>no</td>\n",
       "      <td>5001</td>\n",
       "      <td>no</td>\n",
       "      <td>0</td>\n",
       "      <td>2020-03-22</td>\n",
       "      <td>1</td>\n",
       "      <td>7</td>\n",
       "      <td>26</td>\n",
       "      <td>6</td>\n",
       "      <td>Harpe - Saint-Germain</td>\n",
       "      <td>38</td>\n",
       "      <td>[48.85151881501689, 2.343670316040516]</td>\n",
       "      <td>5</td>\n",
       "      <td>yes</td>\n",
       "      <td>0</td>\n",
       "    </tr>\n",
       "    <tr>\n",
       "      <td>5</td>\n",
       "      <td>57</td>\n",
       "      <td>Operative</td>\n",
       "      <td>60</td>\n",
       "      <td>yes</td>\n",
       "      <td>yes</td>\n",
       "      <td>no</td>\n",
       "      <td>14014</td>\n",
       "      <td>no</td>\n",
       "      <td>0</td>\n",
       "      <td>2019-04-28</td>\n",
       "      <td>1</td>\n",
       "      <td>60</td>\n",
       "      <td>0</td>\n",
       "      <td>0</td>\n",
       "      <td>Jourdan - Stade Charléty</td>\n",
       "      <td>0</td>\n",
       "      <td>[48.81942833336948, 2.343335375189781]</td>\n",
       "      <td>3</td>\n",
       "      <td>yes</td>\n",
       "      <td>0</td>\n",
       "    </tr>\n",
       "    <tr>\n",
       "      <td>6</td>\n",
       "      <td>0</td>\n",
       "      <td>Operative</td>\n",
       "      <td>41</td>\n",
       "      <td>yes</td>\n",
       "      <td>no</td>\n",
       "      <td>no</td>\n",
       "      <td>17026</td>\n",
       "      <td>no</td>\n",
       "      <td>0</td>\n",
       "      <td>2018-02-28</td>\n",
       "      <td>1</td>\n",
       "      <td>0</td>\n",
       "      <td>36</td>\n",
       "      <td>2</td>\n",
       "      <td>Jouffroy d'Abbans - Wagram</td>\n",
       "      <td>40</td>\n",
       "      <td>[48.881973298351625, 2.301132157444954]</td>\n",
       "      <td>2</td>\n",
       "      <td>yes</td>\n",
       "      <td>0</td>\n",
       "    </tr>\n",
       "    <tr>\n",
       "      <td>7</td>\n",
       "      <td>33</td>\n",
       "      <td>Operative</td>\n",
       "      <td>39</td>\n",
       "      <td>yes</td>\n",
       "      <td>yes</td>\n",
       "      <td>no</td>\n",
       "      <td>17041</td>\n",
       "      <td>no</td>\n",
       "      <td>0</td>\n",
       "      <td>2018-03-30</td>\n",
       "      <td>1</td>\n",
       "      <td>38</td>\n",
       "      <td>1</td>\n",
       "      <td>2</td>\n",
       "      <td>Guersant - Gouvion-Saint-Cyr</td>\n",
       "      <td>1</td>\n",
       "      <td>[48.88287775178599, 2.287667370814871]</td>\n",
       "      <td>3</td>\n",
       "      <td>yes</td>\n",
       "      <td>0</td>\n",
       "    </tr>\n",
       "    <tr>\n",
       "      <td>8</td>\n",
       "      <td>50</td>\n",
       "      <td>Operative</td>\n",
       "      <td>60</td>\n",
       "      <td>yes</td>\n",
       "      <td>yes</td>\n",
       "      <td>no</td>\n",
       "      <td>10013</td>\n",
       "      <td>no</td>\n",
       "      <td>0</td>\n",
       "      <td>2018-12-30</td>\n",
       "      <td>1</td>\n",
       "      <td>59</td>\n",
       "      <td>0</td>\n",
       "      <td>3</td>\n",
       "      <td>Alibert - Jemmapes</td>\n",
       "      <td>1</td>\n",
       "      <td>[48.8710440519842, 2.366104461987773]</td>\n",
       "      <td>7</td>\n",
       "      <td>yes</td>\n",
       "      <td>0</td>\n",
       "    </tr>\n",
       "    <tr>\n",
       "      <td>9</td>\n",
       "      <td>14</td>\n",
       "      <td>Operative</td>\n",
       "      <td>21</td>\n",
       "      <td>yes</td>\n",
       "      <td>yes</td>\n",
       "      <td>no</td>\n",
       "      <td>9104</td>\n",
       "      <td>no</td>\n",
       "      <td>0</td>\n",
       "      <td>2018-10-30</td>\n",
       "      <td>1</td>\n",
       "      <td>22</td>\n",
       "      <td>0</td>\n",
       "      <td>4</td>\n",
       "      <td>Caumartin - Provence</td>\n",
       "      <td>0</td>\n",
       "      <td>[48.874422773426545, 2.3284685611724854]</td>\n",
       "      <td>4</td>\n",
       "      <td>yes</td>\n",
       "      <td>0</td>\n",
       "    </tr>\n",
       "  </tbody>\n",
       "</table>\n",
       "</div>"
      ],
      "text/plain": [
       "   nbfreeedock station_state  maxbikeoverflow creditcard station_type  \\\n",
       "0           28     Operative                0         no          yes   \n",
       "1           44     Operative               55        yes          yes   \n",
       "2           18     Operative               21        yes          yes   \n",
       "3           28     Operative               30         no          yes   \n",
       "4            1     Operative               45        yes          yes   \n",
       "5           57     Operative               60        yes          yes   \n",
       "6            0     Operative               41        yes           no   \n",
       "7           33     Operative               39        yes          yes   \n",
       "8           50     Operative               60        yes          yes   \n",
       "9           14     Operative               21        yes          yes   \n",
       "\n",
       "  overflowactivation station_code overflow  nbbikeoverflow     duedate  \\\n",
       "0                 no        16107       no               0  2018-07-15   \n",
       "1                 no         6015       no               0  2018-04-05   \n",
       "2                 no         9020       no               0  2018-11-30   \n",
       "3                 no        12109       no               0  2019-03-28   \n",
       "4                 no         5001       no               0  2020-03-22   \n",
       "5                 no        14014       no               0  2019-04-28   \n",
       "6                 no        17026       no               0  2018-02-28   \n",
       "7                 no        17041       no               0  2018-03-30   \n",
       "8                 no        10013       no               0  2018-12-30   \n",
       "9                 no         9104       no               0  2018-10-30   \n",
       "\n",
       "  densitylevel  nbedock  nbfreedock  nbbike  \\\n",
       "0            1       35           0       1   \n",
       "1            1       52           3       4   \n",
       "2            1       21           0       0   \n",
       "3            1       30           0       2   \n",
       "4            1        7          26       6   \n",
       "5            1       60           0       0   \n",
       "6            1        0          36       2   \n",
       "7            1       38           1       2   \n",
       "8            1       59           0       3   \n",
       "9            1       22           0       4   \n",
       "\n",
       "                         station_name  nbdock  \\\n",
       "0       Benjamin Godard - Victor Hugo       0   \n",
       "1  André Mazet - Saint-André des Arts       3   \n",
       "2                  Toudouze - Clauzel       0   \n",
       "3                     Mairie du 12ème       0   \n",
       "4               Harpe - Saint-Germain      38   \n",
       "5            Jourdan - Stade Charléty       0   \n",
       "6          Jouffroy d'Abbans - Wagram      40   \n",
       "7        Guersant - Gouvion-Saint-Cyr       1   \n",
       "8                  Alibert - Jemmapes       1   \n",
       "9                Caumartin - Provence       0   \n",
       "\n",
       "                                        geo  nbebike kioskstate  \\\n",
       "0                     [48.865983, 2.275725]        6        yes   \n",
       "1   [48.85375581057431, 2.3390958085656166]        4        yes   \n",
       "2   [48.87929591733507, 2.3373600840568547]        3        yes   \n",
       "3   [48.84085531176338, 2.3875549435615544]        0        yes   \n",
       "4    [48.85151881501689, 2.343670316040516]        5        yes   \n",
       "5    [48.81942833336948, 2.343335375189781]        3        yes   \n",
       "6   [48.881973298351625, 2.301132157444954]        2        yes   \n",
       "7    [48.88287775178599, 2.287667370814871]        3        yes   \n",
       "8     [48.8710440519842, 2.366104461987773]        7        yes   \n",
       "9  [48.874422773426545, 2.3284685611724854]        4        yes   \n",
       "\n",
       "   nbebikeoverflow  \n",
       "0                0  \n",
       "1                0  \n",
       "2                0  \n",
       "3                0  \n",
       "4                0  \n",
       "5                0  \n",
       "6                0  \n",
       "7                0  \n",
       "8                0  \n",
       "9                0  "
      ]
     },
     "execution_count": 121,
     "metadata": {},
     "output_type": "execute_result"
    }
   ],
   "source": [
    "pandas.DataFrame([{i:s['fields'][i] for i in s['fields'] if i!='station'} for s in records])"
   ]
  },
  {
   "cell_type": "markdown",
   "metadata": {},
   "source": [
    "### Carte avec `leaflet`\n",
    "\n",
    "Dans ce TP, nous allons aussi aborder l'aspect cartographie sous `python` avec le package `folium` (à installer donc). L'idée sera d'ajouter à un fond de carte des formes de couleurs, en fonction d'une information tierce. Le package `folium` est une interface entre `python` et la librairie [`leaflet`](https://leafletjs.com/). Elle s'utilise très facilement, comme nous pouvons le voir ci-dessous pour la création d'une carte. Les coordonnées indiquées sont la latitude et la longitude de Paris."
   ]
  },
  {
   "cell_type": "code",
   "execution_count": 122,
   "metadata": {},
   "outputs": [
    {
     "ename": "ModuleNotFoundError",
     "evalue": "No module named 'folium'",
     "output_type": "error",
     "traceback": [
      "\u001b[1;31m---------------------------------------------------------------------------\u001b[0m",
      "\u001b[1;31mModuleNotFoundError\u001b[0m                       Traceback (most recent call last)",
      "\u001b[1;32m<ipython-input-122-fd6b5aa47891>\u001b[0m in \u001b[0;36m<module>\u001b[1;34m\u001b[0m\n\u001b[1;32m----> 1\u001b[1;33m \u001b[1;32mimport\u001b[0m \u001b[0mfolium\u001b[0m\u001b[1;33m\u001b[0m\u001b[1;33m\u001b[0m\u001b[0m\n\u001b[0m\u001b[0;32m      2\u001b[0m \u001b[0mcentre\u001b[0m \u001b[1;33m=\u001b[0m \u001b[1;33m[\u001b[0m\u001b[1;36m48.87\u001b[0m\u001b[1;33m,\u001b[0m \u001b[1;36m2.35\u001b[0m\u001b[1;33m]\u001b[0m\u001b[1;33m\u001b[0m\u001b[1;33m\u001b[0m\u001b[0m\n\u001b[0;32m      3\u001b[0m \u001b[0mparis\u001b[0m \u001b[1;33m=\u001b[0m \u001b[0mfolium\u001b[0m\u001b[1;33m.\u001b[0m\u001b[0mMap\u001b[0m\u001b[1;33m(\u001b[0m\u001b[0mlocation\u001b[0m \u001b[1;33m=\u001b[0m \u001b[0mcentre\u001b[0m\u001b[1;33m,\u001b[0m \u001b[0mzoom_start\u001b[0m \u001b[1;33m=\u001b[0m \u001b[1;36m12\u001b[0m\u001b[1;33m)\u001b[0m\u001b[1;33m\u001b[0m\u001b[1;33m\u001b[0m\u001b[0m\n\u001b[0;32m      4\u001b[0m \u001b[0mparis\u001b[0m\u001b[1;33m\u001b[0m\u001b[1;33m\u001b[0m\u001b[0m\n",
      "\u001b[1;31mModuleNotFoundError\u001b[0m: No module named 'folium'"
     ]
    }
   ],
   "source": [
    "import folium\n",
    "centre = [48.87, 2.35]\n",
    "paris = folium.Map(location = centre, zoom_start = 12)\n",
    "paris"
   ]
  },
  {
   "cell_type": "markdown",
   "metadata": {},
   "source": [
    "### Avec des marqueurs\n",
    "\n",
    "En reprenant le data frame vu juste avant (et en le stockant dans une variable), on peut créer une carte avec des marqueurs, qui affichent le nom de la station lorsqu'on clique dessus."
   ]
  },
  {
   "cell_type": "code",
   "execution_count": null,
   "metadata": {},
   "outputs": [],
   "source": [
    "df = pandas.DataFrame([{i:s['fields'][i] for i in s['fields'] if i!='station'} for s in records])\n",
    "paris = folium.Map(location = centre, zoom_start = 12)\n",
    "for station in [s['fields'] for s in records]:\n",
    "    folium.Marker(station[\"geo\"], \n",
    "                        popup = station[\"station_name\"]).add_to(paris)\n",
    "paris"
   ]
  },
  {
   "cell_type": "markdown",
   "metadata": {},
   "source": [
    "## A faire\n",
    "\n",
    "- Ecrire le code permettant d'importer les informations de toutes les stations\n",
    "- Stocker celles-ci dans un data frame `pandas`\n",
    "- Afficher les stations sur une carte\n",
    "- *Bonus* : afficher des cercles pour chaque station, avec une couleur en fonction du taux de remplissage"
   ]
  },
  {
   "cell_type": "code",
   "execution_count": null,
   "metadata": {},
   "outputs": [],
   "source": []
  }
 ],
 "metadata": {
  "kernelspec": {
   "display_name": "Python 3",
   "language": "python",
   "name": "python3"
  },
  "language_info": {
   "codemirror_mode": {
    "name": "ipython",
    "version": 3
   },
   "file_extension": ".py",
   "mimetype": "text/x-python",
   "name": "python",
   "nbconvert_exporter": "python",
   "pygments_lexer": "ipython3",
   "version": "3.7.4"
  }
 },
 "nbformat": 4,
 "nbformat_minor": 2
}
