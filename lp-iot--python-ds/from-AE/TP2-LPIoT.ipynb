{
 "cells": [
  {
   "cell_type": "code",
   "execution_count": null,
   "metadata": {},
   "outputs": [],
   "source": [
    "from numpy import *\n",
    "from numpy.linalg import * # utile pour l'inversion de matrice et la diagonalisation\n",
    "from matplotlib.pylab import *\n",
    "from pandas import *"
   ]
  },
  {
   "cell_type": "markdown",
   "metadata": {},
   "source": [
    "# Exercice 1 : diagonalisation"
   ]
  },
  {
   "cell_type": "markdown",
   "metadata": {},
   "source": [
    "On considère la matrice\n",
    "\\begin{align*}\n",
    "A=\\begin{pmatrix}\n",
    "1 & -7 & -2\\\\\n",
    "-7 & 1 & 2\\\\\n",
    "-2 & 2 & 10\n",
    "\\end{pmatrix}.\n",
    "\\end{align*}\n",
    "\n",
    "**Question 1.** Diagonaliser la matrice avec la commande `eigh` (eigenvalue signifie valeur propre en anglais) qui renvoie les valeurs propres (à stocker dans un vecteur `valtemp`) et les vecteurs propres (à stocker dans une matrice `Ptemp`).\n",
    "\n"
   ]
  },
  {
   "cell_type": "code",
   "execution_count": null,
   "metadata": {},
   "outputs": [],
   "source": [
    "# correction\n",
    "A=array([[1,-7,-2],[-7,1,2],[-2,2,10]])\n",
    "valtemp, Ptemp = eigh(A)\n",
    "print(valtemp)\n",
    "print(Ptemp)"
   ]
  },
  {
   "cell_type": "markdown",
   "metadata": {},
   "source": [
    "**Question 2.** Vérifier que les matrices obtenues constituent bien une diagonalisation de A et que la base des vecteurs propres est bien orthonormée."
   ]
  },
  {
   "cell_type": "code",
   "execution_count": null,
   "metadata": {},
   "outputs": [],
   "source": [
    "# correction\n",
    "# on écrit la matrice diagonale D  contenant les valeurs propres sur la diagonale\n",
    "# et on calcule le produit Ptemp x D x inv(Ptemp)\n",
    "D=diag(valtemp)\n",
    "B=dot(dot(Ptemp,D),inv(Ptemp))\n",
    "print(B)\n",
    "# on calcule le produit de P.T et P\n",
    "print(dot(Ptemp.T,Ptemp))"
   ]
  },
  {
   "cell_type": "markdown",
   "metadata": {},
   "source": [
    "**Question 3.** Ranger par ordre décroissant les valeurs propres $\\lambda_1\\geq \\lambda_2\\geq \\lambda_3$ dans un nouveau vecteur `val` et adapter la matrice de changement de base en une matrice `P` de sorte que \n",
    "$$A=P\\begin{pmatrix}\\lambda_1 & 0 & 0\\\\\n",
    "0 & \\lambda_2 & 0\\\\\n",
    "0 & 0 & \\lambda_3\n",
    "\\end{pmatrix}P^{-1}.$$\n",
    "\n",
    "*Pour ordonner un vecteur `V` dans l'ordre croissant, il faut utiliser la commande `sort(V)`. Pour l'ordonner dans l'ordre décroissant, il faudra inverser les éléments de `sort(V)` de la manière suivante : `sort(V)[::-1]`.\n",
    "On obtiendra les indices correspondant à l'ordonnancement croissant de \n",
    "`V` avec `argsort(V)`, et donc ceux correspondant à l'ordonnancement décroissant avec `argsort(V)[::-1]`.*\n",
    "\n",
    "Vérifier que $A=P D P^{-1}$."
   ]
  },
  {
   "cell_type": "code",
   "execution_count": null,
   "metadata": {},
   "outputs": [],
   "source": [
    "# correction\n",
    "ind = argsort(valtemp)[::-1] # indices de val ordonnées de manière décroissante\n",
    "val = sort(valtemp)[::-1] # valeurs propres ordonnées\n",
    "P = zeros((3,3))\n",
    "for i in range(3):\n",
    "    P[:,i]=Ptemp[:,ind[i]]\n",
    "print(P)\n",
    "print(dot(inv(P),dot(A,P))) # vérif que P^-1 A Q = D"
   ]
  },
  {
   "cell_type": "markdown",
   "metadata": {},
   "source": [
    "**Question 4.** En utilisant la commande `trace`, calculer la trace de $A$ et vérifier que $\\mathrm{tr}(A) = \\lambda_1 +\\lambda_2+\\lambda_3$."
   ]
  },
  {
   "cell_type": "code",
   "execution_count": null,
   "metadata": {},
   "outputs": [],
   "source": [
    "# correction\n",
    "trace(A)-sum(val)"
   ]
  },
  {
   "cell_type": "markdown",
   "metadata": {},
   "source": [
    "# Exercice 2 : ACP sur les 5 étudiants"
   ]
  },
  {
   "cell_type": "markdown",
   "metadata": {},
   "source": [
    "On reprend les données de l'exercice 1 de la séance précédente. Il s'agit de la moyenne générale et des moyennes des trois UE du semestre 3 (2017-2018) de 5 étudiants tirés au hasard.\n",
    "\n",
    "| Informatique  | Culture scientifique, sociale et humaine | Méthodologie et projets  | Moyenne générale|\n",
    "|---|---|---|---|\n",
    "| 10.83  | 12.43  |  14.88 |  12.28 |\n",
    "|  12.22 | 13.69  | 11.92  |  12.75 |\n",
    "| 9.84  | 10.88  | 15.38  |  11.36 |\n",
    "|  12.81 | 12.12  | 15.21  |  13.02 |\n",
    "| 10.31  |  10.88 | 16.42  |  11.76 |\n",
    "\n",
    "*On redonne ci-dessous les définitions des matrices dont nous aurons besoin par la suite.*"
   ]
  },
  {
   "cell_type": "code",
   "execution_count": null,
   "metadata": {},
   "outputs": [],
   "source": [
    "M = array([[10.83,12.43 ,14.88 ,12.28],\n",
    "          [12.22 ,13.69 ,11.92,12.75],\n",
    "          [9.84 ,10.88 ,15.38 ,11.36],\n",
    "          [12.81 ,12.12 ,15.21 ,13.02],\n",
    "          [10.31 ,10.88 ,16.42 ,11.76]])\n",
    "print(M)\n",
    "n,p = shape(M)\n",
    "Z = zeros((n,p))\n",
    "for i in range(p):\n",
    "    Z[:,i]=(M[:,i]-mean(M[:,i]))/std(M[:,i])\n",
    "R=1/n*dot(Z.T,Z)\n",
    "print(R)"
   ]
  },
  {
   "cell_type": "markdown",
   "metadata": {},
   "source": [
    "**Question 1.** Calculer les matrices $P$ et $D$ telles que $R=PDP^{-1}$, où\n",
    "\n",
    "- $R$ est la matrice de corrélation définie précédemment\n",
    "- $D=diag(\\lambda_1,\\lambda_2,\\lambda_3,\\lambda_4)$, avec $\\lambda_1\\geq\\lambda_2\\geq\\lambda_3\\geq\\lambda_4$\n",
    "- $^t\\!P=P^{-1}$"
   ]
  },
  {
   "cell_type": "code",
   "execution_count": null,
   "metadata": {},
   "outputs": [],
   "source": [
    "# correction\n",
    "valtemp, Ptemp =eigh(R)\n",
    "val = sort(valtemp)[::-1]\n",
    "indexsort = argsort(valtemp)[::-1]\n",
    "P=zeros((4,4))\n",
    "for i in range(4):\n",
    "    P[:,i]=Ptemp[:,indexsort[i]];\n",
    "# verification\n",
    "D=diag(val)\n",
    "print(R-dot(P,dot(D,inv(P))))\n",
    "print(D)\n",
    "print(val)"
   ]
  },
  {
   "cell_type": "markdown",
   "metadata": {},
   "source": [
    "**Question 2.** Calculer la somme des valeurs propres. Commenter."
   ]
  },
  {
   "cell_type": "code",
   "execution_count": null,
   "metadata": {},
   "outputs": [],
   "source": [
    "# correction\n",
    "print(sum(val),trace(D),p)\n",
    "print(\"On retrouve bien le nombre de variables (4)\")"
   ]
  },
  {
   "cell_type": "markdown",
   "metadata": {},
   "source": [
    "**Question 3.** Calculer la matrice des composantes principales notée $C$, c'est-à-dire la matrice des individus dans la base des vecteurs propres. Puis représenter les individus dans le plan principal, c'est-à-dire le plan défini par les deux vecteurs propres correspondant aux deux plus grandes valeurs propres."
   ]
  },
  {
   "cell_type": "code",
   "execution_count": null,
   "metadata": {},
   "outputs": [],
   "source": [
    "# correction\n",
    "C = dot(Z,P) # composantes principales\n",
    "scatter(C[:,0], C[:,1]) # individus dans le plan principal\n",
    "show()"
   ]
  },
  {
   "cell_type": "markdown",
   "metadata": {},
   "source": [
    "**Question 4.** Calculer la moyenne des composantes principales ainsi que la matrice de covariance de la matrice des composantes principales. Commenter les résultats."
   ]
  },
  {
   "cell_type": "code",
   "execution_count": null,
   "metadata": {},
   "outputs": [],
   "source": [
    "# correction\n",
    "m=mean(C,axis=0)\n",
    "print(\"la moyenne des composantes principales:\",m)\n",
    "print(\"la matrice de covariance des composantes principales:\")\n",
    "print(1/n*dot(C.T,C))\n"
   ]
  },
  {
   "cell_type": "markdown",
   "metadata": {},
   "source": [
    "# Exercice 3 : programmation d'une ACP "
   ]
  },
  {
   "cell_type": "markdown",
   "metadata": {},
   "source": [
    "Le but de cet exercice est de programmer un outil tout prêt pour effectuer une ACP. Pour tester pas à pas les fonctions que nous allons définir, nous allons utiliser les données du fichier `demographie.xls` qui contient des statistiques d'une étude de 1987 concernant 166 pays.\n",
    "Les statistiques des pays correspondent aux 15 variables (1 qualitative, 14 quantitatives) suivantes :\n",
    "- COUNTRY : nom du pays\n",
    "- POP87 : population en 1987\n",
    "- NAT : taux de natalité\n",
    "- MORT : taux de mortalité\n",
    "- ACCR : taux d'accroissement de la population\n",
    "- POP00 : population prévue pour 2000\n",
    "- POP20 : population prévue pour 2020\n",
    "- MORTI : taux de mortalité infantile\n",
    "- FERTI : taux de fertilité\n",
    "- AGE15 : proportion de la population  de moins de 15 ans\n",
    "- AGE65 : proportion de la population  de plus de 65 ans\n",
    "- ESPER : espérance de vie\n",
    "- URBA : taux d'urbanisation\n",
    "- PNB : produit national brut\n",
    "- CONTI : continent (1=Afrique, 2=Asie, 3=Amérique, 4=Europe, 5=Océanie)"
   ]
  },
  {
   "cell_type": "code",
   "execution_count": null,
   "metadata": {},
   "outputs": [],
   "source": [
    "df =read_excel('demographie.xls')\n",
    "df.head()"
   ]
  },
  {
   "cell_type": "markdown",
   "metadata": {},
   "source": [
    "On définit les arrays suivants:\n",
    "\n",
    "-pays : les noms des pays\n",
    "\n",
    "-continent : les numéros des continents\n",
    "\n",
    "-data : les autres variables (qui sont quantitatives et donc adaptées à une ACP), ainsi que leurs labels.\n"
   ]
  },
  {
   "cell_type": "code",
   "execution_count": null,
   "metadata": {},
   "outputs": [],
   "source": [
    "pays = df['COUNTRY'].values\n",
    "continent = df['CONTI'].values\n",
    "data = df[['POP87','NAT','MORT','ACCR','POP00','POP20','MORTI','FERTI','AGE15','AGE65','ESPER','URBA','PNB']].values\n",
    "labels=['87','NAT','MORT','ACCR','00','20','MORTI','FERTI','-15','+65','ESPER','URBA','PNB']"
   ]
  },
  {
   "cell_type": "markdown",
   "metadata": {},
   "source": [
    "**Question 1.** Ecrire une fonction `normalise` qui, étant donné un tableau de données, normalise (centre et réduit) chaque colonne du tableau. Testez votre fonction sur la matrice `data`."
   ]
  },
  {
   "cell_type": "code",
   "execution_count": null,
   "metadata": {},
   "outputs": [],
   "source": [
    "# correction\n",
    "def normalise(M):\n",
    "    n,p=M.shape\n",
    "    Z=zeros((n,p))\n",
    "    for i in range(p):\n",
    "        Z[:,i]=(M[:,i]-mean(M[:,i]))/std(M[:,i])# on normalise chaque colonne\n",
    "    return Z\n",
    "#print(normalise(data))"
   ]
  },
  {
   "cell_type": "markdown",
   "metadata": {},
   "source": [
    "**Question 2.** Ecrire une fonction `correlation` qui, étant donné un tableau de données (en ligne les individus, en colonne les variables), renvoie sa matrice de corrélation.  Testez votre fonction sur `data`."
   ]
  },
  {
   "cell_type": "code",
   "execution_count": null,
   "metadata": {},
   "outputs": [],
   "source": [
    "# correction\n",
    "def correlation(M):\n",
    "    Z= normalise(M)\n",
    "    n=Z.shape[0];\n",
    "    return 1/n*dot(Z.T,Z)\n",
    "#print(correlation(data))"
   ]
  },
  {
   "cell_type": "markdown",
   "metadata": {},
   "source": [
    "**Question 3.** En réutilisant les commandes écrites précédemment, construire une fonction `acp` qui prend en entrée un tableau de données et qui renvoie les valeurs principales ordonnées de manière décroissante, les vecteurs principaux et les composantes principales correspondantes. Testez votre fonction avec `data`."
   ]
  },
  {
   "cell_type": "code",
   "execution_count": null,
   "metadata": {},
   "outputs": [],
   "source": [
    "# correction\n",
    "def acp(M):\n",
    "    n,p=M.shape\n",
    "    R= correlation(M)\n",
    "    valtemp, vectemp = eigh(R) # valeurs propres et vecteurs propres de la matrice de corrélation\n",
    "    val = sort(valtemp)[::-1] # valeurs propres par ordre décroissant\n",
    "    index = argsort(valtemp)[::-1] # indice du réarrangement des valeurs propres par ordre décroissant\n",
    "    P=zeros((p,p)) # matrice de changement de base ordonnée en fonction des valeurs propres\n",
    "    for i in range(p):\n",
    "        P[:,i]=vectemp[:,index[i]]\n",
    "    C=dot(normalise(M),P)\n",
    "    return val, P, C\n",
    "#val,P, C = acp(data)\n",
    "#print(val)"
   ]
  },
  {
   "cell_type": "markdown",
   "metadata": {},
   "source": [
    "**Question 4.** Vérifiez pour la matrice `data` que la matrice de covariance des composantes principales est une matrice diagonale dont les termes diagonaux sont les valeurs principales ordonnées de manière décroissante."
   ]
  },
  {
   "cell_type": "code",
   "execution_count": null,
   "metadata": {},
   "outputs": [],
   "source": [
    "# correction\n",
    "n,p = C.shape\n",
    "print(1/n*dot(C.T,C))"
   ]
  },
  {
   "cell_type": "markdown",
   "metadata": {},
   "source": [
    "**Question 5.** À partir de `data`, représenter les points-individus dans le plan principal en nommant les axes (`CP 1`, `CP 2`).  "
   ]
  },
  {
   "cell_type": "code",
   "execution_count": null,
   "metadata": {},
   "outputs": [],
   "source": [
    "# correction \n",
    "figure(figsize=(12,8)) # taille figure\n",
    "scatter(C[:,0],C[:,1])\n",
    "xlabel('CP1')\n",
    "ylabel('CP2')\n",
    "show()"
   ]
  },
  {
   "cell_type": "markdown",
   "metadata": {},
   "source": [
    "**Question 6.** Reprendre le graphique précédent en attribuant une couleur spécifique à l'individu en fonction de la variable `continent`. Commenter."
   ]
  },
  {
   "cell_type": "code",
   "execution_count": null,
   "metadata": {},
   "outputs": [],
   "source": [
    "# correction \n",
    "figure(figsize=(12,8)) # taille figure\n",
    "for i in range(n):\n",
    "    if (continent[i]==1):\n",
    "        scatter(C[i,0],C[i,1], color='red', label='Afrique');\n",
    "    elif (continent[i]==2):\n",
    "        scatter(C[i,0],C[i,1], color='C0', label='Asie');\n",
    "    elif (continent[i]==3):\n",
    "        scatter(C[i,0],C[i,1], color='green', label='Amerique');\n",
    "    elif (continent[i]==4):\n",
    "        scatter(C[i,0],C[i,1], color='yellow', label='Europe');\n",
    "    else:\n",
    "        scatter(C[i,0],C[i,1], color='black', label='Océanie');\n",
    "xlabel('CP1')\n",
    "ylabel('CP2')\n",
    "show()"
   ]
  },
  {
   "cell_type": "markdown",
   "metadata": {},
   "source": [
    "**Question 7.** Pour comparer, représenter les points-individus dans un plan de votre choix (en choisissant deux variables parmi les variables initiales), toujours en attribuant une couleur spécifique à l'individu en fonction de la variable `continent`. Commenter."
   ]
  },
  {
   "cell_type": "code",
   "execution_count": null,
   "metadata": {},
   "outputs": [],
   "source": [
    "# correction\n",
    "figure(figsize=(12,8)) # taille figure\n",
    "ii=3 #je choisis la variable `ACCR` pour l'axe des abscisses\n",
    "jj=4 #je choisis la variable `00` pour l'axe des ordonnées\n",
    "for i in range(n):\n",
    "    if (continent[i]==1):\n",
    "        scatter(data[i,ii],data[i,jj], color='red', label='Afrique');\n",
    "    elif (continent[i]==2):\n",
    "        scatter(data[i,ii],data[i,jj], color='C0', label='Asie');\n",
    "    elif (continent[i]==3):\n",
    "        scatter(data[i,ii],data[i,jj], color='green', label='Amerique');\n",
    "    elif (continent[i]==4):\n",
    "        scatter(data[i,ii],data[i,jj], color='yellow', label='Europe');\n",
    "    else:\n",
    "        scatter(data[i,ii],data[i,jj], color='black', label='Océanie');\n",
    "xlabel('ACCR')\n",
    "ylabel('00')\n",
    "show()"
   ]
  }
 ],
 "metadata": {
  "kernelspec": {
   "display_name": "Python 3",
   "language": "python",
   "name": "python3"
  },
  "language_info": {
   "codemirror_mode": {
    "name": "ipython",
    "version": 3
   },
   "file_extension": ".py",
   "mimetype": "text/x-python",
   "name": "python",
   "nbconvert_exporter": "python",
   "pygments_lexer": "ipython3",
   "version": "3.5.2"
  }
 },
 "nbformat": 4,
 "nbformat_minor": 2
}
