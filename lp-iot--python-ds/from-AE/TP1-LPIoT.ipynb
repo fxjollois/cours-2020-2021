{
 "cells": [
  {
   "cell_type": "code",
   "execution_count": 45,
   "metadata": {},
   "outputs": [],
   "source": [
    "from numpy import *\n",
    "from matplotlib.pylab import *\n",
    "from pandas import *"
   ]
  },
  {
   "cell_type": "markdown",
   "metadata": {},
   "source": [
    "# Rappels en python"
   ]
  },
  {
   "cell_type": "markdown",
   "metadata": {},
   "source": [
    "- On peut déclarer un vecteur ou une matrice via la commande `array`. \n",
    "- On peut ensuite extraire des valeurs, des lignes ou des colonnes (ATTENTION: la numérotation débute à zéro, et -1 signifie le dernier élément).\n",
    "- La longueur d'un vecteur est donnée par la commande `len`, et le format d'une matrice par `shape`.\n",
    "- Une matrice peut être initialisée par une matrice remplie de zéros via la commande `zeros` (ATTENTION aux parenthèses).\n",
    "- On peut sommer tous les élements d'un vecteur via la commande `sum`."
   ]
  },
  {
   "cell_type": "code",
   "execution_count": 46,
   "metadata": {},
   "outputs": [
    {
     "name": "stdout",
     "output_type": "stream",
     "text": [
      "X =  [[1 3 1]] \n",
      "M = \n",
      " [[1 2 4]\n",
      " [9 1 2]]\n",
      "Elément en position (1,2) de M : 2\n",
      "Première ligne de M : [1 2 4] Première colonne de M : [1 9] Dernière colonne de M : [4 2]\n",
      "Longueur de X : 1 Format de M : 2 3\n",
      "Matrice de zéros de format (5,3): [[0. 0. 0.]\n",
      " [0. 0. 0.]\n",
      " [0. 0. 0.]\n",
      " [0. 0. 0.]\n",
      " [0. 0. 0.]]\n",
      "Somme des éléments de X: 5\n"
     ]
    }
   ],
   "source": [
    "X=array([[1,3,1]])\n",
    "M = array([[1,2,4],[9,1,2]])\n",
    "print(\"X = \",X,\"\\nM = \\n\",M)\n",
    "print('Elément en position (1,2) de M :', M[0,1])\n",
    "print('Première ligne de M :', M[0,:], 'Première colonne de M :', M[:,0],\n",
    "'Dernière colonne de M :',M[:,-1])\n",
    "print('Longueur de X :', len(X), 'Format de M :', shape(M)[0] , shape(M)[1])\n",
    "print('Matrice de zéros de format (5,3):', zeros((5,3)))\n",
    "print('Somme des éléments de X:', sum(X))"
   ]
  },
  {
   "cell_type": "markdown",
   "metadata": {},
   "source": [
    "- On peut également transposer un vecteur ou une matrice (`.T`), et effectuer un produit matriciel (`dot( , )`)."
   ]
  },
  {
   "cell_type": "code",
   "execution_count": 47,
   "metadata": {},
   "outputs": [
    {
     "name": "stdout",
     "output_type": "stream",
     "text": [
      "Transposée de X = \n",
      " [[1]\n",
      " [3]\n",
      " [1]] \n",
      "Transposée de M = \n",
      " [[1 9]\n",
      " [2 1]\n",
      " [4 2]]\n",
      "Produit de M avec la transposée de X : \n",
      " [[11]\n",
      " [14]]\n"
     ]
    }
   ],
   "source": [
    "print(\"Transposée de X = \\n\",X.T,\"\\nTransposée de M = \\n\",M.T)\n",
    "print('Produit de M avec la transposée de X : \\n',dot(M,X.T))"
   ]
  },
  {
   "cell_type": "markdown",
   "metadata": {},
   "source": [
    "- On donne ci-dessous un exemple de courbe tracée avec Matplotlib."
   ]
  },
  {
   "cell_type": "code",
   "execution_count": 48,
   "metadata": {},
   "outputs": [
    {
     "data": {
      "image/png": "[encoded data removed]",
      "text/plain": [
       "<matplotlib.figure.Figure at 0x7f5af7c96908>"
      ]
     },
     "metadata": {},
     "output_type": "display_data"
    }
   ],
   "source": [
    "# on subdivise l'axe des abscisses entre -pi et pi en 100 points équidistants\n",
    "t = linspace(-pi,pi,100)\n",
    "plot(t,sin(t), color='red', label='Sinus')\n",
    "plot(t,cos(t), color='green', label='Cosinus')\n",
    "legend()\n",
    "title('Fonctions trigonométriques')\n",
    "xlabel('Temps')\n",
    "ylabel('Valeurs des fontions')\n",
    "show()"
   ]
  },
  {
   "cell_type": "markdown",
   "metadata": {},
   "source": [
    "# Utilisation de Pandas\n",
    "\n",
    "Pandas est une librairie très riche qui permet d'effectuer de nombreuses opérations sur des tableaux de données. Un tableau de données est un objet appelé DataFrame sous Pandas. Ici, nous nous limiterons à seulement quelques opérations avec Pandas, à savoir : importer un tableur excel, afficher les premières lignes du DataFrame, convertir le DataFrame en array pour pouvoir ensuite travailler avec NumPy.\n",
    "\n",
    "**Exemple** : dans le fichier `pib-mondial-par-annee.xls`, vous trouverez pour chaque année de 1965 à 2017 la consommation d'énergie primaire mondiale et le PIB mondial. Sources : https://data.worldbank.org/ pour le PIB mondial\n",
    "et https://www.bp.com/en/global/corporate/energy-economics/statistical-review-of-world-energy.html pour la consommation d'énergie."
   ]
  },
  {
   "cell_type": "code",
   "execution_count": 49,
   "metadata": {},
   "outputs": [
    {
     "ename": "ImportError",
     "evalue": "No module named 'xlrd'",
     "output_type": "error",
     "traceback": [
      "\u001b[0;31m---------------------------------------------------------------------------\u001b[0m",
      "\u001b[0;31mImportError\u001b[0m                               Traceback (most recent call last)",
      "\u001b[0;32m<ipython-input-49-533b6b475a7f>\u001b[0m in \u001b[0;36m<module>\u001b[0;34m()\u001b[0m\n\u001b[1;32m      1\u001b[0m \u001b[0;31m# importation d'un tableau excel\u001b[0m\u001b[0;34m\u001b[0m\u001b[0;34m\u001b[0m\u001b[0m\n\u001b[0;32m----> 2\u001b[0;31m \u001b[0mdf\u001b[0m \u001b[0;34m=\u001b[0m \u001b[0mread_excel\u001b[0m\u001b[0;34m(\u001b[0m\u001b[0;34m'pib-mondial-par-annee.xls'\u001b[0m\u001b[0;34m)\u001b[0m\u001b[0;34m\u001b[0m\u001b[0m\n\u001b[0m\u001b[1;32m      3\u001b[0m \u001b[0;31m# le tableur excel est converti en un objet DataFrame\u001b[0m\u001b[0;34m\u001b[0m\u001b[0;34m\u001b[0m\u001b[0m\n\u001b[1;32m      4\u001b[0m \u001b[0mtype\u001b[0m\u001b[0;34m(\u001b[0m\u001b[0mdf\u001b[0m\u001b[0;34m)\u001b[0m\u001b[0;34m\u001b[0m\u001b[0m\n\u001b[1;32m      5\u001b[0m \u001b[0;31m# affichage des premières lignes du DataFrame\u001b[0m\u001b[0;34m\u001b[0m\u001b[0;34m\u001b[0m\u001b[0m\n",
      "\u001b[0;32m/usr/lib/python3/dist-packages/pandas/io/excel.py\u001b[0m in \u001b[0;36mread_excel\u001b[0;34m(io, sheetname, header, skiprows, skip_footer, index_col, parse_cols, parse_dates, date_parser, na_values, thousands, convert_float, has_index_names, converters, engine, **kwds)\u001b[0m\n\u001b[1;32m    161\u001b[0m \u001b[0;34m\u001b[0m\u001b[0m\n\u001b[1;32m    162\u001b[0m     \u001b[0;32mif\u001b[0m \u001b[0;32mnot\u001b[0m \u001b[0misinstance\u001b[0m\u001b[0;34m(\u001b[0m\u001b[0mio\u001b[0m\u001b[0;34m,\u001b[0m \u001b[0mExcelFile\u001b[0m\u001b[0;34m)\u001b[0m\u001b[0;34m:\u001b[0m\u001b[0;34m\u001b[0m\u001b[0m\n\u001b[0;32m--> 163\u001b[0;31m         \u001b[0mio\u001b[0m \u001b[0;34m=\u001b[0m \u001b[0mExcelFile\u001b[0m\u001b[0;34m(\u001b[0m\u001b[0mio\u001b[0m\u001b[0;34m,\u001b[0m \u001b[0mengine\u001b[0m\u001b[0;34m=\u001b[0m\u001b[0mengine\u001b[0m\u001b[0;34m)\u001b[0m\u001b[0;34m\u001b[0m\u001b[0m\n\u001b[0m\u001b[1;32m    164\u001b[0m \u001b[0;34m\u001b[0m\u001b[0m\n\u001b[1;32m    165\u001b[0m     return io._parse_excel(\n",
      "\u001b[0;32m/usr/lib/python3/dist-packages/pandas/io/excel.py\u001b[0m in \u001b[0;36m__init__\u001b[0;34m(self, io, **kwds)\u001b[0m\n\u001b[1;32m    185\u001b[0m     \u001b[0;32mdef\u001b[0m \u001b[0m__init__\u001b[0m\u001b[0;34m(\u001b[0m\u001b[0mself\u001b[0m\u001b[0;34m,\u001b[0m \u001b[0mio\u001b[0m\u001b[0;34m,\u001b[0m \u001b[0;34m**\u001b[0m\u001b[0mkwds\u001b[0m\u001b[0;34m)\u001b[0m\u001b[0;34m:\u001b[0m\u001b[0;34m\u001b[0m\u001b[0m\n\u001b[1;32m    186\u001b[0m \u001b[0;34m\u001b[0m\u001b[0m\n\u001b[0;32m--> 187\u001b[0;31m         \u001b[0;32mimport\u001b[0m \u001b[0mxlrd\u001b[0m  \u001b[0;31m# throw an ImportError if we need to\u001b[0m\u001b[0;34m\u001b[0m\u001b[0m\n\u001b[0m\u001b[1;32m    188\u001b[0m \u001b[0;34m\u001b[0m\u001b[0m\n\u001b[1;32m    189\u001b[0m         \u001b[0mver\u001b[0m \u001b[0;34m=\u001b[0m \u001b[0mtuple\u001b[0m\u001b[0;34m(\u001b[0m\u001b[0mmap\u001b[0m\u001b[0;34m(\u001b[0m\u001b[0mint\u001b[0m\u001b[0;34m,\u001b[0m \u001b[0mxlrd\u001b[0m\u001b[0;34m.\u001b[0m\u001b[0m__VERSION__\u001b[0m\u001b[0;34m.\u001b[0m\u001b[0msplit\u001b[0m\u001b[0;34m(\u001b[0m\u001b[0;34m\".\"\u001b[0m\u001b[0;34m)\u001b[0m\u001b[0;34m[\u001b[0m\u001b[0;34m:\u001b[0m\u001b[0;36m2\u001b[0m\u001b[0;34m]\u001b[0m\u001b[0;34m)\u001b[0m\u001b[0;34m)\u001b[0m\u001b[0;34m\u001b[0m\u001b[0m\n",
      "\u001b[0;31mImportError\u001b[0m: No module named 'xlrd'"
     ]
    }
   ],
   "source": [
    "# importation d'un tableau excel\n",
    "df = read_excel('pib-mondial-par-annee.xls')\n",
    "# le tableur excel est converti en un objet DataFrame\n",
    "type(df)\n",
    "# affichage des premières lignes du DataFrame\n",
    "df.head()"
   ]
  },
  {
   "cell_type": "code",
   "execution_count": null,
   "metadata": {},
   "outputs": [],
   "source": [
    "# on ne garde que les valeurs du tableau\n",
    "data = df.values\n",
    "# data est maintenant un array\n",
    "type(data)"
   ]
  },
  {
   "cell_type": "markdown",
   "metadata": {},
   "source": [
    "**Question 1** : Tracez en fonction des années le PIB mondial en rouge et la consommation d'énergie primaire en bleu. On multipliera le PIB par un facteur $10^{-10}$ pour que les deux courbes soient lisibles sur un même graphique."
   ]
  },
  {
   "cell_type": "code",
   "execution_count": null,
   "metadata": {},
   "outputs": [],
   "source": [
    "# correction\n",
    "plot(data[:,0],1e-10*data[:,1],color='red', label='PIB')\n",
    "plot(data[:,0],data[:,2],color='blue', label='Energie')\n",
    "legend()\n",
    "show()"
   ]
  },
  {
   "cell_type": "markdown",
   "metadata": {},
   "source": [
    "**Question 2 :** Représentez chaque année par un point dans le plan ayant pour abscisse l'énergie et pour ordonnée le PIB.\n",
    "\n",
    "*Pour tracer des points sans les relier, on pourra utiliser la commande `scatter`.*"
   ]
  },
  {
   "cell_type": "code",
   "execution_count": null,
   "metadata": {},
   "outputs": [],
   "source": [
    "# correction\n",
    "figure(figsize=(6,6))\n",
    "scatter(data[:,2],data[:,1])\n",
    "show()"
   ]
  },
  {
   "cell_type": "markdown",
   "metadata": {},
   "source": [
    "**Question :** Que remarque-t-on ? Peut-on, à partir de ce graphe, conclure à un lien de causalité entre le PIB et l'énergie ou inversement ?"
   ]
  },
  {
   "cell_type": "code",
   "execution_count": null,
   "metadata": {},
   "outputs": [],
   "source": [
    "# correction\n",
    "print(\"On remarque le nuage de points est presque aligné sur une droite,  ce qui indique \\\n",
    "un lien linéaire fort entre la consommation d énergie et le PIB mondial. \\\n",
    "Attention cependant, on ne peut pas, à partir de ce graphe, conclure à un lien \\\n",
    "de causalité entre le PIB et l'énergie ou inversemment.\")"
   ]
  },
  {
   "cell_type": "markdown",
   "metadata": {},
   "source": [
    "# Exercice 1 (Prix d'un appartement)"
   ]
  },
  {
   "cell_type": "markdown",
   "metadata": {},
   "source": [
    "Nous avons relevé sur le site `seloger.com` les prix et les surfaces de dix appartements du 16ème arrondissement de Paris :\n",
    "\n",
    "-surfaces (en $m^2$) : $(77,94,89,135,172,106,196,110,284,285)$\n",
    "\n",
    "-prix (en milliers d'euros) : $(624,895,1160,1629,1715,1845,2349,2580,3610,5775)$"
   ]
  },
  {
   "cell_type": "markdown",
   "metadata": {},
   "source": [
    "**Question 1.** On note $X$ la variable aléatoire de la surface d'un appartement et $Y$ celle de son prix.\n",
    "Représenter les $10$ réalisations de $X$ et $Y$ sous la forme de deux vecteurs colonnes $x$ et $y$."
   ]
  },
  {
   "cell_type": "code",
   "execution_count": null,
   "metadata": {},
   "outputs": [],
   "source": [
    "# correction\n",
    "x=array([[77,94,89,135,172,106,196,110,284,285]]).T\n",
    "y=array([[624,895,1160,1629,1715,1845,2349,2580,3610,5775]]).T"
   ]
  },
  {
   "cell_type": "markdown",
   "metadata": {},
   "source": [
    "**Question 2.** Représenter chaque appartement par un point dans le repère d'abscisse surfaces et d'ordonnée prix. Cet ensemble de points est appelé le nuage points-individus."
   ]
  },
  {
   "cell_type": "code",
   "execution_count": null,
   "metadata": {},
   "outputs": [],
   "source": [
    "# correction\n",
    "scatter(x,y)\n",
    "xlabel('Surfaces en m^2')\n",
    "ylabel(\"Prix en millier d'euros\")\n",
    "title(\"Prix d'appartements en fonction de leurs surfaces\")\n",
    "show()"
   ]
  },
  {
   "cell_type": "markdown",
   "metadata": {},
   "source": [
    "**Question 3.** Calculer les moyennes  de $X$ et de $Y$ en fonction des données. Elles forment les coordonnées du centre de gravité du nuage de points-individus G. Recalculer ensuite ces moyennes en utilisant la commande `mean`et comparer."
   ]
  },
  {
   "cell_type": "code",
   "execution_count": null,
   "metadata": {},
   "outputs": [],
   "source": [
    "# correction\n",
    "mx = 1/10*sum(x)\n",
    "my= 1/10*sum(y)\n",
    "print('Moyenne de x:', mx)\n",
    "print('Moyenne de y:', my)\n",
    "print(mean(x),mean(y))"
   ]
  },
  {
   "cell_type": "markdown",
   "metadata": {},
   "source": [
    "**Question 4.** Calculer les variances de $X$ et $Y$. Recalculer ensuite ces variances en utilisant la commande `var`et comparer."
   ]
  },
  {
   "cell_type": "code",
   "execution_count": null,
   "metadata": {},
   "outputs": [],
   "source": [
    "# correction\n",
    "varx = 1/10*dot((x-mx).T,x-mx)\n",
    "vary = 1/10*dot((y-my).T,y-my)\n",
    "print('Variance de x:', varx)\n",
    "print('Variance de y:', vary)\n",
    "print(var(x),var(y))"
   ]
  },
  {
   "cell_type": "markdown",
   "metadata": {},
   "source": [
    "**Question 5.** Calculer les écarts-type de $X$ et $Y$. Recalculer ensuite ces écarts-types en utilisant la commande `std` et comparer."
   ]
  },
  {
   "cell_type": "code",
   "execution_count": null,
   "metadata": {},
   "outputs": [],
   "source": [
    "ecarttypex=sqrt(varx)\n",
    "ecarttypey=sqrt(vary)\n",
    "print('Ecart-type de x:', ecarttypex)\n",
    "print('Ecart-type de y:', ecarttypey)\n",
    "print(std(x),std(y))"
   ]
  },
  {
   "cell_type": "markdown",
   "metadata": {},
   "source": [
    "**Question 5.** Calculer la covariance entre $X$ et $Y$. Recalculer ensuite cette covariance en utilisant la commande `cov(x,y)`, puis en utilisant la commande `cov(x,y,rowvar =False,bias=True)`. Comparer."
   ]
  },
  {
   "cell_type": "code",
   "execution_count": null,
   "metadata": {},
   "outputs": [],
   "source": [
    "# correction\n",
    "Cov = 1/10*dot((x-mx).T,y-my)\n",
    "print('Covariance entre X et Y :',Cov)\n",
    "#print(cov(x,y))\n",
    "print(cov(x,y,rowvar =False,bias=True))"
   ]
  },
  {
   "cell_type": "markdown",
   "metadata": {},
   "source": [
    "**Question 6.** Déduire des questions précédentes le coefficient de corrélation entre $X$ et $Y$. Recalculer ensuite ce coefficient de corrélation en utilisant la commande `corrcoef(x,y,rowvar =False)` et comparer."
   ]
  },
  {
   "cell_type": "code",
   "execution_count": null,
   "metadata": {},
   "outputs": [],
   "source": [
    "# correction\n",
    "sigx = sqrt(varx)\n",
    "sigy = sqrt(vary)\n",
    "corr = Cov/(sigx*sigy)\n",
    "print('Corrélation entre X et Y :', corr) \n",
    "print('Corrélation entre X et Y :', corr[0,0]) \n",
    "# corr[0,0] permet de récupérer la valeur dans l'array corr (de taille 1x1)\n",
    "#print(corrcoef(x,y))\n",
    "print(corrcoef(x,y,rowvar=False))"
   ]
  },
  {
   "cell_type": "markdown",
   "metadata": {},
   "source": [
    "**Question 7.** Donner l'équation de la droite de régression de $Y$ en fonction de $X$.\n",
    "\n",
    "*Si l'on a besoin d'extraire la valeur scalaire d'un array `u` de format $1\\times 1$, on pourra utiliser `u[0,0]`.*"
   ]
  },
  {
   "cell_type": "code",
   "execution_count": null,
   "metadata": {},
   "outputs": [],
   "source": [
    "# correction\n",
    "a = Cov/sigx**2\n",
    "a=a[0,0]\n",
    "b = my-a*mx\n",
    "print(\"La droite de régression est d'équation : y= ax+b avec a=\",a , 'et b=',b)"
   ]
  },
  {
   "cell_type": "markdown",
   "metadata": {},
   "source": [
    "**Question 8.** Sur un même graphique, représenter le nuage de points-individus en bleu, le centre de gravité en noir et la droite de régression en rouge. Nommer les axes, la droite, le centre de gravité et le graphique."
   ]
  },
  {
   "cell_type": "code",
   "execution_count": null,
   "metadata": {},
   "outputs": [],
   "source": [
    "# correction\n",
    "t=linspace(10,300,300)\n",
    "plot(t,a*t+b,c='red', label='Droite de régression')\n",
    "scatter(x,y)\n",
    "plot(mx,my,'*', c='black',  label='Centre de gravité')\n",
    "xlabel('Surface en m^2')\n",
    "ylabel(\"Prix en millier d'euros\")\n",
    "title(\"Nuage de points-individus, droite de régression et centre de gravité\")\n",
    "legend()\n",
    "show()"
   ]
  },
  {
   "cell_type": "markdown",
   "metadata": {},
   "source": [
    "**Question 9**. Prédire le prix d'un appartement de $40~m^2$. "
   ]
  },
  {
   "cell_type": "code",
   "execution_count": null,
   "metadata": {},
   "outputs": [],
   "source": [
    "# correction\n",
    "print(\"Le prix de l'appartement donnée par la droite de régression est de\", a*40+b,\"k€\")"
   ]
  },
  {
   "cell_type": "markdown",
   "metadata": {},
   "source": [
    "**Question 10**. Les points du nuage sont-ils bien alignés ? Vérifier que $\\rho_{xy}^2$ est assez proche de $1$."
   ]
  },
  {
   "cell_type": "code",
   "execution_count": null,
   "metadata": {},
   "outputs": [],
   "source": [
    "# correction\n",
    "print(\"La proportion de variance expliquée est de\",(corr**2)[0,0])"
   ]
  },
  {
   "cell_type": "markdown",
   "metadata": {},
   "source": [
    "# Exercice 2 (Régression clef en main)"
   ]
  },
  {
   "cell_type": "markdown",
   "metadata": {},
   "source": [
    "**Question 1**. Construire une fonction `cov` qui renvoie la covariance entre deux vecteurs colonnes de données $x$ et $y$. **Testez** votre fonction avant de continuer !"
   ]
  },
  {
   "cell_type": "code",
   "execution_count": null,
   "metadata": {},
   "outputs": [],
   "source": [
    "# correction\n",
    "def cov(x,y):\n",
    "    n = len(x)\n",
    "    mx = 1/n*sum(x)\n",
    "    my=1/n*sum(y)\n",
    "    return 1/n*dot((x-mx).T,(y-my))[0,0]\n",
    "print(cov(x,y))"
   ]
  },
  {
   "cell_type": "markdown",
   "metadata": {},
   "source": [
    "**Question 2.** Construire une fonction `reg` qui prend en entrée deux vecteurs de données $x$ et $y$ et renvoie les paramètres $a,b$ de la droite des moindres carrés de $y$ en fonction de $x$. **Testez** votre fonction avant de continuer !"
   ]
  },
  {
   "cell_type": "code",
   "execution_count": null,
   "metadata": {},
   "outputs": [],
   "source": [
    "# correction\n",
    "def reg(x,y):\n",
    "    a = cov(x,y)/cov(x,x)\n",
    "    b= mean(y)-a*mean(x)\n",
    "    return a,b\n",
    "print(reg(x,y))"
   ]
  },
  {
   "cell_type": "markdown",
   "metadata": {},
   "source": [
    "**Question 3**. Construire une fonction `affiche_reg` qui prend en entrée $x$ et $y$ et affiche le nuage de points avec le centre de gravité et la droite de régression. On utilisera des couleurs différentes pour le nuage de points et la régression. \n",
    "**Testez** votre fonction avant de continuer !"
   ]
  },
  {
   "cell_type": "code",
   "execution_count": null,
   "metadata": {},
   "outputs": [],
   "source": [
    "# correction\n",
    "def affiche_reg(x,y):\n",
    "    a,b=reg(x,y)\n",
    "    t=linspace(min(x),max(x),300)\n",
    "    plot(t,a*t+b,c='red', label='Droite de régression')\n",
    "    scatter(x,y)\n",
    "    plot(mean(x),mean(y),'*', c='black',  label='Centre de gravité')\n",
    "    legend()\n",
    "    show()\n",
    "affiche_reg(x,y)"
   ]
  },
  {
   "cell_type": "markdown",
   "metadata": {},
   "source": [
    "# Exercice 3 (Données centrées réduites et matrice de corrélation)"
   ]
  },
  {
   "cell_type": "markdown",
   "metadata": {},
   "source": [
    "On dipose de la moyenne générale et des moyennes des trois UE du semestre 3 de 5 étudiants \n",
    "tirés au hasard.\n",
    "\n",
    "| Informatique  | Culture scientifique, sociale et humaine | Méthodologie et projets  | Moyenne générale|\n",
    "|---|---|---|---|\n",
    "| 10.83  | 12.43  |  14.88 |  12.28 |\n",
    "|  12.22 | 13.69  | 11.92  |  12.75 |\n",
    "| 9.84  | 10.88  | 15.38  |  11.36 |\n",
    "|  12.81 | 12.12  | 15.21  |  13.02 |\n",
    "| 10.31  |  10.88 | 16.42  |  11.76 |\n",
    "\n",
    "**ATTENTION :** ici l'échantillon de taille 5 est trop petit pour que l'on puisse généraliser \n",
    "nos observations à toute une promo. Nous avons choisi cette taille pour que l'exercice soit plus visuel."
   ]
  },
  {
   "cell_type": "markdown",
   "metadata": {},
   "source": [
    "On représente ce tableau de données sous la forme d'une matrice M (en ligne les individus, en colonne les caractères)."
   ]
  },
  {
   "cell_type": "code",
   "execution_count": null,
   "metadata": {},
   "outputs": [],
   "source": [
    "M = array([[10.83,12.43 ,14.88 ,12.28],\n",
    "          [12.22 ,13.69 ,11.92,12.75],\n",
    "          [9.84 ,10.88 ,15.38 ,11.36],\n",
    "          [12.81 ,12.12 ,15.21 ,13.02],\n",
    "          [10.31 ,10.88 ,16.42 ,11.76]])\n",
    "print(M)"
   ]
  },
  {
   "cell_type": "markdown",
   "metadata": {},
   "source": [
    "**Question 1.** A partir de la matrice `M` des données, stocker dans la variable `n` le nombre d'individus et dans la variable `p` le nombre de variables. Calculer la matrice `Moy` qui contient les moyennes de chacune des variables. Puis centrer les données en les stockant dans une matrice $N$.\n",
    "\n",
    "*On pourra utiliser la commande `mean(M,axis=0)` qui calcule le vecteur contenant les moyennes de chaque colonne de $M$.*"
   ]
  },
  {
   "cell_type": "code",
   "execution_count": null,
   "metadata": {},
   "outputs": [],
   "source": [
    "# correction \n",
    "n,p=shape(M)\n",
    "print(\"le nombre d individus est n=\", n,\"et le nombre de variables est p=\", p)\n",
    "Moy=mean(M,axis=0)\n",
    "N= zeros((n,p))\n",
    "for i in range(p):\n",
    "    N[:,i]=M[:,i]-Moy[i]\n",
    "print(N)"
   ]
  },
  {
   "cell_type": "markdown",
   "metadata": {},
   "source": [
    "**Question 2.** Calculez la matrice de covariance `Cov` de $M$."
   ]
  },
  {
   "cell_type": "code",
   "execution_count": null,
   "metadata": {},
   "outputs": [],
   "source": [
    "# correction\n",
    "Cov = 1/n*dot(N.T,N)\n",
    "print(Cov)"
   ]
  },
  {
   "cell_type": "markdown",
   "metadata": {},
   "source": [
    "**Question 3.** Calculez la matrice centrée réduite $Z$, c'est-à-dire la matrice centrée $N$ où l'on divise chacune des colonnes par les écarts-types. Vérifiez que la moyenne de chaque colonne vaut $0$, et que la variance de chaque colonne vaut $1$. "
   ]
  },
  {
   "cell_type": "code",
   "execution_count": null,
   "metadata": {},
   "outputs": [],
   "source": [
    "# correction\n",
    "Z= zeros((5,4))\n",
    "for i in range(4):\n",
    "    Z[:,i]=N[:,i]/std(N[:,i])\n",
    "print(Z)\n",
    "print(mean(Z,axis=0))\n",
    "print(var(Z,axis=0)) # axis=0 (colonne), axis=1 (ligne)"
   ]
  },
  {
   "cell_type": "markdown",
   "metadata": {
    "collapsed": true
   },
   "source": [
    "**Question 4.** En déduire la matrice de corrélation $R$ de $M$. Commenter."
   ]
  },
  {
   "cell_type": "code",
   "execution_count": null,
   "metadata": {},
   "outputs": [],
   "source": [
    "# correction\n",
    "R=1/n*dot(Z.T,Z)\n",
    "print(R)\n",
    "print(\"La moyenne générale est très corrélée à la l UE info, un peu moins \\\n",
    "à l UE Culture et négativement avec l UE méthodologie. \\\n",
    "On pourra observer les corrélations entre les UE. \\n\\\n",
    "ATTENTION : on utilise ici un trop petit échantillon pour \\\n",
    "généraliser ces observations à l'ensemble d une promo\")"
   ]
  },
  {
   "cell_type": "markdown",
   "metadata": {},
   "source": [
    "**Question 5.** Utiliser la matrice de covariance `Cov` et la matrice `Moy` pour calculer les \n",
    "coefficients de la droite de régression de la moyenne générale en fonction de l'UE Informatique. Représenter sur un même graphique la droite de régression et le nuage de point des individus."
   ]
  },
  {
   "cell_type": "code",
   "execution_count": null,
   "metadata": {},
   "outputs": [],
   "source": [
    "# correction\n",
    "a = Cov[0,3]/Cov[0,0]\n",
    "b = Moy[3]-a*Moy[0]\n",
    "t=linspace(5,15,100)\n",
    "plot(t,a*t+b, color='red')\n",
    "scatter(M[:,0],M[:,3])\n",
    "show()"
   ]
  }
 ],
 "metadata": {
  "kernelspec": {
   "display_name": "Python 3",
   "language": "python",
   "name": "python3"
  },
  "language_info": {
   "codemirror_mode": {
    "name": "ipython",
    "version": 3
   },
   "file_extension": ".py",
   "mimetype": "text/x-python",
   "name": "python",
   "nbconvert_exporter": "python",
   "pygments_lexer": "ipython3",
   "version": "3.5.2"
  }
 },
 "nbformat": 4,
 "nbformat_minor": 2
}
