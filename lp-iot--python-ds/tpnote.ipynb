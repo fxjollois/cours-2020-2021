{
 "cells": [
  {
   "cell_type": "markdown",
   "metadata": {
    "run_control": {
     "frozen": false,
     "read_only": false
    }
   },
   "source": [
    "# TP noté\n",
    "\n",
    "Rendu par mail à l'adresse <francois-xavier.jollois@u-paris.fr> \n",
    "\n",
    "- Objet : [LP IoT] TP noté - NOM ($\\rightarrow$ votre nom à mettre)\n",
    "- Sujet : un petit bonjour ne fait pas de mal\n",
    "- Pièce jointe : le fichier .ipynb à télécharger en cliquant sur File -> Download as -> Notebook (.ipynb)\n",
    "\n",
    "**Délai** : A rendre avant la fin du TP le jour même\n",
    "\n",
    "## Données\n",
    "\n",
    "Ce jeu de données restitue la production d'électricité par jour des points d'injection raccordés au réseau Enedis, par filière de production. Elles proviennent du site open data d'Enedis ([plus d'informations, cliquez-ici](https://data.enedis.fr/explore/dataset/prod/information/).\n",
    "\n",
    "Vous devez télécharger le [fichier de données](FilieresProduction.csv) (au format `csv`), et qui s'importe comme ci-dessous."
   ]
  },
  {
   "cell_type": "code",
   "execution_count": 1,
   "metadata": {},
   "outputs": [
    {
     "data": {
      "text/html": [
       "<div>\n",
       "<style scoped>\n",
       "    .dataframe tbody tr th:only-of-type {\n",
       "        vertical-align: middle;\n",
       "    }\n",
       "\n",
       "    .dataframe tbody tr th {\n",
       "        vertical-align: top;\n",
       "    }\n",
       "\n",
       "    .dataframe thead th {\n",
       "        text-align: right;\n",
       "    }\n",
       "</style>\n",
       "<table border=\"1\" class=\"dataframe\">\n",
       "  <thead>\n",
       "    <tr style=\"text-align: right;\">\n",
       "      <th></th>\n",
       "      <th>Date</th>\n",
       "      <th>F1 : Thermique non renouvelable</th>\n",
       "      <th>F2 : Bioénergies</th>\n",
       "      <th>F3 : Hydraulique</th>\n",
       "      <th>F4 : Eolien</th>\n",
       "      <th>F5 : Solaire</th>\n",
       "      <th>F6 : Autres</th>\n",
       "    </tr>\n",
       "  </thead>\n",
       "  <tbody>\n",
       "    <tr>\n",
       "      <th>0</th>\n",
       "      <td>20180101</td>\n",
       "      <td>3.810881e+10</td>\n",
       "      <td>1.499302e+10</td>\n",
       "      <td>1.531824e+10</td>\n",
       "      <td>2.080416e+11</td>\n",
       "      <td>7.040696e+09</td>\n",
       "      <td>137993136.0</td>\n",
       "    </tr>\n",
       "    <tr>\n",
       "      <th>1</th>\n",
       "      <td>20180102</td>\n",
       "      <td>3.862201e+10</td>\n",
       "      <td>1.457315e+10</td>\n",
       "      <td>1.579756e+10</td>\n",
       "      <td>1.525662e+11</td>\n",
       "      <td>5.392546e+09</td>\n",
       "      <td>136383120.0</td>\n",
       "    </tr>\n",
       "    <tr>\n",
       "      <th>2</th>\n",
       "      <td>20180103</td>\n",
       "      <td>3.812646e+10</td>\n",
       "      <td>1.414417e+10</td>\n",
       "      <td>1.525426e+10</td>\n",
       "      <td>2.081919e+11</td>\n",
       "      <td>5.503013e+09</td>\n",
       "      <td>230064480.0</td>\n",
       "    </tr>\n",
       "    <tr>\n",
       "      <th>3</th>\n",
       "      <td>20180104</td>\n",
       "      <td>3.852517e+10</td>\n",
       "      <td>1.486626e+10</td>\n",
       "      <td>1.398220e+10</td>\n",
       "      <td>1.905919e+11</td>\n",
       "      <td>5.847942e+09</td>\n",
       "      <td>327682464.0</td>\n",
       "    </tr>\n",
       "    <tr>\n",
       "      <th>4</th>\n",
       "      <td>20180105</td>\n",
       "      <td>3.891543e+10</td>\n",
       "      <td>1.491484e+10</td>\n",
       "      <td>1.366702e+10</td>\n",
       "      <td>1.140034e+11</td>\n",
       "      <td>7.785438e+09</td>\n",
       "      <td>328796976.0</td>\n",
       "    </tr>\n",
       "  </tbody>\n",
       "</table>\n",
       "</div>"
      ],
      "text/plain": [
       "       Date  F1 : Thermique non renouvelable  F2 : Bioénergies  \\\n",
       "0  20180101                     3.810881e+10      1.499302e+10   \n",
       "1  20180102                     3.862201e+10      1.457315e+10   \n",
       "2  20180103                     3.812646e+10      1.414417e+10   \n",
       "3  20180104                     3.852517e+10      1.486626e+10   \n",
       "4  20180105                     3.891543e+10      1.491484e+10   \n",
       "\n",
       "   F3 : Hydraulique   F4 : Eolien  F5 : Solaire  F6 : Autres  \n",
       "0      1.531824e+10  2.080416e+11  7.040696e+09  137993136.0  \n",
       "1      1.579756e+10  1.525662e+11  5.392546e+09  136383120.0  \n",
       "2      1.525426e+10  2.081919e+11  5.503013e+09  230064480.0  \n",
       "3      1.398220e+10  1.905919e+11  5.847942e+09  327682464.0  \n",
       "4      1.366702e+10  1.140034e+11  7.785438e+09  328796976.0  "
      ]
     },
     "execution_count": 1,
     "metadata": {},
     "output_type": "execute_result"
    }
   ],
   "source": [
    "import pandas\n",
    "\n",
    "prod = pandas.read_csv(\"FilieresProduction.csv\")\n",
    "prod.head()"
   ]
  },
  {
   "cell_type": "markdown",
   "metadata": {},
   "source": [
    "## A faire\n",
    "\n",
    "Sous la forme d'un notebook le plus propre et le mieux organisé possible, vous devez :\n",
    "\n",
    "- Décrire les données (distribution des variables, évolution au cours du temps, données aberrantes)\n",
    "- Réaliser une ACP sur les données\n",
    "    - en justifiant s'il faut ou non standardiser les variables au préalable\n",
    "- Représenter les jours sur le plan factoriel\n",
    "    - commenter celui-ci\n",
    "- Décrire les axes en se basant sur le cercle des corrélations des variables\n",
    "- Déterminer un nombre de classes adapté à ce jeu de données, à l'aide d'une CAH\n",
    "- Trouver la partition des jours, avec le nombre de classes optimal obtenu ci-dessus\n",
    "- Décrire les classes et les comparer entre elles\n",
    "- Efectuer toutes les représentations qui vous semblent utiles pour décrire vos résultats et accompagner votre conclusion\n"
   ]
  }
 ],
 "metadata": {
  "kernelspec": {
   "display_name": "Python 3",
   "language": "python",
   "name": "python3"
  },
  "language_info": {
   "codemirror_mode": {
    "name": "ipython",
    "version": 3
   },
   "file_extension": ".py",
   "mimetype": "text/x-python",
   "name": "python",
   "nbconvert_exporter": "python",
   "pygments_lexer": "ipython3",
   "version": "3.6.9"
  }
 },
 "nbformat": 4,
 "nbformat_minor": 2
}
