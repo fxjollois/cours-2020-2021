{
 "cells": [
  {
   "cell_type": "markdown",
   "metadata": {
    "run_control": {
     "frozen": false,
     "read_only": false
    }
   },
   "source": [
    "# Application\n",
    "\n",
    "Dans cette séance, nous verrons l'application des 2 méthodes (ACP et classification) pour rechercher les différentes façons d'écrire chaque chiffre."
   ]
  },
  {
   "cell_type": "code",
   "execution_count": 1,
   "metadata": {},
   "outputs": [],
   "source": [
    "import numpy\n",
    "import pandas\n",
    "import matplotlib.pyplot as plt\n",
    "\n",
    "%matplotlib inline"
   ]
  },
  {
   "cell_type": "markdown",
   "metadata": {},
   "source": [
    "Nous allons utiliser les données [`pendigits`](https://archive.ics.uci.edu/ml/datasets/Pen-Based+Recognition+of+Handwritten+Digits) de l'*UCI Machine Learning Repository*. Ces données représentent le tracé des chiffres de 0 à 9 par plusieurs personnes. Pour chaque tracé, nous n'avons au final que les coordonnées $(X,Y)$ de 8 points et le chiffre tracé.\n",
    "\n",
    "Voici ci dessous comment importer les données directement."
   ]
  },
  {
   "cell_type": "code",
   "execution_count": 2,
   "metadata": {},
   "outputs": [
    {
     "name": "stdout",
     "output_type": "stream",
     "text": [
      "(10992, 17)\n"
     ]
    },
    {
     "data": {
      "text/html": [
       "<div>\n",
       "<style scoped>\n",
       "    .dataframe tbody tr th:only-of-type {\n",
       "        vertical-align: middle;\n",
       "    }\n",
       "\n",
       "    .dataframe tbody tr th {\n",
       "        vertical-align: top;\n",
       "    }\n",
       "\n",
       "    .dataframe thead th {\n",
       "        text-align: right;\n",
       "    }\n",
       "</style>\n",
       "<table border=\"1\" class=\"dataframe\">\n",
       "  <thead>\n",
       "    <tr style=\"text-align: right;\">\n",
       "      <th></th>\n",
       "      <th>0</th>\n",
       "      <th>1</th>\n",
       "      <th>2</th>\n",
       "      <th>3</th>\n",
       "      <th>4</th>\n",
       "      <th>5</th>\n",
       "      <th>6</th>\n",
       "      <th>7</th>\n",
       "      <th>8</th>\n",
       "      <th>9</th>\n",
       "      <th>10</th>\n",
       "      <th>11</th>\n",
       "      <th>12</th>\n",
       "      <th>13</th>\n",
       "      <th>14</th>\n",
       "      <th>15</th>\n",
       "      <th>16</th>\n",
       "    </tr>\n",
       "  </thead>\n",
       "  <tbody>\n",
       "    <tr>\n",
       "      <th>0</th>\n",
       "      <td>88</td>\n",
       "      <td>92</td>\n",
       "      <td>2</td>\n",
       "      <td>99</td>\n",
       "      <td>16</td>\n",
       "      <td>66</td>\n",
       "      <td>94</td>\n",
       "      <td>37</td>\n",
       "      <td>70</td>\n",
       "      <td>0</td>\n",
       "      <td>0</td>\n",
       "      <td>24</td>\n",
       "      <td>42</td>\n",
       "      <td>65</td>\n",
       "      <td>100</td>\n",
       "      <td>100</td>\n",
       "      <td>8</td>\n",
       "    </tr>\n",
       "    <tr>\n",
       "      <th>1</th>\n",
       "      <td>80</td>\n",
       "      <td>100</td>\n",
       "      <td>18</td>\n",
       "      <td>98</td>\n",
       "      <td>60</td>\n",
       "      <td>66</td>\n",
       "      <td>100</td>\n",
       "      <td>29</td>\n",
       "      <td>42</td>\n",
       "      <td>0</td>\n",
       "      <td>0</td>\n",
       "      <td>23</td>\n",
       "      <td>42</td>\n",
       "      <td>61</td>\n",
       "      <td>56</td>\n",
       "      <td>98</td>\n",
       "      <td>8</td>\n",
       "    </tr>\n",
       "    <tr>\n",
       "      <th>2</th>\n",
       "      <td>0</td>\n",
       "      <td>94</td>\n",
       "      <td>9</td>\n",
       "      <td>57</td>\n",
       "      <td>20</td>\n",
       "      <td>19</td>\n",
       "      <td>7</td>\n",
       "      <td>0</td>\n",
       "      <td>20</td>\n",
       "      <td>36</td>\n",
       "      <td>70</td>\n",
       "      <td>68</td>\n",
       "      <td>100</td>\n",
       "      <td>100</td>\n",
       "      <td>18</td>\n",
       "      <td>92</td>\n",
       "      <td>8</td>\n",
       "    </tr>\n",
       "    <tr>\n",
       "      <th>3</th>\n",
       "      <td>95</td>\n",
       "      <td>82</td>\n",
       "      <td>71</td>\n",
       "      <td>100</td>\n",
       "      <td>27</td>\n",
       "      <td>77</td>\n",
       "      <td>77</td>\n",
       "      <td>73</td>\n",
       "      <td>100</td>\n",
       "      <td>80</td>\n",
       "      <td>93</td>\n",
       "      <td>42</td>\n",
       "      <td>56</td>\n",
       "      <td>13</td>\n",
       "      <td>0</td>\n",
       "      <td>0</td>\n",
       "      <td>9</td>\n",
       "    </tr>\n",
       "    <tr>\n",
       "      <th>4</th>\n",
       "      <td>68</td>\n",
       "      <td>100</td>\n",
       "      <td>6</td>\n",
       "      <td>88</td>\n",
       "      <td>47</td>\n",
       "      <td>75</td>\n",
       "      <td>87</td>\n",
       "      <td>82</td>\n",
       "      <td>85</td>\n",
       "      <td>56</td>\n",
       "      <td>100</td>\n",
       "      <td>29</td>\n",
       "      <td>75</td>\n",
       "      <td>6</td>\n",
       "      <td>0</td>\n",
       "      <td>0</td>\n",
       "      <td>9</td>\n",
       "    </tr>\n",
       "  </tbody>\n",
       "</table>\n",
       "</div>"
      ],
      "text/plain": [
       "   0    1   2    3   4   5    6   7    8   9    10  11   12   13   14   15  16\n",
       "0  88   92   2   99  16  66   94  37   70   0    0  24   42   65  100  100   8\n",
       "1  80  100  18   98  60  66  100  29   42   0    0  23   42   61   56   98   8\n",
       "2   0   94   9   57  20  19    7   0   20  36   70  68  100  100   18   92   8\n",
       "3  95   82  71  100  27  77   77  73  100  80   93  42   56   13    0    0   9\n",
       "4  68  100   6   88  47  75   87  82   85  56  100  29   75    6    0    0   9"
      ]
     },
     "execution_count": 2,
     "metadata": {},
     "output_type": "execute_result"
    }
   ],
   "source": [
    "pen_tes = pandas.read_csv(\"http://archive.ics.uci.edu/ml/machine-learning-databases/pendigits/pendigits.tes\", \n",
    "                          header=None)\n",
    "pen_tra = pandas.read_csv(\"http://archive.ics.uci.edu/ml/machine-learning-databases/pendigits/pendigits.tra\", \n",
    "                          header=None)\n",
    "pen = pen_tes.copy().append(pen_tra, ignore_index = True)\n",
    "print(pen.shape)\n",
    "pen.head()"
   ]
  },
  {
   "cell_type": "markdown",
   "metadata": {},
   "source": [
    "Comme vous le pouvez le remarquer, les noms des variables ne sont pas renseignés. Celles-ci sont $(x_j, y_j)_{j = 1,\\ldots,8}$ et le chiffre. On va donc déjà créer le vecteur correspondant."
   ]
  },
  {
   "cell_type": "code",
   "execution_count": 3,
   "metadata": {},
   "outputs": [
    {
     "name": "stdout",
     "output_type": "stream",
     "text": [
      "['x1', 'y1', 'x2', 'y2', 'x3', 'y3', 'x4', 'y4', 'x5', 'y5', 'x6', 'y6', 'x7', 'y7', 'x8', 'y8', 'chiffre']\n"
     ]
    }
   ],
   "source": [
    "a = [c + n for c, n in zip([\"x\", \"y\"] * 8, [str(x) for x in range(1, 9) for i in range(2)])]\n",
    "a.append(\"chiffre\")\n",
    "print(a)"
   ]
  },
  {
   "cell_type": "markdown",
   "metadata": {},
   "source": [
    "On va ensuite renommer les colonnes avec ce vecteur."
   ]
  },
  {
   "cell_type": "code",
   "execution_count": 4,
   "metadata": {},
   "outputs": [
    {
     "data": {
      "text/html": [
       "<div>\n",
       "<style scoped>\n",
       "    .dataframe tbody tr th:only-of-type {\n",
       "        vertical-align: middle;\n",
       "    }\n",
       "\n",
       "    .dataframe tbody tr th {\n",
       "        vertical-align: top;\n",
       "    }\n",
       "\n",
       "    .dataframe thead th {\n",
       "        text-align: right;\n",
       "    }\n",
       "</style>\n",
       "<table border=\"1\" class=\"dataframe\">\n",
       "  <thead>\n",
       "    <tr style=\"text-align: right;\">\n",
       "      <th></th>\n",
       "      <th>x1</th>\n",
       "      <th>y1</th>\n",
       "      <th>x2</th>\n",
       "      <th>y2</th>\n",
       "      <th>x3</th>\n",
       "      <th>y3</th>\n",
       "      <th>x4</th>\n",
       "      <th>y4</th>\n",
       "      <th>x5</th>\n",
       "      <th>y5</th>\n",
       "      <th>x6</th>\n",
       "      <th>y6</th>\n",
       "      <th>x7</th>\n",
       "      <th>y7</th>\n",
       "      <th>x8</th>\n",
       "      <th>y8</th>\n",
       "      <th>chiffre</th>\n",
       "    </tr>\n",
       "  </thead>\n",
       "  <tbody>\n",
       "    <tr>\n",
       "      <th>0</th>\n",
       "      <td>88</td>\n",
       "      <td>92</td>\n",
       "      <td>2</td>\n",
       "      <td>99</td>\n",
       "      <td>16</td>\n",
       "      <td>66</td>\n",
       "      <td>94</td>\n",
       "      <td>37</td>\n",
       "      <td>70</td>\n",
       "      <td>0</td>\n",
       "      <td>0</td>\n",
       "      <td>24</td>\n",
       "      <td>42</td>\n",
       "      <td>65</td>\n",
       "      <td>100</td>\n",
       "      <td>100</td>\n",
       "      <td>8</td>\n",
       "    </tr>\n",
       "    <tr>\n",
       "      <th>1</th>\n",
       "      <td>80</td>\n",
       "      <td>100</td>\n",
       "      <td>18</td>\n",
       "      <td>98</td>\n",
       "      <td>60</td>\n",
       "      <td>66</td>\n",
       "      <td>100</td>\n",
       "      <td>29</td>\n",
       "      <td>42</td>\n",
       "      <td>0</td>\n",
       "      <td>0</td>\n",
       "      <td>23</td>\n",
       "      <td>42</td>\n",
       "      <td>61</td>\n",
       "      <td>56</td>\n",
       "      <td>98</td>\n",
       "      <td>8</td>\n",
       "    </tr>\n",
       "    <tr>\n",
       "      <th>2</th>\n",
       "      <td>0</td>\n",
       "      <td>94</td>\n",
       "      <td>9</td>\n",
       "      <td>57</td>\n",
       "      <td>20</td>\n",
       "      <td>19</td>\n",
       "      <td>7</td>\n",
       "      <td>0</td>\n",
       "      <td>20</td>\n",
       "      <td>36</td>\n",
       "      <td>70</td>\n",
       "      <td>68</td>\n",
       "      <td>100</td>\n",
       "      <td>100</td>\n",
       "      <td>18</td>\n",
       "      <td>92</td>\n",
       "      <td>8</td>\n",
       "    </tr>\n",
       "    <tr>\n",
       "      <th>3</th>\n",
       "      <td>95</td>\n",
       "      <td>82</td>\n",
       "      <td>71</td>\n",
       "      <td>100</td>\n",
       "      <td>27</td>\n",
       "      <td>77</td>\n",
       "      <td>77</td>\n",
       "      <td>73</td>\n",
       "      <td>100</td>\n",
       "      <td>80</td>\n",
       "      <td>93</td>\n",
       "      <td>42</td>\n",
       "      <td>56</td>\n",
       "      <td>13</td>\n",
       "      <td>0</td>\n",
       "      <td>0</td>\n",
       "      <td>9</td>\n",
       "    </tr>\n",
       "    <tr>\n",
       "      <th>4</th>\n",
       "      <td>68</td>\n",
       "      <td>100</td>\n",
       "      <td>6</td>\n",
       "      <td>88</td>\n",
       "      <td>47</td>\n",
       "      <td>75</td>\n",
       "      <td>87</td>\n",
       "      <td>82</td>\n",
       "      <td>85</td>\n",
       "      <td>56</td>\n",
       "      <td>100</td>\n",
       "      <td>29</td>\n",
       "      <td>75</td>\n",
       "      <td>6</td>\n",
       "      <td>0</td>\n",
       "      <td>0</td>\n",
       "      <td>9</td>\n",
       "    </tr>\n",
       "  </tbody>\n",
       "</table>\n",
       "</div>"
      ],
      "text/plain": [
       "   x1   y1  x2   y2  x3  y3   x4  y4   x5  y5   x6  y6   x7   y7   x8   y8  \\\n",
       "0  88   92   2   99  16  66   94  37   70   0    0  24   42   65  100  100   \n",
       "1  80  100  18   98  60  66  100  29   42   0    0  23   42   61   56   98   \n",
       "2   0   94   9   57  20  19    7   0   20  36   70  68  100  100   18   92   \n",
       "3  95   82  71  100  27  77   77  73  100  80   93  42   56   13    0    0   \n",
       "4  68  100   6   88  47  75   87  82   85  56  100  29   75    6    0    0   \n",
       "\n",
       "   chiffre  \n",
       "0        8  \n",
       "1        8  \n",
       "2        8  \n",
       "3        9  \n",
       "4        9  "
      ]
     },
     "execution_count": 4,
     "metadata": {},
     "output_type": "execute_result"
    }
   ],
   "source": [
    "pen.columns = a\n",
    "pen.head()"
   ]
  },
  {
   "cell_type": "markdown",
   "metadata": {},
   "source": [
    "Et pour la suite, nous allons créer une variable contenant les chiffres mais en tant que chaîne de caractère."
   ]
  },
  {
   "cell_type": "code",
   "execution_count": 5,
   "metadata": {},
   "outputs": [],
   "source": [
    "pen = pen.assign(chiffre_str = [str(c) for c in pen.chiffre])"
   ]
  },
  {
   "cell_type": "markdown",
   "metadata": {},
   "source": [
    "Par la suite, nous aurons besoin d'accéder aux $x_j$ uniquement, ou aux $y_j$, voire aux deux. Nous créons donc des vecteurs avec les noms de variables. "
   ]
  },
  {
   "cell_type": "code",
   "execution_count": 6,
   "metadata": {},
   "outputs": [
    {
     "name": "stdout",
     "output_type": "stream",
     "text": [
      "['x1', 'x2', 'x3', 'x4', 'x5', 'x6', 'x7', 'x8']\n",
      "['y1', 'y2', 'y3', 'y4', 'y5', 'y6', 'y7', 'y8']\n",
      "['x1', 'y1', 'x2', 'y2', 'x3', 'y3', 'x4', 'y4', 'x5', 'y5', 'x6', 'y6', 'x7', 'y7', 'x8', 'y8']\n"
     ]
    }
   ],
   "source": [
    "xN = [\"x\" + str(i + 1) for i in range(8)]\n",
    "print(xN)\n",
    "yN = [\"y\" + str(i + 1) for i in range(8)]\n",
    "print(yN)\n",
    "xyN = [a + b for a,b in zip([\"x\", \"y\"] * 8, [str(i + 1) for i in range(8) for j in range(2)])]\n",
    "print(xyN)"
   ]
  },
  {
   "cell_type": "markdown",
   "metadata": {},
   "source": [
    "Ces données ont l'avantage d'être graphique. Nous allons donc représenter le premier tracé, qui est un $8$."
   ]
  },
  {
   "cell_type": "code",
   "execution_count": 8,
   "metadata": {},
   "outputs": [
    {
     "data": {
      "image/png": "[encoded data removed]",
      "text/plain": [
       "<Figure size 432x288 with 1 Axes>"
      ]
     },
     "metadata": {
      "needs_background": "light"
     },
     "output_type": "display_data"
    }
   ],
   "source": [
    "x = pen.loc[0, xN]\n",
    "y = pen.loc[0, yN]\n",
    "chiffre = pen.loc[0, \"chiffre\"]\n",
    "plt.plot(x, y)\n",
    "plt.title(\"Chiffre : \" + str(chiffre))\n",
    "plt.show()"
   ]
  },
  {
   "cell_type": "markdown",
   "metadata": {},
   "source": [
    "Nous allons régulièrement utiliser ce code, donc nous allons le stocker dans une fonction nommée `dessin()`. Dans celle-ci, nous allons mettre en paramètre les $x_j$ et les $y_j$, le chiffre, ainsi qu'un graphique dans lequel nous allons mettre le dessin. Ceci nous sera utile pour faire plusieurs représentations de chiffres."
   ]
  },
  {
   "cell_type": "code",
   "execution_count": 10,
   "metadata": {},
   "outputs": [
    {
     "data": {
      "image/png": "[encoded data removed]",
      "text/plain": [
       "<Figure size 432x288 with 1 Axes>"
      ]
     },
     "metadata": {
      "needs_background": "light"
     },
     "output_type": "display_data"
    }
   ],
   "source": [
    "def dessin(p, x, y, chiffre):\n",
    "    p.plot(x, y)\n",
    "    p.set_title(\"Chiffre : \" + str(chiffre))\n",
    "    p.axis(\"off\")\n",
    "    p.set_xlim([-1, 101])\n",
    "    p.set_ylim([-1, 101])\n",
    "\n",
    "fig, ax = plt.subplots()\n",
    "dessin(ax, x, y, chiffre)"
   ]
  },
  {
   "cell_type": "markdown",
   "metadata": {},
   "source": [
    "Ensuite, nous créons une liste de `DataFrame`, un pour chaque chiffre. La fonction `query()` permet donc de sélectionner des lignes d'un `DataFrame` en fonction d'une condition (ici, `chiffre` égal 0, 1, ..., 9). Pour éviter les problèmes d'index plus tard, nous devons les réinitialiser pour chaque `DataFrame`, avec la fonction `reset_index()`, en mettant `drop` à vrai. Ceci permet d'oublier les numéros de ligne du `DataFrame` global et que ceux-ci recommencent de 0 pour chaque sous-ensemble."
   ]
  },
  {
   "cell_type": "code",
   "execution_count": 11,
   "metadata": {},
   "outputs": [],
   "source": [
    "sub = [pen.query(\"chiffre == \" + str(i)).reset_index(drop = True) for i in range(10)]"
   ]
  },
  {
   "cell_type": "markdown",
   "metadata": {},
   "source": [
    "Nous voulons maintenant représenter chaque premier exemple de chaque chiffre. Pour cela, nous recherchons la première ligne (`index = 0`) pour chaque sous-ensemble précédemment créé. Et pour simplifier le travail ensuite, nous renvoyons pour chaque chiffre, trois éléments : les $x_j$, les $y_j$ et le chiffre."
   ]
  },
  {
   "cell_type": "code",
   "execution_count": 12,
   "metadata": {},
   "outputs": [],
   "source": [
    "subxyc = [[s.loc[0, xN], s.loc[0, yN], s.loc[0, \"chiffre\"]] for s in sub]"
   ]
  },
  {
   "cell_type": "markdown",
   "metadata": {},
   "source": [
    "Puis, nous créons une figure (en spécifiant la taille). Et pour chaque chiffre, nous ajoutons un graphique à la figure avec la fonction `add_subplot()`. Celle-ci prend trois paramètres : le nombre de lignes, le nombre de colonnes et le numéro de placement du prochain graphique. Grâce à l'utilisation de la fonction  `dessin()` et de l'objet `subxyc`, la réalisation est simple."
   ]
  },
  {
   "cell_type": "code",
   "execution_count": 13,
   "metadata": {},
   "outputs": [
    {
     "data": {
      "image/png": "[encoded data removed]",
      "text/plain": [
       "<Figure size 1080x360 with 10 Axes>"
      ]
     },
     "metadata": {
      "needs_background": "light"
     },
     "output_type": "display_data"
    }
   ],
   "source": [
    "fig = plt.figure(figsize = (15, 5))\n",
    "for i in range(10):\n",
    "    ax = fig.add_subplot(2, 5, i + 1)\n",
    "    dessin(ax, subxyc[i][0], subxyc[i][1], subxyc[i][2])"
   ]
  },
  {
   "cell_type": "markdown",
   "metadata": {},
   "source": [
    "Le but de ce TP va être de réfléchir à comment répondre à la question suivante :\n",
    "\n",
    "> Existe-t'il plusieurs façons d'écrire chaque chiffre ?\n",
    "\n",
    "Pour cela, nous allons dérouler les étapes suivantes :\n",
    "\n",
    "1. Calculer la moyenne de chaque coordonnée $x_j$ et $y_j$, pour chaque chiffre\n",
    "1. Représenter le tracé des *chiffres moyens* (i.e. en prenant les coordonnées moyennes donc)\n",
    "    - Améliorer éventuellement la fonction `dessin()` pour ajouter, si demandé, les numéros des points\n",
    "1. Réaliser une ACP sur les données (en comparant avec ou sans standardisation)\n",
    "1. Représenter les chiffres sur le plan factoriel\n",
    "    - sur un seul graphique\n",
    "    - avec un graphique par chiffre, sur la même figure\n",
    "1. Réaliser une classification via DBSCAN pour chaque chiffre\n",
    "    - choisir un $\\varepsilon$ et un nombre minimal de points\n",
    "    - créer une fonction prenant en paramètre les valeurs ci-dessus à tester et qui réalise les opérations suivantes :\n",
    "        - calcul de la partition\n",
    "        - affichage de la répartition des classes\n",
    "        - représentation des classes sur le plan factoriel (un graphique par classe éventuellement)\n",
    "        - représentation des tracés moyens pour chaque classe afin de mieux comprendre les différences entre les classes\n"
   ]
  },
  {
   "cell_type": "code",
   "execution_count": null,
   "metadata": {},
   "outputs": [],
   "source": []
  }
 ],
 "metadata": {
  "kernelspec": {
   "display_name": "Python 3",
   "language": "python",
   "name": "python3"
  },
  "language_info": {
   "codemirror_mode": {
    "name": "ipython",
    "version": 3
   },
   "file_extension": ".py",
   "mimetype": "text/x-python",
   "name": "python",
   "nbconvert_exporter": "python",
   "pygments_lexer": "ipython3",
   "version": "3.6.8"
  }
 },
 "nbformat": 4,
 "nbformat_minor": 2
}
